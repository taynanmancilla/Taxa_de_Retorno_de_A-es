{
  "nbformat": 4,
  "nbformat_minor": 0,
  "metadata": {
    "colab": {
      "provenance": [],
      "collapsed_sections": [
        "fcRR6jRD5-6B",
        "XK4a0DNZ6FSo",
        "LafkJ1Sf6JDi",
        "FklXDREa6Jfl"
      ],
      "authorship_tag": "ABX9TyM59Z9ZqbdsXpdWToWhjAuj",
      "include_colab_link": true
    },
    "kernelspec": {
      "name": "python3",
      "display_name": "Python 3"
    },
    "language_info": {
      "name": "python"
    }
  },
  "cells": [
    {
      "cell_type": "markdown",
      "metadata": {
        "id": "view-in-github",
        "colab_type": "text"
      },
      "source": [
        "<a href=\"https://colab.research.google.com/github/taynanmancilla/Taxa_de_Retorno_de_Acoes/blob/main/Taxa_de_Retorno_de_A%C3%A7%C3%B5es.ipynb\" target=\"_parent\"><img src=\"https://colab.research.google.com/assets/colab-badge.svg\" alt=\"Open In Colab\"/></a>"
      ]
    },
    {
      "cell_type": "markdown",
      "source": [
        "# TAXAS DE RETORNO"
      ],
      "metadata": {
        "id": "HylwXklu55Zr"
      }
    },
    {
      "cell_type": "markdown",
      "source": [
        "## Importação das bibliotecas e base de dados"
      ],
      "metadata": {
        "id": "fcRR6jRD5-6B"
      }
    },
    {
      "cell_type": "code",
      "source": [
        "import pandas as pd\n",
        "import numpy as np\n",
        "import plotly.express as px"
      ],
      "metadata": {
        "id": "zACxq6AY6rxG"
      },
      "execution_count": null,
      "outputs": []
    },
    {
      "cell_type": "code",
      "source": [
        "dataset = pd.read_csv('acoes.csv')"
      ],
      "metadata": {
        "id": "Ecz9rLhJ7I_1"
      },
      "execution_count": null,
      "outputs": []
    },
    {
      "cell_type": "markdown",
      "source": [
        "Vamos simular que compramos as ações da GOL, CVC, WEGE, MGLU, TOTS e BOVA no dia 02/01/2015 e vendemos elas no dia 03/11/2020, para efetuarmos os calculos de retorno"
      ],
      "metadata": {
        "id": "-CGQZL0I7a-d"
      }
    },
    {
      "cell_type": "code",
      "source": [
        "dataset"
      ],
      "metadata": {
        "colab": {
          "base_uri": "https://localhost:8080/",
          "height": 424
        },
        "id": "tDMybtmC7PAR",
        "outputId": "f7f527ba-6602-4bd2-e8ea-3275de50c163"
      },
      "execution_count": null,
      "outputs": [
        {
          "output_type": "execute_result",
          "data": {
            "text/plain": [
              "            Date        GOL    CVC       WEGE       MGLU       TOTS       BOVA\n",
              "0     2015-01-02  14.990000  15.20  11.846200   0.232812  35.732101  47.259998\n",
              "1     2015-01-05  14.850000  15.00  11.926900   0.237187  34.634201  46.320000\n",
              "2     2015-01-06  15.210000  14.80  11.750000   0.234062  32.468300  46.580002\n",
              "3     2015-01-07  14.550000  14.67  11.615400   0.241875  32.238701  48.150002\n",
              "4     2015-01-08  14.270000  14.15  11.811500   0.240000  32.987301  48.509998\n",
              "...          ...        ...    ...        ...        ...        ...        ...\n",
              "1441  2020-10-27  18.600000  14.17  83.239998  25.450001  28.500000  95.800003\n",
              "1442  2020-10-28  16.920000  12.77  79.139999  24.629999  27.500000  92.430000\n",
              "1443  2020-10-29  16.610001  12.68  80.029999  25.360001  28.500000  92.910004\n",
              "1444  2020-10-30  15.690000  12.28  75.830002  24.629999  27.000000  90.660004\n",
              "1445  2020-11-03  16.070000  12.42  78.669998  25.309999  27.930000  92.410004\n",
              "\n",
              "[1446 rows x 7 columns]"
            ],
            "text/html": [
              "\n",
              "  <div id=\"df-ca635bf6-f5f0-4b9c-ae8d-81407a27fadd\">\n",
              "    <div class=\"colab-df-container\">\n",
              "      <div>\n",
              "<style scoped>\n",
              "    .dataframe tbody tr th:only-of-type {\n",
              "        vertical-align: middle;\n",
              "    }\n",
              "\n",
              "    .dataframe tbody tr th {\n",
              "        vertical-align: top;\n",
              "    }\n",
              "\n",
              "    .dataframe thead th {\n",
              "        text-align: right;\n",
              "    }\n",
              "</style>\n",
              "<table border=\"1\" class=\"dataframe\">\n",
              "  <thead>\n",
              "    <tr style=\"text-align: right;\">\n",
              "      <th></th>\n",
              "      <th>Date</th>\n",
              "      <th>GOL</th>\n",
              "      <th>CVC</th>\n",
              "      <th>WEGE</th>\n",
              "      <th>MGLU</th>\n",
              "      <th>TOTS</th>\n",
              "      <th>BOVA</th>\n",
              "    </tr>\n",
              "  </thead>\n",
              "  <tbody>\n",
              "    <tr>\n",
              "      <th>0</th>\n",
              "      <td>2015-01-02</td>\n",
              "      <td>14.990000</td>\n",
              "      <td>15.20</td>\n",
              "      <td>11.846200</td>\n",
              "      <td>0.232812</td>\n",
              "      <td>35.732101</td>\n",
              "      <td>47.259998</td>\n",
              "    </tr>\n",
              "    <tr>\n",
              "      <th>1</th>\n",
              "      <td>2015-01-05</td>\n",
              "      <td>14.850000</td>\n",
              "      <td>15.00</td>\n",
              "      <td>11.926900</td>\n",
              "      <td>0.237187</td>\n",
              "      <td>34.634201</td>\n",
              "      <td>46.320000</td>\n",
              "    </tr>\n",
              "    <tr>\n",
              "      <th>2</th>\n",
              "      <td>2015-01-06</td>\n",
              "      <td>15.210000</td>\n",
              "      <td>14.80</td>\n",
              "      <td>11.750000</td>\n",
              "      <td>0.234062</td>\n",
              "      <td>32.468300</td>\n",
              "      <td>46.580002</td>\n",
              "    </tr>\n",
              "    <tr>\n",
              "      <th>3</th>\n",
              "      <td>2015-01-07</td>\n",
              "      <td>14.550000</td>\n",
              "      <td>14.67</td>\n",
              "      <td>11.615400</td>\n",
              "      <td>0.241875</td>\n",
              "      <td>32.238701</td>\n",
              "      <td>48.150002</td>\n",
              "    </tr>\n",
              "    <tr>\n",
              "      <th>4</th>\n",
              "      <td>2015-01-08</td>\n",
              "      <td>14.270000</td>\n",
              "      <td>14.15</td>\n",
              "      <td>11.811500</td>\n",
              "      <td>0.240000</td>\n",
              "      <td>32.987301</td>\n",
              "      <td>48.509998</td>\n",
              "    </tr>\n",
              "    <tr>\n",
              "      <th>...</th>\n",
              "      <td>...</td>\n",
              "      <td>...</td>\n",
              "      <td>...</td>\n",
              "      <td>...</td>\n",
              "      <td>...</td>\n",
              "      <td>...</td>\n",
              "      <td>...</td>\n",
              "    </tr>\n",
              "    <tr>\n",
              "      <th>1441</th>\n",
              "      <td>2020-10-27</td>\n",
              "      <td>18.600000</td>\n",
              "      <td>14.17</td>\n",
              "      <td>83.239998</td>\n",
              "      <td>25.450001</td>\n",
              "      <td>28.500000</td>\n",
              "      <td>95.800003</td>\n",
              "    </tr>\n",
              "    <tr>\n",
              "      <th>1442</th>\n",
              "      <td>2020-10-28</td>\n",
              "      <td>16.920000</td>\n",
              "      <td>12.77</td>\n",
              "      <td>79.139999</td>\n",
              "      <td>24.629999</td>\n",
              "      <td>27.500000</td>\n",
              "      <td>92.430000</td>\n",
              "    </tr>\n",
              "    <tr>\n",
              "      <th>1443</th>\n",
              "      <td>2020-10-29</td>\n",
              "      <td>16.610001</td>\n",
              "      <td>12.68</td>\n",
              "      <td>80.029999</td>\n",
              "      <td>25.360001</td>\n",
              "      <td>28.500000</td>\n",
              "      <td>92.910004</td>\n",
              "    </tr>\n",
              "    <tr>\n",
              "      <th>1444</th>\n",
              "      <td>2020-10-30</td>\n",
              "      <td>15.690000</td>\n",
              "      <td>12.28</td>\n",
              "      <td>75.830002</td>\n",
              "      <td>24.629999</td>\n",
              "      <td>27.000000</td>\n",
              "      <td>90.660004</td>\n",
              "    </tr>\n",
              "    <tr>\n",
              "      <th>1445</th>\n",
              "      <td>2020-11-03</td>\n",
              "      <td>16.070000</td>\n",
              "      <td>12.42</td>\n",
              "      <td>78.669998</td>\n",
              "      <td>25.309999</td>\n",
              "      <td>27.930000</td>\n",
              "      <td>92.410004</td>\n",
              "    </tr>\n",
              "  </tbody>\n",
              "</table>\n",
              "<p>1446 rows × 7 columns</p>\n",
              "</div>\n",
              "      <button class=\"colab-df-convert\" onclick=\"convertToInteractive('df-ca635bf6-f5f0-4b9c-ae8d-81407a27fadd')\"\n",
              "              title=\"Convert this dataframe to an interactive table.\"\n",
              "              style=\"display:none;\">\n",
              "        \n",
              "  <svg xmlns=\"http://www.w3.org/2000/svg\" height=\"24px\"viewBox=\"0 0 24 24\"\n",
              "       width=\"24px\">\n",
              "    <path d=\"M0 0h24v24H0V0z\" fill=\"none\"/>\n",
              "    <path d=\"M18.56 5.44l.94 2.06.94-2.06 2.06-.94-2.06-.94-.94-2.06-.94 2.06-2.06.94zm-11 1L8.5 8.5l.94-2.06 2.06-.94-2.06-.94L8.5 2.5l-.94 2.06-2.06.94zm10 10l.94 2.06.94-2.06 2.06-.94-2.06-.94-.94-2.06-.94 2.06-2.06.94z\"/><path d=\"M17.41 7.96l-1.37-1.37c-.4-.4-.92-.59-1.43-.59-.52 0-1.04.2-1.43.59L10.3 9.45l-7.72 7.72c-.78.78-.78 2.05 0 2.83L4 21.41c.39.39.9.59 1.41.59.51 0 1.02-.2 1.41-.59l7.78-7.78 2.81-2.81c.8-.78.8-2.07 0-2.86zM5.41 20L4 18.59l7.72-7.72 1.47 1.35L5.41 20z\"/>\n",
              "  </svg>\n",
              "      </button>\n",
              "      \n",
              "  <style>\n",
              "    .colab-df-container {\n",
              "      display:flex;\n",
              "      flex-wrap:wrap;\n",
              "      gap: 12px;\n",
              "    }\n",
              "\n",
              "    .colab-df-convert {\n",
              "      background-color: #E8F0FE;\n",
              "      border: none;\n",
              "      border-radius: 50%;\n",
              "      cursor: pointer;\n",
              "      display: none;\n",
              "      fill: #1967D2;\n",
              "      height: 32px;\n",
              "      padding: 0 0 0 0;\n",
              "      width: 32px;\n",
              "    }\n",
              "\n",
              "    .colab-df-convert:hover {\n",
              "      background-color: #E2EBFA;\n",
              "      box-shadow: 0px 1px 2px rgba(60, 64, 67, 0.3), 0px 1px 3px 1px rgba(60, 64, 67, 0.15);\n",
              "      fill: #174EA6;\n",
              "    }\n",
              "\n",
              "    [theme=dark] .colab-df-convert {\n",
              "      background-color: #3B4455;\n",
              "      fill: #D2E3FC;\n",
              "    }\n",
              "\n",
              "    [theme=dark] .colab-df-convert:hover {\n",
              "      background-color: #434B5C;\n",
              "      box-shadow: 0px 1px 3px 1px rgba(0, 0, 0, 0.15);\n",
              "      filter: drop-shadow(0px 1px 2px rgba(0, 0, 0, 0.3));\n",
              "      fill: #FFFFFF;\n",
              "    }\n",
              "  </style>\n",
              "\n",
              "      <script>\n",
              "        const buttonEl =\n",
              "          document.querySelector('#df-ca635bf6-f5f0-4b9c-ae8d-81407a27fadd button.colab-df-convert');\n",
              "        buttonEl.style.display =\n",
              "          google.colab.kernel.accessAllowed ? 'block' : 'none';\n",
              "\n",
              "        async function convertToInteractive(key) {\n",
              "          const element = document.querySelector('#df-ca635bf6-f5f0-4b9c-ae8d-81407a27fadd');\n",
              "          const dataTable =\n",
              "            await google.colab.kernel.invokeFunction('convertToInteractive',\n",
              "                                                     [key], {});\n",
              "          if (!dataTable) return;\n",
              "\n",
              "          const docLinkHtml = 'Like what you see? Visit the ' +\n",
              "            '<a target=\"_blank\" href=https://colab.research.google.com/notebooks/data_table.ipynb>data table notebook</a>'\n",
              "            + ' to learn more about interactive tables.';\n",
              "          element.innerHTML = '';\n",
              "          dataTable['output_type'] = 'display_data';\n",
              "          await google.colab.output.renderOutput(dataTable, element);\n",
              "          const docLink = document.createElement('div');\n",
              "          docLink.innerHTML = docLinkHtml;\n",
              "          element.appendChild(docLink);\n",
              "        }\n",
              "      </script>\n",
              "    </div>\n",
              "  </div>\n",
              "  "
            ]
          },
          "metadata": {},
          "execution_count": 3
        }
      ]
    },
    {
      "cell_type": "markdown",
      "source": [
        "## Taxa de Retorno Simples"
      ],
      "metadata": {
        "id": "XK4a0DNZ6FSo"
      }
    },
    {
      "cell_type": "markdown",
      "source": [
        "Utilizamos a taxa de retorno simples quando o intuito é fazer o comparativo entre várias ações"
      ],
      "metadata": {
        "id": "CpvPHdrUMc1Z"
      }
    },
    {
      "cell_type": "code",
      "source": [
        "# Retornando o primeiro e o ultimo valor respectivamente\n",
        "dataset['GOL'][0], dataset['GOL'][len(dataset)-1]"
      ],
      "metadata": {
        "colab": {
          "base_uri": "https://localhost:8080/"
        },
        "id": "Nr2T99mJ8JBt",
        "outputId": "34d76d58-c243-4ba6-9889-b07cb8461f04"
      },
      "execution_count": null,
      "outputs": [
        {
          "output_type": "execute_result",
          "data": {
            "text/plain": [
              "(14.989999771118164, 16.06999969482422)"
            ]
          },
          "metadata": {},
          "execution_count": 4
        }
      ]
    },
    {
      "cell_type": "markdown",
      "source": [
        "Taxa de Retorno Simples:\n",
        "\n",
        " ((Ultimo - Primeiro) / Primeiro) * 100\n",
        "\n",
        " Vamos aplicar para todas as ações:"
      ],
      "metadata": {
        "id": "AcqbP9sx9LYV"
      }
    },
    {
      "cell_type": "code",
      "source": [
        "((dataset['GOL'][len(dataset)-1] - dataset['GOL'][0]) / dataset['GOL'][0]) * 100"
      ],
      "metadata": {
        "colab": {
          "base_uri": "https://localhost:8080/"
        },
        "id": "2FRhI6Zw9CvQ",
        "outputId": "85654946-e383-48e9-e787-6e22a94f00b2"
      },
      "execution_count": null,
      "outputs": [
        {
          "output_type": "execute_result",
          "data": {
            "text/plain": [
              "7.20480280317905"
            ]
          },
          "metadata": {},
          "execution_count": 5
        }
      ]
    },
    {
      "cell_type": "code",
      "source": [
        "((dataset['CVC'][len(dataset)-1] - dataset['CVC'][0]) / dataset['CVC'][0]) * 100"
      ],
      "metadata": {
        "colab": {
          "base_uri": "https://localhost:8080/"
        },
        "id": "IpFsdF4r-dul",
        "outputId": "86c6d7de-5dd2-4512-b64b-f7d9643ce905"
      },
      "execution_count": null,
      "outputs": [
        {
          "output_type": "execute_result",
          "data": {
            "text/plain": [
              "-18.28947215694469"
            ]
          },
          "metadata": {},
          "execution_count": 6
        }
      ]
    },
    {
      "cell_type": "code",
      "source": [
        "((dataset['WEGE'][len(dataset)-1] - dataset['WEGE'][0]) / dataset['WEGE'][0]) * 100"
      ],
      "metadata": {
        "colab": {
          "base_uri": "https://localhost:8080/"
        },
        "id": "dR8amgvH-j-F",
        "outputId": "23b97098-651a-42b5-d4cb-3d95f74571c2"
      },
      "execution_count": null,
      "outputs": [
        {
          "output_type": "execute_result",
          "data": {
            "text/plain": [
              "564.0948003568933"
            ]
          },
          "metadata": {},
          "execution_count": 7
        }
      ]
    },
    {
      "cell_type": "code",
      "source": [
        "((dataset['MGLU'][len(dataset)-1] - dataset['MGLU'][0]) / dataset['MGLU'][0]) * 100"
      ],
      "metadata": {
        "colab": {
          "base_uri": "https://localhost:8080/"
        },
        "id": "HDnV6fE4-qQa",
        "outputId": "8083ce9d-e3b5-42f1-8d95-fdab717e6088"
      },
      "execution_count": null,
      "outputs": [
        {
          "output_type": "execute_result",
          "data": {
            "text/plain": [
              "10771.432407164248"
            ]
          },
          "metadata": {},
          "execution_count": 8
        }
      ]
    },
    {
      "cell_type": "code",
      "source": [
        "((dataset['TOTS'][len(dataset)-1] - dataset['TOTS'][0]) / dataset['TOTS'][0]) * 100"
      ],
      "metadata": {
        "colab": {
          "base_uri": "https://localhost:8080/"
        },
        "id": "Ph2evuSt-pu1",
        "outputId": "90f33888-8a47-461a-b901-56124c3d0fd7"
      },
      "execution_count": null,
      "outputs": [
        {
          "output_type": "execute_result",
          "data": {
            "text/plain": [
              "-21.83499100454833"
            ]
          },
          "metadata": {},
          "execution_count": 9
        }
      ]
    },
    {
      "cell_type": "code",
      "source": [
        "((dataset['BOVA'][len(dataset)-1] - dataset['BOVA'][0]) / dataset['BOVA'][0]) * 100"
      ],
      "metadata": {
        "colab": {
          "base_uri": "https://localhost:8080/"
        },
        "id": "e_7Idiax-4df",
        "outputId": "7c623227-33f9-4b76-ba0d-da67f8c25ea0"
      },
      "execution_count": null,
      "outputs": [
        {
          "output_type": "execute_result",
          "data": {
            "text/plain": [
              "95.53535113014244"
            ]
          },
          "metadata": {},
          "execution_count": 10
        }
      ]
    },
    {
      "cell_type": "markdown",
      "source": [
        "Tambem temos essa forma alternativa:\n",
        "\n",
        "(Ultimo / Primeiro - 1) * 100"
      ],
      "metadata": {
        "id": "WZ7xcDX9_6js"
      }
    },
    {
      "cell_type": "code",
      "source": [
        "(dataset['BOVA'][len(dataset)-1] / dataset['BOVA'][0] - 1) * 100"
      ],
      "metadata": {
        "colab": {
          "base_uri": "https://localhost:8080/"
        },
        "id": "QqMymXrq_TEM",
        "outputId": "8762d0b9-0891-4218-f601-fb4d4d472937"
      },
      "execution_count": null,
      "outputs": [
        {
          "output_type": "execute_result",
          "data": {
            "text/plain": [
              "95.53535113014244"
            ]
          },
          "metadata": {},
          "execution_count": 11
        }
      ]
    },
    {
      "cell_type": "markdown",
      "source": [
        "### Taxa de Retorno Diaria"
      ],
      "metadata": {
        "id": "v7I3BcXN8Kf1"
      }
    },
    {
      "cell_type": "markdown",
      "source": [
        ".shift(n) desloca os valores \"n\" posições a frente"
      ],
      "metadata": {
        "id": "q89GUEjo9CiP"
      }
    },
    {
      "cell_type": "code",
      "source": [
        "dataset['GOL'].shift(1)"
      ],
      "metadata": {
        "colab": {
          "base_uri": "https://localhost:8080/"
        },
        "id": "iXPU3dh-8R3O",
        "outputId": "3d746e65-2caa-46ad-b05c-466a6fbffaee"
      },
      "execution_count": null,
      "outputs": [
        {
          "output_type": "execute_result",
          "data": {
            "text/plain": [
              "0             NaN\n",
              "1       14.990000\n",
              "2       14.850000\n",
              "3       15.210000\n",
              "4       14.550000\n",
              "          ...    \n",
              "1441    18.959999\n",
              "1442    18.600000\n",
              "1443    16.920000\n",
              "1444    16.610001\n",
              "1445    15.690000\n",
              "Name: GOL, Length: 1446, dtype: float64"
            ]
          },
          "metadata": {},
          "execution_count": 12
        }
      ]
    },
    {
      "cell_type": "markdown",
      "source": [
        "Criando uma nova coluna no data frame de Retorno Simples da ação da GOL atribuindo os valores de retorno diario:"
      ],
      "metadata": {
        "id": "GX5N1IHY9pHe"
      }
    },
    {
      "cell_type": "code",
      "source": [
        "dataset['RS GOL'] = (dataset['GOL'] / dataset['GOL'].shift(1)) - 1\n",
        "dataset"
      ],
      "metadata": {
        "colab": {
          "base_uri": "https://localhost:8080/",
          "height": 424
        },
        "id": "MS5G-_bX9Spg",
        "outputId": "db85ee48-afd5-4f38-8152-b4307e0b3c26"
      },
      "execution_count": null,
      "outputs": [
        {
          "output_type": "execute_result",
          "data": {
            "text/plain": [
              "            Date        GOL    CVC       WEGE       MGLU       TOTS  \\\n",
              "0     2015-01-02  14.990000  15.20  11.846200   0.232812  35.732101   \n",
              "1     2015-01-05  14.850000  15.00  11.926900   0.237187  34.634201   \n",
              "2     2015-01-06  15.210000  14.80  11.750000   0.234062  32.468300   \n",
              "3     2015-01-07  14.550000  14.67  11.615400   0.241875  32.238701   \n",
              "4     2015-01-08  14.270000  14.15  11.811500   0.240000  32.987301   \n",
              "...          ...        ...    ...        ...        ...        ...   \n",
              "1441  2020-10-27  18.600000  14.17  83.239998  25.450001  28.500000   \n",
              "1442  2020-10-28  16.920000  12.77  79.139999  24.629999  27.500000   \n",
              "1443  2020-10-29  16.610001  12.68  80.029999  25.360001  28.500000   \n",
              "1444  2020-10-30  15.690000  12.28  75.830002  24.629999  27.000000   \n",
              "1445  2020-11-03  16.070000  12.42  78.669998  25.309999  27.930000   \n",
              "\n",
              "           BOVA    RS GOL  \n",
              "0     47.259998       NaN  \n",
              "1     46.320000 -0.009340  \n",
              "2     46.580002  0.024242  \n",
              "3     48.150002 -0.043392  \n",
              "4     48.509998 -0.019244  \n",
              "...         ...       ...  \n",
              "1441  95.800003 -0.018987  \n",
              "1442  92.430000 -0.090323  \n",
              "1443  92.910004 -0.018321  \n",
              "1444  90.660004 -0.055388  \n",
              "1445  92.410004  0.024219  \n",
              "\n",
              "[1446 rows x 8 columns]"
            ],
            "text/html": [
              "\n",
              "  <div id=\"df-e12a971b-6d01-4686-a82d-46cee5861152\">\n",
              "    <div class=\"colab-df-container\">\n",
              "      <div>\n",
              "<style scoped>\n",
              "    .dataframe tbody tr th:only-of-type {\n",
              "        vertical-align: middle;\n",
              "    }\n",
              "\n",
              "    .dataframe tbody tr th {\n",
              "        vertical-align: top;\n",
              "    }\n",
              "\n",
              "    .dataframe thead th {\n",
              "        text-align: right;\n",
              "    }\n",
              "</style>\n",
              "<table border=\"1\" class=\"dataframe\">\n",
              "  <thead>\n",
              "    <tr style=\"text-align: right;\">\n",
              "      <th></th>\n",
              "      <th>Date</th>\n",
              "      <th>GOL</th>\n",
              "      <th>CVC</th>\n",
              "      <th>WEGE</th>\n",
              "      <th>MGLU</th>\n",
              "      <th>TOTS</th>\n",
              "      <th>BOVA</th>\n",
              "      <th>RS GOL</th>\n",
              "    </tr>\n",
              "  </thead>\n",
              "  <tbody>\n",
              "    <tr>\n",
              "      <th>0</th>\n",
              "      <td>2015-01-02</td>\n",
              "      <td>14.990000</td>\n",
              "      <td>15.20</td>\n",
              "      <td>11.846200</td>\n",
              "      <td>0.232812</td>\n",
              "      <td>35.732101</td>\n",
              "      <td>47.259998</td>\n",
              "      <td>NaN</td>\n",
              "    </tr>\n",
              "    <tr>\n",
              "      <th>1</th>\n",
              "      <td>2015-01-05</td>\n",
              "      <td>14.850000</td>\n",
              "      <td>15.00</td>\n",
              "      <td>11.926900</td>\n",
              "      <td>0.237187</td>\n",
              "      <td>34.634201</td>\n",
              "      <td>46.320000</td>\n",
              "      <td>-0.009340</td>\n",
              "    </tr>\n",
              "    <tr>\n",
              "      <th>2</th>\n",
              "      <td>2015-01-06</td>\n",
              "      <td>15.210000</td>\n",
              "      <td>14.80</td>\n",
              "      <td>11.750000</td>\n",
              "      <td>0.234062</td>\n",
              "      <td>32.468300</td>\n",
              "      <td>46.580002</td>\n",
              "      <td>0.024242</td>\n",
              "    </tr>\n",
              "    <tr>\n",
              "      <th>3</th>\n",
              "      <td>2015-01-07</td>\n",
              "      <td>14.550000</td>\n",
              "      <td>14.67</td>\n",
              "      <td>11.615400</td>\n",
              "      <td>0.241875</td>\n",
              "      <td>32.238701</td>\n",
              "      <td>48.150002</td>\n",
              "      <td>-0.043392</td>\n",
              "    </tr>\n",
              "    <tr>\n",
              "      <th>4</th>\n",
              "      <td>2015-01-08</td>\n",
              "      <td>14.270000</td>\n",
              "      <td>14.15</td>\n",
              "      <td>11.811500</td>\n",
              "      <td>0.240000</td>\n",
              "      <td>32.987301</td>\n",
              "      <td>48.509998</td>\n",
              "      <td>-0.019244</td>\n",
              "    </tr>\n",
              "    <tr>\n",
              "      <th>...</th>\n",
              "      <td>...</td>\n",
              "      <td>...</td>\n",
              "      <td>...</td>\n",
              "      <td>...</td>\n",
              "      <td>...</td>\n",
              "      <td>...</td>\n",
              "      <td>...</td>\n",
              "      <td>...</td>\n",
              "    </tr>\n",
              "    <tr>\n",
              "      <th>1441</th>\n",
              "      <td>2020-10-27</td>\n",
              "      <td>18.600000</td>\n",
              "      <td>14.17</td>\n",
              "      <td>83.239998</td>\n",
              "      <td>25.450001</td>\n",
              "      <td>28.500000</td>\n",
              "      <td>95.800003</td>\n",
              "      <td>-0.018987</td>\n",
              "    </tr>\n",
              "    <tr>\n",
              "      <th>1442</th>\n",
              "      <td>2020-10-28</td>\n",
              "      <td>16.920000</td>\n",
              "      <td>12.77</td>\n",
              "      <td>79.139999</td>\n",
              "      <td>24.629999</td>\n",
              "      <td>27.500000</td>\n",
              "      <td>92.430000</td>\n",
              "      <td>-0.090323</td>\n",
              "    </tr>\n",
              "    <tr>\n",
              "      <th>1443</th>\n",
              "      <td>2020-10-29</td>\n",
              "      <td>16.610001</td>\n",
              "      <td>12.68</td>\n",
              "      <td>80.029999</td>\n",
              "      <td>25.360001</td>\n",
              "      <td>28.500000</td>\n",
              "      <td>92.910004</td>\n",
              "      <td>-0.018321</td>\n",
              "    </tr>\n",
              "    <tr>\n",
              "      <th>1444</th>\n",
              "      <td>2020-10-30</td>\n",
              "      <td>15.690000</td>\n",
              "      <td>12.28</td>\n",
              "      <td>75.830002</td>\n",
              "      <td>24.629999</td>\n",
              "      <td>27.000000</td>\n",
              "      <td>90.660004</td>\n",
              "      <td>-0.055388</td>\n",
              "    </tr>\n",
              "    <tr>\n",
              "      <th>1445</th>\n",
              "      <td>2020-11-03</td>\n",
              "      <td>16.070000</td>\n",
              "      <td>12.42</td>\n",
              "      <td>78.669998</td>\n",
              "      <td>25.309999</td>\n",
              "      <td>27.930000</td>\n",
              "      <td>92.410004</td>\n",
              "      <td>0.024219</td>\n",
              "    </tr>\n",
              "  </tbody>\n",
              "</table>\n",
              "<p>1446 rows × 8 columns</p>\n",
              "</div>\n",
              "      <button class=\"colab-df-convert\" onclick=\"convertToInteractive('df-e12a971b-6d01-4686-a82d-46cee5861152')\"\n",
              "              title=\"Convert this dataframe to an interactive table.\"\n",
              "              style=\"display:none;\">\n",
              "        \n",
              "  <svg xmlns=\"http://www.w3.org/2000/svg\" height=\"24px\"viewBox=\"0 0 24 24\"\n",
              "       width=\"24px\">\n",
              "    <path d=\"M0 0h24v24H0V0z\" fill=\"none\"/>\n",
              "    <path d=\"M18.56 5.44l.94 2.06.94-2.06 2.06-.94-2.06-.94-.94-2.06-.94 2.06-2.06.94zm-11 1L8.5 8.5l.94-2.06 2.06-.94-2.06-.94L8.5 2.5l-.94 2.06-2.06.94zm10 10l.94 2.06.94-2.06 2.06-.94-2.06-.94-.94-2.06-.94 2.06-2.06.94z\"/><path d=\"M17.41 7.96l-1.37-1.37c-.4-.4-.92-.59-1.43-.59-.52 0-1.04.2-1.43.59L10.3 9.45l-7.72 7.72c-.78.78-.78 2.05 0 2.83L4 21.41c.39.39.9.59 1.41.59.51 0 1.02-.2 1.41-.59l7.78-7.78 2.81-2.81c.8-.78.8-2.07 0-2.86zM5.41 20L4 18.59l7.72-7.72 1.47 1.35L5.41 20z\"/>\n",
              "  </svg>\n",
              "      </button>\n",
              "      \n",
              "  <style>\n",
              "    .colab-df-container {\n",
              "      display:flex;\n",
              "      flex-wrap:wrap;\n",
              "      gap: 12px;\n",
              "    }\n",
              "\n",
              "    .colab-df-convert {\n",
              "      background-color: #E8F0FE;\n",
              "      border: none;\n",
              "      border-radius: 50%;\n",
              "      cursor: pointer;\n",
              "      display: none;\n",
              "      fill: #1967D2;\n",
              "      height: 32px;\n",
              "      padding: 0 0 0 0;\n",
              "      width: 32px;\n",
              "    }\n",
              "\n",
              "    .colab-df-convert:hover {\n",
              "      background-color: #E2EBFA;\n",
              "      box-shadow: 0px 1px 2px rgba(60, 64, 67, 0.3), 0px 1px 3px 1px rgba(60, 64, 67, 0.15);\n",
              "      fill: #174EA6;\n",
              "    }\n",
              "\n",
              "    [theme=dark] .colab-df-convert {\n",
              "      background-color: #3B4455;\n",
              "      fill: #D2E3FC;\n",
              "    }\n",
              "\n",
              "    [theme=dark] .colab-df-convert:hover {\n",
              "      background-color: #434B5C;\n",
              "      box-shadow: 0px 1px 3px 1px rgba(0, 0, 0, 0.15);\n",
              "      filter: drop-shadow(0px 1px 2px rgba(0, 0, 0, 0.3));\n",
              "      fill: #FFFFFF;\n",
              "    }\n",
              "  </style>\n",
              "\n",
              "      <script>\n",
              "        const buttonEl =\n",
              "          document.querySelector('#df-e12a971b-6d01-4686-a82d-46cee5861152 button.colab-df-convert');\n",
              "        buttonEl.style.display =\n",
              "          google.colab.kernel.accessAllowed ? 'block' : 'none';\n",
              "\n",
              "        async function convertToInteractive(key) {\n",
              "          const element = document.querySelector('#df-e12a971b-6d01-4686-a82d-46cee5861152');\n",
              "          const dataTable =\n",
              "            await google.colab.kernel.invokeFunction('convertToInteractive',\n",
              "                                                     [key], {});\n",
              "          if (!dataTable) return;\n",
              "\n",
              "          const docLinkHtml = 'Like what you see? Visit the ' +\n",
              "            '<a target=\"_blank\" href=https://colab.research.google.com/notebooks/data_table.ipynb>data table notebook</a>'\n",
              "            + ' to learn more about interactive tables.';\n",
              "          element.innerHTML = '';\n",
              "          dataTable['output_type'] = 'display_data';\n",
              "          await google.colab.output.renderOutput(dataTable, element);\n",
              "          const docLink = document.createElement('div');\n",
              "          docLink.innerHTML = docLinkHtml;\n",
              "          element.appendChild(docLink);\n",
              "        }\n",
              "      </script>\n",
              "    </div>\n",
              "  </div>\n",
              "  "
            ]
          },
          "metadata": {},
          "execution_count": 13
        }
      ]
    },
    {
      "cell_type": "markdown",
      "source": [
        "Plotando as taxas de retorno diaria:"
      ],
      "metadata": {
        "id": "6-p10V7T-e3F"
      }
    },
    {
      "cell_type": "code",
      "source": [
        "dataset['RS GOL'].plot();"
      ],
      "metadata": {
        "colab": {
          "base_uri": "https://localhost:8080/",
          "height": 265
        },
        "id": "kgU1Lgw5-TIo",
        "outputId": "f04426ae-52e0-4da7-affc-d859d847e6ec"
      },
      "execution_count": null,
      "outputs": [
        {
          "output_type": "display_data",
          "data": {
            "text/plain": [
              "<Figure size 432x288 with 1 Axes>"
            ],
            "image/png": "[encoded data removed]"
          },
          "metadata": {
            "needs_background": "light"
          }
        }
      ]
    },
    {
      "cell_type": "markdown",
      "source": [
        "Media Diaria de Retorno:\n",
        "\n",
        "Note que é um valor muito pequeno devido ao fato das taxas de retorno serem diarias, não havendo variações muito grande"
      ],
      "metadata": {
        "id": "BpEGNoJw-pHq"
      }
    },
    {
      "cell_type": "code",
      "source": [
        "dataset['RS GOL'].mean()"
      ],
      "metadata": {
        "colab": {
          "base_uri": "https://localhost:8080/"
        },
        "id": "2KKtAcyJ-v9p",
        "outputId": "b2dbe537-165e-4d66-f1cb-28b1b23e5be8"
      },
      "execution_count": null,
      "outputs": [
        {
          "output_type": "execute_result",
          "data": {
            "text/plain": [
              "0.0013511779768514381"
            ]
          },
          "metadata": {},
          "execution_count": 15
        }
      ]
    },
    {
      "cell_type": "markdown",
      "source": [
        "### Taxa de Retorno Anual"
      ],
      "metadata": {
        "id": "xBB64jpEEe0H"
      }
    },
    {
      "cell_type": "markdown",
      "source": [
        "Para retornar a taxa de retorno anual basta multiplicarmos a media da Coluna de Retorno Diario pela quantidade de dias que a bolsa de valores funciona no ano (Descontando finais de semana e feriados), que acaba sendo em torno de 246 dias\n",
        "\n",
        "Para retornos trimestrais ou semestrais basta multiplicar pela quantidade de dias equivalentes"
      ],
      "metadata": {
        "id": "v2Q602ffEyoD"
      }
    },
    {
      "cell_type": "code",
      "source": [
        "(dataset['RS GOL'].mean() * 246) * 100"
      ],
      "metadata": {
        "colab": {
          "base_uri": "https://localhost:8080/"
        },
        "id": "vv4GoD1uEha9",
        "outputId": "7c75b497-0073-4b56-cb02-6de8b8c35f58"
      },
      "execution_count": null,
      "outputs": [
        {
          "output_type": "execute_result",
          "data": {
            "text/plain": [
              "33.23897823054538"
            ]
          },
          "metadata": {},
          "execution_count": 16
        }
      ]
    },
    {
      "cell_type": "markdown",
      "source": [
        "Agora valos aplicar para o restante das ações da carteira:"
      ],
      "metadata": {
        "id": "yacIweFQGMPF"
      }
    },
    {
      "cell_type": "code",
      "source": [
        "# Colunas de Taxas de Retorno Diario Simples\n",
        "dataset['RS CVC'] = (dataset['CVC'] / dataset['CVC'].shift(1)) - 1\n",
        "dataset['RS WEGE'] = (dataset['WEGE'] / dataset['WEGE'].shift(1)) - 1\n",
        "dataset['RS MGLU'] = (dataset['MGLU'] / dataset['MGLU'].shift(1)) - 1\n",
        "dataset['RS TOTS'] = (dataset['TOTS'] / dataset['TOTS'].shift(1)) - 1\n",
        "dataset['RS BOVA'] = (dataset['BOVA'] / dataset['BOVA'].shift(1)) - 1"
      ],
      "metadata": {
        "id": "futMfSMkGR8Z"
      },
      "execution_count": null,
      "outputs": []
    },
    {
      "cell_type": "markdown",
      "source": [
        "Vamos aplicar as respectivas taxas de retorno anuais:"
      ],
      "metadata": {
        "id": "5RlBqkqLHYEv"
      }
    },
    {
      "cell_type": "code",
      "source": [
        "(dataset['RS CVC'].mean() * 246) * 100"
      ],
      "metadata": {
        "colab": {
          "base_uri": "https://localhost:8080/"
        },
        "id": "NpPLEvq0HGUQ",
        "outputId": "05417a68-8976-46a4-c07d-5bf423baa093"
      },
      "execution_count": null,
      "outputs": [
        {
          "output_type": "execute_result",
          "data": {
            "text/plain": [
              "11.87607869173827"
            ]
          },
          "metadata": {},
          "execution_count": 18
        }
      ]
    },
    {
      "cell_type": "code",
      "source": [
        "(dataset['RS WEGE'].mean() * 246) * 100"
      ],
      "metadata": {
        "colab": {
          "base_uri": "https://localhost:8080/"
        },
        "id": "MCaZ7V_kHhDX",
        "outputId": "8ea0723e-b572-47cf-d10a-563498832007"
      },
      "execution_count": null,
      "outputs": [
        {
          "output_type": "execute_result",
          "data": {
            "text/plain": [
              "38.35190660073094"
            ]
          },
          "metadata": {},
          "execution_count": 19
        }
      ]
    },
    {
      "cell_type": "code",
      "source": [
        "(dataset['RS MGLU'].mean() * 246) * 100"
      ],
      "metadata": {
        "colab": {
          "base_uri": "https://localhost:8080/"
        },
        "id": "CHGe1G1DHg4k",
        "outputId": "cb5a3368-49a4-4fd1-ffef-28a38b0f7156"
      },
      "execution_count": null,
      "outputs": [
        {
          "output_type": "execute_result",
          "data": {
            "text/plain": [
              "101.2429849201322"
            ]
          },
          "metadata": {},
          "execution_count": 20
        }
      ]
    },
    {
      "cell_type": "code",
      "source": [
        "(dataset['RS TOTS'].mean() * 246) * 100"
      ],
      "metadata": {
        "colab": {
          "base_uri": "https://localhost:8080/"
        },
        "id": "R4FEoBs8Hf8q",
        "outputId": "bdf456f3-beb6-4d78-b239-1cc3af220892"
      },
      "execution_count": null,
      "outputs": [
        {
          "output_type": "execute_result",
          "data": {
            "text/plain": [
              "10.43406825404327"
            ]
          },
          "metadata": {},
          "execution_count": 21
        }
      ]
    },
    {
      "cell_type": "code",
      "source": [
        "(dataset['RS BOVA'].mean() * 246) * 100"
      ],
      "metadata": {
        "colab": {
          "base_uri": "https://localhost:8080/"
        },
        "id": "K446kMeOHfvq",
        "outputId": "0ab5535e-6dcd-4c02-962a-bc1846d8d7cc"
      },
      "execution_count": null,
      "outputs": [
        {
          "output_type": "execute_result",
          "data": {
            "text/plain": [
              "15.133989484068467"
            ]
          },
          "metadata": {},
          "execution_count": 22
        }
      ]
    },
    {
      "cell_type": "markdown",
      "source": [
        "## Taxa de Retorno Logarítmica"
      ],
      "metadata": {
        "id": "LafkJ1Sf6JDi"
      }
    },
    {
      "cell_type": "markdown",
      "source": [
        "Já a taxa de retorno logarítmica é usado quando o intuito é fazer comparação de uma mesma ação em períodos diferentes"
      ],
      "metadata": {
        "id": "QjF9fJ19MvZa"
      }
    },
    {
      "cell_type": "markdown",
      "source": [
        "Fórmula:\n",
        "\n",
        "log(Final / Inicial) * 100"
      ],
      "metadata": {
        "id": "eZseMGBANZBI"
      }
    },
    {
      "cell_type": "code",
      "source": [
        "np.log(dataset['GOL'][len(dataset)-1] / dataset['GOL'][0]) * 100"
      ],
      "metadata": {
        "id": "ofPHN3K-93xJ",
        "colab": {
          "base_uri": "https://localhost:8080/"
        },
        "outputId": "f2efa544-a2f2-45bf-9e82-d5ede182b2d9"
      },
      "execution_count": null,
      "outputs": [
        {
          "output_type": "execute_result",
          "data": {
            "text/plain": [
              "6.957086391347993"
            ]
          },
          "metadata": {},
          "execution_count": 23
        }
      ]
    },
    {
      "cell_type": "code",
      "source": [
        "np.log(dataset['CVC'][len(dataset)-1] / dataset['CVC'][0]) * 100"
      ],
      "metadata": {
        "colab": {
          "base_uri": "https://localhost:8080/"
        },
        "id": "zAw7YYtJOm6d",
        "outputId": "40f679b6-82a6-4e59-9515-1d774fa8986f"
      },
      "execution_count": null,
      "outputs": [
        {
          "output_type": "execute_result",
          "data": {
            "text/plain": [
              "-20.1987332655722"
            ]
          },
          "metadata": {},
          "execution_count": 31
        }
      ]
    },
    {
      "cell_type": "code",
      "source": [
        "np.log(dataset['WEGE'][len(dataset)-1] / dataset['WEGE'][0]) * 100"
      ],
      "metadata": {
        "colab": {
          "base_uri": "https://localhost:8080/"
        },
        "id": "HxcCGk-QPEtG",
        "outputId": "115b934f-b35c-4be2-ca73-6d2495c08786"
      },
      "execution_count": null,
      "outputs": [
        {
          "output_type": "execute_result",
          "data": {
            "text/plain": [
              "189.32547249192717"
            ]
          },
          "metadata": {},
          "execution_count": 32
        }
      ]
    },
    {
      "cell_type": "code",
      "source": [
        "np.log(dataset['MGLU'][len(dataset)-1] / dataset['MGLU'][0]) * 100"
      ],
      "metadata": {
        "colab": {
          "base_uri": "https://localhost:8080/"
        },
        "id": "zgWQIHDLPGYp",
        "outputId": "a75c3d6f-c6bf-4b4f-fcfa-aac47f2d53c4"
      },
      "execution_count": null,
      "outputs": [
        {
          "output_type": "execute_result",
          "data": {
            "text/plain": [
              "468.8723561633508"
            ]
          },
          "metadata": {},
          "execution_count": 33
        }
      ]
    },
    {
      "cell_type": "code",
      "source": [
        "np.log(dataset['TOTS'][len(dataset)-1] / dataset['TOTS'][0]) * 100"
      ],
      "metadata": {
        "colab": {
          "base_uri": "https://localhost:8080/"
        },
        "id": "k43_1y8jPGG9",
        "outputId": "6121f1ab-12d3-4c94-d2b2-dbdf4b21b7c9"
      },
      "execution_count": null,
      "outputs": [
        {
          "output_type": "execute_result",
          "data": {
            "text/plain": [
              "-24.63480938759514"
            ]
          },
          "metadata": {},
          "execution_count": 34
        }
      ]
    },
    {
      "cell_type": "code",
      "source": [
        "np.log(dataset['BOVA'][len(dataset)-1] / dataset['BOVA'][0]) * 100"
      ],
      "metadata": {
        "colab": {
          "base_uri": "https://localhost:8080/"
        },
        "id": "FUEX4JFUPFyD",
        "outputId": "8de8663e-65b8-40e3-8013-7ffd80e64f4d"
      },
      "execution_count": null,
      "outputs": [
        {
          "output_type": "execute_result",
          "data": {
            "text/plain": [
              "67.0571001285707"
            ]
          },
          "metadata": {},
          "execution_count": 35
        }
      ]
    },
    {
      "cell_type": "markdown",
      "source": [
        "### Taxa de Retorno Diaria"
      ],
      "metadata": {
        "id": "5iXXtemjP6Zm"
      }
    },
    {
      "cell_type": "markdown",
      "source": [
        "Criando uma nova coluna no data frame de Retorno Logaritmo (RL) da ação da GOL atribuindo os valores de retorno diario:"
      ],
      "metadata": {
        "id": "BgXBpUh-QGHJ"
      }
    },
    {
      "cell_type": "markdown",
      "source": [
        "Note que utilizamos o .shift() assim como no Retorno Simples"
      ],
      "metadata": {
        "id": "a51Z2kScQpaH"
      }
    },
    {
      "cell_type": "code",
      "source": [
        "dataset['RL GOL'] = np.log(dataset['GOL'] / dataset['GOL'].shift(1))\n",
        "dataset"
      ],
      "metadata": {
        "colab": {
          "base_uri": "https://localhost:8080/",
          "height": 424
        },
        "id": "ptuM7EpLQNhe",
        "outputId": "6d4b7044-03da-46fd-92dd-0673fc369f18"
      },
      "execution_count": null,
      "outputs": [
        {
          "output_type": "execute_result",
          "data": {
            "text/plain": [
              "            Date        GOL    CVC       WEGE       MGLU       TOTS  \\\n",
              "0     2015-01-02  14.990000  15.20  11.846200   0.232812  35.732101   \n",
              "1     2015-01-05  14.850000  15.00  11.926900   0.237187  34.634201   \n",
              "2     2015-01-06  15.210000  14.80  11.750000   0.234062  32.468300   \n",
              "3     2015-01-07  14.550000  14.67  11.615400   0.241875  32.238701   \n",
              "4     2015-01-08  14.270000  14.15  11.811500   0.240000  32.987301   \n",
              "...          ...        ...    ...        ...        ...        ...   \n",
              "1441  2020-10-27  18.600000  14.17  83.239998  25.450001  28.500000   \n",
              "1442  2020-10-28  16.920000  12.77  79.139999  24.629999  27.500000   \n",
              "1443  2020-10-29  16.610001  12.68  80.029999  25.360001  28.500000   \n",
              "1444  2020-10-30  15.690000  12.28  75.830002  24.629999  27.000000   \n",
              "1445  2020-11-03  16.070000  12.42  78.669998  25.309999  27.930000   \n",
              "\n",
              "           BOVA    RS GOL    RS CVC   RS WEGE   RS MGLU   RS TOTS   RS BOVA  \\\n",
              "0     47.259998       NaN       NaN       NaN       NaN       NaN       NaN   \n",
              "1     46.320000 -0.009340 -0.013158  0.006812  0.018792 -0.030726 -0.019890   \n",
              "2     46.580002  0.024242 -0.013333 -0.014832 -0.013175 -0.062536  0.005613   \n",
              "3     48.150002 -0.043392 -0.008784 -0.011455  0.033380 -0.007071  0.033705   \n",
              "4     48.509998 -0.019244 -0.035447  0.016883 -0.007752  0.023221  0.007477   \n",
              "...         ...       ...       ...       ...       ...       ...       ...   \n",
              "1441  95.800003 -0.018987 -0.018018  0.005921 -0.000785  0.008136 -0.010024   \n",
              "1442  92.430000 -0.090323 -0.098800 -0.049255 -0.032220 -0.035088 -0.035177   \n",
              "1443  92.910004 -0.018321 -0.007048  0.011246  0.029639  0.036364  0.005193   \n",
              "1444  90.660004 -0.055388 -0.031546 -0.052480 -0.028786 -0.052632 -0.024217   \n",
              "1445  92.410004  0.024219  0.011401  0.037452  0.027609  0.034444  0.019303   \n",
              "\n",
              "        RL GOL  \n",
              "0          NaN  \n",
              "1    -0.009383  \n",
              "2     0.023953  \n",
              "3    -0.044362  \n",
              "4    -0.019432  \n",
              "...        ...  \n",
              "1441 -0.019170  \n",
              "1442 -0.094665  \n",
              "1443 -0.018491  \n",
              "1444 -0.056981  \n",
              "1445  0.023931  \n",
              "\n",
              "[1446 rows x 14 columns]"
            ],
            "text/html": [
              "\n",
              "  <div id=\"df-1c60e875-be7a-4ce9-841d-6c21e92f2e8d\">\n",
              "    <div class=\"colab-df-container\">\n",
              "      <div>\n",
              "<style scoped>\n",
              "    .dataframe tbody tr th:only-of-type {\n",
              "        vertical-align: middle;\n",
              "    }\n",
              "\n",
              "    .dataframe tbody tr th {\n",
              "        vertical-align: top;\n",
              "    }\n",
              "\n",
              "    .dataframe thead th {\n",
              "        text-align: right;\n",
              "    }\n",
              "</style>\n",
              "<table border=\"1\" class=\"dataframe\">\n",
              "  <thead>\n",
              "    <tr style=\"text-align: right;\">\n",
              "      <th></th>\n",
              "      <th>Date</th>\n",
              "      <th>GOL</th>\n",
              "      <th>CVC</th>\n",
              "      <th>WEGE</th>\n",
              "      <th>MGLU</th>\n",
              "      <th>TOTS</th>\n",
              "      <th>BOVA</th>\n",
              "      <th>RS GOL</th>\n",
              "      <th>RS CVC</th>\n",
              "      <th>RS WEGE</th>\n",
              "      <th>RS MGLU</th>\n",
              "      <th>RS TOTS</th>\n",
              "      <th>RS BOVA</th>\n",
              "      <th>RL GOL</th>\n",
              "    </tr>\n",
              "  </thead>\n",
              "  <tbody>\n",
              "    <tr>\n",
              "      <th>0</th>\n",
              "      <td>2015-01-02</td>\n",
              "      <td>14.990000</td>\n",
              "      <td>15.20</td>\n",
              "      <td>11.846200</td>\n",
              "      <td>0.232812</td>\n",
              "      <td>35.732101</td>\n",
              "      <td>47.259998</td>\n",
              "      <td>NaN</td>\n",
              "      <td>NaN</td>\n",
              "      <td>NaN</td>\n",
              "      <td>NaN</td>\n",
              "      <td>NaN</td>\n",
              "      <td>NaN</td>\n",
              "      <td>NaN</td>\n",
              "    </tr>\n",
              "    <tr>\n",
              "      <th>1</th>\n",
              "      <td>2015-01-05</td>\n",
              "      <td>14.850000</td>\n",
              "      <td>15.00</td>\n",
              "      <td>11.926900</td>\n",
              "      <td>0.237187</td>\n",
              "      <td>34.634201</td>\n",
              "      <td>46.320000</td>\n",
              "      <td>-0.009340</td>\n",
              "      <td>-0.013158</td>\n",
              "      <td>0.006812</td>\n",
              "      <td>0.018792</td>\n",
              "      <td>-0.030726</td>\n",
              "      <td>-0.019890</td>\n",
              "      <td>-0.009383</td>\n",
              "    </tr>\n",
              "    <tr>\n",
              "      <th>2</th>\n",
              "      <td>2015-01-06</td>\n",
              "      <td>15.210000</td>\n",
              "      <td>14.80</td>\n",
              "      <td>11.750000</td>\n",
              "      <td>0.234062</td>\n",
              "      <td>32.468300</td>\n",
              "      <td>46.580002</td>\n",
              "      <td>0.024242</td>\n",
              "      <td>-0.013333</td>\n",
              "      <td>-0.014832</td>\n",
              "      <td>-0.013175</td>\n",
              "      <td>-0.062536</td>\n",
              "      <td>0.005613</td>\n",
              "      <td>0.023953</td>\n",
              "    </tr>\n",
              "    <tr>\n",
              "      <th>3</th>\n",
              "      <td>2015-01-07</td>\n",
              "      <td>14.550000</td>\n",
              "      <td>14.67</td>\n",
              "      <td>11.615400</td>\n",
              "      <td>0.241875</td>\n",
              "      <td>32.238701</td>\n",
              "      <td>48.150002</td>\n",
              "      <td>-0.043392</td>\n",
              "      <td>-0.008784</td>\n",
              "      <td>-0.011455</td>\n",
              "      <td>0.033380</td>\n",
              "      <td>-0.007071</td>\n",
              "      <td>0.033705</td>\n",
              "      <td>-0.044362</td>\n",
              "    </tr>\n",
              "    <tr>\n",
              "      <th>4</th>\n",
              "      <td>2015-01-08</td>\n",
              "      <td>14.270000</td>\n",
              "      <td>14.15</td>\n",
              "      <td>11.811500</td>\n",
              "      <td>0.240000</td>\n",
              "      <td>32.987301</td>\n",
              "      <td>48.509998</td>\n",
              "      <td>-0.019244</td>\n",
              "      <td>-0.035447</td>\n",
              "      <td>0.016883</td>\n",
              "      <td>-0.007752</td>\n",
              "      <td>0.023221</td>\n",
              "      <td>0.007477</td>\n",
              "      <td>-0.019432</td>\n",
              "    </tr>\n",
              "    <tr>\n",
              "      <th>...</th>\n",
              "      <td>...</td>\n",
              "      <td>...</td>\n",
              "      <td>...</td>\n",
              "      <td>...</td>\n",
              "      <td>...</td>\n",
              "      <td>...</td>\n",
              "      <td>...</td>\n",
              "      <td>...</td>\n",
              "      <td>...</td>\n",
              "      <td>...</td>\n",
              "      <td>...</td>\n",
              "      <td>...</td>\n",
              "      <td>...</td>\n",
              "      <td>...</td>\n",
              "    </tr>\n",
              "    <tr>\n",
              "      <th>1441</th>\n",
              "      <td>2020-10-27</td>\n",
              "      <td>18.600000</td>\n",
              "      <td>14.17</td>\n",
              "      <td>83.239998</td>\n",
              "      <td>25.450001</td>\n",
              "      <td>28.500000</td>\n",
              "      <td>95.800003</td>\n",
              "      <td>-0.018987</td>\n",
              "      <td>-0.018018</td>\n",
              "      <td>0.005921</td>\n",
              "      <td>-0.000785</td>\n",
              "      <td>0.008136</td>\n",
              "      <td>-0.010024</td>\n",
              "      <td>-0.019170</td>\n",
              "    </tr>\n",
              "    <tr>\n",
              "      <th>1442</th>\n",
              "      <td>2020-10-28</td>\n",
              "      <td>16.920000</td>\n",
              "      <td>12.77</td>\n",
              "      <td>79.139999</td>\n",
              "      <td>24.629999</td>\n",
              "      <td>27.500000</td>\n",
              "      <td>92.430000</td>\n",
              "      <td>-0.090323</td>\n",
              "      <td>-0.098800</td>\n",
              "      <td>-0.049255</td>\n",
              "      <td>-0.032220</td>\n",
              "      <td>-0.035088</td>\n",
              "      <td>-0.035177</td>\n",
              "      <td>-0.094665</td>\n",
              "    </tr>\n",
              "    <tr>\n",
              "      <th>1443</th>\n",
              "      <td>2020-10-29</td>\n",
              "      <td>16.610001</td>\n",
              "      <td>12.68</td>\n",
              "      <td>80.029999</td>\n",
              "      <td>25.360001</td>\n",
              "      <td>28.500000</td>\n",
              "      <td>92.910004</td>\n",
              "      <td>-0.018321</td>\n",
              "      <td>-0.007048</td>\n",
              "      <td>0.011246</td>\n",
              "      <td>0.029639</td>\n",
              "      <td>0.036364</td>\n",
              "      <td>0.005193</td>\n",
              "      <td>-0.018491</td>\n",
              "    </tr>\n",
              "    <tr>\n",
              "      <th>1444</th>\n",
              "      <td>2020-10-30</td>\n",
              "      <td>15.690000</td>\n",
              "      <td>12.28</td>\n",
              "      <td>75.830002</td>\n",
              "      <td>24.629999</td>\n",
              "      <td>27.000000</td>\n",
              "      <td>90.660004</td>\n",
              "      <td>-0.055388</td>\n",
              "      <td>-0.031546</td>\n",
              "      <td>-0.052480</td>\n",
              "      <td>-0.028786</td>\n",
              "      <td>-0.052632</td>\n",
              "      <td>-0.024217</td>\n",
              "      <td>-0.056981</td>\n",
              "    </tr>\n",
              "    <tr>\n",
              "      <th>1445</th>\n",
              "      <td>2020-11-03</td>\n",
              "      <td>16.070000</td>\n",
              "      <td>12.42</td>\n",
              "      <td>78.669998</td>\n",
              "      <td>25.309999</td>\n",
              "      <td>27.930000</td>\n",
              "      <td>92.410004</td>\n",
              "      <td>0.024219</td>\n",
              "      <td>0.011401</td>\n",
              "      <td>0.037452</td>\n",
              "      <td>0.027609</td>\n",
              "      <td>0.034444</td>\n",
              "      <td>0.019303</td>\n",
              "      <td>0.023931</td>\n",
              "    </tr>\n",
              "  </tbody>\n",
              "</table>\n",
              "<p>1446 rows × 14 columns</p>\n",
              "</div>\n",
              "      <button class=\"colab-df-convert\" onclick=\"convertToInteractive('df-1c60e875-be7a-4ce9-841d-6c21e92f2e8d')\"\n",
              "              title=\"Convert this dataframe to an interactive table.\"\n",
              "              style=\"display:none;\">\n",
              "        \n",
              "  <svg xmlns=\"http://www.w3.org/2000/svg\" height=\"24px\"viewBox=\"0 0 24 24\"\n",
              "       width=\"24px\">\n",
              "    <path d=\"M0 0h24v24H0V0z\" fill=\"none\"/>\n",
              "    <path d=\"M18.56 5.44l.94 2.06.94-2.06 2.06-.94-2.06-.94-.94-2.06-.94 2.06-2.06.94zm-11 1L8.5 8.5l.94-2.06 2.06-.94-2.06-.94L8.5 2.5l-.94 2.06-2.06.94zm10 10l.94 2.06.94-2.06 2.06-.94-2.06-.94-.94-2.06-.94 2.06-2.06.94z\"/><path d=\"M17.41 7.96l-1.37-1.37c-.4-.4-.92-.59-1.43-.59-.52 0-1.04.2-1.43.59L10.3 9.45l-7.72 7.72c-.78.78-.78 2.05 0 2.83L4 21.41c.39.39.9.59 1.41.59.51 0 1.02-.2 1.41-.59l7.78-7.78 2.81-2.81c.8-.78.8-2.07 0-2.86zM5.41 20L4 18.59l7.72-7.72 1.47 1.35L5.41 20z\"/>\n",
              "  </svg>\n",
              "      </button>\n",
              "      \n",
              "  <style>\n",
              "    .colab-df-container {\n",
              "      display:flex;\n",
              "      flex-wrap:wrap;\n",
              "      gap: 12px;\n",
              "    }\n",
              "\n",
              "    .colab-df-convert {\n",
              "      background-color: #E8F0FE;\n",
              "      border: none;\n",
              "      border-radius: 50%;\n",
              "      cursor: pointer;\n",
              "      display: none;\n",
              "      fill: #1967D2;\n",
              "      height: 32px;\n",
              "      padding: 0 0 0 0;\n",
              "      width: 32px;\n",
              "    }\n",
              "\n",
              "    .colab-df-convert:hover {\n",
              "      background-color: #E2EBFA;\n",
              "      box-shadow: 0px 1px 2px rgba(60, 64, 67, 0.3), 0px 1px 3px 1px rgba(60, 64, 67, 0.15);\n",
              "      fill: #174EA6;\n",
              "    }\n",
              "\n",
              "    [theme=dark] .colab-df-convert {\n",
              "      background-color: #3B4455;\n",
              "      fill: #D2E3FC;\n",
              "    }\n",
              "\n",
              "    [theme=dark] .colab-df-convert:hover {\n",
              "      background-color: #434B5C;\n",
              "      box-shadow: 0px 1px 3px 1px rgba(0, 0, 0, 0.15);\n",
              "      filter: drop-shadow(0px 1px 2px rgba(0, 0, 0, 0.3));\n",
              "      fill: #FFFFFF;\n",
              "    }\n",
              "  </style>\n",
              "\n",
              "      <script>\n",
              "        const buttonEl =\n",
              "          document.querySelector('#df-1c60e875-be7a-4ce9-841d-6c21e92f2e8d button.colab-df-convert');\n",
              "        buttonEl.style.display =\n",
              "          google.colab.kernel.accessAllowed ? 'block' : 'none';\n",
              "\n",
              "        async function convertToInteractive(key) {\n",
              "          const element = document.querySelector('#df-1c60e875-be7a-4ce9-841d-6c21e92f2e8d');\n",
              "          const dataTable =\n",
              "            await google.colab.kernel.invokeFunction('convertToInteractive',\n",
              "                                                     [key], {});\n",
              "          if (!dataTable) return;\n",
              "\n",
              "          const docLinkHtml = 'Like what you see? Visit the ' +\n",
              "            '<a target=\"_blank\" href=https://colab.research.google.com/notebooks/data_table.ipynb>data table notebook</a>'\n",
              "            + ' to learn more about interactive tables.';\n",
              "          element.innerHTML = '';\n",
              "          dataTable['output_type'] = 'display_data';\n",
              "          await google.colab.output.renderOutput(dataTable, element);\n",
              "          const docLink = document.createElement('div');\n",
              "          docLink.innerHTML = docLinkHtml;\n",
              "          element.appendChild(docLink);\n",
              "        }\n",
              "      </script>\n",
              "    </div>\n",
              "  </div>\n",
              "  "
            ]
          },
          "metadata": {},
          "execution_count": 36
        }
      ]
    },
    {
      "cell_type": "markdown",
      "source": [
        "Esse grafico é bom para analisarmos se a empresa teve mais retornos negativos ou positivos"
      ],
      "metadata": {
        "id": "HDYcMxlTQ-vh"
      }
    },
    {
      "cell_type": "code",
      "source": [
        "dataset['RL GOL'].plot();"
      ],
      "metadata": {
        "colab": {
          "base_uri": "https://localhost:8080/",
          "height": 265
        },
        "id": "NA4UeVF-Q2fS",
        "outputId": "25e0e0dd-25cd-4b35-997b-397fc8698a3a"
      },
      "execution_count": null,
      "outputs": [
        {
          "output_type": "display_data",
          "data": {
            "text/plain": [
              "<Figure size 432x288 with 1 Axes>"
            ],
            "image/png": "[encoded data removed]"
          },
          "metadata": {
            "needs_background": "light"
          }
        }
      ]
    },
    {
      "cell_type": "markdown",
      "source": [
        "Como ja visto, esse retorno diário acaba sendo um valor mais baixo:"
      ],
      "metadata": {
        "id": "9NNMSOwwRZHO"
      }
    },
    {
      "cell_type": "code",
      "source": [
        "dataset['RL GOL'].mean()"
      ],
      "metadata": {
        "colab": {
          "base_uri": "https://localhost:8080/"
        },
        "id": "Jwf33Q_fRKdx",
        "outputId": "3036ba6c-f11c-4354-a212-fc65dc110b43"
      },
      "execution_count": null,
      "outputs": [
        {
          "output_type": "execute_result",
          "data": {
            "text/plain": [
              "4.814592658372141e-05"
            ]
          },
          "metadata": {},
          "execution_count": 39
        }
      ]
    },
    {
      "cell_type": "markdown",
      "source": [
        "### Taxa de Retorno Anual"
      ],
      "metadata": {
        "id": "jpjTHsDaQB77"
      }
    },
    {
      "cell_type": "markdown",
      "source": [
        "Média de retorno anual:"
      ],
      "metadata": {
        "id": "IbjzSNK_Rv4-"
      }
    },
    {
      "cell_type": "code",
      "source": [
        "(dataset['RL GOL'].mean() * 246) * 100"
      ],
      "metadata": {
        "colab": {
          "base_uri": "https://localhost:8080/"
        },
        "id": "E6G4Y-hmRq0H",
        "outputId": "b15a0795-cd83-45bd-b72e-4fd1a59bf4c1"
      },
      "execution_count": null,
      "outputs": [
        {
          "output_type": "execute_result",
          "data": {
            "text/plain": [
              "1.184389793959547"
            ]
          },
          "metadata": {},
          "execution_count": 40
        }
      ]
    },
    {
      "cell_type": "markdown",
      "source": [
        "Agora valos aplicar os Retornos Logaritmos para o restante das ações da carteira:"
      ],
      "metadata": {
        "id": "Wp03suiRSYti"
      }
    },
    {
      "cell_type": "code",
      "source": [
        "dataset['RL CVC'] = np.log(dataset['CVC'] / dataset['CVC'].shift(1))\n",
        "dataset['RL WEGE'] = np.log(dataset['WEGE'] / dataset['WEGE'].shift(1))\n",
        "dataset['RL MGLU'] = np.log(dataset['MGLU'] / dataset['MGLU'].shift(1))\n",
        "dataset['RL TOTS'] = np.log(dataset['TOTS'] / dataset['TOTS'].shift(1))\n",
        "dataset['RL BOVA'] = np.log(dataset['BOVA'] / dataset['BOVA'].shift(1))"
      ],
      "metadata": {
        "id": "r8nBvry1SCzE"
      },
      "execution_count": null,
      "outputs": []
    },
    {
      "cell_type": "code",
      "source": [
        "dataset.head()"
      ],
      "metadata": {
        "colab": {
          "base_uri": "https://localhost:8080/",
          "height": 357
        },
        "id": "ttWOub2cS5ab",
        "outputId": "6218e3bd-085f-463b-c4c5-4fa0101c6b60"
      },
      "execution_count": null,
      "outputs": [
        {
          "output_type": "execute_result",
          "data": {
            "text/plain": [
              "         Date    GOL    CVC     WEGE      MGLU       TOTS       BOVA  \\\n",
              "0  2015-01-02  14.99  15.20  11.8462  0.232812  35.732101  47.259998   \n",
              "1  2015-01-05  14.85  15.00  11.9269  0.237187  34.634201  46.320000   \n",
              "2  2015-01-06  15.21  14.80  11.7500  0.234062  32.468300  46.580002   \n",
              "3  2015-01-07  14.55  14.67  11.6154  0.241875  32.238701  48.150002   \n",
              "4  2015-01-08  14.27  14.15  11.8115  0.240000  32.987301  48.509998   \n",
              "\n",
              "     RS GOL    RS CVC   RS WEGE   RS MGLU   RS TOTS   RS BOVA    RL GOL  \\\n",
              "0       NaN       NaN       NaN       NaN       NaN       NaN       NaN   \n",
              "1 -0.009340 -0.013158  0.006812  0.018792 -0.030726 -0.019890 -0.009383   \n",
              "2  0.024242 -0.013333 -0.014832 -0.013175 -0.062536  0.005613  0.023953   \n",
              "3 -0.043392 -0.008784 -0.011455  0.033380 -0.007071  0.033705 -0.044362   \n",
              "4 -0.019244 -0.035447  0.016883 -0.007752  0.023221  0.007477 -0.019432   \n",
              "\n",
              "     RL CVC   RL WEGE   RL MGLU   RL TOTS   RL BOVA  \n",
              "0       NaN       NaN       NaN       NaN       NaN  \n",
              "1 -0.013245  0.006789  0.018618 -0.031208 -0.020090  \n",
              "2 -0.013423 -0.014943 -0.013263 -0.064577  0.005597  \n",
              "3 -0.008823 -0.011521  0.032835 -0.007097  0.033150  \n",
              "4 -0.036090  0.016742 -0.007782  0.022955  0.007449  "
            ],
            "text/html": [
              "\n",
              "  <div id=\"df-0324548c-2d6c-4695-bcd6-d73a450972e8\">\n",
              "    <div class=\"colab-df-container\">\n",
              "      <div>\n",
              "<style scoped>\n",
              "    .dataframe tbody tr th:only-of-type {\n",
              "        vertical-align: middle;\n",
              "    }\n",
              "\n",
              "    .dataframe tbody tr th {\n",
              "        vertical-align: top;\n",
              "    }\n",
              "\n",
              "    .dataframe thead th {\n",
              "        text-align: right;\n",
              "    }\n",
              "</style>\n",
              "<table border=\"1\" class=\"dataframe\">\n",
              "  <thead>\n",
              "    <tr style=\"text-align: right;\">\n",
              "      <th></th>\n",
              "      <th>Date</th>\n",
              "      <th>GOL</th>\n",
              "      <th>CVC</th>\n",
              "      <th>WEGE</th>\n",
              "      <th>MGLU</th>\n",
              "      <th>TOTS</th>\n",
              "      <th>BOVA</th>\n",
              "      <th>RS GOL</th>\n",
              "      <th>RS CVC</th>\n",
              "      <th>RS WEGE</th>\n",
              "      <th>RS MGLU</th>\n",
              "      <th>RS TOTS</th>\n",
              "      <th>RS BOVA</th>\n",
              "      <th>RL GOL</th>\n",
              "      <th>RL CVC</th>\n",
              "      <th>RL WEGE</th>\n",
              "      <th>RL MGLU</th>\n",
              "      <th>RL TOTS</th>\n",
              "      <th>RL BOVA</th>\n",
              "    </tr>\n",
              "  </thead>\n",
              "  <tbody>\n",
              "    <tr>\n",
              "      <th>0</th>\n",
              "      <td>2015-01-02</td>\n",
              "      <td>14.99</td>\n",
              "      <td>15.20</td>\n",
              "      <td>11.8462</td>\n",
              "      <td>0.232812</td>\n",
              "      <td>35.732101</td>\n",
              "      <td>47.259998</td>\n",
              "      <td>NaN</td>\n",
              "      <td>NaN</td>\n",
              "      <td>NaN</td>\n",
              "      <td>NaN</td>\n",
              "      <td>NaN</td>\n",
              "      <td>NaN</td>\n",
              "      <td>NaN</td>\n",
              "      <td>NaN</td>\n",
              "      <td>NaN</td>\n",
              "      <td>NaN</td>\n",
              "      <td>NaN</td>\n",
              "      <td>NaN</td>\n",
              "    </tr>\n",
              "    <tr>\n",
              "      <th>1</th>\n",
              "      <td>2015-01-05</td>\n",
              "      <td>14.85</td>\n",
              "      <td>15.00</td>\n",
              "      <td>11.9269</td>\n",
              "      <td>0.237187</td>\n",
              "      <td>34.634201</td>\n",
              "      <td>46.320000</td>\n",
              "      <td>-0.009340</td>\n",
              "      <td>-0.013158</td>\n",
              "      <td>0.006812</td>\n",
              "      <td>0.018792</td>\n",
              "      <td>-0.030726</td>\n",
              "      <td>-0.019890</td>\n",
              "      <td>-0.009383</td>\n",
              "      <td>-0.013245</td>\n",
              "      <td>0.006789</td>\n",
              "      <td>0.018618</td>\n",
              "      <td>-0.031208</td>\n",
              "      <td>-0.020090</td>\n",
              "    </tr>\n",
              "    <tr>\n",
              "      <th>2</th>\n",
              "      <td>2015-01-06</td>\n",
              "      <td>15.21</td>\n",
              "      <td>14.80</td>\n",
              "      <td>11.7500</td>\n",
              "      <td>0.234062</td>\n",
              "      <td>32.468300</td>\n",
              "      <td>46.580002</td>\n",
              "      <td>0.024242</td>\n",
              "      <td>-0.013333</td>\n",
              "      <td>-0.014832</td>\n",
              "      <td>-0.013175</td>\n",
              "      <td>-0.062536</td>\n",
              "      <td>0.005613</td>\n",
              "      <td>0.023953</td>\n",
              "      <td>-0.013423</td>\n",
              "      <td>-0.014943</td>\n",
              "      <td>-0.013263</td>\n",
              "      <td>-0.064577</td>\n",
              "      <td>0.005597</td>\n",
              "    </tr>\n",
              "    <tr>\n",
              "      <th>3</th>\n",
              "      <td>2015-01-07</td>\n",
              "      <td>14.55</td>\n",
              "      <td>14.67</td>\n",
              "      <td>11.6154</td>\n",
              "      <td>0.241875</td>\n",
              "      <td>32.238701</td>\n",
              "      <td>48.150002</td>\n",
              "      <td>-0.043392</td>\n",
              "      <td>-0.008784</td>\n",
              "      <td>-0.011455</td>\n",
              "      <td>0.033380</td>\n",
              "      <td>-0.007071</td>\n",
              "      <td>0.033705</td>\n",
              "      <td>-0.044362</td>\n",
              "      <td>-0.008823</td>\n",
              "      <td>-0.011521</td>\n",
              "      <td>0.032835</td>\n",
              "      <td>-0.007097</td>\n",
              "      <td>0.033150</td>\n",
              "    </tr>\n",
              "    <tr>\n",
              "      <th>4</th>\n",
              "      <td>2015-01-08</td>\n",
              "      <td>14.27</td>\n",
              "      <td>14.15</td>\n",
              "      <td>11.8115</td>\n",
              "      <td>0.240000</td>\n",
              "      <td>32.987301</td>\n",
              "      <td>48.509998</td>\n",
              "      <td>-0.019244</td>\n",
              "      <td>-0.035447</td>\n",
              "      <td>0.016883</td>\n",
              "      <td>-0.007752</td>\n",
              "      <td>0.023221</td>\n",
              "      <td>0.007477</td>\n",
              "      <td>-0.019432</td>\n",
              "      <td>-0.036090</td>\n",
              "      <td>0.016742</td>\n",
              "      <td>-0.007782</td>\n",
              "      <td>0.022955</td>\n",
              "      <td>0.007449</td>\n",
              "    </tr>\n",
              "  </tbody>\n",
              "</table>\n",
              "</div>\n",
              "      <button class=\"colab-df-convert\" onclick=\"convertToInteractive('df-0324548c-2d6c-4695-bcd6-d73a450972e8')\"\n",
              "              title=\"Convert this dataframe to an interactive table.\"\n",
              "              style=\"display:none;\">\n",
              "        \n",
              "  <svg xmlns=\"http://www.w3.org/2000/svg\" height=\"24px\"viewBox=\"0 0 24 24\"\n",
              "       width=\"24px\">\n",
              "    <path d=\"M0 0h24v24H0V0z\" fill=\"none\"/>\n",
              "    <path d=\"M18.56 5.44l.94 2.06.94-2.06 2.06-.94-2.06-.94-.94-2.06-.94 2.06-2.06.94zm-11 1L8.5 8.5l.94-2.06 2.06-.94-2.06-.94L8.5 2.5l-.94 2.06-2.06.94zm10 10l.94 2.06.94-2.06 2.06-.94-2.06-.94-.94-2.06-.94 2.06-2.06.94z\"/><path d=\"M17.41 7.96l-1.37-1.37c-.4-.4-.92-.59-1.43-.59-.52 0-1.04.2-1.43.59L10.3 9.45l-7.72 7.72c-.78.78-.78 2.05 0 2.83L4 21.41c.39.39.9.59 1.41.59.51 0 1.02-.2 1.41-.59l7.78-7.78 2.81-2.81c.8-.78.8-2.07 0-2.86zM5.41 20L4 18.59l7.72-7.72 1.47 1.35L5.41 20z\"/>\n",
              "  </svg>\n",
              "      </button>\n",
              "      \n",
              "  <style>\n",
              "    .colab-df-container {\n",
              "      display:flex;\n",
              "      flex-wrap:wrap;\n",
              "      gap: 12px;\n",
              "    }\n",
              "\n",
              "    .colab-df-convert {\n",
              "      background-color: #E8F0FE;\n",
              "      border: none;\n",
              "      border-radius: 50%;\n",
              "      cursor: pointer;\n",
              "      display: none;\n",
              "      fill: #1967D2;\n",
              "      height: 32px;\n",
              "      padding: 0 0 0 0;\n",
              "      width: 32px;\n",
              "    }\n",
              "\n",
              "    .colab-df-convert:hover {\n",
              "      background-color: #E2EBFA;\n",
              "      box-shadow: 0px 1px 2px rgba(60, 64, 67, 0.3), 0px 1px 3px 1px rgba(60, 64, 67, 0.15);\n",
              "      fill: #174EA6;\n",
              "    }\n",
              "\n",
              "    [theme=dark] .colab-df-convert {\n",
              "      background-color: #3B4455;\n",
              "      fill: #D2E3FC;\n",
              "    }\n",
              "\n",
              "    [theme=dark] .colab-df-convert:hover {\n",
              "      background-color: #434B5C;\n",
              "      box-shadow: 0px 1px 3px 1px rgba(0, 0, 0, 0.15);\n",
              "      filter: drop-shadow(0px 1px 2px rgba(0, 0, 0, 0.3));\n",
              "      fill: #FFFFFF;\n",
              "    }\n",
              "  </style>\n",
              "\n",
              "      <script>\n",
              "        const buttonEl =\n",
              "          document.querySelector('#df-0324548c-2d6c-4695-bcd6-d73a450972e8 button.colab-df-convert');\n",
              "        buttonEl.style.display =\n",
              "          google.colab.kernel.accessAllowed ? 'block' : 'none';\n",
              "\n",
              "        async function convertToInteractive(key) {\n",
              "          const element = document.querySelector('#df-0324548c-2d6c-4695-bcd6-d73a450972e8');\n",
              "          const dataTable =\n",
              "            await google.colab.kernel.invokeFunction('convertToInteractive',\n",
              "                                                     [key], {});\n",
              "          if (!dataTable) return;\n",
              "\n",
              "          const docLinkHtml = 'Like what you see? Visit the ' +\n",
              "            '<a target=\"_blank\" href=https://colab.research.google.com/notebooks/data_table.ipynb>data table notebook</a>'\n",
              "            + ' to learn more about interactive tables.';\n",
              "          element.innerHTML = '';\n",
              "          dataTable['output_type'] = 'display_data';\n",
              "          await google.colab.output.renderOutput(dataTable, element);\n",
              "          const docLink = document.createElement('div');\n",
              "          docLink.innerHTML = docLinkHtml;\n",
              "          element.appendChild(docLink);\n",
              "        }\n",
              "      </script>\n",
              "    </div>\n",
              "  </div>\n",
              "  "
            ]
          },
          "metadata": {},
          "execution_count": 43
        }
      ]
    },
    {
      "cell_type": "markdown",
      "source": [
        "Vamos aplicar as respectivas taxas de retorno logaritmas anuais:"
      ],
      "metadata": {
        "id": "69S6zIWjTJRW"
      }
    },
    {
      "cell_type": "code",
      "source": [
        "(dataset['RL CVC'].mean() * 246) * 100"
      ],
      "metadata": {
        "colab": {
          "base_uri": "https://localhost:8080/"
        },
        "id": "riMCiSy1TJCT",
        "outputId": "cbfcedb3-14fa-4384-8f44-a09141c169b4"
      },
      "execution_count": null,
      "outputs": [
        {
          "output_type": "execute_result",
          "data": {
            "text/plain": [
              "-3.4386770818897774"
            ]
          },
          "metadata": {},
          "execution_count": 44
        }
      ]
    },
    {
      "cell_type": "code",
      "source": [
        "(dataset['RL WEGE'].mean() * 246) * 100"
      ],
      "metadata": {
        "colab": {
          "base_uri": "https://localhost:8080/"
        },
        "id": "OWc45BB0TT0B",
        "outputId": "627200c2-841f-465a-9afe-7757845ed06f"
      },
      "execution_count": null,
      "outputs": [
        {
          "output_type": "execute_result",
          "data": {
            "text/plain": [
              "32.23118770450794"
            ]
          },
          "metadata": {},
          "execution_count": 45
        }
      ]
    },
    {
      "cell_type": "code",
      "source": [
        "(dataset['RL MGLU'].mean() * 246) * 100"
      ],
      "metadata": {
        "colab": {
          "base_uri": "https://localhost:8080/"
        },
        "id": "Kqz9jIEpTTi4",
        "outputId": "0e244057-e5dd-4660-c630-ea0da5356355"
      },
      "execution_count": null,
      "outputs": [
        {
          "output_type": "execute_result",
          "data": {
            "text/plain": [
              "79.82186824649435"
            ]
          },
          "metadata": {},
          "execution_count": 46
        }
      ]
    },
    {
      "cell_type": "code",
      "source": [
        "(dataset['RL TOTS'].mean() * 246) * 100"
      ],
      "metadata": {
        "colab": {
          "base_uri": "https://localhost:8080/"
        },
        "id": "HkZ2iPDJTTRb",
        "outputId": "27ca2be7-08b8-4012-b61e-1cc3ffaf23d5"
      },
      "execution_count": null,
      "outputs": [
        {
          "output_type": "execute_result",
          "data": {
            "text/plain": [
              "-4.1938845047394135"
            ]
          },
          "metadata": {},
          "execution_count": 47
        }
      ]
    },
    {
      "cell_type": "code",
      "source": [
        "(dataset['RL BOVA'].mean() * 246) * 100"
      ],
      "metadata": {
        "colab": {
          "base_uri": "https://localhost:8080/"
        },
        "id": "0H89fcF4TTLB",
        "outputId": "d9827324-df1e-430a-b431-8fb46572c566"
      },
      "execution_count": null,
      "outputs": [
        {
          "output_type": "execute_result",
          "data": {
            "text/plain": [
              "11.415949226040405"
            ]
          },
          "metadata": {},
          "execution_count": 48
        }
      ]
    },
    {
      "cell_type": "markdown",
      "source": [
        "## Retorno de Carteira de ações"
      ],
      "metadata": {
        "id": "FklXDREa6Jfl"
      }
    },
    {
      "cell_type": "code",
      "source": [
        "dataset = pd.read_csv('acoes.csv')"
      ],
      "metadata": {
        "id": "BNUVZRZe2U6C"
      },
      "execution_count": null,
      "outputs": []
    },
    {
      "cell_type": "markdown",
      "source": [
        "Vamos iniciar fazendo a normalização desses dados para comparar os crescimentos das ações de forma igual"
      ],
      "metadata": {
        "id": "o8kMQzZx2muY"
      }
    },
    {
      "cell_type": "code",
      "source": [
        "dataset_normalizado = dataset.copy()\n",
        "for i in dataset_normalizado.columns[1:]: # Começamos da coluna 1 pois a 0 é a data\n",
        "  dataset_normalizado[i] = (dataset_normalizado[i] / dataset_normalizado[i][0])"
      ],
      "metadata": {
        "id": "LJ1bT3rg2nVP"
      },
      "execution_count": null,
      "outputs": []
    },
    {
      "cell_type": "markdown",
      "source": [
        "Note que agora os dados estão padronizados em uma mesma escala"
      ],
      "metadata": {
        "id": "YgPauEN04QLM"
      }
    },
    {
      "cell_type": "code",
      "source": [
        "dataset_normalizado.head()"
      ],
      "metadata": {
        "colab": {
          "base_uri": "https://localhost:8080/",
          "height": 206
        },
        "id": "DnPkaNpr4QkO",
        "outputId": "d55db723-5466-4b8f-b34f-ced558bc1431"
      },
      "execution_count": null,
      "outputs": [
        {
          "output_type": "execute_result",
          "data": {
            "text/plain": [
              "         Date       GOL       CVC      WEGE      MGLU      TOTS      BOVA\n",
              "0  2015-01-02  1.000000  1.000000  1.000000  1.000000  1.000000  1.000000\n",
              "1  2015-01-05  0.990660  0.986842  1.006812  1.018792  0.969274  0.980110\n",
              "2  2015-01-06  1.014676  0.973684  0.991879  1.005369  0.908659  0.985612\n",
              "3  2015-01-07  0.970647  0.965132  0.980517  1.038928  0.902234  1.018832\n",
              "4  2015-01-08  0.951968  0.930921  0.997071  1.030875  0.923184  1.026449"
            ],
            "text/html": [
              "\n",
              "  <div id=\"df-642a7b6b-6c7a-4afe-a03f-abc1b19f3fb4\">\n",
              "    <div class=\"colab-df-container\">\n",
              "      <div>\n",
              "<style scoped>\n",
              "    .dataframe tbody tr th:only-of-type {\n",
              "        vertical-align: middle;\n",
              "    }\n",
              "\n",
              "    .dataframe tbody tr th {\n",
              "        vertical-align: top;\n",
              "    }\n",
              "\n",
              "    .dataframe thead th {\n",
              "        text-align: right;\n",
              "    }\n",
              "</style>\n",
              "<table border=\"1\" class=\"dataframe\">\n",
              "  <thead>\n",
              "    <tr style=\"text-align: right;\">\n",
              "      <th></th>\n",
              "      <th>Date</th>\n",
              "      <th>GOL</th>\n",
              "      <th>CVC</th>\n",
              "      <th>WEGE</th>\n",
              "      <th>MGLU</th>\n",
              "      <th>TOTS</th>\n",
              "      <th>BOVA</th>\n",
              "    </tr>\n",
              "  </thead>\n",
              "  <tbody>\n",
              "    <tr>\n",
              "      <th>0</th>\n",
              "      <td>2015-01-02</td>\n",
              "      <td>1.000000</td>\n",
              "      <td>1.000000</td>\n",
              "      <td>1.000000</td>\n",
              "      <td>1.000000</td>\n",
              "      <td>1.000000</td>\n",
              "      <td>1.000000</td>\n",
              "    </tr>\n",
              "    <tr>\n",
              "      <th>1</th>\n",
              "      <td>2015-01-05</td>\n",
              "      <td>0.990660</td>\n",
              "      <td>0.986842</td>\n",
              "      <td>1.006812</td>\n",
              "      <td>1.018792</td>\n",
              "      <td>0.969274</td>\n",
              "      <td>0.980110</td>\n",
              "    </tr>\n",
              "    <tr>\n",
              "      <th>2</th>\n",
              "      <td>2015-01-06</td>\n",
              "      <td>1.014676</td>\n",
              "      <td>0.973684</td>\n",
              "      <td>0.991879</td>\n",
              "      <td>1.005369</td>\n",
              "      <td>0.908659</td>\n",
              "      <td>0.985612</td>\n",
              "    </tr>\n",
              "    <tr>\n",
              "      <th>3</th>\n",
              "      <td>2015-01-07</td>\n",
              "      <td>0.970647</td>\n",
              "      <td>0.965132</td>\n",
              "      <td>0.980517</td>\n",
              "      <td>1.038928</td>\n",
              "      <td>0.902234</td>\n",
              "      <td>1.018832</td>\n",
              "    </tr>\n",
              "    <tr>\n",
              "      <th>4</th>\n",
              "      <td>2015-01-08</td>\n",
              "      <td>0.951968</td>\n",
              "      <td>0.930921</td>\n",
              "      <td>0.997071</td>\n",
              "      <td>1.030875</td>\n",
              "      <td>0.923184</td>\n",
              "      <td>1.026449</td>\n",
              "    </tr>\n",
              "  </tbody>\n",
              "</table>\n",
              "</div>\n",
              "      <button class=\"colab-df-convert\" onclick=\"convertToInteractive('df-642a7b6b-6c7a-4afe-a03f-abc1b19f3fb4')\"\n",
              "              title=\"Convert this dataframe to an interactive table.\"\n",
              "              style=\"display:none;\">\n",
              "        \n",
              "  <svg xmlns=\"http://www.w3.org/2000/svg\" height=\"24px\"viewBox=\"0 0 24 24\"\n",
              "       width=\"24px\">\n",
              "    <path d=\"M0 0h24v24H0V0z\" fill=\"none\"/>\n",
              "    <path d=\"M18.56 5.44l.94 2.06.94-2.06 2.06-.94-2.06-.94-.94-2.06-.94 2.06-2.06.94zm-11 1L8.5 8.5l.94-2.06 2.06-.94-2.06-.94L8.5 2.5l-.94 2.06-2.06.94zm10 10l.94 2.06.94-2.06 2.06-.94-2.06-.94-.94-2.06-.94 2.06-2.06.94z\"/><path d=\"M17.41 7.96l-1.37-1.37c-.4-.4-.92-.59-1.43-.59-.52 0-1.04.2-1.43.59L10.3 9.45l-7.72 7.72c-.78.78-.78 2.05 0 2.83L4 21.41c.39.39.9.59 1.41.59.51 0 1.02-.2 1.41-.59l7.78-7.78 2.81-2.81c.8-.78.8-2.07 0-2.86zM5.41 20L4 18.59l7.72-7.72 1.47 1.35L5.41 20z\"/>\n",
              "  </svg>\n",
              "      </button>\n",
              "      \n",
              "  <style>\n",
              "    .colab-df-container {\n",
              "      display:flex;\n",
              "      flex-wrap:wrap;\n",
              "      gap: 12px;\n",
              "    }\n",
              "\n",
              "    .colab-df-convert {\n",
              "      background-color: #E8F0FE;\n",
              "      border: none;\n",
              "      border-radius: 50%;\n",
              "      cursor: pointer;\n",
              "      display: none;\n",
              "      fill: #1967D2;\n",
              "      height: 32px;\n",
              "      padding: 0 0 0 0;\n",
              "      width: 32px;\n",
              "    }\n",
              "\n",
              "    .colab-df-convert:hover {\n",
              "      background-color: #E2EBFA;\n",
              "      box-shadow: 0px 1px 2px rgba(60, 64, 67, 0.3), 0px 1px 3px 1px rgba(60, 64, 67, 0.15);\n",
              "      fill: #174EA6;\n",
              "    }\n",
              "\n",
              "    [theme=dark] .colab-df-convert {\n",
              "      background-color: #3B4455;\n",
              "      fill: #D2E3FC;\n",
              "    }\n",
              "\n",
              "    [theme=dark] .colab-df-convert:hover {\n",
              "      background-color: #434B5C;\n",
              "      box-shadow: 0px 1px 3px 1px rgba(0, 0, 0, 0.15);\n",
              "      filter: drop-shadow(0px 1px 2px rgba(0, 0, 0, 0.3));\n",
              "      fill: #FFFFFF;\n",
              "    }\n",
              "  </style>\n",
              "\n",
              "      <script>\n",
              "        const buttonEl =\n",
              "          document.querySelector('#df-642a7b6b-6c7a-4afe-a03f-abc1b19f3fb4 button.colab-df-convert');\n",
              "        buttonEl.style.display =\n",
              "          google.colab.kernel.accessAllowed ? 'block' : 'none';\n",
              "\n",
              "        async function convertToInteractive(key) {\n",
              "          const element = document.querySelector('#df-642a7b6b-6c7a-4afe-a03f-abc1b19f3fb4');\n",
              "          const dataTable =\n",
              "            await google.colab.kernel.invokeFunction('convertToInteractive',\n",
              "                                                     [key], {});\n",
              "          if (!dataTable) return;\n",
              "\n",
              "          const docLinkHtml = 'Like what you see? Visit the ' +\n",
              "            '<a target=\"_blank\" href=https://colab.research.google.com/notebooks/data_table.ipynb>data table notebook</a>'\n",
              "            + ' to learn more about interactive tables.';\n",
              "          element.innerHTML = '';\n",
              "          dataTable['output_type'] = 'display_data';\n",
              "          await google.colab.output.renderOutput(dataTable, element);\n",
              "          const docLink = document.createElement('div');\n",
              "          docLink.innerHTML = docLinkHtml;\n",
              "          element.appendChild(docLink);\n",
              "        }\n",
              "      </script>\n",
              "    </div>\n",
              "  </div>\n",
              "  "
            ]
          },
          "metadata": {},
          "execution_count": 6
        }
      ]
    },
    {
      "cell_type": "markdown",
      "source": [
        "Vamos plotar o gráfico com as ações padronizadas:"
      ],
      "metadata": {
        "id": "odEYCfh0432c"
      }
    },
    {
      "cell_type": "code",
      "source": [
        "dataset_normalizado.plot(x='Date', figsize=(15,7));"
      ],
      "metadata": {
        "colab": {
          "base_uri": "https://localhost:8080/",
          "height": 442
        },
        "id": "ze7hnvB34fsg",
        "outputId": "e02908cf-fe15-49c4-d003-a04915b8bd4f"
      },
      "execution_count": null,
      "outputs": [
        {
          "output_type": "display_data",
          "data": {
            "text/plain": [
              "<Figure size 1080x504 with 1 Axes>"
            ],
            "image/png": "[encoded data removed]"
          },
          "metadata": {
            "needs_background": "light"
          }
        }
      ]
    },
    {
      "cell_type": "markdown",
      "source": [
        "Como não usaremos a coluna de data(Date), podemos excluí-la:"
      ],
      "metadata": {
        "id": "xTcIRKJk5FQq"
      }
    },
    {
      "cell_type": "code",
      "source": [
        "dataset_normalizado.drop(labels=['Date'], axis=1, inplace=True)"
      ],
      "metadata": {
        "id": "NBzCycR_5EYO"
      },
      "execution_count": null,
      "outputs": []
    },
    {
      "cell_type": "markdown",
      "source": [
        "Como ja visto anteriormente, vamos utilizar o calculo de Retorno Simples, pois vamos comparar varias ações diferentes em um mesmo período de tempo:"
      ],
      "metadata": {
        "id": "NQIz5J1a6GFe"
      }
    },
    {
      "cell_type": "code",
      "source": [
        "retorno_carteira = (dataset_normalizado / dataset_normalizado.shift(1)) - 1\n",
        "retorno_carteira.head()"
      ],
      "metadata": {
        "colab": {
          "base_uri": "https://localhost:8080/",
          "height": 206
        },
        "id": "3sU-JDma5ES2",
        "outputId": "ad4f075e-7453-4a76-f3de-b8b2d4d33959"
      },
      "execution_count": null,
      "outputs": [
        {
          "output_type": "execute_result",
          "data": {
            "text/plain": [
              "        GOL       CVC      WEGE      MGLU      TOTS      BOVA\n",
              "0       NaN       NaN       NaN       NaN       NaN       NaN\n",
              "1 -0.009340 -0.013158  0.006812  0.018792 -0.030726 -0.019890\n",
              "2  0.024242 -0.013333 -0.014832 -0.013175 -0.062536  0.005613\n",
              "3 -0.043392 -0.008784 -0.011455  0.033380 -0.007071  0.033705\n",
              "4 -0.019244 -0.035447  0.016883 -0.007752  0.023221  0.007477"
            ],
            "text/html": [
              "\n",
              "  <div id=\"df-115d9b2e-28fd-4180-b153-d2494a2c0700\">\n",
              "    <div class=\"colab-df-container\">\n",
              "      <div>\n",
              "<style scoped>\n",
              "    .dataframe tbody tr th:only-of-type {\n",
              "        vertical-align: middle;\n",
              "    }\n",
              "\n",
              "    .dataframe tbody tr th {\n",
              "        vertical-align: top;\n",
              "    }\n",
              "\n",
              "    .dataframe thead th {\n",
              "        text-align: right;\n",
              "    }\n",
              "</style>\n",
              "<table border=\"1\" class=\"dataframe\">\n",
              "  <thead>\n",
              "    <tr style=\"text-align: right;\">\n",
              "      <th></th>\n",
              "      <th>GOL</th>\n",
              "      <th>CVC</th>\n",
              "      <th>WEGE</th>\n",
              "      <th>MGLU</th>\n",
              "      <th>TOTS</th>\n",
              "      <th>BOVA</th>\n",
              "    </tr>\n",
              "  </thead>\n",
              "  <tbody>\n",
              "    <tr>\n",
              "      <th>0</th>\n",
              "      <td>NaN</td>\n",
              "      <td>NaN</td>\n",
              "      <td>NaN</td>\n",
              "      <td>NaN</td>\n",
              "      <td>NaN</td>\n",
              "      <td>NaN</td>\n",
              "    </tr>\n",
              "    <tr>\n",
              "      <th>1</th>\n",
              "      <td>-0.009340</td>\n",
              "      <td>-0.013158</td>\n",
              "      <td>0.006812</td>\n",
              "      <td>0.018792</td>\n",
              "      <td>-0.030726</td>\n",
              "      <td>-0.019890</td>\n",
              "    </tr>\n",
              "    <tr>\n",
              "      <th>2</th>\n",
              "      <td>0.024242</td>\n",
              "      <td>-0.013333</td>\n",
              "      <td>-0.014832</td>\n",
              "      <td>-0.013175</td>\n",
              "      <td>-0.062536</td>\n",
              "      <td>0.005613</td>\n",
              "    </tr>\n",
              "    <tr>\n",
              "      <th>3</th>\n",
              "      <td>-0.043392</td>\n",
              "      <td>-0.008784</td>\n",
              "      <td>-0.011455</td>\n",
              "      <td>0.033380</td>\n",
              "      <td>-0.007071</td>\n",
              "      <td>0.033705</td>\n",
              "    </tr>\n",
              "    <tr>\n",
              "      <th>4</th>\n",
              "      <td>-0.019244</td>\n",
              "      <td>-0.035447</td>\n",
              "      <td>0.016883</td>\n",
              "      <td>-0.007752</td>\n",
              "      <td>0.023221</td>\n",
              "      <td>0.007477</td>\n",
              "    </tr>\n",
              "  </tbody>\n",
              "</table>\n",
              "</div>\n",
              "      <button class=\"colab-df-convert\" onclick=\"convertToInteractive('df-115d9b2e-28fd-4180-b153-d2494a2c0700')\"\n",
              "              title=\"Convert this dataframe to an interactive table.\"\n",
              "              style=\"display:none;\">\n",
              "        \n",
              "  <svg xmlns=\"http://www.w3.org/2000/svg\" height=\"24px\"viewBox=\"0 0 24 24\"\n",
              "       width=\"24px\">\n",
              "    <path d=\"M0 0h24v24H0V0z\" fill=\"none\"/>\n",
              "    <path d=\"M18.56 5.44l.94 2.06.94-2.06 2.06-.94-2.06-.94-.94-2.06-.94 2.06-2.06.94zm-11 1L8.5 8.5l.94-2.06 2.06-.94-2.06-.94L8.5 2.5l-.94 2.06-2.06.94zm10 10l.94 2.06.94-2.06 2.06-.94-2.06-.94-.94-2.06-.94 2.06-2.06.94z\"/><path d=\"M17.41 7.96l-1.37-1.37c-.4-.4-.92-.59-1.43-.59-.52 0-1.04.2-1.43.59L10.3 9.45l-7.72 7.72c-.78.78-.78 2.05 0 2.83L4 21.41c.39.39.9.59 1.41.59.51 0 1.02-.2 1.41-.59l7.78-7.78 2.81-2.81c.8-.78.8-2.07 0-2.86zM5.41 20L4 18.59l7.72-7.72 1.47 1.35L5.41 20z\"/>\n",
              "  </svg>\n",
              "      </button>\n",
              "      \n",
              "  <style>\n",
              "    .colab-df-container {\n",
              "      display:flex;\n",
              "      flex-wrap:wrap;\n",
              "      gap: 12px;\n",
              "    }\n",
              "\n",
              "    .colab-df-convert {\n",
              "      background-color: #E8F0FE;\n",
              "      border: none;\n",
              "      border-radius: 50%;\n",
              "      cursor: pointer;\n",
              "      display: none;\n",
              "      fill: #1967D2;\n",
              "      height: 32px;\n",
              "      padding: 0 0 0 0;\n",
              "      width: 32px;\n",
              "    }\n",
              "\n",
              "    .colab-df-convert:hover {\n",
              "      background-color: #E2EBFA;\n",
              "      box-shadow: 0px 1px 2px rgba(60, 64, 67, 0.3), 0px 1px 3px 1px rgba(60, 64, 67, 0.15);\n",
              "      fill: #174EA6;\n",
              "    }\n",
              "\n",
              "    [theme=dark] .colab-df-convert {\n",
              "      background-color: #3B4455;\n",
              "      fill: #D2E3FC;\n",
              "    }\n",
              "\n",
              "    [theme=dark] .colab-df-convert:hover {\n",
              "      background-color: #434B5C;\n",
              "      box-shadow: 0px 1px 3px 1px rgba(0, 0, 0, 0.15);\n",
              "      filter: drop-shadow(0px 1px 2px rgba(0, 0, 0, 0.3));\n",
              "      fill: #FFFFFF;\n",
              "    }\n",
              "  </style>\n",
              "\n",
              "      <script>\n",
              "        const buttonEl =\n",
              "          document.querySelector('#df-115d9b2e-28fd-4180-b153-d2494a2c0700 button.colab-df-convert');\n",
              "        buttonEl.style.display =\n",
              "          google.colab.kernel.accessAllowed ? 'block' : 'none';\n",
              "\n",
              "        async function convertToInteractive(key) {\n",
              "          const element = document.querySelector('#df-115d9b2e-28fd-4180-b153-d2494a2c0700');\n",
              "          const dataTable =\n",
              "            await google.colab.kernel.invokeFunction('convertToInteractive',\n",
              "                                                     [key], {});\n",
              "          if (!dataTable) return;\n",
              "\n",
              "          const docLinkHtml = 'Like what you see? Visit the ' +\n",
              "            '<a target=\"_blank\" href=https://colab.research.google.com/notebooks/data_table.ipynb>data table notebook</a>'\n",
              "            + ' to learn more about interactive tables.';\n",
              "          element.innerHTML = '';\n",
              "          dataTable['output_type'] = 'display_data';\n",
              "          await google.colab.output.renderOutput(dataTable, element);\n",
              "          const docLink = document.createElement('div');\n",
              "          docLink.innerHTML = docLinkHtml;\n",
              "          element.appendChild(docLink);\n",
              "        }\n",
              "      </script>\n",
              "    </div>\n",
              "  </div>\n",
              "  "
            ]
          },
          "metadata": {},
          "execution_count": 9
        }
      ]
    },
    {
      "cell_type": "markdown",
      "source": [
        "Retorno Anual\n",
        "\n",
        "Note que são os mesmos valores obtidos anteriormente, quando feito o calculo individual de cada ação"
      ],
      "metadata": {
        "id": "I_GJdIFr8q59"
      }
    },
    {
      "cell_type": "code",
      "source": [
        "retorno_anual = retorno_carteira.mean() * 246\n",
        "retorno_anual"
      ],
      "metadata": {
        "colab": {
          "base_uri": "https://localhost:8080/"
        },
        "id": "NUloprLl5ENd",
        "outputId": "efe3c17e-4c81-47b4-9ee7-b513b194643c"
      },
      "execution_count": null,
      "outputs": [
        {
          "output_type": "execute_result",
          "data": {
            "text/plain": [
              "GOL     0.332390\n",
              "CVC     0.118761\n",
              "WEGE    0.383519\n",
              "MGLU    1.012430\n",
              "TOTS    0.104341\n",
              "BOVA    0.151340\n",
              "dtype: float64"
            ]
          },
          "metadata": {},
          "execution_count": 10
        }
      ]
    },
    {
      "cell_type": "markdown",
      "source": [
        "Em porcentagem:"
      ],
      "metadata": {
        "id": "PpMtRrbB9FhT"
      }
    },
    {
      "cell_type": "code",
      "source": [
        "retorno_anual = retorno_anual * 100\n",
        "retorno_anual"
      ],
      "metadata": {
        "colab": {
          "base_uri": "https://localhost:8080/"
        },
        "id": "3IkyAphF889R",
        "outputId": "a73a5c65-7288-426a-b5ba-d4bd8efc3fc5"
      },
      "execution_count": null,
      "outputs": [
        {
          "output_type": "execute_result",
          "data": {
            "text/plain": [
              "GOL      33.238978\n",
              "CVC      11.876079\n",
              "WEGE     38.351907\n",
              "MGLU    101.242985\n",
              "TOTS     10.434068\n",
              "BOVA     15.133989\n",
              "dtype: float64"
            ]
          },
          "metadata": {},
          "execution_count": 11
        }
      ]
    },
    {
      "cell_type": "markdown",
      "source": [
        "Agora que pegamos os retornos individuais de cada ação, vamos realizar o **Calculo de Retorno da Carteira**"
      ],
      "metadata": {
        "id": "iZSsAUIa-CRn"
      }
    },
    {
      "cell_type": "markdown",
      "source": [
        "Para isso vamos definir o peso de cada ação na carteira. Normalmente esse peso se da pela quantidade de cada ações que a carteira possui.\n",
        "Vamos simular que temos a mesma quantidade de cada ação, logo, cada uma das 5 ações representam 20% da carteira\n",
        "\n",
        "(Nao utilizaremos o BOVA)"
      ],
      "metadata": {
        "id": "j0YBw4b6-emn"
      }
    },
    {
      "cell_type": "code",
      "source": [
        "pesos_carteira1 = np.array([0.2, 0.2, 0.2, 0.2, 0.2, 0.0])"
      ],
      "metadata": {
        "id": "97SQSrHZ_b0Y"
      },
      "execution_count": null,
      "outputs": []
    },
    {
      "cell_type": "markdown",
      "source": [
        "Lembrando que o somatorio dessa variavel precisar ser 1 (100%):"
      ],
      "metadata": {
        "id": "FbYNxEdOWGZS"
      }
    },
    {
      "cell_type": "code",
      "source": [
        "pesos_carteira1.sum()"
      ],
      "metadata": {
        "colab": {
          "base_uri": "https://localhost:8080/"
        },
        "id": "w_2T2IxjWSk7",
        "outputId": "0b8ef138-538f-4033-9b5c-cb76f7c55216"
      },
      "execution_count": null,
      "outputs": [
        {
          "output_type": "execute_result",
          "data": {
            "text/plain": [
              "1.0"
            ]
          },
          "metadata": {},
          "execution_count": 14
        }
      ]
    },
    {
      "cell_type": "markdown",
      "source": [
        "Para multiplicar os valores com os pesos e fazer o somatorio utilizaremos o funcao do Numpy **dot()** "
      ],
      "metadata": {
        "id": "R970avRfWfER"
      }
    },
    {
      "cell_type": "code",
      "source": [
        "np.dot(retorno_anual, pesos_carteira1)"
      ],
      "metadata": {
        "colab": {
          "base_uri": "https://localhost:8080/"
        },
        "id": "37UaxItxW0pI",
        "outputId": "6eb7ec88-fa00-403c-d084-38970bdd9740"
      },
      "execution_count": null,
      "outputs": [
        {
          "output_type": "execute_result",
          "data": {
            "text/plain": [
              "39.028803339438035"
            ]
          },
          "metadata": {},
          "execution_count": 15
        }
      ]
    },
    {
      "cell_type": "markdown",
      "source": [
        "Com o resultado anterior obtido podemos concluir que ao investir nessas 5 empresas (GOL, CVC, WEGE, MGLU, TOTS) teremos um Retorno Medio Anual de 39%"
      ],
      "metadata": {
        "id": "IdlLfYM3XMJQ"
      }
    },
    {
      "cell_type": "markdown",
      "source": [
        "Vamos ver um exemplo onde as acoes possuem quantidades diferentes na carteira:"
      ],
      "metadata": {
        "id": "B4C15LT_Zwau"
      }
    },
    {
      "cell_type": "code",
      "source": [
        "pesos_carteira2 = np.array([0.1, 0.2, 0.2, 0.4, 0.1, 0.0])"
      ],
      "metadata": {
        "id": "V8yy7pvlZ_hq"
      },
      "execution_count": null,
      "outputs": []
    },
    {
      "cell_type": "code",
      "source": [
        "np.dot(retorno_anual, pesos_carteira2)"
      ],
      "metadata": {
        "colab": {
          "base_uri": "https://localhost:8080/"
        },
        "id": "w9Gn7n1xack2",
        "outputId": "bd9dd18e-0581-421e-856f-b5b16a906193"
      },
      "execution_count": null,
      "outputs": [
        {
          "output_type": "execute_result",
          "data": {
            "text/plain": [
              "54.91009567500561"
            ]
          },
          "metadata": {},
          "execution_count": 17
        }
      ]
    },
    {
      "cell_type": "markdown",
      "source": [
        "Note que agora obtivemos uma Taxa Anual de Retorno de 54%"
      ],
      "metadata": {
        "id": "y89sisoIatGz"
      }
    },
    {
      "cell_type": "markdown",
      "source": [
        "## Gráfico de carteira x BOVA"
      ],
      "metadata": {
        "id": "DJofnQZa6Jt7"
      }
    },
    {
      "cell_type": "markdown",
      "source": [
        "Agora vamos comparar o valor da nossa carteira, com o valor da BOVA"
      ],
      "metadata": {
        "id": "KleK1kNQdHLn"
      }
    },
    {
      "cell_type": "code",
      "source": [
        "dataset = pd.read_csv(\"acoes.csv\")"
      ],
      "metadata": {
        "id": "DYpLx-4sWzG4"
      },
      "execution_count": null,
      "outputs": []
    },
    {
      "cell_type": "code",
      "source": [
        "dataset_normalizado = dataset.copy()\n",
        "for i in dataset_normalizado.columns[1:]:\n",
        "  dataset_normalizado[i] = (dataset_normalizado[i] / dataset_normalizado[i][0])\n",
        "dataset_normalizado.head()\n"
      ],
      "metadata": {
        "colab": {
          "base_uri": "https://localhost:8080/",
          "height": 206
        },
        "id": "d0RJhnPLcQhK",
        "outputId": "d7dbb31a-1a7c-49b7-e798-69b98cbc3e85"
      },
      "execution_count": null,
      "outputs": [
        {
          "output_type": "execute_result",
          "data": {
            "text/plain": [
              "         Date       GOL       CVC      WEGE      MGLU      TOTS      BOVA\n",
              "0  2015-01-02  1.000000  1.000000  1.000000  1.000000  1.000000  1.000000\n",
              "1  2015-01-05  0.990660  0.986842  1.006812  1.018792  0.969274  0.980110\n",
              "2  2015-01-06  1.014676  0.973684  0.991879  1.005369  0.908659  0.985612\n",
              "3  2015-01-07  0.970647  0.965132  0.980517  1.038928  0.902234  1.018832\n",
              "4  2015-01-08  0.951968  0.930921  0.997071  1.030875  0.923184  1.026449"
            ],
            "text/html": [
              "\n",
              "  <div id=\"df-95a3c9ef-b568-4ece-bef7-119b87c2953f\">\n",
              "    <div class=\"colab-df-container\">\n",
              "      <div>\n",
              "<style scoped>\n",
              "    .dataframe tbody tr th:only-of-type {\n",
              "        vertical-align: middle;\n",
              "    }\n",
              "\n",
              "    .dataframe tbody tr th {\n",
              "        vertical-align: top;\n",
              "    }\n",
              "\n",
              "    .dataframe thead th {\n",
              "        text-align: right;\n",
              "    }\n",
              "</style>\n",
              "<table border=\"1\" class=\"dataframe\">\n",
              "  <thead>\n",
              "    <tr style=\"text-align: right;\">\n",
              "      <th></th>\n",
              "      <th>Date</th>\n",
              "      <th>GOL</th>\n",
              "      <th>CVC</th>\n",
              "      <th>WEGE</th>\n",
              "      <th>MGLU</th>\n",
              "      <th>TOTS</th>\n",
              "      <th>BOVA</th>\n",
              "    </tr>\n",
              "  </thead>\n",
              "  <tbody>\n",
              "    <tr>\n",
              "      <th>0</th>\n",
              "      <td>2015-01-02</td>\n",
              "      <td>1.000000</td>\n",
              "      <td>1.000000</td>\n",
              "      <td>1.000000</td>\n",
              "      <td>1.000000</td>\n",
              "      <td>1.000000</td>\n",
              "      <td>1.000000</td>\n",
              "    </tr>\n",
              "    <tr>\n",
              "      <th>1</th>\n",
              "      <td>2015-01-05</td>\n",
              "      <td>0.990660</td>\n",
              "      <td>0.986842</td>\n",
              "      <td>1.006812</td>\n",
              "      <td>1.018792</td>\n",
              "      <td>0.969274</td>\n",
              "      <td>0.980110</td>\n",
              "    </tr>\n",
              "    <tr>\n",
              "      <th>2</th>\n",
              "      <td>2015-01-06</td>\n",
              "      <td>1.014676</td>\n",
              "      <td>0.973684</td>\n",
              "      <td>0.991879</td>\n",
              "      <td>1.005369</td>\n",
              "      <td>0.908659</td>\n",
              "      <td>0.985612</td>\n",
              "    </tr>\n",
              "    <tr>\n",
              "      <th>3</th>\n",
              "      <td>2015-01-07</td>\n",
              "      <td>0.970647</td>\n",
              "      <td>0.965132</td>\n",
              "      <td>0.980517</td>\n",
              "      <td>1.038928</td>\n",
              "      <td>0.902234</td>\n",
              "      <td>1.018832</td>\n",
              "    </tr>\n",
              "    <tr>\n",
              "      <th>4</th>\n",
              "      <td>2015-01-08</td>\n",
              "      <td>0.951968</td>\n",
              "      <td>0.930921</td>\n",
              "      <td>0.997071</td>\n",
              "      <td>1.030875</td>\n",
              "      <td>0.923184</td>\n",
              "      <td>1.026449</td>\n",
              "    </tr>\n",
              "  </tbody>\n",
              "</table>\n",
              "</div>\n",
              "      <button class=\"colab-df-convert\" onclick=\"convertToInteractive('df-95a3c9ef-b568-4ece-bef7-119b87c2953f')\"\n",
              "              title=\"Convert this dataframe to an interactive table.\"\n",
              "              style=\"display:none;\">\n",
              "        \n",
              "  <svg xmlns=\"http://www.w3.org/2000/svg\" height=\"24px\"viewBox=\"0 0 24 24\"\n",
              "       width=\"24px\">\n",
              "    <path d=\"M0 0h24v24H0V0z\" fill=\"none\"/>\n",
              "    <path d=\"M18.56 5.44l.94 2.06.94-2.06 2.06-.94-2.06-.94-.94-2.06-.94 2.06-2.06.94zm-11 1L8.5 8.5l.94-2.06 2.06-.94-2.06-.94L8.5 2.5l-.94 2.06-2.06.94zm10 10l.94 2.06.94-2.06 2.06-.94-2.06-.94-.94-2.06-.94 2.06-2.06.94z\"/><path d=\"M17.41 7.96l-1.37-1.37c-.4-.4-.92-.59-1.43-.59-.52 0-1.04.2-1.43.59L10.3 9.45l-7.72 7.72c-.78.78-.78 2.05 0 2.83L4 21.41c.39.39.9.59 1.41.59.51 0 1.02-.2 1.41-.59l7.78-7.78 2.81-2.81c.8-.78.8-2.07 0-2.86zM5.41 20L4 18.59l7.72-7.72 1.47 1.35L5.41 20z\"/>\n",
              "  </svg>\n",
              "      </button>\n",
              "      \n",
              "  <style>\n",
              "    .colab-df-container {\n",
              "      display:flex;\n",
              "      flex-wrap:wrap;\n",
              "      gap: 12px;\n",
              "    }\n",
              "\n",
              "    .colab-df-convert {\n",
              "      background-color: #E8F0FE;\n",
              "      border: none;\n",
              "      border-radius: 50%;\n",
              "      cursor: pointer;\n",
              "      display: none;\n",
              "      fill: #1967D2;\n",
              "      height: 32px;\n",
              "      padding: 0 0 0 0;\n",
              "      width: 32px;\n",
              "    }\n",
              "\n",
              "    .colab-df-convert:hover {\n",
              "      background-color: #E2EBFA;\n",
              "      box-shadow: 0px 1px 2px rgba(60, 64, 67, 0.3), 0px 1px 3px 1px rgba(60, 64, 67, 0.15);\n",
              "      fill: #174EA6;\n",
              "    }\n",
              "\n",
              "    [theme=dark] .colab-df-convert {\n",
              "      background-color: #3B4455;\n",
              "      fill: #D2E3FC;\n",
              "    }\n",
              "\n",
              "    [theme=dark] .colab-df-convert:hover {\n",
              "      background-color: #434B5C;\n",
              "      box-shadow: 0px 1px 3px 1px rgba(0, 0, 0, 0.15);\n",
              "      filter: drop-shadow(0px 1px 2px rgba(0, 0, 0, 0.3));\n",
              "      fill: #FFFFFF;\n",
              "    }\n",
              "  </style>\n",
              "\n",
              "      <script>\n",
              "        const buttonEl =\n",
              "          document.querySelector('#df-95a3c9ef-b568-4ece-bef7-119b87c2953f button.colab-df-convert');\n",
              "        buttonEl.style.display =\n",
              "          google.colab.kernel.accessAllowed ? 'block' : 'none';\n",
              "\n",
              "        async function convertToInteractive(key) {\n",
              "          const element = document.querySelector('#df-95a3c9ef-b568-4ece-bef7-119b87c2953f');\n",
              "          const dataTable =\n",
              "            await google.colab.kernel.invokeFunction('convertToInteractive',\n",
              "                                                     [key], {});\n",
              "          if (!dataTable) return;\n",
              "\n",
              "          const docLinkHtml = 'Like what you see? Visit the ' +\n",
              "            '<a target=\"_blank\" href=https://colab.research.google.com/notebooks/data_table.ipynb>data table notebook</a>'\n",
              "            + ' to learn more about interactive tables.';\n",
              "          element.innerHTML = '';\n",
              "          dataTable['output_type'] = 'display_data';\n",
              "          await google.colab.output.renderOutput(dataTable, element);\n",
              "          const docLink = document.createElement('div');\n",
              "          docLink.innerHTML = docLinkHtml;\n",
              "          element.appendChild(docLink);\n",
              "        }\n",
              "      </script>\n",
              "    </div>\n",
              "  </div>\n",
              "  "
            ]
          },
          "metadata": {},
          "execution_count": 19
        }
      ]
    },
    {
      "cell_type": "markdown",
      "source": [
        "Criando uma nova coluna com a Media dos valores:"
      ],
      "metadata": {
        "id": "QbdkC7eseAQ7"
      }
    },
    {
      "cell_type": "code",
      "source": [
        "dataset_normalizado['CARTEIRA'] = (dataset_normalizado['GOL'] + dataset_normalizado['CVC'] + \n",
        "                                   dataset_normalizado['WEGE'] + dataset_normalizado['MGLU'] + \n",
        "                                   dataset_normalizado['TOTS']) / 5\n",
        "dataset_normalizado.head()"
      ],
      "metadata": {
        "colab": {
          "base_uri": "https://localhost:8080/",
          "height": 206
        },
        "id": "xf7vl2ZWcxHY",
        "outputId": "b29fb6c5-bcb9-4662-d7ad-3233cb6815b9"
      },
      "execution_count": null,
      "outputs": [
        {
          "output_type": "execute_result",
          "data": {
            "text/plain": [
              "         Date       GOL       CVC      WEGE      MGLU      TOTS      BOVA  \\\n",
              "0  2015-01-02  1.000000  1.000000  1.000000  1.000000  1.000000  1.000000   \n",
              "1  2015-01-05  0.990660  0.986842  1.006812  1.018792  0.969274  0.980110   \n",
              "2  2015-01-06  1.014676  0.973684  0.991879  1.005369  0.908659  0.985612   \n",
              "3  2015-01-07  0.970647  0.965132  0.980517  1.038928  0.902234  1.018832   \n",
              "4  2015-01-08  0.951968  0.930921  0.997071  1.030875  0.923184  1.026449   \n",
              "\n",
              "   CARTEIRA  \n",
              "0  1.000000  \n",
              "1  0.994476  \n",
              "2  0.978854  \n",
              "3  0.971492  \n",
              "4  0.966804  "
            ],
            "text/html": [
              "\n",
              "  <div id=\"df-84684d02-637c-4caf-a1cd-63a5238ac0d3\">\n",
              "    <div class=\"colab-df-container\">\n",
              "      <div>\n",
              "<style scoped>\n",
              "    .dataframe tbody tr th:only-of-type {\n",
              "        vertical-align: middle;\n",
              "    }\n",
              "\n",
              "    .dataframe tbody tr th {\n",
              "        vertical-align: top;\n",
              "    }\n",
              "\n",
              "    .dataframe thead th {\n",
              "        text-align: right;\n",
              "    }\n",
              "</style>\n",
              "<table border=\"1\" class=\"dataframe\">\n",
              "  <thead>\n",
              "    <tr style=\"text-align: right;\">\n",
              "      <th></th>\n",
              "      <th>Date</th>\n",
              "      <th>GOL</th>\n",
              "      <th>CVC</th>\n",
              "      <th>WEGE</th>\n",
              "      <th>MGLU</th>\n",
              "      <th>TOTS</th>\n",
              "      <th>BOVA</th>\n",
              "      <th>CARTEIRA</th>\n",
              "    </tr>\n",
              "  </thead>\n",
              "  <tbody>\n",
              "    <tr>\n",
              "      <th>0</th>\n",
              "      <td>2015-01-02</td>\n",
              "      <td>1.000000</td>\n",
              "      <td>1.000000</td>\n",
              "      <td>1.000000</td>\n",
              "      <td>1.000000</td>\n",
              "      <td>1.000000</td>\n",
              "      <td>1.000000</td>\n",
              "      <td>1.000000</td>\n",
              "    </tr>\n",
              "    <tr>\n",
              "      <th>1</th>\n",
              "      <td>2015-01-05</td>\n",
              "      <td>0.990660</td>\n",
              "      <td>0.986842</td>\n",
              "      <td>1.006812</td>\n",
              "      <td>1.018792</td>\n",
              "      <td>0.969274</td>\n",
              "      <td>0.980110</td>\n",
              "      <td>0.994476</td>\n",
              "    </tr>\n",
              "    <tr>\n",
              "      <th>2</th>\n",
              "      <td>2015-01-06</td>\n",
              "      <td>1.014676</td>\n",
              "      <td>0.973684</td>\n",
              "      <td>0.991879</td>\n",
              "      <td>1.005369</td>\n",
              "      <td>0.908659</td>\n",
              "      <td>0.985612</td>\n",
              "      <td>0.978854</td>\n",
              "    </tr>\n",
              "    <tr>\n",
              "      <th>3</th>\n",
              "      <td>2015-01-07</td>\n",
              "      <td>0.970647</td>\n",
              "      <td>0.965132</td>\n",
              "      <td>0.980517</td>\n",
              "      <td>1.038928</td>\n",
              "      <td>0.902234</td>\n",
              "      <td>1.018832</td>\n",
              "      <td>0.971492</td>\n",
              "    </tr>\n",
              "    <tr>\n",
              "      <th>4</th>\n",
              "      <td>2015-01-08</td>\n",
              "      <td>0.951968</td>\n",
              "      <td>0.930921</td>\n",
              "      <td>0.997071</td>\n",
              "      <td>1.030875</td>\n",
              "      <td>0.923184</td>\n",
              "      <td>1.026449</td>\n",
              "      <td>0.966804</td>\n",
              "    </tr>\n",
              "  </tbody>\n",
              "</table>\n",
              "</div>\n",
              "      <button class=\"colab-df-convert\" onclick=\"convertToInteractive('df-84684d02-637c-4caf-a1cd-63a5238ac0d3')\"\n",
              "              title=\"Convert this dataframe to an interactive table.\"\n",
              "              style=\"display:none;\">\n",
              "        \n",
              "  <svg xmlns=\"http://www.w3.org/2000/svg\" height=\"24px\"viewBox=\"0 0 24 24\"\n",
              "       width=\"24px\">\n",
              "    <path d=\"M0 0h24v24H0V0z\" fill=\"none\"/>\n",
              "    <path d=\"M18.56 5.44l.94 2.06.94-2.06 2.06-.94-2.06-.94-.94-2.06-.94 2.06-2.06.94zm-11 1L8.5 8.5l.94-2.06 2.06-.94-2.06-.94L8.5 2.5l-.94 2.06-2.06.94zm10 10l.94 2.06.94-2.06 2.06-.94-2.06-.94-.94-2.06-.94 2.06-2.06.94z\"/><path d=\"M17.41 7.96l-1.37-1.37c-.4-.4-.92-.59-1.43-.59-.52 0-1.04.2-1.43.59L10.3 9.45l-7.72 7.72c-.78.78-.78 2.05 0 2.83L4 21.41c.39.39.9.59 1.41.59.51 0 1.02-.2 1.41-.59l7.78-7.78 2.81-2.81c.8-.78.8-2.07 0-2.86zM5.41 20L4 18.59l7.72-7.72 1.47 1.35L5.41 20z\"/>\n",
              "  </svg>\n",
              "      </button>\n",
              "      \n",
              "  <style>\n",
              "    .colab-df-container {\n",
              "      display:flex;\n",
              "      flex-wrap:wrap;\n",
              "      gap: 12px;\n",
              "    }\n",
              "\n",
              "    .colab-df-convert {\n",
              "      background-color: #E8F0FE;\n",
              "      border: none;\n",
              "      border-radius: 50%;\n",
              "      cursor: pointer;\n",
              "      display: none;\n",
              "      fill: #1967D2;\n",
              "      height: 32px;\n",
              "      padding: 0 0 0 0;\n",
              "      width: 32px;\n",
              "    }\n",
              "\n",
              "    .colab-df-convert:hover {\n",
              "      background-color: #E2EBFA;\n",
              "      box-shadow: 0px 1px 2px rgba(60, 64, 67, 0.3), 0px 1px 3px 1px rgba(60, 64, 67, 0.15);\n",
              "      fill: #174EA6;\n",
              "    }\n",
              "\n",
              "    [theme=dark] .colab-df-convert {\n",
              "      background-color: #3B4455;\n",
              "      fill: #D2E3FC;\n",
              "    }\n",
              "\n",
              "    [theme=dark] .colab-df-convert:hover {\n",
              "      background-color: #434B5C;\n",
              "      box-shadow: 0px 1px 3px 1px rgba(0, 0, 0, 0.15);\n",
              "      filter: drop-shadow(0px 1px 2px rgba(0, 0, 0, 0.3));\n",
              "      fill: #FFFFFF;\n",
              "    }\n",
              "  </style>\n",
              "\n",
              "      <script>\n",
              "        const buttonEl =\n",
              "          document.querySelector('#df-84684d02-637c-4caf-a1cd-63a5238ac0d3 button.colab-df-convert');\n",
              "        buttonEl.style.display =\n",
              "          google.colab.kernel.accessAllowed ? 'block' : 'none';\n",
              "\n",
              "        async function convertToInteractive(key) {\n",
              "          const element = document.querySelector('#df-84684d02-637c-4caf-a1cd-63a5238ac0d3');\n",
              "          const dataTable =\n",
              "            await google.colab.kernel.invokeFunction('convertToInteractive',\n",
              "                                                     [key], {});\n",
              "          if (!dataTable) return;\n",
              "\n",
              "          const docLinkHtml = 'Like what you see? Visit the ' +\n",
              "            '<a target=\"_blank\" href=https://colab.research.google.com/notebooks/data_table.ipynb>data table notebook</a>'\n",
              "            + ' to learn more about interactive tables.';\n",
              "          element.innerHTML = '';\n",
              "          dataTable['output_type'] = 'display_data';\n",
              "          await google.colab.output.renderOutput(dataTable, element);\n",
              "          const docLink = document.createElement('div');\n",
              "          docLink.innerHTML = docLinkHtml;\n",
              "          element.appendChild(docLink);\n",
              "        }\n",
              "      </script>\n",
              "    </div>\n",
              "  </div>\n",
              "  "
            ]
          },
          "metadata": {},
          "execution_count": 21
        }
      ]
    },
    {
      "cell_type": "markdown",
      "source": [
        "Vamos representar em um grafico interativo:"
      ],
      "metadata": {
        "id": "rvFh6y28eH1j"
      }
    },
    {
      "cell_type": "code",
      "source": [
        "figura = px.line(title='Comparativo Carteira vs BOVA')\n",
        "for i in dataset_normalizado.columns[1:]:\n",
        "  figura.add_scatter(x=dataset_normalizado['Date'], y=dataset_normalizado[i], name=i)\n",
        "figura.show()"
      ],
      "metadata": {
        "colab": {
          "base_uri": "https://localhost:8080/",
          "height": 542
        },
        "id": "HTxRwYI4d5aC",
        "outputId": "59885165-b8c1-49e7-da45-c05d0e16f6f5"
      },
      "execution_count": null,
      "outputs": [
        {
          "output_type": "display_data",
          "data": {
            "text/html": [
              "<html>\n",
              "<head><meta charset=\"utf-8\" /></head>\n",
              "<body>\n",
              "    <div>            <script src=\"https://cdnjs.cloudflare.com/ajax/libs/mathjax/2.7.5/MathJax.js?config=TeX-AMS-MML_SVG\"></script><script type=\"text/javascript\">if (window.MathJax) {MathJax.Hub.Config({SVG: {font: \"STIX-Web\"}});}</script>                <script type=\"text/javascript\">window.PlotlyConfig = {MathJaxConfig: 'local'};</script>\n",
              "        <script src=\"https://cdn.plot.ly/plotly-2.8.3.min.js\"></script>                <div id=\"e91120b1-c772-488b-b15f-ed4890298258\" class=\"plotly-graph-div\" style=\"height:525px; width:100%;\"></div>            <script type=\"text/javascript\">                                    window.PLOTLYENV=window.PLOTLYENV || {};                                    if (document.getElementById(\"e91120b1-c772-488b-b15f-ed4890298258\")) {                    Plotly.newPlot(                        \"e91120b1-c772-488b-b15f-ed4890298258\",                        [{\"name\":\"GOL\",\"x\":[\"2015-01-02\",\"2015-01-05\",\"2015-01-06\",\"2015-01-07\",\"2015-01-08\",\"2015-01-09\",\"2015-01-12\",\"2015-01-13\",\"2015-01-14\",\"2015-01-15\",\"2015-01-16\",\"2015-01-19\",\"2015-01-20\",\"2015-01-21\",\"2015-01-22\",\"2015-01-23\",\"2015-01-26\",\"2015-01-27\",\"2015-01-28\",\"2015-01-29\",\"2015-01-30\",\"2015-02-02\",\"2015-02-03\",\"2015-02-04\",\"2015-02-05\",\"2015-02-06\",\"2015-02-09\",\"2015-02-10\",\"2015-02-11\",\"2015-02-12\",\"2015-02-13\",\"2015-02-18\",\"2015-02-19\",\"2015-02-20\",\"2015-02-23\",\"2015-02-24\",\"2015-02-25\",\"2015-02-26\",\"2015-02-27\",\"2015-03-02\",\"2015-03-03\",\"2015-03-04\",\"2015-03-05\",\"2015-03-06\",\"2015-03-09\",\"2015-03-10\",\"2015-03-11\",\"2015-03-12\",\"2015-03-13\",\"2015-03-16\",\"2015-03-17\",\"2015-03-18\",\"2015-03-19\",\"2015-03-20\",\"2015-03-23\",\"2015-03-24\",\"2015-03-25\",\"2015-03-26\",\"2015-03-27\",\"2015-03-30\",\"2015-03-31\",\"2015-04-01\",\"2015-04-02\",\"2015-04-06\",\"2015-04-07\",\"2015-04-08\",\"2015-04-09\",\"2015-04-10\",\"2015-04-13\",\"2015-04-14\",\"2015-04-15\",\"2015-04-16\",\"2015-04-17\",\"2015-04-20\",\"2015-04-22\",\"2015-04-23\",\"2015-04-24\",\"2015-04-27\",\"2015-04-28\",\"2015-04-29\",\"2015-04-30\",\"2015-05-04\",\"2015-05-05\",\"2015-05-06\",\"2015-05-07\",\"2015-05-08\",\"2015-05-11\",\"2015-05-12\",\"2015-05-13\",\"2015-05-14\",\"2015-05-15\",\"2015-05-18\",\"2015-05-19\",\"2015-05-20\",\"2015-05-21\",\"2015-05-22\",\"2015-05-25\",\"2015-05-26\",\"2015-05-27\",\"2015-05-28\",\"2015-05-29\",\"2015-06-01\",\"2015-06-02\",\"2015-06-03\",\"2015-06-05\",\"2015-06-08\",\"2015-06-09\",\"2015-06-10\",\"2015-06-11\",\"2015-06-12\",\"2015-06-15\",\"2015-06-16\",\"2015-06-17\",\"2015-06-18\",\"2015-06-19\",\"2015-06-22\",\"2015-06-23\",\"2015-06-24\",\"2015-06-25\",\"2015-06-26\",\"2015-06-29\",\"2015-06-30\",\"2015-07-01\",\"2015-07-02\",\"2015-07-03\",\"2015-07-06\",\"2015-07-07\",\"2015-07-08\",\"2015-07-10\",\"2015-07-13\",\"2015-07-14\",\"2015-07-15\",\"2015-07-16\",\"2015-07-17\",\"2015-07-20\",\"2015-07-21\",\"2015-07-22\",\"2015-07-23\",\"2015-07-24\",\"2015-07-27\",\"2015-07-28\",\"2015-07-29\",\"2015-07-30\",\"2015-07-31\",\"2015-08-03\",\"2015-08-04\",\"2015-08-05\",\"2015-08-06\",\"2015-08-07\",\"2015-08-10\",\"2015-08-11\",\"2015-08-12\",\"2015-08-13\",\"2015-08-14\",\"2015-08-17\",\"2015-08-18\",\"2015-08-19\",\"2015-08-20\",\"2015-08-21\",\"2015-08-24\",\"2015-08-25\",\"2015-08-26\",\"2015-08-27\",\"2015-08-28\",\"2015-08-31\",\"2015-09-01\",\"2015-09-02\",\"2015-09-03\",\"2015-09-04\",\"2015-09-08\",\"2015-09-09\",\"2015-09-10\",\"2015-09-11\",\"2015-09-14\",\"2015-09-15\",\"2015-09-16\",\"2015-09-17\",\"2015-09-18\",\"2015-09-21\",\"2015-09-22\",\"2015-09-23\",\"2015-09-24\",\"2015-09-25\",\"2015-09-28\",\"2015-09-29\",\"2015-09-30\",\"2015-10-01\",\"2015-10-02\",\"2015-10-05\",\"2015-10-06\",\"2015-10-07\",\"2015-10-08\",\"2015-10-09\",\"2015-10-13\",\"2015-10-14\",\"2015-10-15\",\"2015-10-16\",\"2015-10-19\",\"2015-10-20\",\"2015-10-21\",\"2015-10-22\",\"2015-10-23\",\"2015-10-26\",\"2015-10-27\",\"2015-10-28\",\"2015-10-29\",\"2015-10-30\",\"2015-11-03\",\"2015-11-04\",\"2015-11-05\",\"2015-11-06\",\"2015-11-09\",\"2015-11-10\",\"2015-11-11\",\"2015-11-12\",\"2015-11-13\",\"2015-11-16\",\"2015-11-17\",\"2015-11-18\",\"2015-11-19\",\"2015-11-23\",\"2015-11-24\",\"2015-11-25\",\"2015-11-26\",\"2015-11-27\",\"2015-11-30\",\"2015-12-01\",\"2015-12-02\",\"2015-12-03\",\"2015-12-04\",\"2015-12-07\",\"2015-12-08\",\"2015-12-09\",\"2015-12-10\",\"2015-12-11\",\"2015-12-14\",\"2015-12-15\",\"2015-12-16\",\"2015-12-17\",\"2015-12-18\",\"2015-12-21\",\"2015-12-22\",\"2015-12-23\",\"2015-12-28\",\"2015-12-29\",\"2015-12-30\",\"2016-01-04\",\"2016-01-05\",\"2016-01-06\",\"2016-01-07\",\"2016-01-08\",\"2016-01-11\",\"2016-01-12\",\"2016-01-13\",\"2016-01-14\",\"2016-01-15\",\"2016-01-18\",\"2016-01-19\",\"2016-01-20\",\"2016-01-21\",\"2016-01-22\",\"2016-01-26\",\"2016-01-27\",\"2016-01-28\",\"2016-01-29\",\"2016-02-01\",\"2016-02-02\",\"2016-02-03\",\"2016-02-04\",\"2016-02-05\",\"2016-02-10\",\"2016-02-11\",\"2016-02-12\",\"2016-02-15\",\"2016-02-16\",\"2016-02-17\",\"2016-02-18\",\"2016-02-19\",\"2016-02-22\",\"2016-02-23\",\"2016-02-24\",\"2016-02-25\",\"2016-02-26\",\"2016-02-29\",\"2016-03-01\",\"2016-03-02\",\"2016-03-03\",\"2016-03-04\",\"2016-03-07\",\"2016-03-08\",\"2016-03-09\",\"2016-03-10\",\"2016-03-11\",\"2016-03-14\",\"2016-03-15\",\"2016-03-16\",\"2016-03-17\",\"2016-03-18\",\"2016-03-21\",\"2016-03-22\",\"2016-03-23\",\"2016-03-24\",\"2016-03-28\",\"2016-03-29\",\"2016-03-30\",\"2016-03-31\",\"2016-04-01\",\"2016-04-04\",\"2016-04-05\",\"2016-04-06\",\"2016-04-07\",\"2016-04-08\",\"2016-04-11\",\"2016-04-12\",\"2016-04-13\",\"2016-04-14\",\"2016-04-15\",\"2016-04-18\",\"2016-04-19\",\"2016-04-20\",\"2016-04-22\",\"2016-04-25\",\"2016-04-26\",\"2016-04-27\",\"2016-04-28\",\"2016-04-29\",\"2016-05-02\",\"2016-05-03\",\"2016-05-04\",\"2016-05-05\",\"2016-05-06\",\"2016-05-09\",\"2016-05-10\",\"2016-05-11\",\"2016-05-12\",\"2016-05-13\",\"2016-05-16\",\"2016-05-17\",\"2016-05-18\",\"2016-05-19\",\"2016-05-20\",\"2016-05-23\",\"2016-05-24\",\"2016-05-25\",\"2016-05-27\",\"2016-05-30\",\"2016-05-31\",\"2016-06-01\",\"2016-06-02\",\"2016-06-03\",\"2016-06-06\",\"2016-06-07\",\"2016-06-08\",\"2016-06-09\",\"2016-06-10\",\"2016-06-13\",\"2016-06-14\",\"2016-06-15\",\"2016-06-16\",\"2016-06-17\",\"2016-06-20\",\"2016-06-21\",\"2016-06-22\",\"2016-06-23\",\"2016-06-24\",\"2016-06-27\",\"2016-06-28\",\"2016-06-29\",\"2016-06-30\",\"2016-07-01\",\"2016-07-04\",\"2016-07-05\",\"2016-07-06\",\"2016-07-07\",\"2016-07-08\",\"2016-07-11\",\"2016-07-12\",\"2016-07-13\",\"2016-07-14\",\"2016-07-15\",\"2016-07-18\",\"2016-07-19\",\"2016-07-20\",\"2016-07-21\",\"2016-07-22\",\"2016-07-25\",\"2016-07-26\",\"2016-07-27\",\"2016-07-28\",\"2016-07-29\",\"2016-08-01\",\"2016-08-02\",\"2016-08-03\",\"2016-08-04\",\"2016-08-05\",\"2016-08-08\",\"2016-08-09\",\"2016-08-10\",\"2016-08-11\",\"2016-08-12\",\"2016-08-15\",\"2016-08-16\",\"2016-08-17\",\"2016-08-18\",\"2016-08-19\",\"2016-08-22\",\"2016-08-23\",\"2016-08-24\",\"2016-08-25\",\"2016-08-26\",\"2016-08-29\",\"2016-08-30\",\"2016-08-31\",\"2016-09-01\",\"2016-09-02\",\"2016-09-05\",\"2016-09-06\",\"2016-09-08\",\"2016-09-09\",\"2016-09-12\",\"2016-09-13\",\"2016-09-14\",\"2016-09-15\",\"2016-09-16\",\"2016-09-19\",\"2016-09-20\",\"2016-09-21\",\"2016-09-22\",\"2016-09-23\",\"2016-09-26\",\"2016-09-27\",\"2016-09-28\",\"2016-09-29\",\"2016-09-30\",\"2016-10-03\",\"2016-10-04\",\"2016-10-05\",\"2016-10-06\",\"2016-10-07\",\"2016-10-10\",\"2016-10-11\",\"2016-10-13\",\"2016-10-14\",\"2016-10-17\",\"2016-10-18\",\"2016-10-19\",\"2016-10-20\",\"2016-10-21\",\"2016-10-24\",\"2016-10-25\",\"2016-10-26\",\"2016-10-27\",\"2016-10-28\",\"2016-10-31\",\"2016-11-01\",\"2016-11-03\",\"2016-11-04\",\"2016-11-07\",\"2016-11-08\",\"2016-11-09\",\"2016-11-10\",\"2016-11-11\",\"2016-11-14\",\"2016-11-16\",\"2016-11-17\",\"2016-11-18\",\"2016-11-21\",\"2016-11-22\",\"2016-11-23\",\"2016-11-24\",\"2016-11-25\",\"2016-11-28\",\"2016-11-29\",\"2016-11-30\",\"2016-12-01\",\"2016-12-02\",\"2016-12-05\",\"2016-12-06\",\"2016-12-07\",\"2016-12-08\",\"2016-12-09\",\"2016-12-12\",\"2016-12-13\",\"2016-12-14\",\"2016-12-15\",\"2016-12-16\",\"2016-12-19\",\"2016-12-20\",\"2016-12-21\",\"2016-12-22\",\"2016-12-23\",\"2016-12-26\",\"2016-12-27\",\"2016-12-28\",\"2016-12-29\",\"2017-01-02\",\"2017-01-03\",\"2017-01-04\",\"2017-01-05\",\"2017-01-06\",\"2017-01-09\",\"2017-01-10\",\"2017-01-11\",\"2017-01-12\",\"2017-01-13\",\"2017-01-16\",\"2017-01-17\",\"2017-01-18\",\"2017-01-19\",\"2017-01-20\",\"2017-01-23\",\"2017-01-24\",\"2017-01-26\",\"2017-01-27\",\"2017-01-30\",\"2017-01-31\",\"2017-02-01\",\"2017-02-02\",\"2017-02-03\",\"2017-02-06\",\"2017-02-07\",\"2017-02-08\",\"2017-02-09\",\"2017-02-10\",\"2017-02-13\",\"2017-02-14\",\"2017-02-15\",\"2017-02-16\",\"2017-02-17\",\"2017-02-20\",\"2017-02-21\",\"2017-02-22\",\"2017-02-23\",\"2017-02-24\",\"2017-03-01\",\"2017-03-02\",\"2017-03-03\",\"2017-03-06\",\"2017-03-07\",\"2017-03-08\",\"2017-03-09\",\"2017-03-10\",\"2017-03-13\",\"2017-03-14\",\"2017-03-15\",\"2017-03-16\",\"2017-03-17\",\"2017-03-20\",\"2017-03-21\",\"2017-03-22\",\"2017-03-23\",\"2017-03-24\",\"2017-03-27\",\"2017-03-28\",\"2017-03-29\",\"2017-03-30\",\"2017-03-31\",\"2017-04-03\",\"2017-04-04\",\"2017-04-05\",\"2017-04-06\",\"2017-04-07\",\"2017-04-10\",\"2017-04-11\",\"2017-04-12\",\"2017-04-13\",\"2017-04-17\",\"2017-04-18\",\"2017-04-19\",\"2017-04-20\",\"2017-04-24\",\"2017-04-25\",\"2017-04-26\",\"2017-04-27\",\"2017-04-28\",\"2017-05-02\",\"2017-05-03\",\"2017-05-04\",\"2017-05-05\",\"2017-05-08\",\"2017-05-09\",\"2017-05-10\",\"2017-05-11\",\"2017-05-12\",\"2017-05-15\",\"2017-05-16\",\"2017-05-17\",\"2017-05-18\",\"2017-05-19\",\"2017-05-22\",\"2017-05-23\",\"2017-05-24\",\"2017-05-25\",\"2017-05-26\",\"2017-05-29\",\"2017-05-30\",\"2017-05-31\",\"2017-06-01\",\"2017-06-02\",\"2017-06-05\",\"2017-06-06\",\"2017-06-07\",\"2017-06-08\",\"2017-06-09\",\"2017-06-12\",\"2017-06-13\",\"2017-06-14\",\"2017-06-15\",\"2017-06-16\",\"2017-06-19\",\"2017-06-20\",\"2017-06-21\",\"2017-06-22\",\"2017-06-23\",\"2017-06-26\",\"2017-06-27\",\"2017-06-28\",\"2017-06-29\",\"2017-06-30\",\"2017-07-03\",\"2017-07-04\",\"2017-07-05\",\"2017-07-06\",\"2017-07-07\",\"2017-07-10\",\"2017-07-11\",\"2017-07-12\",\"2017-07-13\",\"2017-07-14\",\"2017-07-17\",\"2017-07-18\",\"2017-07-19\",\"2017-07-20\",\"2017-07-21\",\"2017-07-24\",\"2017-07-25\",\"2017-07-26\",\"2017-07-27\",\"2017-07-28\",\"2017-07-31\",\"2017-08-01\",\"2017-08-02\",\"2017-08-03\",\"2017-08-04\",\"2017-08-07\",\"2017-08-08\",\"2017-08-09\",\"2017-08-10\",\"2017-08-11\",\"2017-08-14\",\"2017-08-15\",\"2017-08-16\",\"2017-08-17\",\"2017-08-18\",\"2017-08-21\",\"2017-08-22\",\"2017-08-23\",\"2017-08-24\",\"2017-08-25\",\"2017-08-28\",\"2017-08-29\",\"2017-08-30\",\"2017-08-31\",\"2017-09-01\",\"2017-09-04\",\"2017-09-05\",\"2017-09-06\",\"2017-09-07\",\"2017-09-08\",\"2017-09-11\",\"2017-09-12\",\"2017-09-13\",\"2017-09-14\",\"2017-09-15\",\"2017-09-18\",\"2017-09-19\",\"2017-09-20\",\"2017-09-21\",\"2017-09-22\",\"2017-09-25\",\"2017-09-26\",\"2017-09-27\",\"2017-09-28\",\"2017-09-29\",\"2017-10-02\",\"2017-10-03\",\"2017-10-04\",\"2017-10-05\",\"2017-10-06\",\"2017-10-09\",\"2017-10-10\",\"2017-10-11\",\"2017-10-12\",\"2017-10-13\",\"2017-10-16\",\"2017-10-17\",\"2017-10-18\",\"2017-10-19\",\"2017-10-20\",\"2017-10-23\",\"2017-10-24\",\"2017-10-25\",\"2017-10-26\",\"2017-10-27\",\"2017-10-30\",\"2017-10-31\",\"2017-11-01\",\"2017-11-02\",\"2017-11-03\",\"2017-11-06\",\"2017-11-07\",\"2017-11-08\",\"2017-11-09\",\"2017-11-10\",\"2017-11-13\",\"2017-11-14\",\"2017-11-15\",\"2017-11-16\",\"2017-11-17\",\"2017-11-20\",\"2017-11-21\",\"2017-11-22\",\"2017-11-23\",\"2017-11-24\",\"2017-11-27\",\"2017-11-28\",\"2017-11-29\",\"2017-11-30\",\"2017-12-01\",\"2017-12-04\",\"2017-12-05\",\"2017-12-06\",\"2017-12-07\",\"2017-12-08\",\"2017-12-11\",\"2017-12-12\",\"2017-12-13\",\"2017-12-14\",\"2017-12-15\",\"2017-12-18\",\"2017-12-19\",\"2017-12-20\",\"2017-12-21\",\"2017-12-22\",\"2017-12-25\",\"2017-12-26\",\"2017-12-27\",\"2017-12-28\",\"2017-12-29\",\"2018-01-02\",\"2018-01-03\",\"2018-01-04\",\"2018-01-05\",\"2018-01-08\",\"2018-01-09\",\"2018-01-10\",\"2018-01-11\",\"2018-01-12\",\"2018-01-15\",\"2018-01-16\",\"2018-01-17\",\"2018-01-18\",\"2018-01-19\",\"2018-01-22\",\"2018-01-23\",\"2018-01-24\",\"2018-01-25\",\"2018-01-26\",\"2018-01-29\",\"2018-01-30\",\"2018-01-31\",\"2018-02-01\",\"2018-02-02\",\"2018-02-05\",\"2018-02-06\",\"2018-02-07\",\"2018-02-08\",\"2018-02-09\",\"2018-02-15\",\"2018-02-16\",\"2018-02-19\",\"2018-02-20\",\"2018-02-21\",\"2018-02-22\",\"2018-02-23\",\"2018-02-26\",\"2018-02-27\",\"2018-02-28\",\"2018-03-01\",\"2018-03-02\",\"2018-03-05\",\"2018-03-06\",\"2018-03-07\",\"2018-03-08\",\"2018-03-09\",\"2018-03-12\",\"2018-03-13\",\"2018-03-14\",\"2018-03-15\",\"2018-03-16\",\"2018-03-19\",\"2018-03-20\",\"2018-03-21\",\"2018-03-22\",\"2018-03-23\",\"2018-03-26\",\"2018-03-27\",\"2018-03-28\",\"2018-03-29\",\"2018-04-02\",\"2018-04-03\",\"2018-04-04\",\"2018-04-05\",\"2018-04-06\",\"2018-04-09\",\"2018-04-10\",\"2018-04-11\",\"2018-04-12\",\"2018-04-13\",\"2018-04-16\",\"2018-04-17\",\"2018-04-18\",\"2018-04-19\",\"2018-04-20\",\"2018-04-23\",\"2018-04-24\",\"2018-04-25\",\"2018-04-26\",\"2018-04-27\",\"2018-04-30\",\"2018-05-02\",\"2018-05-03\",\"2018-05-04\",\"2018-05-07\",\"2018-05-08\",\"2018-05-09\",\"2018-05-10\",\"2018-05-11\",\"2018-05-14\",\"2018-05-15\",\"2018-05-16\",\"2018-05-17\",\"2018-05-18\",\"2018-05-21\",\"2018-05-22\",\"2018-05-23\",\"2018-05-24\",\"2018-05-25\",\"2018-05-28\",\"2018-05-29\",\"2018-05-30\",\"2018-06-01\",\"2018-06-04\",\"2018-06-05\",\"2018-06-06\",\"2018-06-07\",\"2018-06-08\",\"2018-06-11\",\"2018-06-12\",\"2018-06-13\",\"2018-06-14\",\"2018-06-15\",\"2018-06-18\",\"2018-06-19\",\"2018-06-20\",\"2018-06-21\",\"2018-06-22\",\"2018-06-25\",\"2018-06-26\",\"2018-06-27\",\"2018-06-28\",\"2018-06-29\",\"2018-07-02\",\"2018-07-03\",\"2018-07-04\",\"2018-07-05\",\"2018-07-06\",\"2018-07-10\",\"2018-07-11\",\"2018-07-12\",\"2018-07-13\",\"2018-07-16\",\"2018-07-17\",\"2018-07-18\",\"2018-07-19\",\"2018-07-20\",\"2018-07-23\",\"2018-07-24\",\"2018-07-25\",\"2018-07-26\",\"2018-07-27\",\"2018-07-30\",\"2018-07-31\",\"2018-08-01\",\"2018-08-02\",\"2018-08-03\",\"2018-08-06\",\"2018-08-07\",\"2018-08-08\",\"2018-08-09\",\"2018-08-10\",\"2018-08-13\",\"2018-08-14\",\"2018-08-15\",\"2018-08-16\",\"2018-08-17\",\"2018-08-20\",\"2018-08-21\",\"2018-08-22\",\"2018-08-23\",\"2018-08-24\",\"2018-08-27\",\"2018-08-28\",\"2018-08-29\",\"2018-08-30\",\"2018-08-31\",\"2018-09-03\",\"2018-09-04\",\"2018-09-05\",\"2018-09-06\",\"2018-09-10\",\"2018-09-11\",\"2018-09-12\",\"2018-09-13\",\"2018-09-14\",\"2018-09-17\",\"2018-09-18\",\"2018-09-19\",\"2018-09-20\",\"2018-09-21\",\"2018-09-24\",\"2018-09-25\",\"2018-09-26\",\"2018-09-27\",\"2018-09-28\",\"2018-10-01\",\"2018-10-02\",\"2018-10-03\",\"2018-10-04\",\"2018-10-05\",\"2018-10-08\",\"2018-10-09\",\"2018-10-10\",\"2018-10-11\",\"2018-10-15\",\"2018-10-16\",\"2018-10-17\",\"2018-10-18\",\"2018-10-19\",\"2018-10-22\",\"2018-10-23\",\"2018-10-24\",\"2018-10-25\",\"2018-10-26\",\"2018-10-29\",\"2018-10-30\",\"2018-10-31\",\"2018-11-01\",\"2018-11-05\",\"2018-11-06\",\"2018-11-07\",\"2018-11-08\",\"2018-11-09\",\"2018-11-12\",\"2018-11-13\",\"2018-11-14\",\"2018-11-16\",\"2018-11-19\",\"2018-11-21\",\"2018-11-22\",\"2018-11-23\",\"2018-11-26\",\"2018-11-27\",\"2018-11-28\",\"2018-11-29\",\"2018-11-30\",\"2018-12-03\",\"2018-12-04\",\"2018-12-05\",\"2018-12-06\",\"2018-12-07\",\"2018-12-10\",\"2018-12-11\",\"2018-12-12\",\"2018-12-13\",\"2018-12-14\",\"2018-12-17\",\"2018-12-18\",\"2018-12-19\",\"2018-12-20\",\"2018-12-21\",\"2018-12-26\",\"2018-12-27\",\"2018-12-28\",\"2019-01-02\",\"2019-01-03\",\"2019-01-04\",\"2019-01-07\",\"2019-01-08\",\"2019-01-09\",\"2019-01-10\",\"2019-01-11\",\"2019-01-14\",\"2019-01-15\",\"2019-01-16\",\"2019-01-17\",\"2019-01-18\",\"2019-01-21\",\"2019-01-22\",\"2019-01-23\",\"2019-01-24\",\"2019-01-28\",\"2019-01-29\",\"2019-01-30\",\"2019-01-31\",\"2019-02-01\",\"2019-02-04\",\"2019-02-05\",\"2019-02-06\",\"2019-02-07\",\"2019-02-08\",\"2019-02-11\",\"2019-02-12\",\"2019-02-13\",\"2019-02-14\",\"2019-02-15\",\"2019-02-18\",\"2019-02-19\",\"2019-02-20\",\"2019-02-21\",\"2019-02-22\",\"2019-02-25\",\"2019-02-26\",\"2019-02-27\",\"2019-02-28\",\"2019-03-01\",\"2019-03-07\",\"2019-03-08\",\"2019-03-11\",\"2019-03-12\",\"2019-03-13\",\"2019-03-14\",\"2019-03-15\",\"2019-03-18\",\"2019-03-19\",\"2019-03-20\",\"2019-03-21\",\"2019-03-22\",\"2019-03-25\",\"2019-03-26\",\"2019-03-27\",\"2019-03-28\",\"2019-03-29\",\"2019-04-01\",\"2019-04-02\",\"2019-04-03\",\"2019-04-04\",\"2019-04-05\",\"2019-04-08\",\"2019-04-09\",\"2019-04-10\",\"2019-04-11\",\"2019-04-12\",\"2019-04-15\",\"2019-04-16\",\"2019-04-17\",\"2019-04-18\",\"2019-04-22\",\"2019-04-23\",\"2019-04-24\",\"2019-04-25\",\"2019-04-26\",\"2019-04-29\",\"2019-04-30\",\"2019-05-02\",\"2019-05-03\",\"2019-05-06\",\"2019-05-07\",\"2019-05-08\",\"2019-05-09\",\"2019-05-10\",\"2019-05-13\",\"2019-05-14\",\"2019-05-15\",\"2019-05-16\",\"2019-05-17\",\"2019-05-20\",\"2019-05-21\",\"2019-05-22\",\"2019-05-23\",\"2019-05-24\",\"2019-05-27\",\"2019-05-28\",\"2019-05-29\",\"2019-05-30\",\"2019-05-31\",\"2019-06-03\",\"2019-06-04\",\"2019-06-05\",\"2019-06-06\",\"2019-06-07\",\"2019-06-10\",\"2019-06-11\",\"2019-06-12\",\"2019-06-13\",\"2019-06-14\",\"2019-06-17\",\"2019-06-18\",\"2019-06-19\",\"2019-06-21\",\"2019-06-24\",\"2019-06-25\",\"2019-06-26\",\"2019-06-27\",\"2019-06-28\",\"2019-07-01\",\"2019-07-02\",\"2019-07-03\",\"2019-07-04\",\"2019-07-05\",\"2019-07-08\",\"2019-07-10\",\"2019-07-11\",\"2019-07-12\",\"2019-07-15\",\"2019-07-16\",\"2019-07-17\",\"2019-07-18\",\"2019-07-19\",\"2019-07-22\",\"2019-07-23\",\"2019-07-24\",\"2019-07-25\",\"2019-07-26\",\"2019-07-29\",\"2019-07-30\",\"2019-07-31\",\"2019-08-01\",\"2019-08-02\",\"2019-08-05\",\"2019-08-06\",\"2019-08-07\",\"2019-08-08\",\"2019-08-09\",\"2019-08-12\",\"2019-08-13\",\"2019-08-14\",\"2019-08-15\",\"2019-08-16\",\"2019-08-19\",\"2019-08-20\",\"2019-08-21\",\"2019-08-22\",\"2019-08-23\",\"2019-08-26\",\"2019-08-27\",\"2019-08-28\",\"2019-08-29\",\"2019-08-30\",\"2019-09-02\",\"2019-09-03\",\"2019-09-04\",\"2019-09-05\",\"2019-09-06\",\"2019-09-09\",\"2019-09-10\",\"2019-09-11\",\"2019-09-12\",\"2019-09-13\",\"2019-09-16\",\"2019-09-17\",\"2019-09-18\",\"2019-09-19\",\"2019-09-20\",\"2019-09-23\",\"2019-09-24\",\"2019-09-25\",\"2019-09-26\",\"2019-09-27\",\"2019-09-30\",\"2019-10-01\",\"2019-10-02\",\"2019-10-03\",\"2019-10-04\",\"2019-10-07\",\"2019-10-08\",\"2019-10-09\",\"2019-10-10\",\"2019-10-11\",\"2019-10-14\",\"2019-10-15\",\"2019-10-16\",\"2019-10-17\",\"2019-10-18\",\"2019-10-21\",\"2019-10-22\",\"2019-10-23\",\"2019-10-24\",\"2019-10-25\",\"2019-10-28\",\"2019-10-29\",\"2019-10-30\",\"2019-10-31\",\"2019-11-01\",\"2019-11-04\",\"2019-11-05\",\"2019-11-06\",\"2019-11-07\",\"2019-11-08\",\"2019-11-11\",\"2019-11-12\",\"2019-11-13\",\"2019-11-14\",\"2019-11-18\",\"2019-11-19\",\"2019-11-21\",\"2019-11-22\",\"2019-11-25\",\"2019-11-26\",\"2019-11-27\",\"2019-11-28\",\"2019-11-29\",\"2019-12-02\",\"2019-12-03\",\"2019-12-04\",\"2019-12-05\",\"2019-12-06\",\"2019-12-09\",\"2019-12-10\",\"2019-12-11\",\"2019-12-12\",\"2019-12-13\",\"2019-12-16\",\"2019-12-17\",\"2019-12-18\",\"2019-12-19\",\"2019-12-20\",\"2019-12-23\",\"2019-12-26\",\"2019-12-27\",\"2019-12-30\",\"2020-01-02\",\"2020-01-03\",\"2020-01-06\",\"2020-01-07\",\"2020-01-08\",\"2020-01-09\",\"2020-01-10\",\"2020-01-13\",\"2020-01-14\",\"2020-01-15\",\"2020-01-16\",\"2020-01-17\",\"2020-01-20\",\"2020-01-21\",\"2020-01-22\",\"2020-01-23\",\"2020-01-24\",\"2020-01-27\",\"2020-01-28\",\"2020-01-29\",\"2020-01-30\",\"2020-01-31\",\"2020-02-03\",\"2020-02-04\",\"2020-02-05\",\"2020-02-06\",\"2020-02-07\",\"2020-02-10\",\"2020-02-11\",\"2020-02-12\",\"2020-02-13\",\"2020-02-14\",\"2020-02-17\",\"2020-02-18\",\"2020-02-19\",\"2020-02-20\",\"2020-02-21\",\"2020-02-27\",\"2020-02-28\",\"2020-03-02\",\"2020-03-03\",\"2020-03-04\",\"2020-03-05\",\"2020-03-06\",\"2020-03-09\",\"2020-03-10\",\"2020-03-11\",\"2020-03-12\",\"2020-03-13\",\"2020-03-16\",\"2020-03-17\",\"2020-03-18\",\"2020-03-19\",\"2020-03-20\",\"2020-03-23\",\"2020-03-24\",\"2020-03-25\",\"2020-03-26\",\"2020-03-27\",\"2020-03-30\",\"2020-03-31\",\"2020-04-01\",\"2020-04-02\",\"2020-04-03\",\"2020-04-06\",\"2020-04-07\",\"2020-04-08\",\"2020-04-09\",\"2020-04-13\",\"2020-04-14\",\"2020-04-15\",\"2020-04-16\",\"2020-04-17\",\"2020-04-20\",\"2020-04-22\",\"2020-04-23\",\"2020-04-24\",\"2020-04-27\",\"2020-04-28\",\"2020-04-29\",\"2020-04-30\",\"2020-05-04\",\"2020-05-05\",\"2020-05-06\",\"2020-05-07\",\"2020-05-08\",\"2020-05-11\",\"2020-05-12\",\"2020-05-13\",\"2020-05-14\",\"2020-05-15\",\"2020-05-18\",\"2020-05-19\",\"2020-05-20\",\"2020-05-21\",\"2020-05-22\",\"2020-05-25\",\"2020-05-26\",\"2020-05-27\",\"2020-05-28\",\"2020-05-29\",\"2020-06-01\",\"2020-06-02\",\"2020-06-03\",\"2020-06-04\",\"2020-06-05\",\"2020-06-08\",\"2020-06-09\",\"2020-06-10\",\"2020-06-12\",\"2020-06-15\",\"2020-06-16\",\"2020-06-17\",\"2020-06-18\",\"2020-06-19\",\"2020-06-22\",\"2020-06-23\",\"2020-06-24\",\"2020-06-25\",\"2020-06-26\",\"2020-06-29\",\"2020-06-30\",\"2020-07-01\",\"2020-07-02\",\"2020-07-08\",\"2020-07-09\",\"2020-07-10\",\"2020-07-13\",\"2020-07-14\",\"2020-07-15\",\"2020-07-16\",\"2020-07-17\",\"2020-07-20\",\"2020-07-21\",\"2020-07-22\",\"2020-07-23\",\"2020-07-24\",\"2020-07-27\",\"2020-07-28\",\"2020-07-29\",\"2020-07-30\",\"2020-07-31\",\"2020-08-03\",\"2020-08-04\",\"2020-08-05\",\"2020-08-06\",\"2020-08-07\",\"2020-08-10\",\"2020-08-11\",\"2020-08-12\",\"2020-08-13\",\"2020-08-14\",\"2020-08-17\",\"2020-08-18\",\"2020-08-19\",\"2020-08-20\",\"2020-08-21\",\"2020-08-24\",\"2020-08-25\",\"2020-08-26\",\"2020-08-27\",\"2020-08-28\",\"2020-08-31\",\"2020-09-01\",\"2020-09-02\",\"2020-09-03\",\"2020-09-04\",\"2020-09-08\",\"2020-09-09\",\"2020-09-10\",\"2020-09-11\",\"2020-09-14\",\"2020-09-15\",\"2020-09-16\",\"2020-09-17\",\"2020-09-18\",\"2020-09-21\",\"2020-09-22\",\"2020-09-23\",\"2020-09-24\",\"2020-09-28\",\"2020-09-29\",\"2020-09-30\",\"2020-10-01\",\"2020-10-02\",\"2020-10-05\",\"2020-10-06\",\"2020-10-07\",\"2020-10-08\",\"2020-10-09\",\"2020-10-13\",\"2020-10-14\",\"2020-10-15\",\"2020-10-16\",\"2020-10-19\",\"2020-10-20\",\"2020-10-21\",\"2020-10-22\",\"2020-10-23\",\"2020-10-26\",\"2020-10-27\",\"2020-10-28\",\"2020-10-29\",\"2020-10-30\",\"2020-11-03\"],\"y\":[1.0,0.9906604808681733,1.0146764690052026,0.9706471256102975,0.9519680237259414,0.9372915547207389,0.9506337703524218,0.913275502963007,0.91927951590244,0.9372915547207389,0.9559706566050951,0.9059373002707571,0.8719146026944387,0.8632421466286689,0.9012675407048436,0.8839226285733045,0.8465643611838897,0.8372248420520628,0.8125417272282737,0.8565710706231788,0.8152101703546103,0.7838559159046284,0.7771847762784356,0.7945296884099748,0.7838559159046284,0.7304869897571942,0.7131420776256551,0.7218145336914247,0.6971314188676355,0.7298198630704343,0.7204803439386076,0.7251501035045209,0.7204803439386076,0.7271514199440976,0.7011341153674916,0.7251501035045209,0.7104736344993183,0.7004669886807319,0.6704469876042696,0.6444296194069609,0.6430954296541439,0.6370914167147109,0.6244162641490852,0.6084056053910657,0.5870580603803729,0.5757171611882668,0.6230820743962682,0.5803869207541802,0.5563709326171509,0.5456971601118045,0.5523682361172947,0.5570380593039106,0.5543696161775741,0.5870580603803729,0.6170780614568352,0.5903936301934692,0.5783856043146034,0.5510340463644776,0.5410273369251886,0.5476984765513813,0.5216811401644239,0.49432955040394694,0.5083388927223896,0.5170113487881592,0.5336891342329385,0.5443629067382849,0.5296864695434337,0.527018026417097,0.5223482350408324,0.5610406921830643,0.5583722490567277,0.5583722490567277,0.5350233876064581,0.5303535644198422,0.5336891342329385,0.5436957800515251,0.5490326663041983,0.5590393757434874,0.5396931471723715,0.5190126970380873,0.5070046711592213,0.531020691106602,0.5436957800515251,0.5323549126697703,0.5323549126697703,0.5163442221013994,0.511674462535486,0.5150100005382311,0.5276851212935055,0.5296864695434337,0.5570380593039106,0.527018026417097,0.517678475474919,0.509673114285558,0.5090060194091495,0.5203469186012556,0.5150100005382311,0.5090060194091495,0.5090060194091495,0.5230153617275922,0.5196797919144958,0.5183455703513276,0.5243495832907605,0.5156771272249909,0.5236824566040007,0.5076717978459812,0.5003335633433799,0.5103402409723178,0.509673114285558,0.5190126970380873,0.5156771272249909,0.5103402409723178,0.5110073358487263,0.509673114285558,0.5163442221013994,0.5090060194091495,0.5076717978459812,0.5110073358487263,0.4976651202170433,0.5170113487881592,0.49032688571444205,0.4916611072776103,0.474983321832831,0.45963975795122,0.446297542319537,0.43428954825102234,0.4156104145563149,0.4136090663063869,0.40360242048780026,0.46564377089065295,0.4629753277643163,0.4689793407037493,0.46030688463797975,0.4422948776300321,0.4102735283036418,0.4062708636141369,0.39226152129569414,0.3755837358509148,0.37491660916415503,0.4062708636141369,0.38692463504302094,0.38425619191668436,0.38425619191668436,0.3789192738536599,0.38425619191668436,0.3782521789772514,0.3795864005404197,0.3735823876009867,0.3569046021562074,0.3515677159035342,0.36957972291148183,0.36490993153521717,0.3609072668457123,0.3342228355823464,0.3315543606456585,0.3115410371981341,0.28819214393751325,0.29152768194025835,0.2888592388139218,0.26484323477171684,0.27484989649547903,0.286857922374345,0.30086726469278774,0.2908605870638499,0.27751833962181566,0.254836557142779,0.2695130102428059,0.28152100431132054,0.2995330113192681,0.31554370188763897,0.3015343595691962,0.2861907956875852,0.286857922374345,0.2888592388139218,0.29686456819293155,0.3048699293822926,0.3068712458218694,0.30420280269553285,0.27284858005590223,0.2508338924532741,0.25016678167168993,0.24549700620060091,0.2434956738558485,0.23615743935324723,0.2288192207558216,0.24482989541901673,0.23215477466374232,0.24416278463743266,0.25016678167168993,0.26217479164538027,0.26884591536639735,0.27418280161907055,0.29352903019018645,0.2541694463611948,0.2561707787059473,0.26617745633488515,0.2581721110506997,0.24416278463743266,0.24549700620060091,0.23949299326116794,0.2494996708901058,0.24216145229268016,0.23682455013483136,0.2374916609164155,0.2374916609164155,0.23282188544532648,0.23682455013483136,0.24416278463743266,0.2468312277637692,0.25350233557961066,0.24149432560592038,0.23682455013483136,0.23215477466374232,0.23415610700849476,0.2374916609164155,0.2388258824795838,0.2288192207558216,0.23549032857166305,0.23148766388215813,0.24082721482433625,0.23549032857166305,0.23615743935324723,0.2334889962269106,0.23082055310057403,0.23015344231898988,0.22748499919265328,0.22481654016114105,0.23148766388215813,0.23815877169799965,0.23282188544532648,0.22948633153740572,0.22748499919265328,0.23415610700849476,0.2228152078163886,0.22214809703480448,0.22348231859797277,0.21614410000054715,0.21614410000054715,0.21014010296628985,0.19679787142943123,0.18679119380049336,0.16611074366620915,0.1641094113214567,0.15943963585036766,0.15943963585036766,0.1681120760109616,0.16077385741353598,0.15010006900301398,0.13342228355823463,0.12474983544505293,0.11941294123979189,0.11274183342395042,0.10740493921868942,0.09606404797917109,0.08739159191340154,0.08472314878706494,0.08672448113181738,0.08472314878706494,0.0853902595686491,0.0787191438002198,0.0773849222370515,0.07805203301863566,0.07938626253439177,0.08005337331597591,0.10206804501342842,0.1534356229109347,0.13008672965031393,0.14409607196875662,0.154769844474103,0.14809873665826148,0.13542361590298707,0.13008672965031393,0.1327551727766505,0.1274182785713895,0.1287525001345578,0.12541694622663704,0.1234156138818846,0.12008005202137605,0.13208806199506634,0.13142095121348218,0.1287525001345578,0.12541694622663704,0.14476318275034078,0.15410273369251887,0.15010006900301398,0.18212141832940434,0.25350233557961066,0.21080721374787395,0.22014676469005204,0.21747832156371544,0.2148098784373788,0.2288192207558216,0.22014676469005204,0.20413609002685684,0.1787858644214836,0.1774516428583153,0.20280186846368858,0.1994663145557678,0.1954636498662629,0.2194796539084679,0.21347565687421055,0.20747164393477757,0.22014676469005204,0.2181454323452996,0.19746498221101536,0.18478986145574092,0.18145430754782016,0.16611074366620915,0.1694462975741299,0.165443632884625,0.15810539838202375,0.1574382876004396,0.15276851212935058,0.15410273369251887,0.17278185148205064,0.1667778544477933,0.17278185148205064,0.165443632884625,0.1774516428583153,0.17144762991888232,0.16877918679254575,0.16210807897670426,0.1667778544477933,0.16477652210304083,0.16344230053987255,0.16277518975828842,0.1707805191372982,0.16877918679254575,0.21681121078213128,0.1801200859846519,0.17678453207673117,0.17545031051356286,0.17811875363989946,0.18679119380049336,0.20747164393477757,0.19813209299259948,0.1954636498662629,0.18278852911098847,0.18345563989257263,0.1774516428583153,0.17411607304521892,0.1774516428583153,0.16477652210304083,0.1667778544477933,0.1667778544477933,0.16010674663195185,0.15143429056618227,0.1534356229109347,0.154769844474103,0.154769844474103,0.1574382876004396,0.15943963585036766,0.17011340835571404,0.1841227506741568,0.16877918679254575,0.16477652210304083,0.1614409681951201,0.16744496522937743,0.16344230053987255,0.17344896226363476,0.1787858644214836,0.18679119380049336,0.19879920377418367,0.2401601040427521,0.2401601040427521,0.21681121078213128,0.24549700620060091,0.22748499919265328,0.23015344231898988,0.22681788841106917,0.21347565687421055,0.2128085460926264,0.2181454323452996,0.21681121078213128,0.22148098625322032,0.23148766388215813,0.27484989649547903,0.2861907956875852,0.29352903019018645,0.32755169595615363,0.34956636765360616,0.34623082965086105,0.36891262803507335,0.38025349541682824,0.3682455013483136,0.3582388237193757,0.33555705714551465,0.3362241520219232,0.3282188226429134,0.34222816496135616,0.3562375072797989,0.34689792452726953,0.3529019374667025,0.37625083072732335,0.3735823876009867,0.3602401719693038,0.36357570997204885,0.3775850522904916,0.3855904134798527,0.409606401616882,0.417611762806243,0.43428954825102234,0.4269513137484211,0.4529686501353785,0.43162107331433447,0.4102735283036418,0.4349566431274309,0.4102735283036418,0.4156104145563149,0.41094062318005026,0.41827885768265155,0.4196130792458198,0.42228152237215644,0.4209473008089881,0.45897266307481144,0.4769846700827591,0.4743162269564225,0.5123415574118946,0.4703135622669176,0.4576384415116432,0.4322882000010943,0.4262841870616613,0.4322882000010943,0.402268198924632,0.3989326291115356,0.3909272997325258,0.4196130792458198,0.45496999838530655,0.4489659854458736,0.4282855353115894,0.42428287062208453,0.43362242156426256,0.4196130792458198,0.41627750943272346,0.424949965498493,0.4402935293801041,0.4436290991932004,0.44829885875911385,0.45496999838530655,0.46230820107755655,0.44429619406960896,0.4503002070090419,0.48498999946176885,0.4823215563354323,0.49032688571444205,0.5036691331564762,0.5203469186012556,0.5376918307327947,0.5563709326171509,0.5396931471723715,0.5350233876064581,0.5276851212935055,0.5296864695434337,0.5243495832907605,0.4956637719671152,0.4763175433959993,0.46564377089065295,0.5243495832907605,0.511674462535486,0.4843229045853603,0.3989326291115356,0.36691127978514526,0.37091394447465015,0.39559705929843925,0.38825885660618925,0.38025349541682824,0.36691127978514526,0.38625750835626116,0.3929286161721027,0.3875917299194295,0.3775850522904916,0.3735823876009867,0.36490993153521717,0.36157439353247206,0.3315543606456585,0.32888591751932195,0.3168779234508073,0.32354903126664875,0.3228819363902402,0.31821214501397554,0.31754505013756706,0.2961974733165231,0.3068712458218694,0.29286190350342667,0.29486325175335476,0.2901934603770901,0.2788525611849839,0.2768512447454071,0.27018013692956566,0.2568378894875314,0.27484989649547903,0.28752501725075347,0.3088725940717975,0.3228819363902402,0.30820546738503773,0.30086726469278774,0.32555037951657684,0.34489660808769274,0.3488992727771976,0.3435623865245244,0.3488992727771976,0.34823214609043784,0.3549032857166306,0.38225484366675627,0.3775850522904916,0.3742495142877465,0.3702468495982416,0.35957304528254397,0.352234842590294,0.3775850522904916,0.3835890652299246,0.4002668506747039,0.39226152129569414,0.40693795849054537,0.41694463611948324,0.417611762806243,0.40893930674047346,0.4229486490589162,0.4202802059325796,0.40893930674047346,0.4136090663063869,0.4209473008089881,0.4456304156327772,0.46364242264072486,0.4743162269564225,0.48832556927486526,0.5203469186012556,0.5483656032381411,0.5930620733198059,0.6477651892200572,0.5790527310013631,0.6037358458251523,0.58839225013319,0.5657104517489776,0.6157438080833156,0.5997331493252961,0.6070714156382487,0.6070714156382487,0.6217478210227487,0.5843896172540364,0.5797197940674204,0.5970647061989595,0.5870580603803729,0.5777184776278436,0.6170780614568352,0.6017345293855755,0.5937291363858631,0.5657104517489776,0.5276851212935055,0.5470313498646215,0.5383588937988519,0.5323549126697703,0.555703805930391,0.5496997929909581,0.5470313498646215,0.5443629067382849,0.5563709326171509,0.5743829078147472,0.5897265035067095,0.6184123148303547,0.613075364956979,0.6137424916437388,0.6444296194069609,0.6871247730490488,0.6591060884121634,0.6430954296541439,0.6657771644176537,0.6777851902965195,0.6604402781649803,0.6671114177911732,0.6764510005437026,0.6724483040438465,0.6611074048517402,0.6597732150989232,0.6697798609175097,0.7131420776256551,0.7138092043124148,0.7004669886807319,0.7138092043124148,0.7451634587623965,0.7505003450150698,0.7084723180597416,0.6904603428621454,0.6844563299227123,0.6824549498624329,0.6731154307306062,0.643762492720201,0.5143429056618226,0.5336891342329385,0.4816544296486725,0.48298865121184076,0.5230153617275922,0.5283522479802654,0.527018026417097,0.527018026417097,0.5336891342329385,0.5203469186012556,0.5103402409723178,0.5083388927223896,0.5016677849065482,0.5236824566040007,0.555703805930391,0.527018026417097,0.5183455703513276,0.5210140134776641,0.527018026417097,0.5243495832907605,0.5243495832907605,0.5103402409723178,0.5110073358487263,0.5070046711592213,0.4969979935302835,0.5136757789750629,0.5130086840986543,0.509673114285558,0.4969979935302835,0.4949966770907067,0.49432955040394694,0.5036691331564762,0.4949966770907067,0.49099401240120183,0.5537024894908142,0.5470313498646215,0.5770513509410838,0.6110740485174022,0.6030687191383924,0.6224149477095084,0.6170780614568352,0.6157438080833156,0.6444296194069609,0.6344229735883743,0.6357571633411914,0.6204136312699315,0.6097398587645853,0.6037358458251523,0.6090727320778254,0.5923949466330461,0.57371584474869,0.57371584474869,0.5970647061989595,0.6057371622647292,0.6270847072754216,0.6310874037752779,0.6490993789728743,0.6457638727804803,0.6577718350386439,0.6991327353072123,0.6644429746648366,0.643762492720201,0.6537692021594902,0.6597732150989232,0.6571047719725868,0.6424283029673841,0.6511007590331537,0.6817878867963757,0.6804536334228561,0.6704469876042696,0.6784523169832792,0.7224816603781845,0.7331554328835307,0.7404936991964833,0.74249501563606,0.7558372312677432,0.7591728010808394,0.773849270086042,0.8325550188654469,0.8512341843705056,0.8512341843705056,0.8392261584916398,0.8605737035023323,0.8505670576837459,0.8665777164417654,0.8919279579523143,0.9006004140180838,0.9212808959627193,0.9179453261496229,0.9052701735839973,0.9399599978470754,0.9166110727761033,0.8905937681994973,0.8745830458207752,0.8572381973099387,0.8472314878706494,0.8905937681994973,0.9052701735839973,0.9606404161710083,0.9539693401655182,1.0120080258788657,1.0286858113236452,1.0300200010764622,1.0406938372025114,1.0320213811367416,1.0320213811367416,1.0140093423184426,0.9713142522970573,0.9606404161710083,1.004669823186616,0.9979986835604232,1.0160106587580195,0.9806537714288841,1.018012038818299,1.0080053293790099,0.9813208981156438,1.0,0.9472982005393255,0.923949339089056,0.9246164021551131,0.9246164021551131,0.8799199320734483,0.882588375199785,0.8298865757391103,0.9332888582208827,0.9052701735839973,0.8905937681994973,0.8532355008100824,0.8305537024258701,0.8305537024258701,0.8719146026944387,0.9059373002707571,0.9059373002707571,0.9506337703524218,0.9472982005393255,0.9573049099786146,0.948632453912845,0.9773182016157876,0.9899933541814134,0.9639759859841047,0.936624428033979,0.9466310738525656,0.9613075428577682,0.9666444291104413,0.9599733531049511,0.9593062264181913,0.9419613142866522,0.9272848452814496,0.9266177822153925,0.9266177822153925,0.9099399967706131,0.9226150857155364,0.9232822124022961,0.9172781994628632,0.9286190986549692,0.9606404161710083,0.973982695423394,0.973982695423394,0.9606404161710083,0.9466310738525656,0.973982695423394,0.973982695423394,1.013342215631683,1.0013342533735197,1.0393595838289917,1.0446964700816648,1.0473649132080014,1.0220146716974525,1.0006671266867597,0.973982695423394,0.9746497584894511,0.9873249110550768,1.006004012939433,1.042695153642088,1.0727151547185503,1.0607071288396843,1.0760506609109441,1.0713809013450306,1.1340894102449943,1.1340894102449943,1.1841227665793324,1.2121414512162179,1.202801932084391,1.208138818337064,1.2168112107821314,1.1867912733263715,1.1507671956897738,1.1841227665793324,1.1841227665793324,1.1440960560635811,1.1040693455478297,1.1307539040526007,1.135423663618514,1.1420948032447067,1.1394262964976676,1.164776474387514,1.2048031849032654,1.2721814533691425,1.3075384043189804,1.30820553100574,1.2808539730556145,1.2741828334294218,1.2688459471767486,1.2608405541770364,1.2701802005502683,1.240827262539863,1.2908606188742011,1.3822548118564049,1.4409606878772152,1.4422949412507347,1.3949299644220308,1.4076051169876564,1.4389593078169358,1.3955970911087905,1.3895930781693573,1.3942628377352713,1.367578406471905,1.417611762806243,1.4462975741298882,1.4276184086248298,1.3922615849163966,1.444296194069609,1.4242829024324357,1.423615775745676,1.3715810393510586,1.400266850674704,1.5937291363858634,1.5283522479802654,1.497665183837746,1.4549699665749554,1.467645119140581,1.4142762566138491,1.3689126598454247,1.4696464992008604,1.5170113487881591,1.414943256059204,1.3709139126642989,1.4036024841085029,1.367578406471905,1.277518339621816,1.2861908593082878,1.3008672646927877,1.2955303784401144,1.220813843661285,1.1634423482553995,1.2174783374688911,1.1501000690030139,1.1247498911131677,1.0140093423184426,1.0867245606576956,1.0527017994606747,1.004002696499856,0.9939959870605669,0.9919946706209902,0.9439626307262289,0.9479653272260852,0.9833222145552206,1.0006671266867597,0.9472982005393255,0.9439626307262289,0.9599733531049511,0.8839226285733045,0.9279519719682094,0.899933287331324,0.886591071699641,0.9539693401655182,0.9026017304576606,0.8539026274968422,0.798532384909831,0.8172114867941872,0.8165443601074274,0.82388262642038,0.8338892722389665,0.8072048409756006,0.7638425606467528,0.7404936991964833,0.7831887892178687,0.7871914857177249,0.7705137002729455,0.7398265725097235,0.7078051913729818,0.6984656722411551,0.679119443670039,0.7104736344993183,0.6951301024280585,0.675116747170183,0.6804536334228561,0.7004669886807319,0.7078051913729818,0.7418278889493003,0.7358238760098673,0.7118078878728379,0.7398265725097235,0.7478319018887333,0.8345563989257263,0.8599066404362752,0.8819213121337277,0.8605737035023323,0.90460311051794,0.9072715536442767,0.9272848452814496,0.9893262274946537,0.9759840118629707,0.9873249110550768,0.9639759859841047,0.9212808959627193,0.9139426296497668,0.9072715536442767,0.963308859297345,0.9579719730446717,0.9332888582208827,0.8932622113258338,0.8705804129416215,0.8212141832940433,0.8278852592995335,0.8325550188654469,0.8418946016179762,0.8372248420520628,0.8112074738547542,0.8245496894864371,0.7431621423228199,0.7505003450150698,0.7091394447465014,0.6931287859884818,0.7184790274990307,0.704469685180588,0.748499028575493,0.7258172301912807,0.7478319018887333,0.7244829768177612,0.675116747170183,0.6684456711646928,0.6697798609175097,0.675116747170183,0.6410940495938645,0.6417611762806243,0.6210807579566914,0.6224149477095084,0.667778544477933,0.6877918997358087,0.7004669886807319,0.7398265725097235,0.7611741175204162,0.7124750145595976,0.7171447741255111,0.7271514199440976,0.773849270086042,0.7371581293833869,0.7078051913729818,0.7665110037730893,0.8172114867941872,0.8105403471679943,0.8272181326127737,0.9819880248024037,0.9893262274946537,0.8872581983864009,0.9032688571444204,0.9399599978470754,1.0607071288396843,1.0840560539106565,1.079386294344743,1.0813875471636174,1.1074049789816285,1.1047364722345894,1.063375571966021,1.097398333163042,1.214809830721852,1.1360907903052737,1.2281521099742374,1.227484983287478,1.2841894792480084,1.3609072668457125,1.3682455331586652,1.3475651148347318,1.3188793035110866,1.3302202027031929,1.3075384043189804,1.3042027708851816,1.3442294814009332,1.3482321142800866,1.3435623547141735,1.4022682307349832,1.4729820053932539,1.4609739795143886,1.3509006210271257,1.3742495460980977,1.3942628377352713,1.4242829024324357,1.4409606878772152,1.4242829024324357,1.3649098997248659,1.3909273315428772,1.361574393532472,1.3215476830167208,1.227484983287478,1.3875916981090781,1.3942628377352713,1.467645119140581,1.577718477627844,1.5803869843748828,1.6757839374776453,1.6404269865278072,1.6931287223677793,1.650433632346394,1.6344229735883744,1.6290860873357011,1.6744496841041256,1.6977986091750978,1.7098065078125586,1.667778544477933,1.5943962630726232,1.5737158447486899,1.5663775784357374,1.5510340463644776,1.6651100377308938,1.6784523169832792,1.6257505811433073,1.5937291363858634,1.6024016560723353,1.6150766813965558,1.5757172248089693,1.5216811083540727,1.5483655396174385,1.5630420722433436,1.5456971601118046,1.5376917671120922,1.6050700355779692,1.649099378972874,1.6624416582252597,1.799866574662648,1.8405604118651593,1.7871915493384274,1.758505738014782,1.803202208096447,1.8559039439364189,1.9039360474518827,1.9112741865234304,1.9012675407048436,1.9286190986549694,1.8852568819468243,1.8692462231888045,1.8845897552600643,1.8212141196733407,1.841227538551919,1.8012008280361675,1.8345563989257263,1.8212141196733407,1.7785190296519553,1.7625083708939357,1.776517649591676,1.8045363342285614,1.7578386113280224,1.7711807633390029,1.8298866393598128,1.7878585487837821,1.841227538551919,1.9252835924625753,2.029352938010405,2.047364976828704,1.9446297574129892,1.818545740167707,1.8438959180575534,1.8378919051181202,1.6777851902965197,1.708472381680444,1.7278185466308578,1.7111407611860785,1.6891260894886257,1.6944629757412992,1.714476394619877,1.6931287223677793,1.614409681951201,1.5810541110616425,1.6170780614568352,1.5610406921830644,1.5510340463644776,1.5143429692825252,1.5163442221013994,1.4623082328879078,1.5877251234464302,1.5416945272326505,1.5937291363858634,1.5430286533647652,1.5456971601118046,1.5343562609196983,1.5343562609196983,1.5196798555351982,1.5050033229092934,1.5803869843748828,1.5543695525568715,1.5677118318092569,1.6357572269618939,1.6571047719725867,1.7011341153674917,1.5817211105069973,1.5376917671120922,1.511674462535486,1.399599723987944,1.367578406471905,1.3909273315428772,1.4876584107777542,1.5710473380016508,1.577051350941084,1.6584390253461059,1.7011341153674917,1.767178130459849,1.767178130459849,1.8072048409756005,1.799866574662648,1.8218812463601006,1.8752502361282373,1.8859240086335838,1.9513008970391816,2.0,2.05937300270757,2.064709888960243,2.046030723455184,2.0553702425870113,2.0226817983842125,2.068045395152637,2.1314210307393604,2.1894596528320056,2.14809881618414,2.130086777365841,2.0947298264160032,2.098065459849802,2.108739232355148,2.1747831202061003,2.128752523992321,2.1574383353159665,2.364242773038106,2.537024640425333,2.6951302296694637,2.729152800004377,2.717144774125511,2.693128722367779,2.609072795698528,2.5456971601118044,2.6644429110441337,2.5550366792436314,2.6084055417703627,2.568378958496017,2.5950635170007876,2.576384224254324,2.5983990231931817,2.5517011730512373,2.7138092679331174,2.73515681294381,2.7364910663173294,2.7331555601249358,2.921280959583422,2.8318880194200924,2.718479027499031,2.7311540528232507,2.635090100275134,2.667778671719338,2.70580400217481,2.5110073358487264,2.541694399991245,2.4282856625529945,2.382254811856405,2.3335557088955867,2.3282189498843184,2.361574520773877,2.3549032539062793,2.2281522372156424,2.2281522372156424,2.16077384150836,2.1894596528320056,2.156104081942447,2.2521680344905644,2.214809957963257,2.1774516269531397,2.1054035989213493,2.134756536931754,2.2688458199353434,2.2721815806105474,2.1814543870736984,2.1814543870736984,2.2901936194288464,2.384923318603444,2.3182121768243267,2.138092043124148,2.256838048539288,2.244162768732257,2.2755170868029415,2.2154769574086117,2.1734491213153913,2.1614410954365253,2.23482324960043,2.2835223525612487,2.134756536931754,2.154769828568927,2.1214142576793686,2.068045395152637,2.1814543870736984,2.2054704388314303,2.16077384150836,2.141427549316542,2.2081386910956593,2.2081386910956593,2.311541164439539,2.3749165455434524,2.384923318603444,2.391594330988232,2.4016011040482237,2.364242773038106,2.346897988147972,2.487658538019159,2.4663109930084666,2.4683122458273408,2.433622421564263,2.5016678167168993,2.552368172496592,2.591727756325583,2.4416276873225695,2.4282856625529945,2.375583799471617,2.3168779234508072,2.334889962269106,2.3729152927245782,2.2661775676711144,2.2808538458142094,2.1921281595790445,2.202801932084391,2.2808538458142094,2.29486337899476,2.2815210997423745,2.2628418069959104,2.3182121768243267,2.311541164439539,2.222815223721564,2.210807197842698,2.297531631258989,2.2721815806105474,2.2434957692869024,2.3335557088955867,2.2981988851871535,2.291527618319556,2.405603864168782,2.4476317002620025,2.334889962269106,2.3549032539062793,2.38158781241105,2.413609129927089,2.423615902987081,2.356904761207964,2.344896735329098,2.430953914817223,2.394262837735271,2.432288168190743,2.444963447997774,2.4629752323332625,2.4549699665749554,2.479653017778042,2.394930091663436,2.284856605934768,2.2981988851871535,2.388926078724003,2.444963447997774,2.4843230318267655,2.5350233876064583,2.5343563881611035,2.4663109930084666,2.444296194069609,2.5303536280405448,2.5216811083540724,2.446964700816648,2.4803202717062067,2.6050700355779695,2.5230153617275923,2.3549032539062793,2.4142761293724435,2.3308872021485474,2.3375584690161455,2.284856605934768,2.291527618319556,2.3455637347744527,2.4142761293724435,2.384923318603444,2.2988658846325083,2.278852592995335,2.414943383300609,2.421614395685397,2.361574520773877,2.4016011040482237,2.42761840862483,2.3929285843617514,2.42494990187779,2.3215476830167208,2.2561707946111227,1.7611741175204165,1.7078052549936844,1.7418279525700027,1.6757839374776453,1.6551033919123073,1.3775850522904918,1.4042694835538576,1.1594395881348407,1.2221480970348044,1.0440293433949048,0.6651101013515964,0.7451634587623965,0.5363575773592751,0.5190126970380873,0.3735823876009867,0.41694463611948324,0.48565712614852863,0.46230820107755655,0.5403602738591313,0.7298198630704343,0.8699132862548618,0.8398932851783995,0.8205470566072836,0.7585056743940796,0.6657771644176537,0.6757838738569427,0.6317545304620377,0.6771180636097597,0.7304869897571942,0.799866574662648,0.7758505865256187,0.7638425606467528,0.7645096873335125,0.819212803233764,0.7845230425913883,0.8005337013494078,0.8052034609153214,0.793862561723215,0.8078719040416579,0.7118078878728379,0.7284856733176172,0.813208790294331,0.8899266415127375,0.8272181326127737,0.743829205388877,0.7858572323442053,0.7685123838333687,0.7171447741255111,0.7338225595702905,0.7031354318070684,0.6671114177911732,0.6717811773570868,0.6957972291148183,0.7244829768177612,0.8292195126730529,0.7771847762784356,0.8458972981178323,0.8338892722389665,0.8158772334206676,0.8405604118651594,0.8198799299205237,0.825216816173197,0.8165443601074274,0.8025350177889846,0.8712475396283813,1.0080053293790099,1.173448994073986,1.1367579169920334,1.2474984021660558,1.600400276012056,1.494329550403947,1.350233494340366,1.2368246296607095,1.3015343913795476,1.2781854663085754,1.2601734274902767,1.2448298954190167,1.226150729913958,1.197465045831718,1.327551695956154,1.2168112107821314,1.277518339621816,1.222815223721564,1.2541694145508435,1.2374916291060643,1.2688459471767486,1.258839301358162,1.323549063077,1.3148765433905278,1.3942628377352713,1.3455637347744525,1.3689126598454247,1.4643096129481872,1.4029353574217431,1.3875916981090781,1.3755837994716174,1.3782521789772515,1.3342228355823464,1.2741828334294218,1.2568379212978826,1.23549037628719,1.272848580055902,1.2308206167212765,1.2374916291060643,1.1947965390846789,1.1761173735796202,1.1774516269531397,1.1761173735796202,1.240827262539863,1.1987991719638325,1.1994662986505922,1.3008672646927877,1.2508339083584497,1.2161440840953714,1.2461641487925363,1.170780487326947,1.2101400711559387,1.1841227665793324,1.1807872603869385,1.1814542598322932,1.223482350408324,1.2068045649635446,1.170780487326947,1.220813843661285,1.2661774404297095,1.1934622857111592,1.2555036679243632,1.258172174671402,1.2855237326215279,1.3328885822088268,1.3602401401589528,1.323549063077,1.3509006210271257,1.3182121768243271,1.4142762566138491,1.3915944582296367,1.4389593078169358,1.408272243674416,1.3408939752085391,1.227484983287478,1.2128085779029776,1.191461032892285,1.196797919144958,1.1654436010742737,1.0987324592951564,1.1394262964976676,1.194129412397919,1.1601067148216007,1.1781187536398994,1.2641761876108353,1.220813843661285,1.2348232496004303,1.2748499601161813,1.2781854663085754,1.3088726576925,1.302868644753067,1.2708471999956228,1.3282188226429135,1.3155436700772876,1.2948632517533547,1.3075384043189804,1.3128752905716536,1.26484318705619,1.240827262539863,1.1287525239923213,1.1080721056683882,1.0466977865212417,1.0720480280317906],\"type\":\"scatter\"},{\"name\":\"CVC\",\"x\":[\"2015-01-02\",\"2015-01-05\",\"2015-01-06\",\"2015-01-07\",\"2015-01-08\",\"2015-01-09\",\"2015-01-12\",\"2015-01-13\",\"2015-01-14\",\"2015-01-15\",\"2015-01-16\",\"2015-01-19\",\"2015-01-20\",\"2015-01-21\",\"2015-01-22\",\"2015-01-23\",\"2015-01-26\",\"2015-01-27\",\"2015-01-28\",\"2015-01-29\",\"2015-01-30\",\"2015-02-02\",\"2015-02-03\",\"2015-02-04\",\"2015-02-05\",\"2015-02-06\",\"2015-02-09\",\"2015-02-10\",\"2015-02-11\",\"2015-02-12\",\"2015-02-13\",\"2015-02-18\",\"2015-02-19\",\"2015-02-20\",\"2015-02-23\",\"2015-02-24\",\"2015-02-25\",\"2015-02-26\",\"2015-02-27\",\"2015-03-02\",\"2015-03-03\",\"2015-03-04\",\"2015-03-05\",\"2015-03-06\",\"2015-03-09\",\"2015-03-10\",\"2015-03-11\",\"2015-03-12\",\"2015-03-13\",\"2015-03-16\",\"2015-03-17\",\"2015-03-18\",\"2015-03-19\",\"2015-03-20\",\"2015-03-23\",\"2015-03-24\",\"2015-03-25\",\"2015-03-26\",\"2015-03-27\",\"2015-03-30\",\"2015-03-31\",\"2015-04-01\",\"2015-04-02\",\"2015-04-06\",\"2015-04-07\",\"2015-04-08\",\"2015-04-09\",\"2015-04-10\",\"2015-04-13\",\"2015-04-14\",\"2015-04-15\",\"2015-04-16\",\"2015-04-17\",\"2015-04-20\",\"2015-04-22\",\"2015-04-23\",\"2015-04-24\",\"2015-04-27\",\"2015-04-28\",\"2015-04-29\",\"2015-04-30\",\"2015-05-04\",\"2015-05-05\",\"2015-05-06\",\"2015-05-07\",\"2015-05-08\",\"2015-05-11\",\"2015-05-12\",\"2015-05-13\",\"2015-05-14\",\"2015-05-15\",\"2015-05-18\",\"2015-05-19\",\"2015-05-20\",\"2015-05-21\",\"2015-05-22\",\"2015-05-25\",\"2015-05-26\",\"2015-05-27\",\"2015-05-28\",\"2015-05-29\",\"2015-06-01\",\"2015-06-02\",\"2015-06-03\",\"2015-06-05\",\"2015-06-08\",\"2015-06-09\",\"2015-06-10\",\"2015-06-11\",\"2015-06-12\",\"2015-06-15\",\"2015-06-16\",\"2015-06-17\",\"2015-06-18\",\"2015-06-19\",\"2015-06-22\",\"2015-06-23\",\"2015-06-24\",\"2015-06-25\",\"2015-06-26\",\"2015-06-29\",\"2015-06-30\",\"2015-07-01\",\"2015-07-02\",\"2015-07-03\",\"2015-07-06\",\"2015-07-07\",\"2015-07-08\",\"2015-07-10\",\"2015-07-13\",\"2015-07-14\",\"2015-07-15\",\"2015-07-16\",\"2015-07-17\",\"2015-07-20\",\"2015-07-21\",\"2015-07-22\",\"2015-07-23\",\"2015-07-24\",\"2015-07-27\",\"2015-07-28\",\"2015-07-29\",\"2015-07-30\",\"2015-07-31\",\"2015-08-03\",\"2015-08-04\",\"2015-08-05\",\"2015-08-06\",\"2015-08-07\",\"2015-08-10\",\"2015-08-11\",\"2015-08-12\",\"2015-08-13\",\"2015-08-14\",\"2015-08-17\",\"2015-08-18\",\"2015-08-19\",\"2015-08-20\",\"2015-08-21\",\"2015-08-24\",\"2015-08-25\",\"2015-08-26\",\"2015-08-27\",\"2015-08-28\",\"2015-08-31\",\"2015-09-01\",\"2015-09-02\",\"2015-09-03\",\"2015-09-04\",\"2015-09-08\",\"2015-09-09\",\"2015-09-10\",\"2015-09-11\",\"2015-09-14\",\"2015-09-15\",\"2015-09-16\",\"2015-09-17\",\"2015-09-18\",\"2015-09-21\",\"2015-09-22\",\"2015-09-23\",\"2015-09-24\",\"2015-09-25\",\"2015-09-28\",\"2015-09-29\",\"2015-09-30\",\"2015-10-01\",\"2015-10-02\",\"2015-10-05\",\"2015-10-06\",\"2015-10-07\",\"2015-10-08\",\"2015-10-09\",\"2015-10-13\",\"2015-10-14\",\"2015-10-15\",\"2015-10-16\",\"2015-10-19\",\"2015-10-20\",\"2015-10-21\",\"2015-10-22\",\"2015-10-23\",\"2015-10-26\",\"2015-10-27\",\"2015-10-28\",\"2015-10-29\",\"2015-10-30\",\"2015-11-03\",\"2015-11-04\",\"2015-11-05\",\"2015-11-06\",\"2015-11-09\",\"2015-11-10\",\"2015-11-11\",\"2015-11-12\",\"2015-11-13\",\"2015-11-16\",\"2015-11-17\",\"2015-11-18\",\"2015-11-19\",\"2015-11-23\",\"2015-11-24\",\"2015-11-25\",\"2015-11-26\",\"2015-11-27\",\"2015-11-30\",\"2015-12-01\",\"2015-12-02\",\"2015-12-03\",\"2015-12-04\",\"2015-12-07\",\"2015-12-08\",\"2015-12-09\",\"2015-12-10\",\"2015-12-11\",\"2015-12-14\",\"2015-12-15\",\"2015-12-16\",\"2015-12-17\",\"2015-12-18\",\"2015-12-21\",\"2015-12-22\",\"2015-12-23\",\"2015-12-28\",\"2015-12-29\",\"2015-12-30\",\"2016-01-04\",\"2016-01-05\",\"2016-01-06\",\"2016-01-07\",\"2016-01-08\",\"2016-01-11\",\"2016-01-12\",\"2016-01-13\",\"2016-01-14\",\"2016-01-15\",\"2016-01-18\",\"2016-01-19\",\"2016-01-20\",\"2016-01-21\",\"2016-01-22\",\"2016-01-26\",\"2016-01-27\",\"2016-01-28\",\"2016-01-29\",\"2016-02-01\",\"2016-02-02\",\"2016-02-03\",\"2016-02-04\",\"2016-02-05\",\"2016-02-10\",\"2016-02-11\",\"2016-02-12\",\"2016-02-15\",\"2016-02-16\",\"2016-02-17\",\"2016-02-18\",\"2016-02-19\",\"2016-02-22\",\"2016-02-23\",\"2016-02-24\",\"2016-02-25\",\"2016-02-26\",\"2016-02-29\",\"2016-03-01\",\"2016-03-02\",\"2016-03-03\",\"2016-03-04\",\"2016-03-07\",\"2016-03-08\",\"2016-03-09\",\"2016-03-10\",\"2016-03-11\",\"2016-03-14\",\"2016-03-15\",\"2016-03-16\",\"2016-03-17\",\"2016-03-18\",\"2016-03-21\",\"2016-03-22\",\"2016-03-23\",\"2016-03-24\",\"2016-03-28\",\"2016-03-29\",\"2016-03-30\",\"2016-03-31\",\"2016-04-01\",\"2016-04-04\",\"2016-04-05\",\"2016-04-06\",\"2016-04-07\",\"2016-04-08\",\"2016-04-11\",\"2016-04-12\",\"2016-04-13\",\"2016-04-14\",\"2016-04-15\",\"2016-04-18\",\"2016-04-19\",\"2016-04-20\",\"2016-04-22\",\"2016-04-25\",\"2016-04-26\",\"2016-04-27\",\"2016-04-28\",\"2016-04-29\",\"2016-05-02\",\"2016-05-03\",\"2016-05-04\",\"2016-05-05\",\"2016-05-06\",\"2016-05-09\",\"2016-05-10\",\"2016-05-11\",\"2016-05-12\",\"2016-05-13\",\"2016-05-16\",\"2016-05-17\",\"2016-05-18\",\"2016-05-19\",\"2016-05-20\",\"2016-05-23\",\"2016-05-24\",\"2016-05-25\",\"2016-05-27\",\"2016-05-30\",\"2016-05-31\",\"2016-06-01\",\"2016-06-02\",\"2016-06-03\",\"2016-06-06\",\"2016-06-07\",\"2016-06-08\",\"2016-06-09\",\"2016-06-10\",\"2016-06-13\",\"2016-06-14\",\"2016-06-15\",\"2016-06-16\",\"2016-06-17\",\"2016-06-20\",\"2016-06-21\",\"2016-06-22\",\"2016-06-23\",\"2016-06-24\",\"2016-06-27\",\"2016-06-28\",\"2016-06-29\",\"2016-06-30\",\"2016-07-01\",\"2016-07-04\",\"2016-07-05\",\"2016-07-06\",\"2016-07-07\",\"2016-07-08\",\"2016-07-11\",\"2016-07-12\",\"2016-07-13\",\"2016-07-14\",\"2016-07-15\",\"2016-07-18\",\"2016-07-19\",\"2016-07-20\",\"2016-07-21\",\"2016-07-22\",\"2016-07-25\",\"2016-07-26\",\"2016-07-27\",\"2016-07-28\",\"2016-07-29\",\"2016-08-01\",\"2016-08-02\",\"2016-08-03\",\"2016-08-04\",\"2016-08-05\",\"2016-08-08\",\"2016-08-09\",\"2016-08-10\",\"2016-08-11\",\"2016-08-12\",\"2016-08-15\",\"2016-08-16\",\"2016-08-17\",\"2016-08-18\",\"2016-08-19\",\"2016-08-22\",\"2016-08-23\",\"2016-08-24\",\"2016-08-25\",\"2016-08-26\",\"2016-08-29\",\"2016-08-30\",\"2016-08-31\",\"2016-09-01\",\"2016-09-02\",\"2016-09-05\",\"2016-09-06\",\"2016-09-08\",\"2016-09-09\",\"2016-09-12\",\"2016-09-13\",\"2016-09-14\",\"2016-09-15\",\"2016-09-16\",\"2016-09-19\",\"2016-09-20\",\"2016-09-21\",\"2016-09-22\",\"2016-09-23\",\"2016-09-26\",\"2016-09-27\",\"2016-09-28\",\"2016-09-29\",\"2016-09-30\",\"2016-10-03\",\"2016-10-04\",\"2016-10-05\",\"2016-10-06\",\"2016-10-07\",\"2016-10-10\",\"2016-10-11\",\"2016-10-13\",\"2016-10-14\",\"2016-10-17\",\"2016-10-18\",\"2016-10-19\",\"2016-10-20\",\"2016-10-21\",\"2016-10-24\",\"2016-10-25\",\"2016-10-26\",\"2016-10-27\",\"2016-10-28\",\"2016-10-31\",\"2016-11-01\",\"2016-11-03\",\"2016-11-04\",\"2016-11-07\",\"2016-11-08\",\"2016-11-09\",\"2016-11-10\",\"2016-11-11\",\"2016-11-14\",\"2016-11-16\",\"2016-11-17\",\"2016-11-18\",\"2016-11-21\",\"2016-11-22\",\"2016-11-23\",\"2016-11-24\",\"2016-11-25\",\"2016-11-28\",\"2016-11-29\",\"2016-11-30\",\"2016-12-01\",\"2016-12-02\",\"2016-12-05\",\"2016-12-06\",\"2016-12-07\",\"2016-12-08\",\"2016-12-09\",\"2016-12-12\",\"2016-12-13\",\"2016-12-14\",\"2016-12-15\",\"2016-12-16\",\"2016-12-19\",\"2016-12-20\",\"2016-12-21\",\"2016-12-22\",\"2016-12-23\",\"2016-12-26\",\"2016-12-27\",\"2016-12-28\",\"2016-12-29\",\"2017-01-02\",\"2017-01-03\",\"2017-01-04\",\"2017-01-05\",\"2017-01-06\",\"2017-01-09\",\"2017-01-10\",\"2017-01-11\",\"2017-01-12\",\"2017-01-13\",\"2017-01-16\",\"2017-01-17\",\"2017-01-18\",\"2017-01-19\",\"2017-01-20\",\"2017-01-23\",\"2017-01-24\",\"2017-01-26\",\"2017-01-27\",\"2017-01-30\",\"2017-01-31\",\"2017-02-01\",\"2017-02-02\",\"2017-02-03\",\"2017-02-06\",\"2017-02-07\",\"2017-02-08\",\"2017-02-09\",\"2017-02-10\",\"2017-02-13\",\"2017-02-14\",\"2017-02-15\",\"2017-02-16\",\"2017-02-17\",\"2017-02-20\",\"2017-02-21\",\"2017-02-22\",\"2017-02-23\",\"2017-02-24\",\"2017-03-01\",\"2017-03-02\",\"2017-03-03\",\"2017-03-06\",\"2017-03-07\",\"2017-03-08\",\"2017-03-09\",\"2017-03-10\",\"2017-03-13\",\"2017-03-14\",\"2017-03-15\",\"2017-03-16\",\"2017-03-17\",\"2017-03-20\",\"2017-03-21\",\"2017-03-22\",\"2017-03-23\",\"2017-03-24\",\"2017-03-27\",\"2017-03-28\",\"2017-03-29\",\"2017-03-30\",\"2017-03-31\",\"2017-04-03\",\"2017-04-04\",\"2017-04-05\",\"2017-04-06\",\"2017-04-07\",\"2017-04-10\",\"2017-04-11\",\"2017-04-12\",\"2017-04-13\",\"2017-04-17\",\"2017-04-18\",\"2017-04-19\",\"2017-04-20\",\"2017-04-24\",\"2017-04-25\",\"2017-04-26\",\"2017-04-27\",\"2017-04-28\",\"2017-05-02\",\"2017-05-03\",\"2017-05-04\",\"2017-05-05\",\"2017-05-08\",\"2017-05-09\",\"2017-05-10\",\"2017-05-11\",\"2017-05-12\",\"2017-05-15\",\"2017-05-16\",\"2017-05-17\",\"2017-05-18\",\"2017-05-19\",\"2017-05-22\",\"2017-05-23\",\"2017-05-24\",\"2017-05-25\",\"2017-05-26\",\"2017-05-29\",\"2017-05-30\",\"2017-05-31\",\"2017-06-01\",\"2017-06-02\",\"2017-06-05\",\"2017-06-06\",\"2017-06-07\",\"2017-06-08\",\"2017-06-09\",\"2017-06-12\",\"2017-06-13\",\"2017-06-14\",\"2017-06-15\",\"2017-06-16\",\"2017-06-19\",\"2017-06-20\",\"2017-06-21\",\"2017-06-22\",\"2017-06-23\",\"2017-06-26\",\"2017-06-27\",\"2017-06-28\",\"2017-06-29\",\"2017-06-30\",\"2017-07-03\",\"2017-07-04\",\"2017-07-05\",\"2017-07-06\",\"2017-07-07\",\"2017-07-10\",\"2017-07-11\",\"2017-07-12\",\"2017-07-13\",\"2017-07-14\",\"2017-07-17\",\"2017-07-18\",\"2017-07-19\",\"2017-07-20\",\"2017-07-21\",\"2017-07-24\",\"2017-07-25\",\"2017-07-26\",\"2017-07-27\",\"2017-07-28\",\"2017-07-31\",\"2017-08-01\",\"2017-08-02\",\"2017-08-03\",\"2017-08-04\",\"2017-08-07\",\"2017-08-08\",\"2017-08-09\",\"2017-08-10\",\"2017-08-11\",\"2017-08-14\",\"2017-08-15\",\"2017-08-16\",\"2017-08-17\",\"2017-08-18\",\"2017-08-21\",\"2017-08-22\",\"2017-08-23\",\"2017-08-24\",\"2017-08-25\",\"2017-08-28\",\"2017-08-29\",\"2017-08-30\",\"2017-08-31\",\"2017-09-01\",\"2017-09-04\",\"2017-09-05\",\"2017-09-06\",\"2017-09-07\",\"2017-09-08\",\"2017-09-11\",\"2017-09-12\",\"2017-09-13\",\"2017-09-14\",\"2017-09-15\",\"2017-09-18\",\"2017-09-19\",\"2017-09-20\",\"2017-09-21\",\"2017-09-22\",\"2017-09-25\",\"2017-09-26\",\"2017-09-27\",\"2017-09-28\",\"2017-09-29\",\"2017-10-02\",\"2017-10-03\",\"2017-10-04\",\"2017-10-05\",\"2017-10-06\",\"2017-10-09\",\"2017-10-10\",\"2017-10-11\",\"2017-10-12\",\"2017-10-13\",\"2017-10-16\",\"2017-10-17\",\"2017-10-18\",\"2017-10-19\",\"2017-10-20\",\"2017-10-23\",\"2017-10-24\",\"2017-10-25\",\"2017-10-26\",\"2017-10-27\",\"2017-10-30\",\"2017-10-31\",\"2017-11-01\",\"2017-11-02\",\"2017-11-03\",\"2017-11-06\",\"2017-11-07\",\"2017-11-08\",\"2017-11-09\",\"2017-11-10\",\"2017-11-13\",\"2017-11-14\",\"2017-11-15\",\"2017-11-16\",\"2017-11-17\",\"2017-11-20\",\"2017-11-21\",\"2017-11-22\",\"2017-11-23\",\"2017-11-24\",\"2017-11-27\",\"2017-11-28\",\"2017-11-29\",\"2017-11-30\",\"2017-12-01\",\"2017-12-04\",\"2017-12-05\",\"2017-12-06\",\"2017-12-07\",\"2017-12-08\",\"2017-12-11\",\"2017-12-12\",\"2017-12-13\",\"2017-12-14\",\"2017-12-15\",\"2017-12-18\",\"2017-12-19\",\"2017-12-20\",\"2017-12-21\",\"2017-12-22\",\"2017-12-25\",\"2017-12-26\",\"2017-12-27\",\"2017-12-28\",\"2017-12-29\",\"2018-01-02\",\"2018-01-03\",\"2018-01-04\",\"2018-01-05\",\"2018-01-08\",\"2018-01-09\",\"2018-01-10\",\"2018-01-11\",\"2018-01-12\",\"2018-01-15\",\"2018-01-16\",\"2018-01-17\",\"2018-01-18\",\"2018-01-19\",\"2018-01-22\",\"2018-01-23\",\"2018-01-24\",\"2018-01-25\",\"2018-01-26\",\"2018-01-29\",\"2018-01-30\",\"2018-01-31\",\"2018-02-01\",\"2018-02-02\",\"2018-02-05\",\"2018-02-06\",\"2018-02-07\",\"2018-02-08\",\"2018-02-09\",\"2018-02-15\",\"2018-02-16\",\"2018-02-19\",\"2018-02-20\",\"2018-02-21\",\"2018-02-22\",\"2018-02-23\",\"2018-02-26\",\"2018-02-27\",\"2018-02-28\",\"2018-03-01\",\"2018-03-02\",\"2018-03-05\",\"2018-03-06\",\"2018-03-07\",\"2018-03-08\",\"2018-03-09\",\"2018-03-12\",\"2018-03-13\",\"2018-03-14\",\"2018-03-15\",\"2018-03-16\",\"2018-03-19\",\"2018-03-20\",\"2018-03-21\",\"2018-03-22\",\"2018-03-23\",\"2018-03-26\",\"2018-03-27\",\"2018-03-28\",\"2018-03-29\",\"2018-04-02\",\"2018-04-03\",\"2018-04-04\",\"2018-04-05\",\"2018-04-06\",\"2018-04-09\",\"2018-04-10\",\"2018-04-11\",\"2018-04-12\",\"2018-04-13\",\"2018-04-16\",\"2018-04-17\",\"2018-04-18\",\"2018-04-19\",\"2018-04-20\",\"2018-04-23\",\"2018-04-24\",\"2018-04-25\",\"2018-04-26\",\"2018-04-27\",\"2018-04-30\",\"2018-05-02\",\"2018-05-03\",\"2018-05-04\",\"2018-05-07\",\"2018-05-08\",\"2018-05-09\",\"2018-05-10\",\"2018-05-11\",\"2018-05-14\",\"2018-05-15\",\"2018-05-16\",\"2018-05-17\",\"2018-05-18\",\"2018-05-21\",\"2018-05-22\",\"2018-05-23\",\"2018-05-24\",\"2018-05-25\",\"2018-05-28\",\"2018-05-29\",\"2018-05-30\",\"2018-06-01\",\"2018-06-04\",\"2018-06-05\",\"2018-06-06\",\"2018-06-07\",\"2018-06-08\",\"2018-06-11\",\"2018-06-12\",\"2018-06-13\",\"2018-06-14\",\"2018-06-15\",\"2018-06-18\",\"2018-06-19\",\"2018-06-20\",\"2018-06-21\",\"2018-06-22\",\"2018-06-25\",\"2018-06-26\",\"2018-06-27\",\"2018-06-28\",\"2018-06-29\",\"2018-07-02\",\"2018-07-03\",\"2018-07-04\",\"2018-07-05\",\"2018-07-06\",\"2018-07-10\",\"2018-07-11\",\"2018-07-12\",\"2018-07-13\",\"2018-07-16\",\"2018-07-17\",\"2018-07-18\",\"2018-07-19\",\"2018-07-20\",\"2018-07-23\",\"2018-07-24\",\"2018-07-25\",\"2018-07-26\",\"2018-07-27\",\"2018-07-30\",\"2018-07-31\",\"2018-08-01\",\"2018-08-02\",\"2018-08-03\",\"2018-08-06\",\"2018-08-07\",\"2018-08-08\",\"2018-08-09\",\"2018-08-10\",\"2018-08-13\",\"2018-08-14\",\"2018-08-15\",\"2018-08-16\",\"2018-08-17\",\"2018-08-20\",\"2018-08-21\",\"2018-08-22\",\"2018-08-23\",\"2018-08-24\",\"2018-08-27\",\"2018-08-28\",\"2018-08-29\",\"2018-08-30\",\"2018-08-31\",\"2018-09-03\",\"2018-09-04\",\"2018-09-05\",\"2018-09-06\",\"2018-09-10\",\"2018-09-11\",\"2018-09-12\",\"2018-09-13\",\"2018-09-14\",\"2018-09-17\",\"2018-09-18\",\"2018-09-19\",\"2018-09-20\",\"2018-09-21\",\"2018-09-24\",\"2018-09-25\",\"2018-09-26\",\"2018-09-27\",\"2018-09-28\",\"2018-10-01\",\"2018-10-02\",\"2018-10-03\",\"2018-10-04\",\"2018-10-05\",\"2018-10-08\",\"2018-10-09\",\"2018-10-10\",\"2018-10-11\",\"2018-10-15\",\"2018-10-16\",\"2018-10-17\",\"2018-10-18\",\"2018-10-19\",\"2018-10-22\",\"2018-10-23\",\"2018-10-24\",\"2018-10-25\",\"2018-10-26\",\"2018-10-29\",\"2018-10-30\",\"2018-10-31\",\"2018-11-01\",\"2018-11-05\",\"2018-11-06\",\"2018-11-07\",\"2018-11-08\",\"2018-11-09\",\"2018-11-12\",\"2018-11-13\",\"2018-11-14\",\"2018-11-16\",\"2018-11-19\",\"2018-11-21\",\"2018-11-22\",\"2018-11-23\",\"2018-11-26\",\"2018-11-27\",\"2018-11-28\",\"2018-11-29\",\"2018-11-30\",\"2018-12-03\",\"2018-12-04\",\"2018-12-05\",\"2018-12-06\",\"2018-12-07\",\"2018-12-10\",\"2018-12-11\",\"2018-12-12\",\"2018-12-13\",\"2018-12-14\",\"2018-12-17\",\"2018-12-18\",\"2018-12-19\",\"2018-12-20\",\"2018-12-21\",\"2018-12-26\",\"2018-12-27\",\"2018-12-28\",\"2019-01-02\",\"2019-01-03\",\"2019-01-04\",\"2019-01-07\",\"2019-01-08\",\"2019-01-09\",\"2019-01-10\",\"2019-01-11\",\"2019-01-14\",\"2019-01-15\",\"2019-01-16\",\"2019-01-17\",\"2019-01-18\",\"2019-01-21\",\"2019-01-22\",\"2019-01-23\",\"2019-01-24\",\"2019-01-28\",\"2019-01-29\",\"2019-01-30\",\"2019-01-31\",\"2019-02-01\",\"2019-02-04\",\"2019-02-05\",\"2019-02-06\",\"2019-02-07\",\"2019-02-08\",\"2019-02-11\",\"2019-02-12\",\"2019-02-13\",\"2019-02-14\",\"2019-02-15\",\"2019-02-18\",\"2019-02-19\",\"2019-02-20\",\"2019-02-21\",\"2019-02-22\",\"2019-02-25\",\"2019-02-26\",\"2019-02-27\",\"2019-02-28\",\"2019-03-01\",\"2019-03-07\",\"2019-03-08\",\"2019-03-11\",\"2019-03-12\",\"2019-03-13\",\"2019-03-14\",\"2019-03-15\",\"2019-03-18\",\"2019-03-19\",\"2019-03-20\",\"2019-03-21\",\"2019-03-22\",\"2019-03-25\",\"2019-03-26\",\"2019-03-27\",\"2019-03-28\",\"2019-03-29\",\"2019-04-01\",\"2019-04-02\",\"2019-04-03\",\"2019-04-04\",\"2019-04-05\",\"2019-04-08\",\"2019-04-09\",\"2019-04-10\",\"2019-04-11\",\"2019-04-12\",\"2019-04-15\",\"2019-04-16\",\"2019-04-17\",\"2019-04-18\",\"2019-04-22\",\"2019-04-23\",\"2019-04-24\",\"2019-04-25\",\"2019-04-26\",\"2019-04-29\",\"2019-04-30\",\"2019-05-02\",\"2019-05-03\",\"2019-05-06\",\"2019-05-07\",\"2019-05-08\",\"2019-05-09\",\"2019-05-10\",\"2019-05-13\",\"2019-05-14\",\"2019-05-15\",\"2019-05-16\",\"2019-05-17\",\"2019-05-20\",\"2019-05-21\",\"2019-05-22\",\"2019-05-23\",\"2019-05-24\",\"2019-05-27\",\"2019-05-28\",\"2019-05-29\",\"2019-05-30\",\"2019-05-31\",\"2019-06-03\",\"2019-06-04\",\"2019-06-05\",\"2019-06-06\",\"2019-06-07\",\"2019-06-10\",\"2019-06-11\",\"2019-06-12\",\"2019-06-13\",\"2019-06-14\",\"2019-06-17\",\"2019-06-18\",\"2019-06-19\",\"2019-06-21\",\"2019-06-24\",\"2019-06-25\",\"2019-06-26\",\"2019-06-27\",\"2019-06-28\",\"2019-07-01\",\"2019-07-02\",\"2019-07-03\",\"2019-07-04\",\"2019-07-05\",\"2019-07-08\",\"2019-07-10\",\"2019-07-11\",\"2019-07-12\",\"2019-07-15\",\"2019-07-16\",\"2019-07-17\",\"2019-07-18\",\"2019-07-19\",\"2019-07-22\",\"2019-07-23\",\"2019-07-24\",\"2019-07-25\",\"2019-07-26\",\"2019-07-29\",\"2019-07-30\",\"2019-07-31\",\"2019-08-01\",\"2019-08-02\",\"2019-08-05\",\"2019-08-06\",\"2019-08-07\",\"2019-08-08\",\"2019-08-09\",\"2019-08-12\",\"2019-08-13\",\"2019-08-14\",\"2019-08-15\",\"2019-08-16\",\"2019-08-19\",\"2019-08-20\",\"2019-08-21\",\"2019-08-22\",\"2019-08-23\",\"2019-08-26\",\"2019-08-27\",\"2019-08-28\",\"2019-08-29\",\"2019-08-30\",\"2019-09-02\",\"2019-09-03\",\"2019-09-04\",\"2019-09-05\",\"2019-09-06\",\"2019-09-09\",\"2019-09-10\",\"2019-09-11\",\"2019-09-12\",\"2019-09-13\",\"2019-09-16\",\"2019-09-17\",\"2019-09-18\",\"2019-09-19\",\"2019-09-20\",\"2019-09-23\",\"2019-09-24\",\"2019-09-25\",\"2019-09-26\",\"2019-09-27\",\"2019-09-30\",\"2019-10-01\",\"2019-10-02\",\"2019-10-03\",\"2019-10-04\",\"2019-10-07\",\"2019-10-08\",\"2019-10-09\",\"2019-10-10\",\"2019-10-11\",\"2019-10-14\",\"2019-10-15\",\"2019-10-16\",\"2019-10-17\",\"2019-10-18\",\"2019-10-21\",\"2019-10-22\",\"2019-10-23\",\"2019-10-24\",\"2019-10-25\",\"2019-10-28\",\"2019-10-29\",\"2019-10-30\",\"2019-10-31\",\"2019-11-01\",\"2019-11-04\",\"2019-11-05\",\"2019-11-06\",\"2019-11-07\",\"2019-11-08\",\"2019-11-11\",\"2019-11-12\",\"2019-11-13\",\"2019-11-14\",\"2019-11-18\",\"2019-11-19\",\"2019-11-21\",\"2019-11-22\",\"2019-11-25\",\"2019-11-26\",\"2019-11-27\",\"2019-11-28\",\"2019-11-29\",\"2019-12-02\",\"2019-12-03\",\"2019-12-04\",\"2019-12-05\",\"2019-12-06\",\"2019-12-09\",\"2019-12-10\",\"2019-12-11\",\"2019-12-12\",\"2019-12-13\",\"2019-12-16\",\"2019-12-17\",\"2019-12-18\",\"2019-12-19\",\"2019-12-20\",\"2019-12-23\",\"2019-12-26\",\"2019-12-27\",\"2019-12-30\",\"2020-01-02\",\"2020-01-03\",\"2020-01-06\",\"2020-01-07\",\"2020-01-08\",\"2020-01-09\",\"2020-01-10\",\"2020-01-13\",\"2020-01-14\",\"2020-01-15\",\"2020-01-16\",\"2020-01-17\",\"2020-01-20\",\"2020-01-21\",\"2020-01-22\",\"2020-01-23\",\"2020-01-24\",\"2020-01-27\",\"2020-01-28\",\"2020-01-29\",\"2020-01-30\",\"2020-01-31\",\"2020-02-03\",\"2020-02-04\",\"2020-02-05\",\"2020-02-06\",\"2020-02-07\",\"2020-02-10\",\"2020-02-11\",\"2020-02-12\",\"2020-02-13\",\"2020-02-14\",\"2020-02-17\",\"2020-02-18\",\"2020-02-19\",\"2020-02-20\",\"2020-02-21\",\"2020-02-27\",\"2020-02-28\",\"2020-03-02\",\"2020-03-03\",\"2020-03-04\",\"2020-03-05\",\"2020-03-06\",\"2020-03-09\",\"2020-03-10\",\"2020-03-11\",\"2020-03-12\",\"2020-03-13\",\"2020-03-16\",\"2020-03-17\",\"2020-03-18\",\"2020-03-19\",\"2020-03-20\",\"2020-03-23\",\"2020-03-24\",\"2020-03-25\",\"2020-03-26\",\"2020-03-27\",\"2020-03-30\",\"2020-03-31\",\"2020-04-01\",\"2020-04-02\",\"2020-04-03\",\"2020-04-06\",\"2020-04-07\",\"2020-04-08\",\"2020-04-09\",\"2020-04-13\",\"2020-04-14\",\"2020-04-15\",\"2020-04-16\",\"2020-04-17\",\"2020-04-20\",\"2020-04-22\",\"2020-04-23\",\"2020-04-24\",\"2020-04-27\",\"2020-04-28\",\"2020-04-29\",\"2020-04-30\",\"2020-05-04\",\"2020-05-05\",\"2020-05-06\",\"2020-05-07\",\"2020-05-08\",\"2020-05-11\",\"2020-05-12\",\"2020-05-13\",\"2020-05-14\",\"2020-05-15\",\"2020-05-18\",\"2020-05-19\",\"2020-05-20\",\"2020-05-21\",\"2020-05-22\",\"2020-05-25\",\"2020-05-26\",\"2020-05-27\",\"2020-05-28\",\"2020-05-29\",\"2020-06-01\",\"2020-06-02\",\"2020-06-03\",\"2020-06-04\",\"2020-06-05\",\"2020-06-08\",\"2020-06-09\",\"2020-06-10\",\"2020-06-12\",\"2020-06-15\",\"2020-06-16\",\"2020-06-17\",\"2020-06-18\",\"2020-06-19\",\"2020-06-22\",\"2020-06-23\",\"2020-06-24\",\"2020-06-25\",\"2020-06-26\",\"2020-06-29\",\"2020-06-30\",\"2020-07-01\",\"2020-07-02\",\"2020-07-08\",\"2020-07-09\",\"2020-07-10\",\"2020-07-13\",\"2020-07-14\",\"2020-07-15\",\"2020-07-16\",\"2020-07-17\",\"2020-07-20\",\"2020-07-21\",\"2020-07-22\",\"2020-07-23\",\"2020-07-24\",\"2020-07-27\",\"2020-07-28\",\"2020-07-29\",\"2020-07-30\",\"2020-07-31\",\"2020-08-03\",\"2020-08-04\",\"2020-08-05\",\"2020-08-06\",\"2020-08-07\",\"2020-08-10\",\"2020-08-11\",\"2020-08-12\",\"2020-08-13\",\"2020-08-14\",\"2020-08-17\",\"2020-08-18\",\"2020-08-19\",\"2020-08-20\",\"2020-08-21\",\"2020-08-24\",\"2020-08-25\",\"2020-08-26\",\"2020-08-27\",\"2020-08-28\",\"2020-08-31\",\"2020-09-01\",\"2020-09-02\",\"2020-09-03\",\"2020-09-04\",\"2020-09-08\",\"2020-09-09\",\"2020-09-10\",\"2020-09-11\",\"2020-09-14\",\"2020-09-15\",\"2020-09-16\",\"2020-09-17\",\"2020-09-18\",\"2020-09-21\",\"2020-09-22\",\"2020-09-23\",\"2020-09-24\",\"2020-09-28\",\"2020-09-29\",\"2020-09-30\",\"2020-10-01\",\"2020-10-02\",\"2020-10-05\",\"2020-10-06\",\"2020-10-07\",\"2020-10-08\",\"2020-10-09\",\"2020-10-13\",\"2020-10-14\",\"2020-10-15\",\"2020-10-16\",\"2020-10-19\",\"2020-10-20\",\"2020-10-21\",\"2020-10-22\",\"2020-10-23\",\"2020-10-26\",\"2020-10-27\",\"2020-10-28\",\"2020-10-29\",\"2020-10-30\",\"2020-11-03\"],\"y\":[1.0,0.9868421176463945,0.973684235292789,0.9651315960775123,0.9309210392164058,0.9210526431366348,0.8848684196079206,0.9138158235275848,0.9059210941154215,0.9210526431366348,0.9322368588226324,0.9440789843117438,0.9210526431366348,0.9276316156843037,0.9401315882347959,0.9434210745086303,0.9177631568628004,0.9013157882353605,0.8684210509804807,0.8684210509804807,0.8302631607841587,0.8421052862732697,0.9013157882353605,0.8789473568633651,0.9013157882353605,0.9440789843117438,0.9638157764712857,0.9539473803915147,0.9572368666653491,0.9572368666653491,0.9802631450987256,0.9638157764712857,0.9638157764712857,0.9605263529391836,0.9407894980379092,0.9440789843117438,0.9513158039207936,0.9434210745086303,0.9401315882347959,0.9322368588226324,0.9276316156843037,0.9401315882347959,0.9368421019609615,0.9309210392164058,0.9000000313708659,0.9144736705889659,0.9111842470568638,0.9210526431366348,0.9013157882353605,0.8874999960786417,0.888157905881755,0.9111842470568638,0.9309210392164058,0.9210526431366348,0.9144736705889659,0.894736878429424,0.9375000117640748,0.9276316156843037,0.9276316156843037,0.8921053019587027,0.9309210392164058,0.9309210392164058,0.9375000117640748,0.9769737215666235,0.9684210823513468,1.0263158274489432,1.0684210509804808,1.0427631960763832,1.059210564703823,1.0657895372514918,1.071052690192934,1.038157890196322,1.0361842235287142,1.0789473568633652,1.1315790117612514,1.1506578941176804,1.2098683960797714,1.2006579098031134,1.1710525960803357,1.1414474078410224,1.1407894980379092,1.1578947764684624,1.1480263803886912,1.1447368313731248,1.1414474078410224,1.1361842548995802,1.1157894274534605,1.1151316431338114,1.1184210666659138,1.1578947764684624,1.21644736862744,1.2368420705900953,1.2328947372548797,1.2302632235258908,1.250000015685433,1.2598684117652044,1.250000015685433,1.2434210431377644,1.2210526117657687,1.2532894392175353,1.2828947529403127,1.2532894392175353,1.2723684470574284,1.2828947529403127,1.2684211137222128,1.23092100784554,1.2105263058828846,1.2203947019626555,1.2171052784305532,1.1921053333295688,1.176315749021778,1.1809211176435712,1.1710525960803357,1.1940789372554448,1.2059210627445553,1.1953947568616712,1.1842105411756734,1.1842105411756734,1.1611842000005648,1.2006579098031134,1.1874999647077757,1.2368420705900953,1.2269736745103246,1.2171052784305532,1.2598684117652044,1.2302632235258908,1.2171052784305532,1.2026316392124532,1.223684250978222,1.2506579254885466,1.3059210941154216,1.3026315450998551,1.3125000666630904,1.2993421215677528,1.3026315450998551,1.2993421215677528,1.2625000509776574,1.2434210431377644,1.2368420705900953,1.2203947019626555,1.1907895137233422,1.21644736862744,1.1835526313725602,1.2302632235258908,1.1874999647077757,1.1842105411756734,1.2039473333352155,1.1776315686280046,1.1842105411756734,1.1842105411756734,1.1644737490161312,1.1644737490161312,1.1578947764684624,1.1414474078410224,1.1250000392135826,1.1177631568628004,1.1184210666659138,1.1013157882353606,1.1019736980384738,1.1184210666659138,1.095394725490805,1.1282894627456848,1.1052631215705762,1.1052631215705762,1.0914473921555894,1.0723683843156964,1.0394737098025486,1.069078960783594,1.085526329411034,1.1078947607830294,1.0986842745063716,1.059210564703823,1.0407894666670432,1.0263158274489432,1.0296052509810454,1.0493421058823198,1.0552632313686074,1.0756579333312628,1.0276315843134376,0.9868421176463945,0.9427631647055171,0.9210526431366348,0.9111842470568638,0.894736878429424,0.8750000235281495,0.9078947607830293,0.9078947607830293,0.9013157882353605,0.895394725490805,0.9092105176475239,0.9098684274506372,0.9256578862749639,0.973684235292789,0.9414474078410225,0.9440789843117438,0.9467105607824647,0.9769737215666235,1.0,1.0493421058823198,1.0105263058828844,1.01644736862744,1.011842125489111,0.9414474078410225,0.9256578862749639,0.959210533332957,0.9539473803915147,0.9605263529391836,0.9868421176463945,0.9934210901940634,1.0,0.9671052627451202,0.9671052627451202,0.9703947490189546,0.9848684509787867,0.973684235292789,0.9539473803915147,0.9539473803915147,0.9539473803915147,0.9539473803915147,0.9407894980379092,0.9539473803915147,0.9342105254902404,0.9375000117640748,0.9815789647049522,0.9407894980379092,0.9078947607830293,0.9144736705889659,0.9019736980384738,0.8914473921555894,0.8815789333340861,0.8782895098019841,0.8605263215683175,0.8552631686268752,0.8684210509804807,0.8750000235281495,0.8552631686268752,0.8519736823530408,0.8552631686268752,0.8815789333340861,0.8500000156854329,0.8223684313719954,0.8125000352922245,0.8210526117657688,0.819078945098161,0.8618421411745442,0.888157905881755,0.8243420980396032,0.8236842509782221,0.8,0.7967105137261656,0.7993420901968866,0.8131578823536055,0.8223684313719954,0.8085526392152766,0.8230263411751088,0.8039473960769478,0.8151316117629455,0.8171052784305531,0.8157894588243265,0.8256579176458299,0.8486841960792063,0.8098684588215033,0.859210564703823,0.8427631960763831,0.8223684313719954,0.8223684313719954,0.8223684313719954,0.8026315764707211,0.8223684313719954,0.7907895137233422,0.7467105607824648,0.7105263372537505,0.7394736784316825,0.7289473725487983,0.7335526156871269,0.7296052823519115,0.7894736941171157,0.7960526666647846,0.7927631803909501,0.7894736941171157,0.7894736941171157,0.7907895137233422,0.8453947725471043,0.8677631411773674,0.8848684196079206,0.9243421294104692,0.9388158313703013,1.0,0.9894736941171156,0.9769737215666235,0.9934210901940634,1.0414473764701566,1.069078960783594,1.059210564703823,0.9842105411756734,0.9914473607847235,1.0598684745069362,1.111842094118245,1.1026316078415872,1.085526329411034,1.0657895372514918,1.0493421058823198,1.092763211761816,1.1282894627456848,1.1184210666659138,1.1013157882353606,1.119078976469027,1.1184210666659138,1.138157858825456,1.1348684352933536,1.1776315686280046,1.2203947019626555,1.2565789882331018,1.2809210235309727,1.2460526823502174,1.2059210627445553,1.2427631333346512,1.266447384312873,1.2828947529403127,1.2763157803926444,1.2815789333340861,1.2697368078449751,1.2796053294082106,1.2506579254885466,1.2374999803932087,1.250000015685433,1.2447368627439908,1.2131579450953376,1.2006579098031134,1.178289478431118,1.2052631529414422,1.2032895490155666,1.257236898036215,1.2625000509776574,1.3164473999983062,1.3092105176475242,1.3342105882319726,1.3269737058811903,1.3322368588226325,1.3026315450998551,1.3059210941154216,1.3059210941154216,1.319078913727295,1.3434210745086304,1.3868421176463943,1.3730263882314078,1.4078947294121635,1.3749999921572837,1.3486842274500725,1.369078929412728,1.3453948039179702,1.3684210196096147,1.37828954117285,1.3749999921572837,1.3677632352899656,1.3519736509821747,1.3223684627428616,1.3763158117635101,1.3776316313697368,1.37828954117285,1.37828954117285,1.382894784311179,1.4078947294121635,1.4177631254919343,1.3815789647049523,1.3815789647049523,1.4111842784277298,1.4769737529374896,1.5059210313736897,1.4973684549001451,1.523026309804243,1.523026309804243,1.5164473372565739,1.5730263254896757,1.5677631725482333,1.5789473882342313,1.5855263607819001,1.6105263058828845,1.6776315999988707,1.6513158352916597,1.6993421215677524,1.698026301961526,1.656578988233102,1.6697368078449752,1.6894737254879817,1.6552631686268753,1.7039473647060819,1.644736862743991,1.4085526392152765,1.421052674507501,1.4375000431349407,1.419078945098161,1.4243420980396035,1.4618420784328117,1.4921053019587027,1.4375000431349407,1.4078947294121635,1.4013157568644945,1.4901315725493631,1.523684219607356,1.5013157882353605,1.4572368352944833,1.4868421490172605,1.4572368352944833,1.47302629411881,1.447368439214712,1.4605263843100496,1.4230262784333767,1.4276316470551698,1.4407894666670433,1.4539474117623807,1.4901315725493631,1.4769737529374896,1.4743421137250363,1.5006578784322473,1.5131579137244715,1.551973713723907,1.5625000196067913,1.5328947058840137,1.5493420745114537,1.5131579137244715,1.5125000039213583,1.5427632274472491,1.5197368862721403,1.5138158235275851,1.5269736431394583,1.5651316588192445,1.592105333329569,1.5664473529420069,1.543421011766898,1.560526290197451,1.5789473882342313,1.5993420901968867,1.5822368117663335,1.635526376467333,1.623684250978222,1.6381578901963223,1.6335526470579929,1.6315789176486533,1.6368420705900955,1.6105263058828845,1.595394756861671,1.5874999647077757,1.5855263607819001,1.6250000705844487,1.5940789372554445,1.5657894431388937,1.5789473882342313,1.559868380394338,1.5618421098036779,1.5559210470591227,1.5789473882342313,1.592105333329569,1.611842125489111,1.5789473882342313,1.5710525960803359,1.5986841803937735,1.6513158352916597,1.7039473647060819,1.6809210235309728,1.6217105215688823,1.569736901957573,1.5552631372560095,1.5703948117606867,1.5894736941171157,1.576973658824891,1.6052631529414425,1.5664473529420069,1.5296052823519115,1.5394736784316827,1.5532895333301333,1.5460526509793513,1.543421011766898,1.5651316588192445,1.4927632117618161,1.4815789960758183,1.490789482352476,1.5164473372565739,1.5197368862721403,1.5421053176441357,1.5197368862721403,1.5059210313736897,1.507236850979916,1.5315790117612513,1.4999999686291339,1.5394736784316827,1.4927632117618161,1.4585526549007097,1.4644737176452653,1.4546053215654937,1.467105231374254,1.4743421137250363,1.505263121570576,1.5263158588198091,1.559210596074689,1.5144737333306981,1.559868380394338,1.6092104862766579,1.6578948078393285,1.6440789529408775,1.6578948078393285,1.6513158352916597,1.6611842313714307,1.6703947176480887,1.7335526784288593,1.6993421215677524,1.688157905881755,1.6907895450942083,1.6381578901963223,1.706579003918535,1.700000031370866,1.7197368235304085,1.7328947686257459,1.7006579411739793,1.7085526078444102,1.7105263372537505,1.709868427450637,1.714473670588966,1.7453948039179703,1.7164473999983059,1.742763164705517,1.7480263176469593,1.77631581176351,1.783552694114292,1.8256579176458299,1.7986842431355055,1.8486842588209385,1.835526313725601,1.7940789999971767,1.840789466667043,1.8539474117623806,1.8651316274483785,1.8947368156876918,1.8769737529374895,1.8598684745069363,1.8815789960758185,1.8986842745063714,1.9407894980379092,1.9407894980379092,1.9078947607830294,1.9164473372565738,1.966447352942007,1.978947388234231,1.973684235292789,1.9835526313725602,1.9802632078404578,1.957236866665349,1.9342105254902406,1.899999968629134,1.8815789960758185,1.9296052823519112,1.8914473921555894,1.873684203921923,1.8815789960758185,1.9414474078410227,1.9065789411768028,1.9013157882353608,1.8907894823524762,1.9013157882353608,1.8980263647032583,1.9059210313736892,1.9131579137244714,1.8717105999960473,1.8815789960758185,1.8894736627462494,1.9250000392135829,2.0032895490155664,2.009868396079771,2.000657909803113,1.9934210274523312,1.964473749016131,1.9506578941176804,1.9894736941171156,1.9796052980373444,2.0368420705900956,2.0434210431377644,2.069079023525326,2.0361842862704465,2.039473709802549,2.076315780392644,2.0986842117646396,2.1190789137272947,2.0723684470574284,2.1046052745091948,2.06578947450976,2.1506578313759483,2.142105380385868,1.9414474078410227,1.9375000745058069,1.8388158627411675,1.8907894823524762,1.9565789568622358,1.962500019606791,2.0460526823502176,2.0460526823502176,2.0296053137227776,1.973684235292789,1.9638158392130178,2.01644736862744,2.0289474039196644,2.0592105019620908,2.1046052745091948,2.1842106039174056,2.203289611757299,2.1611841372588327,2.22368418823649,2.2368421333318276,2.2368421333318276,2.2532895019592676,2.262499988235925,2.2105262431411523,2.138157921567188,2.1414473450992904,2.140789560779641,2.1842106039174056,2.154605290194628,2.1151317058755437,2.1052631843123084,2.130921039216406,2.154605290194628,2.1611841372588327,2.19078945098161,2.250000078427165,2.238157952938054,2.2250000078427163,2.2276316470551696,2.250000078427165,2.2914475176390536,2.292763086278352,2.243420980396032,2.257236960777947,2.263158023522503,2.301973823521938,2.299999968629134,2.302631607841587,2.335526345096467,2.3289474980322624,2.3519737137239067,2.318421192149378,2.3453948666597024,2.3203947960752536,2.348026254905227,2.309210454905792,2.319078976469027,2.3256578235332315,2.3223684000011295,2.348684290191805,2.3223684000011295,2.2967105450970315,2.319078976469027,2.293421121564929,2.2355263137256007,2.2960527607773824,2.3052632470540404,2.348684290191805,2.351315929404258,2.407236882350782,2.4605264470517816,2.427631709796902,2.4210526117657687,2.427631709796902,2.463815870583884,2.5131579764662035,2.555263199997741,2.50657887843507,2.5217106784232124,2.5460527137210835,2.5460527137210835,2.549342137253186,2.6585526549007095,2.6506579882302783,2.7565790823457,2.7861841451015485,2.782236937249798,2.7796052980373447,2.7526316235270203,2.7723684156865622,2.757236866665349,2.7703948117606867,2.6901315725493626,2.664473717645265,2.5625000823485236,2.644736925485723,2.6940790313680427,2.6710525647094694,2.7263157333363446,2.7815789019632207,2.78947381960058,2.8598685372486683,2.828289619600015,2.865131564706646,2.8967104823553,2.8967104823553,2.927631615684304,2.868420988238748,2.848684196079206,2.9197369490138727,2.9506578313759477,3.006579035289401,2.963815776471286,2.973684298034521,2.950000047056299,2.848684196079206,2.894736878429424,2.838157890196322,2.842105349015002,2.878289509801984,2.878289509801984,2.8125000352922243,2.7763158745052423,2.736842039219229,2.8453947725471043,2.7953948823451356,2.6796052666664782,2.7230263098042427,2.700657878432247,2.700657878432247,2.8414473137284237,2.894736878429424,2.894736878429424,2.989473631375383,3.0328946745131473,3.0164473058857073,3.0690790862670583,3.0125000980339562,3.009868458821503,2.9868422431298587,2.958552749013308,2.942105380385868,2.9723684784282947,2.9506578313759477,2.9671052000033877,2.9565788941205033,2.9934210901940634,2.9532894705884014,2.9644738117578635,2.938815705886837,2.99473690980029,3.0414473764701566,3.059868349023472,2.9921052705878366,3.0131578823536054,3.10526324705404,3.0842106352882714,3.0842106352882714,3.096710545097032,3.1644736235326665,3.190789513723342,3.190789513723342,3.2815790588175506,3.2625000509776574,3.2888159411683326,3.2723685725408926,3.258552592158978,3.2947370039128883,3.2960525725521856,3.3289473098070657,3.297368392158413,3.2960525725521856,3.321710678423212,3.3421052549024037,3.3552631999977414,3.3559209843173905,3.3223684627428614,3.313157976466204,3.444736925485723,3.444736925485723,3.5750000548990157,3.55263162352702,3.516447462740038,3.6269737999937885,3.7125000666630905,3.624999945100984,3.592105207846104,3.661184356854895,3.6184210980367797,3.5967104509844336,3.532894831367478,3.6184210980367797,3.6342106823445706,3.673026482344006,3.6907894196107436,3.6506580509720106,3.6644737803869973,3.7368421019609617,3.7157894901951924,3.694079094109775,3.6934210588231973,3.7125000666630905,3.6480264117595573,3.5980262705906596,3.566447352942007,3.5789475137176954,3.656579113716566,3.74934226273665,3.756578894120503,3.763157992151637,3.7513158666625257,3.7434211999920946,3.818421160778512,3.7105264627372145,3.8026315764707213,3.8131578823536056,3.8388157372577028,3.8289474666613965,3.8657894117680276,3.8552631058851428,3.8815789960758185,3.9901317294036933,3.8809212117561693,3.7638157764712856,3.773026262747943,3.815789521566059,3.861842203916276,3.7953946941199384,3.818421160778512,3.8315791058738498,3.8605263843100497,3.835526313725601,3.7796053607790765,3.819078945098161,3.8815789960758185,3.8447368000022584,3.8006579725448453,3.801973792151072,3.821710584310614,3.7585527490133077,3.782894784311179,3.7967105137261656,3.8151317372464097,3.7184211294076457,3.532894831367478,3.5953948823451354,3.528289588229149,3.5197368862721405,3.5105263999954825,3.537500074505807,3.4105263686246166,3.332236984306097,3.289473725487982,3.416447431369172,3.282894878423777,3.259868411765204,3.3223684627428614,3.509210580389256,3.3546054156780922,3.405921125486288,3.3717105686251814,3.1250000392135826,3.2848684823496526,3.3552631999977414,3.3743422078376346,3.5578949019519266,3.369078929412728,3.1973683607875465,3.081578996075818,3.223684250978222,3.026315827448943,2.888158031365219,2.8125000352922243,2.797368486271011,2.77302645097314,2.8276315843134374,2.9217105529397482,2.975000117640748,2.861842141174544,2.851973619611308,2.894736878429424,2.973684298034521,2.8677632039190994,2.871052627451202,2.973684298034521,2.937500137247539,2.9223683372593974,2.898026301961526,2.8532894392175354,2.7296054078353755,2.6414475019536208,2.644736925485723,2.7263157333363446,2.8453947725471043,2.9532894705884014,2.980263145098726,2.9605263529391834,2.9230263725459746,2.9605263529391834,2.911842031376513,3.0164473058857073,3.113815949011049,2.9855264235236323,2.988815847055734,2.9921052705878366,2.901315725493628,2.9078948235247615,2.8835527882268903,2.987500027449508,2.942105380385868,2.973684298034521,2.894736878429424,2.8157894588243266,2.880921149014437,2.894736878429424,2.9868422431298587,3.002631576470721,2.9282894000039525,2.9085526078444106,2.9059209686319574,2.749342199994918,2.782236937249798,2.6592104392203586,2.7750000548990155,2.865131564706646,2.7776316941114687,2.858552717642442,2.735526470579931,2.7993420901968866,2.717105247059687,2.5861843333267456,2.6315789803903855,2.7013159137188247,2.640789466667043,2.5434210745086303,2.619079070581625,2.618421035295048,2.6177632509753987,2.7559210470591227,2.78947381960058,2.7243421294104695,2.7105263999954827,2.837500105876673,2.7815789019632207,2.709210580389256,2.694736815687692,2.837500105876673,2.849342231365784,2.81842109803678,3.0197369803847387,3.0921053019587026,3.0131578823536054,3.1578947764684626,3.3565790196039678,3.444078890199145,3.344736894114857,3.289473725487982,3.274342176466768,3.50723697646338,3.5263157333363444,3.457236835294483,3.5032895176447005,3.6184210980367797,3.55263162352702,3.4743422392085006,3.6671054195994506,3.782894784311179,3.6769736901957573,3.799342152938619,3.723684156865623,3.7440789843117437,3.8026315764707213,3.740131525493063,3.7171053098014193,3.7368421019609617,3.6486841960792065,3.697368517641877,3.7105264627372145,3.6874999960786417,3.8164473058857076,3.7651315960775125,3.7440789843117437,3.799999937258268,3.825658043129294,3.76578963136409,3.911184309798596,4.046710466669866,3.9881578745108888,4.0690788980418615,4.019079007839893,3.8717104745125823,3.9078948862664937,3.918421192149378,3.8486842588209385,3.784868388237055,3.8500000784271653,3.9651316588192445,4.055921203913453,3.9901317294036933,3.9374999490223423,4.013157945095338,3.914473733330698,4.01644736862744,4.060526447051782,4.061842266658008,3.978947388234231,4.025000070584449,4.0197367921595415,3.9940789372554444,3.9440790470534757,3.9934211529357952,3.862499988235925,3.8861842392141472,3.947368470585578,3.8815789960758185,3.8822367803954676,3.911842094118245,3.914473733330698,3.9407896235213733,3.948026254905227,3.9164473372565745,3.9210525803949023,4.057894807839329,4.078289635285448,4.092105364700435,4.125657886274964,4.255921266655185,4.210526368624617,4.263158149005967,4.200657847061381,4.134868372551621,3.947368470585578,3.9953947568616712,4.013157945095338,4.0236842509782225,4.160526478422648,4.103289454902968,4.144736894114857,4.119736823530408,4.074999960786417,4.071710537254315,4.030263098042426,4.071710537254315,4.0,3.9736843607762533,3.9453948666597025,3.898684149022907,3.842105411756734,3.809210674501854,3.723684156865623,3.7519736509821753,3.835526313725601,3.7861842078432812,3.6842105725465393,3.6677632039190997,3.5677631725482333,3.7263157960780773,3.819078945098161,3.7986843686189697,3.759210533332957,3.5796052980373445,3.5546052274528965,3.6078947921538953,3.4657895372514917,3.5855263607819,3.60197372940934,3.573684235292789,3.5559210470591225,3.473684203921923,3.460526258826585,3.4947368156876917,3.4013158823479586,3.3289473098070657,3.4078947294121633,3.4243420980396033,3.3552631999977414,3.3486843529335366,3.2842104470630753,3.2500001411688975,3.4421052862732697,3.532894831367478,3.5947368470585577,3.516447462740038,3.6184210980367797,3.6651315647066465,3.70000015685433,3.7361843176413125,3.773026262747943,3.740131525493063,3.699342121567753,3.723684156865623,3.8585527803841737,3.8585527803841737,3.5276315529425717,3.2565789882331018,3.366447290200275,3.289473725487982,3.151315929404258,3.0546053215654942,3.111842094118245,3.3092105176475237,3.263157835297306,3.1578947764684626,3.111842094118245,3.1381579843089202,3.2105263058828846,3.213815729414986,3.3901315411784974,3.396052603923052,3.368421145093079,3.303947490189546,3.209210486276658,3.223684250978222,3.2401316196056618,3.198026396074124,3.230263098042426,3.2019736039258757,3.2888159411683326,3.3256578862749637,3.3585526235298437,3.3414474705827546,3.4177632509753986,3.504605337250927,3.522368525484594,3.38881572157227,3.3388158313703014,3.305921094115422,3.276315780392644,3.2315789176486533,3.2171054039140174,3.206579098031133,3.1710527215638002,3.2019736039258757,3.2289475294031287,3.4407894666670433,3.496710670580496,3.484868545091385,3.35986844313607,3.3184210039241813,3.3065788784350705,3.223684250978222,3.186842054904662,3.102631607841587,3.051973682353041,3.091447517639054,3.0921053019587026,3.1565789568622358,3.1315788862777865,3.292763149020084,3.3467104980407325,3.4078947294121633,3.4743422392085006,3.411842188230843,3.444078890199145,3.3559209843173905,3.4078947294121633,3.723684156865623,3.6111842156859977,3.600000125483464,3.575657839218664,3.4842105098048073,3.496710670580496,3.533552615687127,3.55263162352702,3.6769736901957573,3.6513158352916597,3.459868474506936,3.453289627442732,3.4078947294121633,3.3934212156775274,3.496710670580496,3.4914473921555893,3.532894831367478,3.5026317333250514,3.4342106196028386,3.4078947294121633,3.344079109795208,3.4013158823479586,3.3453946784345057,3.453947411762381,3.4184210352950477,3.3749999921572833,3.335526407838199,3.289473725487982,3.476973627454025,3.5493421999949177,3.501315913718825,3.3717105686251814,3.35986844313607,3.3486843529335366,3.435526439209065,3.601315945089691,3.6743420509833036,3.697368517641877,3.6171052784305533,3.6125000352922245,3.6631579607807705,3.587499964707776,3.5427631019637844,3.5394736784316825,3.4625001137193894,3.496710670580496,3.537500074505807,3.529605407835376,3.4868421490172605,3.4506579882302786,3.40526309019971,3.3815790901884166,3.460526258826585,3.4874999333369097,3.490131572549363,3.5078947607830293,3.463815933325616,3.421052674507501,3.388157937252621,3.3703947490189545,3.490131572549363,3.4467105294115985,3.427631521571705,3.400657847061381,3.4092105490183897,2.9269738313646547,2.8750000862698815,2.6842105098048075,2.6776316627406027,2.6750000235281495,2.5776316313697367,2.5657895058806255,2.7138158235275847,2.7565790823457,2.7671053882285843,2.7361842548995803,2.6868421490172607,2.6578948705810608,2.640789466667043,2.688157968623487,2.661842078432812,2.7013159137188247,2.6776316627406027,2.7236843450908204,2.7105263999954827,2.738157858825456,2.7506580196011448,2.857236898036215,2.8703948431315527,2.8539474745041127,2.8065789725476686,2.833552647057993,2.933552678428859,2.8677632039190994,2.859210501962091,2.8638157451004203,2.9052631843123082,2.881578933334086,2.94144734509929,2.9078948235247615,2.882894752940313,2.921052768620099,2.9171053098014195,2.854605258823762,2.765789568622358,2.736842039219229,2.7960526666647842,2.7230263098042427,2.701973698038474,2.7394736784316827,2.697368454900145,2.587500152932972,2.6144738274432964,2.6585526549007095,2.6013158823479587,2.488157905881755,2.5269737058811903,2.4348683411807555,2.38355263137256,2.4013158196062268,2.411842125489111,2.447368501956444,2.4342105568611063,2.402631639212453,2.302631607841587,2.163815776471286,2.276315717650912,2.2197369803847384,2.2289474666613964,2.1776315058862723,2.193421090194063,2.138815705886837,2.1447367686313927,2.109868427450637,2.031578917648653,1.7243420666687372,1.6927631490200838,1.5131579137244715,1.4809210862727054,1.459210564703823,1.3157894901951928,1.505263121570576,1.2828947529403127,1.4315789803903856,1.2657894745097595,0.8973684549001449,1.0098684588215034,0.6842105098048072,0.654605258823762,0.4269736745103243,0.49013157254936285,0.5401315882347959,0.5006579098031133,0.5756579019603968,0.6151316117629455,0.8144737019598322,0.8447368627439908,0.8519736823530408,0.7302631921550249,0.6184210352950475,0.6743421137250363,0.6513157725499275,0.6796052666664786,0.7631579294099047,0.7730263254896756,0.8519736823530408,0.8618421411745442,0.9394736784316826,0.9539473803915147,0.9605263529391836,0.9651315960775123,0.9578947764684624,0.9769737215666235,0.9157894901951925,0.7888157843140023,0.8131578823536055,0.9309210392164058,0.9335526156871271,0.9078947607830293,0.8493421058823197,0.8151316117629455,0.7671052627451201,0.717105247059687,0.7822368745080656,0.7342105254902404,0.7072368509799161,0.7052631843123083,0.6980263019615262,0.6940789686263106,0.8276315843134378,0.8144737019598322,0.8703947176480885,0.8506579254885462,0.8203947647043877,0.9276316156843037,0.888157905881755,1.0032894862738344,0.9697368392158413,0.9473684078438458,1.0197368549012744,1.223684250978222,1.3039473647060817,1.3026315450998551,1.3756579019603967,1.5157895529369247,1.5822368117663335,1.5118420941182449,1.369078929412728,1.3453948039179702,1.3006579411739794,1.2809210235309727,1.2631579607807706,1.3052631843123084,1.2894737254879816,1.2934210588231974,1.2342105568611066,1.2026316392124532,1.1644737490161312,1.197368486271011,1.1934210274523314,1.2559210784299886,1.1934802556474617,1.1792434037264197,1.1947171461546693,1.361855222825693,1.3940461233295407,1.4051908117242966,1.4276316470551698,1.4605263843100496,1.4342104941193743,1.4223684941137276,1.4901315725493631,1.4407894666670433,1.3881579372526212,1.3578947137267305,1.3822368745080658,1.4138157921567187,1.4105263686246166,1.4144737019598321,1.3684210196096147,1.3157894901951928,1.2447368627439908,1.3059210941154216,1.2888158156848684,1.2506579254885466,1.2565789882331018,1.3388158313703014,1.2973683921584127,1.2453947725471042,1.2789474196050972,1.2414474392118886,1.2723684470574284,1.2460526823502174,1.2611842313714308,1.3138157607858525,1.3217105529397482,1.2927631490200842,1.2414474392118886,1.2559210784299886,1.2605263215683173,1.2039473333352155,1.2302632235258908,1.2171052784305532,1.1907895137233422,1.1888157843140024,1.1842105411756734,1.1651315333357803,1.1223684000011294,1.1105262745120184,1.1605262901974513,1.149999984314567,1.197368486271011,1.1710525960803357,1.1368421647026936,1.0868421490172606,1.0657895372514918,1.0763158431343762,1.1263158588198092,1.069078960783594,1.0276315843134376,1.0611841686296986,1.0335526470579932,0.9789473882342312,0.9513158039207936,1.040131619605662,0.9802631450987256,0.9828947215694468,1.0243420980396034,1.0256579176458298,1.014473701959832,1.0131578823536054,0.9940789372554445,1.0243420980396034,1.021052674507501,0.9914473607847235,0.9763158117635101,0.9986842431355054,0.9493421372531857,0.9322368588226324,0.840131619605662,0.8342105568611063,0.8078947294121633,0.8171052784305531],\"type\":\"scatter\"},{\"name\":\"WEGE\",\"x\":[\"2015-01-02\",\"2015-01-05\",\"2015-01-06\",\"2015-01-07\",\"2015-01-08\",\"2015-01-09\",\"2015-01-12\",\"2015-01-13\",\"2015-01-14\",\"2015-01-15\",\"2015-01-16\",\"2015-01-19\",\"2015-01-20\",\"2015-01-21\",\"2015-01-22\",\"2015-01-23\",\"2015-01-26\",\"2015-01-27\",\"2015-01-28\",\"2015-01-29\",\"2015-01-30\",\"2015-02-02\",\"2015-02-03\",\"2015-02-04\",\"2015-02-05\",\"2015-02-06\",\"2015-02-09\",\"2015-02-10\",\"2015-02-11\",\"2015-02-12\",\"2015-02-13\",\"2015-02-18\",\"2015-02-19\",\"2015-02-20\",\"2015-02-23\",\"2015-02-24\",\"2015-02-25\",\"2015-02-26\",\"2015-02-27\",\"2015-03-02\",\"2015-03-03\",\"2015-03-04\",\"2015-03-05\",\"2015-03-06\",\"2015-03-09\",\"2015-03-10\",\"2015-03-11\",\"2015-03-12\",\"2015-03-13\",\"2015-03-16\",\"2015-03-17\",\"2015-03-18\",\"2015-03-19\",\"2015-03-20\",\"2015-03-23\",\"2015-03-24\",\"2015-03-25\",\"2015-03-26\",\"2015-03-27\",\"2015-03-30\",\"2015-03-31\",\"2015-04-01\",\"2015-04-02\",\"2015-04-06\",\"2015-04-07\",\"2015-04-08\",\"2015-04-09\",\"2015-04-10\",\"2015-04-13\",\"2015-04-14\",\"2015-04-15\",\"2015-04-16\",\"2015-04-17\",\"2015-04-20\",\"2015-04-22\",\"2015-04-23\",\"2015-04-24\",\"2015-04-27\",\"2015-04-28\",\"2015-04-29\",\"2015-04-30\",\"2015-05-04\",\"2015-05-05\",\"2015-05-06\",\"2015-05-07\",\"2015-05-08\",\"2015-05-11\",\"2015-05-12\",\"2015-05-13\",\"2015-05-14\",\"2015-05-15\",\"2015-05-18\",\"2015-05-19\",\"2015-05-20\",\"2015-05-21\",\"2015-05-22\",\"2015-05-25\",\"2015-05-26\",\"2015-05-27\",\"2015-05-28\",\"2015-05-29\",\"2015-06-01\",\"2015-06-02\",\"2015-06-03\",\"2015-06-05\",\"2015-06-08\",\"2015-06-09\",\"2015-06-10\",\"2015-06-11\",\"2015-06-12\",\"2015-06-15\",\"2015-06-16\",\"2015-06-17\",\"2015-06-18\",\"2015-06-19\",\"2015-06-22\",\"2015-06-23\",\"2015-06-24\",\"2015-06-25\",\"2015-06-26\",\"2015-06-29\",\"2015-06-30\",\"2015-07-01\",\"2015-07-02\",\"2015-07-03\",\"2015-07-06\",\"2015-07-07\",\"2015-07-08\",\"2015-07-10\",\"2015-07-13\",\"2015-07-14\",\"2015-07-15\",\"2015-07-16\",\"2015-07-17\",\"2015-07-20\",\"2015-07-21\",\"2015-07-22\",\"2015-07-23\",\"2015-07-24\",\"2015-07-27\",\"2015-07-28\",\"2015-07-29\",\"2015-07-30\",\"2015-07-31\",\"2015-08-03\",\"2015-08-04\",\"2015-08-05\",\"2015-08-06\",\"2015-08-07\",\"2015-08-10\",\"2015-08-11\",\"2015-08-12\",\"2015-08-13\",\"2015-08-14\",\"2015-08-17\",\"2015-08-18\",\"2015-08-19\",\"2015-08-20\",\"2015-08-21\",\"2015-08-24\",\"2015-08-25\",\"2015-08-26\",\"2015-08-27\",\"2015-08-28\",\"2015-08-31\",\"2015-09-01\",\"2015-09-02\",\"2015-09-03\",\"2015-09-04\",\"2015-09-08\",\"2015-09-09\",\"2015-09-10\",\"2015-09-11\",\"2015-09-14\",\"2015-09-15\",\"2015-09-16\",\"2015-09-17\",\"2015-09-18\",\"2015-09-21\",\"2015-09-22\",\"2015-09-23\",\"2015-09-24\",\"2015-09-25\",\"2015-09-28\",\"2015-09-29\",\"2015-09-30\",\"2015-10-01\",\"2015-10-02\",\"2015-10-05\",\"2015-10-06\",\"2015-10-07\",\"2015-10-08\",\"2015-10-09\",\"2015-10-13\",\"2015-10-14\",\"2015-10-15\",\"2015-10-16\",\"2015-10-19\",\"2015-10-20\",\"2015-10-21\",\"2015-10-22\",\"2015-10-23\",\"2015-10-26\",\"2015-10-27\",\"2015-10-28\",\"2015-10-29\",\"2015-10-30\",\"2015-11-03\",\"2015-11-04\",\"2015-11-05\",\"2015-11-06\",\"2015-11-09\",\"2015-11-10\",\"2015-11-11\",\"2015-11-12\",\"2015-11-13\",\"2015-11-16\",\"2015-11-17\",\"2015-11-18\",\"2015-11-19\",\"2015-11-23\",\"2015-11-24\",\"2015-11-25\",\"2015-11-26\",\"2015-11-27\",\"2015-11-30\",\"2015-12-01\",\"2015-12-02\",\"2015-12-03\",\"2015-12-04\",\"2015-12-07\",\"2015-12-08\",\"2015-12-09\",\"2015-12-10\",\"2015-12-11\",\"2015-12-14\",\"2015-12-15\",\"2015-12-16\",\"2015-12-17\",\"2015-12-18\",\"2015-12-21\",\"2015-12-22\",\"2015-12-23\",\"2015-12-28\",\"2015-12-29\",\"2015-12-30\",\"2016-01-04\",\"2016-01-05\",\"2016-01-06\",\"2016-01-07\",\"2016-01-08\",\"2016-01-11\",\"2016-01-12\",\"2016-01-13\",\"2016-01-14\",\"2016-01-15\",\"2016-01-18\",\"2016-01-19\",\"2016-01-20\",\"2016-01-21\",\"2016-01-22\",\"2016-01-26\",\"2016-01-27\",\"2016-01-28\",\"2016-01-29\",\"2016-02-01\",\"2016-02-02\",\"2016-02-03\",\"2016-02-04\",\"2016-02-05\",\"2016-02-10\",\"2016-02-11\",\"2016-02-12\",\"2016-02-15\",\"2016-02-16\",\"2016-02-17\",\"2016-02-18\",\"2016-02-19\",\"2016-02-22\",\"2016-02-23\",\"2016-02-24\",\"2016-02-25\",\"2016-02-26\",\"2016-02-29\",\"2016-03-01\",\"2016-03-02\",\"2016-03-03\",\"2016-03-04\",\"2016-03-07\",\"2016-03-08\",\"2016-03-09\",\"2016-03-10\",\"2016-03-11\",\"2016-03-14\",\"2016-03-15\",\"2016-03-16\",\"2016-03-17\",\"2016-03-18\",\"2016-03-21\",\"2016-03-22\",\"2016-03-23\",\"2016-03-24\",\"2016-03-28\",\"2016-03-29\",\"2016-03-30\",\"2016-03-31\",\"2016-04-01\",\"2016-04-04\",\"2016-04-05\",\"2016-04-06\",\"2016-04-07\",\"2016-04-08\",\"2016-04-11\",\"2016-04-12\",\"2016-04-13\",\"2016-04-14\",\"2016-04-15\",\"2016-04-18\",\"2016-04-19\",\"2016-04-20\",\"2016-04-22\",\"2016-04-25\",\"2016-04-26\",\"2016-04-27\",\"2016-04-28\",\"2016-04-29\",\"2016-05-02\",\"2016-05-03\",\"2016-05-04\",\"2016-05-05\",\"2016-05-06\",\"2016-05-09\",\"2016-05-10\",\"2016-05-11\",\"2016-05-12\",\"2016-05-13\",\"2016-05-16\",\"2016-05-17\",\"2016-05-18\",\"2016-05-19\",\"2016-05-20\",\"2016-05-23\",\"2016-05-24\",\"2016-05-25\",\"2016-05-27\",\"2016-05-30\",\"2016-05-31\",\"2016-06-01\",\"2016-06-02\",\"2016-06-03\",\"2016-06-06\",\"2016-06-07\",\"2016-06-08\",\"2016-06-09\",\"2016-06-10\",\"2016-06-13\",\"2016-06-14\",\"2016-06-15\",\"2016-06-16\",\"2016-06-17\",\"2016-06-20\",\"2016-06-21\",\"2016-06-22\",\"2016-06-23\",\"2016-06-24\",\"2016-06-27\",\"2016-06-28\",\"2016-06-29\",\"2016-06-30\",\"2016-07-01\",\"2016-07-04\",\"2016-07-05\",\"2016-07-06\",\"2016-07-07\",\"2016-07-08\",\"2016-07-11\",\"2016-07-12\",\"2016-07-13\",\"2016-07-14\",\"2016-07-15\",\"2016-07-18\",\"2016-07-19\",\"2016-07-20\",\"2016-07-21\",\"2016-07-22\",\"2016-07-25\",\"2016-07-26\",\"2016-07-27\",\"2016-07-28\",\"2016-07-29\",\"2016-08-01\",\"2016-08-02\",\"2016-08-03\",\"2016-08-04\",\"2016-08-05\",\"2016-08-08\",\"2016-08-09\",\"2016-08-10\",\"2016-08-11\",\"2016-08-12\",\"2016-08-15\",\"2016-08-16\",\"2016-08-17\",\"2016-08-18\",\"2016-08-19\",\"2016-08-22\",\"2016-08-23\",\"2016-08-24\",\"2016-08-25\",\"2016-08-26\",\"2016-08-29\",\"2016-08-30\",\"2016-08-31\",\"2016-09-01\",\"2016-09-02\",\"2016-09-05\",\"2016-09-06\",\"2016-09-08\",\"2016-09-09\",\"2016-09-12\",\"2016-09-13\",\"2016-09-14\",\"2016-09-15\",\"2016-09-16\",\"2016-09-19\",\"2016-09-20\",\"2016-09-21\",\"2016-09-22\",\"2016-09-23\",\"2016-09-26\",\"2016-09-27\",\"2016-09-28\",\"2016-09-29\",\"2016-09-30\",\"2016-10-03\",\"2016-10-04\",\"2016-10-05\",\"2016-10-06\",\"2016-10-07\",\"2016-10-10\",\"2016-10-11\",\"2016-10-13\",\"2016-10-14\",\"2016-10-17\",\"2016-10-18\",\"2016-10-19\",\"2016-10-20\",\"2016-10-21\",\"2016-10-24\",\"2016-10-25\",\"2016-10-26\",\"2016-10-27\",\"2016-10-28\",\"2016-10-31\",\"2016-11-01\",\"2016-11-03\",\"2016-11-04\",\"2016-11-07\",\"2016-11-08\",\"2016-11-09\",\"2016-11-10\",\"2016-11-11\",\"2016-11-14\",\"2016-11-16\",\"2016-11-17\",\"2016-11-18\",\"2016-11-21\",\"2016-11-22\",\"2016-11-23\",\"2016-11-24\",\"2016-11-25\",\"2016-11-28\",\"2016-11-29\",\"2016-11-30\",\"2016-12-01\",\"2016-12-02\",\"2016-12-05\",\"2016-12-06\",\"2016-12-07\",\"2016-12-08\",\"2016-12-09\",\"2016-12-12\",\"2016-12-13\",\"2016-12-14\",\"2016-12-15\",\"2016-12-16\",\"2016-12-19\",\"2016-12-20\",\"2016-12-21\",\"2016-12-22\",\"2016-12-23\",\"2016-12-26\",\"2016-12-27\",\"2016-12-28\",\"2016-12-29\",\"2017-01-02\",\"2017-01-03\",\"2017-01-04\",\"2017-01-05\",\"2017-01-06\",\"2017-01-09\",\"2017-01-10\",\"2017-01-11\",\"2017-01-12\",\"2017-01-13\",\"2017-01-16\",\"2017-01-17\",\"2017-01-18\",\"2017-01-19\",\"2017-01-20\",\"2017-01-23\",\"2017-01-24\",\"2017-01-26\",\"2017-01-27\",\"2017-01-30\",\"2017-01-31\",\"2017-02-01\",\"2017-02-02\",\"2017-02-03\",\"2017-02-06\",\"2017-02-07\",\"2017-02-08\",\"2017-02-09\",\"2017-02-10\",\"2017-02-13\",\"2017-02-14\",\"2017-02-15\",\"2017-02-16\",\"2017-02-17\",\"2017-02-20\",\"2017-02-21\",\"2017-02-22\",\"2017-02-23\",\"2017-02-24\",\"2017-03-01\",\"2017-03-02\",\"2017-03-03\",\"2017-03-06\",\"2017-03-07\",\"2017-03-08\",\"2017-03-09\",\"2017-03-10\",\"2017-03-13\",\"2017-03-14\",\"2017-03-15\",\"2017-03-16\",\"2017-03-17\",\"2017-03-20\",\"2017-03-21\",\"2017-03-22\",\"2017-03-23\",\"2017-03-24\",\"2017-03-27\",\"2017-03-28\",\"2017-03-29\",\"2017-03-30\",\"2017-03-31\",\"2017-04-03\",\"2017-04-04\",\"2017-04-05\",\"2017-04-06\",\"2017-04-07\",\"2017-04-10\",\"2017-04-11\",\"2017-04-12\",\"2017-04-13\",\"2017-04-17\",\"2017-04-18\",\"2017-04-19\",\"2017-04-20\",\"2017-04-24\",\"2017-04-25\",\"2017-04-26\",\"2017-04-27\",\"2017-04-28\",\"2017-05-02\",\"2017-05-03\",\"2017-05-04\",\"2017-05-05\",\"2017-05-08\",\"2017-05-09\",\"2017-05-10\",\"2017-05-11\",\"2017-05-12\",\"2017-05-15\",\"2017-05-16\",\"2017-05-17\",\"2017-05-18\",\"2017-05-19\",\"2017-05-22\",\"2017-05-23\",\"2017-05-24\",\"2017-05-25\",\"2017-05-26\",\"2017-05-29\",\"2017-05-30\",\"2017-05-31\",\"2017-06-01\",\"2017-06-02\",\"2017-06-05\",\"2017-06-06\",\"2017-06-07\",\"2017-06-08\",\"2017-06-09\",\"2017-06-12\",\"2017-06-13\",\"2017-06-14\",\"2017-06-15\",\"2017-06-16\",\"2017-06-19\",\"2017-06-20\",\"2017-06-21\",\"2017-06-22\",\"2017-06-23\",\"2017-06-26\",\"2017-06-27\",\"2017-06-28\",\"2017-06-29\",\"2017-06-30\",\"2017-07-03\",\"2017-07-04\",\"2017-07-05\",\"2017-07-06\",\"2017-07-07\",\"2017-07-10\",\"2017-07-11\",\"2017-07-12\",\"2017-07-13\",\"2017-07-14\",\"2017-07-17\",\"2017-07-18\",\"2017-07-19\",\"2017-07-20\",\"2017-07-21\",\"2017-07-24\",\"2017-07-25\",\"2017-07-26\",\"2017-07-27\",\"2017-07-28\",\"2017-07-31\",\"2017-08-01\",\"2017-08-02\",\"2017-08-03\",\"2017-08-04\",\"2017-08-07\",\"2017-08-08\",\"2017-08-09\",\"2017-08-10\",\"2017-08-11\",\"2017-08-14\",\"2017-08-15\",\"2017-08-16\",\"2017-08-17\",\"2017-08-18\",\"2017-08-21\",\"2017-08-22\",\"2017-08-23\",\"2017-08-24\",\"2017-08-25\",\"2017-08-28\",\"2017-08-29\",\"2017-08-30\",\"2017-08-31\",\"2017-09-01\",\"2017-09-04\",\"2017-09-05\",\"2017-09-06\",\"2017-09-07\",\"2017-09-08\",\"2017-09-11\",\"2017-09-12\",\"2017-09-13\",\"2017-09-14\",\"2017-09-15\",\"2017-09-18\",\"2017-09-19\",\"2017-09-20\",\"2017-09-21\",\"2017-09-22\",\"2017-09-25\",\"2017-09-26\",\"2017-09-27\",\"2017-09-28\",\"2017-09-29\",\"2017-10-02\",\"2017-10-03\",\"2017-10-04\",\"2017-10-05\",\"2017-10-06\",\"2017-10-09\",\"2017-10-10\",\"2017-10-11\",\"2017-10-12\",\"2017-10-13\",\"2017-10-16\",\"2017-10-17\",\"2017-10-18\",\"2017-10-19\",\"2017-10-20\",\"2017-10-23\",\"2017-10-24\",\"2017-10-25\",\"2017-10-26\",\"2017-10-27\",\"2017-10-30\",\"2017-10-31\",\"2017-11-01\",\"2017-11-02\",\"2017-11-03\",\"2017-11-06\",\"2017-11-07\",\"2017-11-08\",\"2017-11-09\",\"2017-11-10\",\"2017-11-13\",\"2017-11-14\",\"2017-11-15\",\"2017-11-16\",\"2017-11-17\",\"2017-11-20\",\"2017-11-21\",\"2017-11-22\",\"2017-11-23\",\"2017-11-24\",\"2017-11-27\",\"2017-11-28\",\"2017-11-29\",\"2017-11-30\",\"2017-12-01\",\"2017-12-04\",\"2017-12-05\",\"2017-12-06\",\"2017-12-07\",\"2017-12-08\",\"2017-12-11\",\"2017-12-12\",\"2017-12-13\",\"2017-12-14\",\"2017-12-15\",\"2017-12-18\",\"2017-12-19\",\"2017-12-20\",\"2017-12-21\",\"2017-12-22\",\"2017-12-25\",\"2017-12-26\",\"2017-12-27\",\"2017-12-28\",\"2017-12-29\",\"2018-01-02\",\"2018-01-03\",\"2018-01-04\",\"2018-01-05\",\"2018-01-08\",\"2018-01-09\",\"2018-01-10\",\"2018-01-11\",\"2018-01-12\",\"2018-01-15\",\"2018-01-16\",\"2018-01-17\",\"2018-01-18\",\"2018-01-19\",\"2018-01-22\",\"2018-01-23\",\"2018-01-24\",\"2018-01-25\",\"2018-01-26\",\"2018-01-29\",\"2018-01-30\",\"2018-01-31\",\"2018-02-01\",\"2018-02-02\",\"2018-02-05\",\"2018-02-06\",\"2018-02-07\",\"2018-02-08\",\"2018-02-09\",\"2018-02-15\",\"2018-02-16\",\"2018-02-19\",\"2018-02-20\",\"2018-02-21\",\"2018-02-22\",\"2018-02-23\",\"2018-02-26\",\"2018-02-27\",\"2018-02-28\",\"2018-03-01\",\"2018-03-02\",\"2018-03-05\",\"2018-03-06\",\"2018-03-07\",\"2018-03-08\",\"2018-03-09\",\"2018-03-12\",\"2018-03-13\",\"2018-03-14\",\"2018-03-15\",\"2018-03-16\",\"2018-03-19\",\"2018-03-20\",\"2018-03-21\",\"2018-03-22\",\"2018-03-23\",\"2018-03-26\",\"2018-03-27\",\"2018-03-28\",\"2018-03-29\",\"2018-04-02\",\"2018-04-03\",\"2018-04-04\",\"2018-04-05\",\"2018-04-06\",\"2018-04-09\",\"2018-04-10\",\"2018-04-11\",\"2018-04-12\",\"2018-04-13\",\"2018-04-16\",\"2018-04-17\",\"2018-04-18\",\"2018-04-19\",\"2018-04-20\",\"2018-04-23\",\"2018-04-24\",\"2018-04-25\",\"2018-04-26\",\"2018-04-27\",\"2018-04-30\",\"2018-05-02\",\"2018-05-03\",\"2018-05-04\",\"2018-05-07\",\"2018-05-08\",\"2018-05-09\",\"2018-05-10\",\"2018-05-11\",\"2018-05-14\",\"2018-05-15\",\"2018-05-16\",\"2018-05-17\",\"2018-05-18\",\"2018-05-21\",\"2018-05-22\",\"2018-05-23\",\"2018-05-24\",\"2018-05-25\",\"2018-05-28\",\"2018-05-29\",\"2018-05-30\",\"2018-06-01\",\"2018-06-04\",\"2018-06-05\",\"2018-06-06\",\"2018-06-07\",\"2018-06-08\",\"2018-06-11\",\"2018-06-12\",\"2018-06-13\",\"2018-06-14\",\"2018-06-15\",\"2018-06-18\",\"2018-06-19\",\"2018-06-20\",\"2018-06-21\",\"2018-06-22\",\"2018-06-25\",\"2018-06-26\",\"2018-06-27\",\"2018-06-28\",\"2018-06-29\",\"2018-07-02\",\"2018-07-03\",\"2018-07-04\",\"2018-07-05\",\"2018-07-06\",\"2018-07-10\",\"2018-07-11\",\"2018-07-12\",\"2018-07-13\",\"2018-07-16\",\"2018-07-17\",\"2018-07-18\",\"2018-07-19\",\"2018-07-20\",\"2018-07-23\",\"2018-07-24\",\"2018-07-25\",\"2018-07-26\",\"2018-07-27\",\"2018-07-30\",\"2018-07-31\",\"2018-08-01\",\"2018-08-02\",\"2018-08-03\",\"2018-08-06\",\"2018-08-07\",\"2018-08-08\",\"2018-08-09\",\"2018-08-10\",\"2018-08-13\",\"2018-08-14\",\"2018-08-15\",\"2018-08-16\",\"2018-08-17\",\"2018-08-20\",\"2018-08-21\",\"2018-08-22\",\"2018-08-23\",\"2018-08-24\",\"2018-08-27\",\"2018-08-28\",\"2018-08-29\",\"2018-08-30\",\"2018-08-31\",\"2018-09-03\",\"2018-09-04\",\"2018-09-05\",\"2018-09-06\",\"2018-09-10\",\"2018-09-11\",\"2018-09-12\",\"2018-09-13\",\"2018-09-14\",\"2018-09-17\",\"2018-09-18\",\"2018-09-19\",\"2018-09-20\",\"2018-09-21\",\"2018-09-24\",\"2018-09-25\",\"2018-09-26\",\"2018-09-27\",\"2018-09-28\",\"2018-10-01\",\"2018-10-02\",\"2018-10-03\",\"2018-10-04\",\"2018-10-05\",\"2018-10-08\",\"2018-10-09\",\"2018-10-10\",\"2018-10-11\",\"2018-10-15\",\"2018-10-16\",\"2018-10-17\",\"2018-10-18\",\"2018-10-19\",\"2018-10-22\",\"2018-10-23\",\"2018-10-24\",\"2018-10-25\",\"2018-10-26\",\"2018-10-29\",\"2018-10-30\",\"2018-10-31\",\"2018-11-01\",\"2018-11-05\",\"2018-11-06\",\"2018-11-07\",\"2018-11-08\",\"2018-11-09\",\"2018-11-12\",\"2018-11-13\",\"2018-11-14\",\"2018-11-16\",\"2018-11-19\",\"2018-11-21\",\"2018-11-22\",\"2018-11-23\",\"2018-11-26\",\"2018-11-27\",\"2018-11-28\",\"2018-11-29\",\"2018-11-30\",\"2018-12-03\",\"2018-12-04\",\"2018-12-05\",\"2018-12-06\",\"2018-12-07\",\"2018-12-10\",\"2018-12-11\",\"2018-12-12\",\"2018-12-13\",\"2018-12-14\",\"2018-12-17\",\"2018-12-18\",\"2018-12-19\",\"2018-12-20\",\"2018-12-21\",\"2018-12-26\",\"2018-12-27\",\"2018-12-28\",\"2019-01-02\",\"2019-01-03\",\"2019-01-04\",\"2019-01-07\",\"2019-01-08\",\"2019-01-09\",\"2019-01-10\",\"2019-01-11\",\"2019-01-14\",\"2019-01-15\",\"2019-01-16\",\"2019-01-17\",\"2019-01-18\",\"2019-01-21\",\"2019-01-22\",\"2019-01-23\",\"2019-01-24\",\"2019-01-28\",\"2019-01-29\",\"2019-01-30\",\"2019-01-31\",\"2019-02-01\",\"2019-02-04\",\"2019-02-05\",\"2019-02-06\",\"2019-02-07\",\"2019-02-08\",\"2019-02-11\",\"2019-02-12\",\"2019-02-13\",\"2019-02-14\",\"2019-02-15\",\"2019-02-18\",\"2019-02-19\",\"2019-02-20\",\"2019-02-21\",\"2019-02-22\",\"2019-02-25\",\"2019-02-26\",\"2019-02-27\",\"2019-02-28\",\"2019-03-01\",\"2019-03-07\",\"2019-03-08\",\"2019-03-11\",\"2019-03-12\",\"2019-03-13\",\"2019-03-14\",\"2019-03-15\",\"2019-03-18\",\"2019-03-19\",\"2019-03-20\",\"2019-03-21\",\"2019-03-22\",\"2019-03-25\",\"2019-03-26\",\"2019-03-27\",\"2019-03-28\",\"2019-03-29\",\"2019-04-01\",\"2019-04-02\",\"2019-04-03\",\"2019-04-04\",\"2019-04-05\",\"2019-04-08\",\"2019-04-09\",\"2019-04-10\",\"2019-04-11\",\"2019-04-12\",\"2019-04-15\",\"2019-04-16\",\"2019-04-17\",\"2019-04-18\",\"2019-04-22\",\"2019-04-23\",\"2019-04-24\",\"2019-04-25\",\"2019-04-26\",\"2019-04-29\",\"2019-04-30\",\"2019-05-02\",\"2019-05-03\",\"2019-05-06\",\"2019-05-07\",\"2019-05-08\",\"2019-05-09\",\"2019-05-10\",\"2019-05-13\",\"2019-05-14\",\"2019-05-15\",\"2019-05-16\",\"2019-05-17\",\"2019-05-20\",\"2019-05-21\",\"2019-05-22\",\"2019-05-23\",\"2019-05-24\",\"2019-05-27\",\"2019-05-28\",\"2019-05-29\",\"2019-05-30\",\"2019-05-31\",\"2019-06-03\",\"2019-06-04\",\"2019-06-05\",\"2019-06-06\",\"2019-06-07\",\"2019-06-10\",\"2019-06-11\",\"2019-06-12\",\"2019-06-13\",\"2019-06-14\",\"2019-06-17\",\"2019-06-18\",\"2019-06-19\",\"2019-06-21\",\"2019-06-24\",\"2019-06-25\",\"2019-06-26\",\"2019-06-27\",\"2019-06-28\",\"2019-07-01\",\"2019-07-02\",\"2019-07-03\",\"2019-07-04\",\"2019-07-05\",\"2019-07-08\",\"2019-07-10\",\"2019-07-11\",\"2019-07-12\",\"2019-07-15\",\"2019-07-16\",\"2019-07-17\",\"2019-07-18\",\"2019-07-19\",\"2019-07-22\",\"2019-07-23\",\"2019-07-24\",\"2019-07-25\",\"2019-07-26\",\"2019-07-29\",\"2019-07-30\",\"2019-07-31\",\"2019-08-01\",\"2019-08-02\",\"2019-08-05\",\"2019-08-06\",\"2019-08-07\",\"2019-08-08\",\"2019-08-09\",\"2019-08-12\",\"2019-08-13\",\"2019-08-14\",\"2019-08-15\",\"2019-08-16\",\"2019-08-19\",\"2019-08-20\",\"2019-08-21\",\"2019-08-22\",\"2019-08-23\",\"2019-08-26\",\"2019-08-27\",\"2019-08-28\",\"2019-08-29\",\"2019-08-30\",\"2019-09-02\",\"2019-09-03\",\"2019-09-04\",\"2019-09-05\",\"2019-09-06\",\"2019-09-09\",\"2019-09-10\",\"2019-09-11\",\"2019-09-12\",\"2019-09-13\",\"2019-09-16\",\"2019-09-17\",\"2019-09-18\",\"2019-09-19\",\"2019-09-20\",\"2019-09-23\",\"2019-09-24\",\"2019-09-25\",\"2019-09-26\",\"2019-09-27\",\"2019-09-30\",\"2019-10-01\",\"2019-10-02\",\"2019-10-03\",\"2019-10-04\",\"2019-10-07\",\"2019-10-08\",\"2019-10-09\",\"2019-10-10\",\"2019-10-11\",\"2019-10-14\",\"2019-10-15\",\"2019-10-16\",\"2019-10-17\",\"2019-10-18\",\"2019-10-21\",\"2019-10-22\",\"2019-10-23\",\"2019-10-24\",\"2019-10-25\",\"2019-10-28\",\"2019-10-29\",\"2019-10-30\",\"2019-10-31\",\"2019-11-01\",\"2019-11-04\",\"2019-11-05\",\"2019-11-06\",\"2019-11-07\",\"2019-11-08\",\"2019-11-11\",\"2019-11-12\",\"2019-11-13\",\"2019-11-14\",\"2019-11-18\",\"2019-11-19\",\"2019-11-21\",\"2019-11-22\",\"2019-11-25\",\"2019-11-26\",\"2019-11-27\",\"2019-11-28\",\"2019-11-29\",\"2019-12-02\",\"2019-12-03\",\"2019-12-04\",\"2019-12-05\",\"2019-12-06\",\"2019-12-09\",\"2019-12-10\",\"2019-12-11\",\"2019-12-12\",\"2019-12-13\",\"2019-12-16\",\"2019-12-17\",\"2019-12-18\",\"2019-12-19\",\"2019-12-20\",\"2019-12-23\",\"2019-12-26\",\"2019-12-27\",\"2019-12-30\",\"2020-01-02\",\"2020-01-03\",\"2020-01-06\",\"2020-01-07\",\"2020-01-08\",\"2020-01-09\",\"2020-01-10\",\"2020-01-13\",\"2020-01-14\",\"2020-01-15\",\"2020-01-16\",\"2020-01-17\",\"2020-01-20\",\"2020-01-21\",\"2020-01-22\",\"2020-01-23\",\"2020-01-24\",\"2020-01-27\",\"2020-01-28\",\"2020-01-29\",\"2020-01-30\",\"2020-01-31\",\"2020-02-03\",\"2020-02-04\",\"2020-02-05\",\"2020-02-06\",\"2020-02-07\",\"2020-02-10\",\"2020-02-11\",\"2020-02-12\",\"2020-02-13\",\"2020-02-14\",\"2020-02-17\",\"2020-02-18\",\"2020-02-19\",\"2020-02-20\",\"2020-02-21\",\"2020-02-27\",\"2020-02-28\",\"2020-03-02\",\"2020-03-03\",\"2020-03-04\",\"2020-03-05\",\"2020-03-06\",\"2020-03-09\",\"2020-03-10\",\"2020-03-11\",\"2020-03-12\",\"2020-03-13\",\"2020-03-16\",\"2020-03-17\",\"2020-03-18\",\"2020-03-19\",\"2020-03-20\",\"2020-03-23\",\"2020-03-24\",\"2020-03-25\",\"2020-03-26\",\"2020-03-27\",\"2020-03-30\",\"2020-03-31\",\"2020-04-01\",\"2020-04-02\",\"2020-04-03\",\"2020-04-06\",\"2020-04-07\",\"2020-04-08\",\"2020-04-09\",\"2020-04-13\",\"2020-04-14\",\"2020-04-15\",\"2020-04-16\",\"2020-04-17\",\"2020-04-20\",\"2020-04-22\",\"2020-04-23\",\"2020-04-24\",\"2020-04-27\",\"2020-04-28\",\"2020-04-29\",\"2020-04-30\",\"2020-05-04\",\"2020-05-05\",\"2020-05-06\",\"2020-05-07\",\"2020-05-08\",\"2020-05-11\",\"2020-05-12\",\"2020-05-13\",\"2020-05-14\",\"2020-05-15\",\"2020-05-18\",\"2020-05-19\",\"2020-05-20\",\"2020-05-21\",\"2020-05-22\",\"2020-05-25\",\"2020-05-26\",\"2020-05-27\",\"2020-05-28\",\"2020-05-29\",\"2020-06-01\",\"2020-06-02\",\"2020-06-03\",\"2020-06-04\",\"2020-06-05\",\"2020-06-08\",\"2020-06-09\",\"2020-06-10\",\"2020-06-12\",\"2020-06-15\",\"2020-06-16\",\"2020-06-17\",\"2020-06-18\",\"2020-06-19\",\"2020-06-22\",\"2020-06-23\",\"2020-06-24\",\"2020-06-25\",\"2020-06-26\",\"2020-06-29\",\"2020-06-30\",\"2020-07-01\",\"2020-07-02\",\"2020-07-08\",\"2020-07-09\",\"2020-07-10\",\"2020-07-13\",\"2020-07-14\",\"2020-07-15\",\"2020-07-16\",\"2020-07-17\",\"2020-07-20\",\"2020-07-21\",\"2020-07-22\",\"2020-07-23\",\"2020-07-24\",\"2020-07-27\",\"2020-07-28\",\"2020-07-29\",\"2020-07-30\",\"2020-07-31\",\"2020-08-03\",\"2020-08-04\",\"2020-08-05\",\"2020-08-06\",\"2020-08-07\",\"2020-08-10\",\"2020-08-11\",\"2020-08-12\",\"2020-08-13\",\"2020-08-14\",\"2020-08-17\",\"2020-08-18\",\"2020-08-19\",\"2020-08-20\",\"2020-08-21\",\"2020-08-24\",\"2020-08-25\",\"2020-08-26\",\"2020-08-27\",\"2020-08-28\",\"2020-08-31\",\"2020-09-01\",\"2020-09-02\",\"2020-09-03\",\"2020-09-04\",\"2020-09-08\",\"2020-09-09\",\"2020-09-10\",\"2020-09-11\",\"2020-09-14\",\"2020-09-15\",\"2020-09-16\",\"2020-09-17\",\"2020-09-18\",\"2020-09-21\",\"2020-09-22\",\"2020-09-23\",\"2020-09-24\",\"2020-09-28\",\"2020-09-29\",\"2020-09-30\",\"2020-10-01\",\"2020-10-02\",\"2020-10-05\",\"2020-10-06\",\"2020-10-07\",\"2020-10-08\",\"2020-10-09\",\"2020-10-13\",\"2020-10-14\",\"2020-10-15\",\"2020-10-16\",\"2020-10-19\",\"2020-10-20\",\"2020-10-21\",\"2020-10-22\",\"2020-10-23\",\"2020-10-26\",\"2020-10-27\",\"2020-10-28\",\"2020-10-29\",\"2020-10-30\",\"2020-11-03\"],\"y\":[1.0,1.0068123044290203,0.9918792533128272,0.9805169864432567,0.997070757398318,0.9925292479471916,0.9870084797974761,0.9905792640440986,1.0064915738588807,1.0064915738588807,1.0064915738588807,1.0116830779443715,1.0243453340826705,1.0133038782879011,1.0217453555452132,1.033766070038572,1.0214246249750738,1.0386283905644995,1.0486992016594265,1.072394541107733,1.0415576331661816,1.0694737514954746,1.061032193733501,1.066232231313077,1.0633114417008187,1.061032193733501,1.0626614470664544,1.0905775653957477,1.0827860022681384,1.0704530101940637,1.0532407111105528,1.0519407218418242,1.0714237353985676,1.055190695013646,1.0503199214982948,1.055190695013646,1.029216107598022,1.024995328717035,0.9928500590219925,1.0090830994069142,1.029216107598022,1.0275953877591535,1.0162330403849218,1.0214246249750738,1.0084415577619736,0.9967500268281784,1.0107122722352062,1.0275953877591535,1.0227246142438025,0.9967500268281784,0.9996708164404365,1.0142830564818288,1.0094122829664776,1.0191538299971798,1.0016208003435296,0.9983707466670466,1.0055123151602916,0.9873377438617007,1.006162309794656,1.033766070038572,1.0324660807698434,1.0499991909281552,1.0493491962937909,1.0519407218418242,1.0564906842823747,1.055190695013646,1.0415576331661816,1.0467491372516722,1.0447991533485792,1.055190695013646,1.0538907057449174,1.0350576868225383,1.0331160754042077,1.0214246249750738,1.0162330403849218,1.0220746196094381,1.033766070038572,1.029216107598022,1.0194745605673197,1.029216107598022,1.0415576331661816,1.0779153092574485,1.0915568240943367,1.0798652931605413,1.0818152770636345,1.0973983228141917,1.105189885941801,1.1136313631991135,1.1012982906203779,1.1305143982183996,1.1246728994985444,1.1201229370579944,1.1038898161684112,1.1116813792960205,1.1168813363709351,1.1233729102298158,1.1519474761828974,1.1116813792960205,1.1292144089496707,1.1168813363709351,1.1103813900272919,1.1181813256396638,1.146097443968957,1.146097443968957,1.1603889534402096,1.1577889749027523,1.1714220367502166,1.1785636052434618,1.191555125445986,1.177272068964157,1.1688305112021833,1.188305071769503,1.197396624165841,1.201946586606391,1.2168796377225843,1.2331127586121673,1.2227212169471007,1.2207712330440077,1.2396042519663868,1.247395815093996,1.2311627747090743,1.2344127478808962,1.2649288447476466,1.2707703434675015,1.287653458991449,1.2863618422074827,1.2986949147862186,1.2837618636700256,1.2720703327362302,1.2766203756814418,1.282461874401297,1.2818118797669327,1.285061852938754,1.2746703917783488,1.2727203273705945,1.285061852938754,1.2922034214319993,1.28441185830439,1.2948033999694566,1.2759703810470775,1.2337627532465318,1.1876550771351386,1.18635508786641,1.2149296538194914,1.2188297021303385,1.2376542680632938,1.2123296752820338,1.199346608068934,1.1818135784152834,1.2012965919720267,1.201946586606391,1.1629805594929046,1.159088964171481,1.1305143982183996,1.1116813792960205,1.136355977442916,1.135064441163611,1.0798652931605413,1.0947983442767344,1.0727237246672963,1.0486992016594265,1.0506491855625195,1.08116528242927,1.087006781149125,1.0876567757834894,1.0564906842823747,1.0954483389110987,1.0954483389110987,1.0714237353985676,1.0603821990991367,1.0441491587142149,1.0389576546287242,1.0415576331661816,1.0668822259474413,1.0714237353985676,1.0798652931605413,1.0876567757834894,1.0675322205818056,1.055190695013646,1.072073730032932,1.057140678916739,1.055190695013646,1.0246745981468957,1.0155830457505575,1.0064915738588807,1.0032415201823977,1.031816086135479,1.061032193733501,1.087006781149125,1.0844152556010918,1.0934983550080057,1.055190695013646,1.036357676091267,1.061032193733501,1.0486992016594265,1.0512907272074599,1.0389576546287242,1.0331160754042077,1.0357076814569026,1.0168830350192861,1.029216107598022,1.029216107598022,1.0162330403849218,1.0136330618474645,0.9844085012600187,0.9435008627282016,0.9350593049662279,0.9344093103318636,0.9331093210631349,0.9993500053656357,0.9779170079057993,0.9688254555094613,0.9396093479114396,0.9441508573625659,0.9253178384401868,0.9123347712270866,0.922076318257789,0.9363593747396177,0.9175262753125774,0.9545423990276325,0.9545423990276325,0.981166981077621,1.0025915255480333,0.9967500268281784,1.0168830350192861,0.9870084797974761,1.031816086135479,1.0434991640798505,1.0714237353985676,1.0129830672131002,1.0467491372516722,1.0084415577619736,1.0032415201823977,1.0389576546287242,1.066232231313077,1.018174571298591,1.0,1.0162330403849218,1.0,0.9870084797974761,0.9863584851631118,1.0045415094511263,1.0097330940412785,1.0233746088781668,1.0116830779443715,0.9707754394125543,0.9506424312214466,0.9967500268281784,0.9740254125843759,0.9461008412656589,0.9415508788251086,0.9201262538500347,0.9610338923818518,0.9253178384401868,0.9259678330745511,0.916876280678213,0.9064931920025702,0.9136347604958154,0.9006432402932913,0.9409093371801682,0.9577923721994541,0.9214262431187634,0.9590839084787588,0.9564923829307255,1.0038915148167622,0.979216997174528,0.9389593532770752,0.9571423775650898,0.9532424097589038,0.9480508251687517,0.9480508251687517,0.9266178277089154,0.93181778478383,0.9103847873239936,0.9090847980552651,0.9084348034209008,0.918826264581306,0.9090847980552651,0.9480508251687517,0.9389593532770752,0.8486940654620432,0.8571356232240168,0.8344118945314875,0.8564940815790766,0.8603855963958386,0.8863601838114626,0.8798686904572431,0.8915516878969534,0.9064931920025702,0.9448008519969302,0.9006432402932913,0.8935017523047075,0.8844101999083696,0.8766186367807601,0.8766186367807601,0.8954517362078006,0.9272678223432798,0.9350593049662279,0.948700819803116,0.9610338923818518,0.911034781958358,0.9025932241963843,0.924026302160882,0.9480508251687517,0.9422008734594729,0.9123347712270866,0.9298678008807371,0.899993245658927,0.8987017093796223,0.914934749764544,0.9090847980552651,0.9012932349276557,0.8668771702547193,0.8746686528776672,0.899993245658927,0.9051932027338415,0.9285678116120084,0.9090847980552651,0.9175262753125774,0.9084348034209008,0.916876280678213,0.914934749764544,0.9422008734594729,0.9870084797974761,0.9915584422380262,0.9857084905287473,0.9915584422380262,0.9876584744318404,0.975966943498045,0.981166981077621,0.9727254233156473,0.9824669703463497,1.0116830779443715,1.0058414987198552,1.0194745605673197,0.9967500268281784,0.9805169864432567,0.97012544477819,0.9818169757119853,0.9798669918088923,0.9922000643876282,0.9603838977474874,0.9649339406926991,0.9642839460583348,0.9480508251687517,0.9558423882963611,0.9344093103318636,0.9668754716063682,0.9590839084787588,0.962983876284945,0.9707754394125543,0.9636338709193093,0.9798669918088923,0.9623338816505804,0.9305177955151014,0.9344093103318636,0.9077848087865364,0.9006432402932913,0.9266178277089154,0.9142847551301797,0.9227263128921533,0.9370093693739823,0.9363593747396177,0.9474008305343874,0.9194762592156704,0.9090847980552651,0.8922016825313177,0.8922016825313177,0.8922016825313177,0.8902601516176486,0.8798686904572431,0.8701271434265408,0.8701271434265408,0.8792186153182177,0.8896101569832843,0.8701271434265408,0.8577856178583811,0.8694771487921765,0.8948017415734364,0.8974017201108937,0.918826264581306,0.9233763075265177,0.9331093210631349,0.9493508144374804,0.9519424204901753,0.9409093371801682,0.9480508251687517,0.9870084797974761,0.9935000536563569,0.9915584422380262,1.0051915040854909,1.001941530913669,1.0032415201823977,1.0142830564818288,1.031816086135479,1.0603821990991367,1.0818152770636345,1.0779153092574485,1.1123313739303848,1.1084398591136229,1.1155813471022065,1.1103813900272919,1.1175313310052994,1.1123313739303848,1.1038898161684112,1.0779153092574485,1.0753237032047536,1.0779153092574485,1.0675322205818056,1.0422076278005459,1.0928568133630654,1.0727237246672963,1.0733737193016608,1.0714237353985676,1.088956765052218,1.0753237032047536,1.1084398591136229,1.1116813792960205,1.064282247409984,1.096098333545463,1.08116528242927,1.0837652609667274,1.1006482959860135,1.0798652931605413,1.0947983442767344,1.1149313524678421,1.1097398483823515,1.138305961346009,1.136355977442916,1.1064898752105297,1.1116813792960205,1.1467475191079826,1.1396059506147376,1.1467475191079826,1.1499974922798044,1.1473975137423469,1.159088964171481,1.1688305112021833,1.1675305219334546,1.1798635945121905,1.1558389909996594,1.1584389695371167,1.131164392852764,1.1519474761828974,1.1603889534402096,1.1519474761828974,1.1649305433959973,1.1629805594929046,1.144147460065864,1.1415559345178306,1.1344144465292467,1.131164392852764,1.1220729209610871,1.1428559237865592,1.1071398698448942,1.0947983442767344,1.1025898268996825,1.1175313310052994,1.1038898161684112,1.0857067918803964,1.0714237353985676,1.0564906842823747,1.057140678916739,1.0766153199887198,1.0532407111105528,1.0668822259474413,1.0357076814569026,1.0285661129636576,1.0415576331661816,1.0194745605673197,1.001941530913669,1.0467491372516722,1.0324660807698434,1.0110330833100072,0.9474008305343874,0.9558423882963611,0.9389593532770752,0.9603838977474874,0.981166981077621,0.9818169757119853,0.9837585066256543,0.9571423775650898,0.9733754179500116,0.9448008519969302,0.9616838870162163,0.9519424204901753,0.9525924151245395,0.9422008734594729,0.948700819803116,0.9389593532770752,0.9642839460583348,0.9558423882963611,0.9714254340469186,0.9740254125843759,1.0064915738588807,0.9805169864432567,1.0298661022323863,1.0051915040854909,1.0025915255480333,1.0110330833100072,1.0,0.9889584637005691,0.9720754286812829,1.0051915040854909,0.9837585066256543,0.9837585066256543,1.0064915738588807,0.9967500268281784,0.9974000214625427,1.0025915255480333,1.0168830350192861,1.0162330403849218,1.0454491479829435,1.048049126520401,1.0389576546287242,1.0331160754042077,1.02532459278126,1.0350576868225383,1.055190695013646,1.0506491855625195,1.0512907272074599,1.055190695013646,1.0577906735511033,1.0597322044647723,1.0675322205818056,1.064282247409984,1.105189885941801,1.0876567757834894,1.098048317448556,1.0973983228141917,1.136355977442916,1.1103813900272919,1.0876567757834894,1.1025898268996825,1.1428559237865592,1.1415559345178306,1.1499974922798044,1.1409059398834662,1.1110313846616562,1.1103813900272919,1.1168813363709351,1.1266228834016374,1.09414834964237,1.0934983550080057,1.0993483067172847,1.0954483389110987,1.0947983442767344,1.1090898537479872,1.0909068294599724,1.0649322420443483,1.0779153092574485,1.0954483389110987,1.1025898268996825,1.1188229477892657,1.1337644518948824,1.133114457260518,1.129864403584035,1.1357059828085516,1.1447974547002284,1.138305961346009,1.1370059720772803,1.1071398698448942,1.1038898161684112,1.0934983550080057,1.0973983228141917,1.088956765052218,1.1116813792960205,1.0986983120829203,1.088956765052218,1.099998301351649,1.1136313631991135,1.1201229370579944,1.159088964171481,1.1435059184209235,1.14934749764544,1.1805135891465548,1.2110381390027292,1.1870050825007743,1.2012965919720267,1.2012965919720267,1.2207712330440077,1.2545373030825797,1.2766203756814418,1.2999949040549472,1.3259694914705713,1.2662288340163752,1.2454458311909031,1.2110381390027292,1.227271179387651,1.2292127103013202,1.2376542680632938,1.2168796377225843,1.2344127478808962,1.2499957936314534,1.2499957936314534,1.2688288125538325,1.2337627532465318,1.242204230503844,1.2337627532465318,1.2266211847532866,1.2181797074959742,1.227271179387651,1.2168796377225843,1.195446640262748,1.1889551469085284,1.1805135891465548,1.185063551587105,1.185063551587105,1.1746720099220385,1.1876550771351386,1.1779136106090975,1.1623305648585402,1.1538890070965664,1.1525890178278377,1.1597389588058453,1.135064441163611,1.131164392852764,1.136355977442916,1.14934749764544,1.1655805380303617,1.170122047481488,1.1759720796954283,1.1506474869141687,1.166230532664726,1.1960966348971123,1.2103881443683648,1.225321195484558,1.2467458204596318,1.2337627532465318,1.2454458311909031,1.2727203273705945,1.2545373030825797,1.2642788501132822,1.249345798997089,1.2538873084482154,1.2441542144069369,1.2370042734289295,1.227271179387651,1.2155796484538555,1.2298627049356845,1.2435042197725725,1.2675288232851039,1.2448042090413012,1.2428542251382082,1.2694788071881968,1.253245766803275,1.242204230503844,1.2480458097283604,1.2499957936314534,1.2564872869856727,1.2733704025096202,1.323369512933114,1.3058364832794636,1.3188280034819877,1.321419529030021,1.3525940735205597,1.3525940735205597,1.3402525479524001,1.332461065329452,1.3350610438669093,1.3181780088476234,1.3389525586836712,1.3285694700080286,1.349344100348738,1.3714271729476,1.4058347041264516,1.391551728149284,1.391551728149284,1.3720686340878794,1.400643280545622,1.3980433020081646,1.4188262243289755,1.4512924661081414,1.485708530781078,1.5344077324405045,1.5227245739914719,1.471425393794588,1.4577838789576998,1.4259677928222205,1.4168762404258826,1.386360143559132,1.3707771783132356,1.3688271944101427,1.389601744246191,1.3811601864842173,1.4350593452185585,1.4415509190774392,1.447400870786718,1.4409009244430748,1.4409009244430748,1.4577838789576998,1.4772669730191044,1.4772669730191044,1.4902499597275431,1.4772669730191044,1.4636338306669787,1.4662254367196734,1.4370093291216515,1.454542439279963,1.4051932429861722,1.447400870786718,1.4448008922492608,1.3993432912768933,1.4019432698143506,1.3668772105070497,1.3818101811185817,1.3746686126253367,1.3746686126253367,1.3928517174180126,1.40973483294196,1.3714271729476,1.4116848168450529,1.407784849038867,1.4058347041264516,1.3831101703873103,1.3616856259168977,1.3616856259168977,1.4123348114794172,1.4493424822050485,1.4493424822050485,1.504541469198796,1.5259661746785305,1.5129830269607696,1.4935000939086873,1.4870085200498067,1.4798669515565617,1.480516946190926,1.485708530781078,1.471425393794588,1.5032414799300673,1.545449107730613,1.5486992419117571,1.4974000617148733,1.5032414799300673,1.5019414906613386,1.5227245739914719,1.5389576948810548,1.5019414906613386,1.5324575875280895,1.524666185409802,1.4980500563492376,1.5129830269607696,1.571423775650898,1.5759653656066863,1.5759653656066863,1.6038898564207418,1.6032398617863775,1.565582196426382,1.565582196426382,1.6246729397508755,1.5999898886145558,1.5844067623593372,1.590906869712303,1.6038898564207418,1.6298643633317047,1.616872843129181,1.6480474681243806,1.6603806212077779,1.6714219964978863,1.6915550851936552,1.6818135381629529,1.6584390097894472,1.6811635435285885,1.6623306051108706,1.6142813980858084,1.616872843129181,1.616872843129181,1.6240229451165107,1.5720737702852627,1.5584322554483743,1.5389576948810548,1.5259661746785305,1.4772669730191044,1.4610338521295214,1.5051914638331603,1.4870085200498067,1.4435009029805321,1.4233678142847632,1.5201245954540146,1.4850585361467137,1.4915501100055943,1.4902499597275431,1.4831085522436207,1.492850099274323,1.5486992419117571,1.5688237971134409,1.545449107730613,1.5201245954540146,1.511683037692041,1.5032414799300673,1.4779169676534687,1.4753169891160114,1.465575442085309,1.4577838789576998,1.4935000939086873,1.4870085200498067,1.4740169998472827,1.496750067080509,1.4999915067582454,1.5064916141112112,1.5071330752514904,1.4954500778117803,1.5032414799300673,1.5064916141112112,1.4941500885430516,1.4681754206227664,1.4422009137118035,1.454542439279963,1.4681754206227664,1.4493424822050485,1.4493424822050485,1.4499924768394128,1.4441508976148965,1.4129848061137815,1.3831101703873103,1.3961016905898342,1.4032432590830792,1.4194762189633399,1.4318093720467369,1.4383093183903801,1.4448008922492608,1.4409009244430748,1.4571338843233355,1.487658514684171,1.481808562974892,1.474666994481647,1.4435009029805321,1.5127213868119358,1.5135655586890653,1.500903302550766,1.5203187726967797,1.485708530781078,1.4519424607425058,1.428306131210844,1.4232412609573888,1.4299944749651032,1.4983707869193772,1.5017474744278956,1.510188871180547,1.5701237863821695,1.610643070428456,1.5777211722670137,1.5447991130962486,1.5135655586890653,1.5228512883281686,1.5211629445739094,1.5886950846510537,1.5785653441441432,1.4924617447887925,1.4662930606350641,1.4502541169882466,1.439280043594884,1.4181762296946112,1.384410159656039,1.4350593452185585,1.3869426752874279,1.3928517174180126,1.3565531317480517,1.3413584404830248,1.317722110951363,1.287332647916648,1.3320727108439214,1.2890209916709072,1.2839560409127908,1.2999949040549472,1.3059040266901933,1.3033715110588044,1.3354493178477789,1.3472674826136095,1.3270078405904662,1.35992981925657,1.3717479035177398,1.3219428898323498,1.3506440896174667,1.342202531855493,1.3489557458632075,1.3793452894025837,1.4350593452185585,1.4190204015717407,1.439280043594884,1.4477216013568577,1.4722021027656491,1.5355135444664678,1.559149712988807,1.5853185581518576,1.5743444847584955,1.5903834284053129,1.6038898564207418,1.5954482986587686,1.5675912707507809,1.5574615302438704,1.5701237863821695,1.5625264004973258,1.5456432849733783,1.5160979133111319,1.5304485132036902,1.540578414719923,1.5642147442515848,1.5304485132036902,1.5245394710731055,1.4629163731265458,1.4882408854031444,1.483176015149689,1.4882408854031444,1.4941500885430516,1.4772669730191044,1.4722021027656491,1.4772669730191044,1.50850068843561,1.5093446993034174,1.4924617447887925,1.5194746008196502,1.5608380567430664,1.582786042520469,1.5903834284053129,1.6157079406819117,1.5870067408967945,1.5743444847584955,1.5675912707507809,1.6452533123441582,1.6503181825976132,1.6123314141827154,1.5870067408967945,1.5819418706433392,1.620772971944689,1.6292143686973404,1.6165521125590414,1.6030456845436123,1.611487242305586,1.641876785844962,1.6283703578295332,1.6469416560984176,1.6612922559909757,1.6798635542598601,1.6672012981215605,1.6452533123441582,1.666357126244431,1.640188442090703,1.6131755860598447,1.6123314141827154,1.6081105547970675,1.5447991130962486,1.5532406708582227,1.5557731864896112,1.5447991130962486,1.582786042520469,1.5743444847584955,1.554084842735352,1.5701237863821695,1.5743444847584955,1.620772971944689,1.6334352280829885,1.6047340282978717,1.5262278148273642,1.4772669730191044,1.5447991130962486,1.5194746008196502,1.5363577163435975,1.5794093550119506,1.5785653441441432,1.5920717721595719,1.5701237863821695,1.5701237863821695,1.5574615302438704,1.5304485132036902,1.5549290146124815,1.5659029269965217,1.5363577163435975,1.5160979133111319,1.4873968745353372,1.4924617447887925,1.4975266150422477,1.5236952991959758,1.5312926850808202,1.5372017272114047,1.5042798290499622,1.5160979133111319,1.5228512883281686,1.5068123446813508,1.5051240009270916,1.493305916665922,1.452786471610313,1.4688254152571307,1.460383857495157,1.4662930606350641,1.464604716880805,1.428306131210844,1.420708745326,1.4435009029805321,1.4561631591188313,1.4637605450036755,1.4350593452185585,1.4460332576025985,1.4806436605276228,1.517786257065391,1.552396498981093,1.5701237863821695,1.5456432849733783,1.5329810288350791,1.549864144359026,1.561682228620196,1.5777211722670137,1.5954482986587686,1.5642147442515848,1.5971366424130273,1.5870067408967945,1.5785653441441432,1.5886950846510537,1.5667470988736512,1.5844743862747281,1.5886950846510537,1.6140197579369746,1.6216169828124964,1.6393442702135732,1.5903834284053129,1.6570713966053277,1.662980599745235,1.692525810398159,1.6325910562058588,1.6182404563133004,1.6038898564207418,1.5946041267816389,1.5929159440367018,1.5751886566356248,1.5903834284053129,1.5954482986587686,1.610643070428456,1.6368117545821848,1.5861627300289873,1.593759954904509,1.6081105547970675,1.5583055411116775,1.5473316287276373,1.5684354426279101,1.5549290146124815,1.548175800604767,1.563370572374455,1.5870067408967945,1.6022015126664826,1.6047340282978717,1.6190846281904299,1.611487242305586,1.6258378421981448,1.611487242305586,1.611487242305586,1.5836302143975989,1.5667470988736512,1.538045899088534,1.5245394710731055,1.5211629445739094,1.4730462746427786,1.5236952991959758,1.5194746008196502,1.525383642950235,1.540578414719923,1.559149712988807,1.5878509127739242,1.6097988985513267,1.582786042520469,1.5625264004973258,1.5473316287276373,1.5388900709656639,1.5397342428427934,1.5532406708582227,1.582786042520469,1.5625264004973258,1.5726561410042361,1.582786042520469,1.6249936703210148,1.5870067408967945,1.6081105547970675,1.610643070428456,1.582786042520469,1.5684354426279101,1.5844743862747281,1.5743444847584955,1.549864144359026,1.5312926850808202,1.570967958259299,1.5659029269965217,1.5557731864896112,1.5194746008196502,1.5203187726967797,1.5194746008196502,1.5194746008196502,1.5304485132036902,1.5599938848659367,1.5870067408967945,1.5844743862747281,1.561682228620196,1.5355135444664678,1.5439551022284415,1.5912276002824426,1.611487242305586,1.608954726674197,1.6081105547970675,1.6157079406819117,1.605578200175001,1.5946041267816389,1.5946041267816389,1.620772971944689,1.6233053265667556,1.6351235718372477,1.6621364278681054,1.6883051120218335,1.6823960698912486,1.7136296242984321,1.7423308240835493,1.7870709675154837,1.8090189532928862,1.8216812094311852,1.7870709675154837,1.7853826237612247,1.803109911162301,1.803109911162301,1.8216812094311852,1.8199928656769262,1.8318111109474182,1.874018738747964,1.8909016932625893,1.9018757666559516,1.999797450272472,1.992200064387628,1.9491482647099525,1.8909016932625893,1.9001874229016926,1.9018757666559516,1.9204470649248355,1.923823752433354,1.9077848087865363,1.906096465032277,1.9415508788251086,1.923823752433354,1.9719404223644843,1.9905117206333685,2.0259661344262003,2.010771362656512,1.9778494644950695,2.0040181486487976,1.9668753911017072,2.017524576664227,2.0521348185799284,2.063108891973291,2.041160906195888,2.0048623205259273,2.049602463957862,1.9491482647099525,1.8866809948862635,1.9246677633011613,1.902719938533081,1.9077848087865363,1.9466157490785638,1.9187587211705763,1.8757069214929007,1.8191486937997967,1.830122767193159,1.864733009108861,1.8909016932625893,1.8993432510245627,1.9229795805562244,1.8731745668708346,1.9103171634086027,1.9229795805562244,1.9280444508096797,1.906096465032277,1.9356418366945236,1.9483040928328226,1.9457715772014341,2.002329804894538,1.961810520848252,2.009083018902253,2.0259661344262003,1.999797450272472,2.0597322044647726,2.0428492499501476,2.0158362329099675,2.0462257764493437,2.0462257764493437,2.03694004681024,2.045381604572214,2.045381604572214,2.0116155345336413,1.9989532783953425,1.9930442362647574,1.9288886226868092,1.9255119351782908,1.9305769664410684,1.9390183631937195,1.9981091065182128,2.0048623205259273,2.007394836157316,2.0571998498427058,2.0462257764493437,2.056355677965576,2.063108891973291,2.0884334042498893,2.1812902176129545,2.2032382033903573,2.1449916319429936,2.1593422318355517,2.1542773615820967,2.182134389490084,2.1525890178278377,2.1846667441121506,2.2057705580124236,2.257263915452073,2.2935625011220337,2.371224542715411,2.3838867988537102,2.455639798316503,2.4058347846311126,2.4657695388234133,2.4699903982090614,2.473366924708257,2.464925527955606,2.437912510915426,2.4531072826851137,2.456483970193632,2.4168086970151528,2.4522631108079844,2.4843409981016196,2.5679120818255816,2.5459640960481793,2.5923924222250507,2.6860934074652456,2.7662879646900116,2.7637556100679452,2.6936907933500898,2.6987556636035444,2.79161247696661,2.8532355749131697,2.8743393888134428,2.827067051768764,2.8667420029285986,2.861677293684466,2.8363524593892224,2.860832960798014,2.8523915640453623,2.941871528890587,2.9832351458233255,2.9258327462530915,2.9747937490706744,2.936806819646454,2.9444042055312982,2.9671963631858302,2.8549239186674287,2.812716290866883,2.870118690437117,2.8971315464679748,2.9545339460382087,2.9739494161842224,3.027975128245938,3.1064813417164445,3.201870670710899,3.1647280741731305,3.283753571689924,3.347065013390743,3.4973240653147197,3.4584931250226925,3.5462847461136575,3.578362633407293,3.4584931250226925,3.3268052103582773,3.433168290727449,3.420506195598472,3.492259034051942,3.616349562831513,3.4694668763974095,3.5057654620673717,3.6340766892232677,3.761543905511357,3.8468031719802562,3.8468031719802562,3.8645302983720113,3.773361989772527,4.121152752683804,4.008880630184048,4.203879664530636,3.7117388918259673,3.642518407994564,3.9666730023835015,4.045178893835364,4.090763209144428,3.94219250097471,3.715959590202293,3.355506410143394,3.5378433493610064,3.3090780839665226,2.7857034348360252,2.9148586728597294,2.313822143145177,2.421029556400801,2.2344717577975404,2.4252502547771266,2.732521733642117,2.971417061562156,3.044014232902078,3.153754000779768,3.2035590144651582,2.984923489577585,2.871807034191376,2.833820104767156,2.737586764904895,2.878560087189768,2.776417705196922,2.8093396033583646,3.1486889695169906,3.3757662131758597,3.2331042251180824,3.3141427932106553,3.283753571689924,3.2077797128414836,3.208623723709291,3.2466106531335113,3.300636365195226,3.454272104627722,3.341999982127965,3.267714467033784,3.4272592485968634,3.5099864824623412,3.4947917106926534,3.371545192780889,3.363103796028238,3.2930389793103827,3.277844529559339,3.2997923543274195,3.228039515873949,3.277844529559339,3.165572085040938,3.2077797128414836,3.1529096678933155,3.073559443555002,3.0912865699467567,3.116611082223355,3.1773901693021074,3.1605070537781597,3.1436242602728575,3.211156400350002,3.412064476827176,3.4255712268612495,3.434012623613901,3.5310902963626143,3.5589471632612795,3.5808949880293595,3.596089759799047,3.6973881309240864,3.7421284353653435,3.86621864212627,3.867062975012722,3.797842491181318,3.7353750603483067,3.7370634041025657,3.7784266990166597,3.896608185665646,3.8940758310435797,3.9008288840419714,3.8493355266023217,3.8932314981571277,3.887322456026543,4.154918983731698,4.220762780054584,4.214009405037547,4.2722561374942325,4.439398304942157,4.522125216788989,4.583748314735549,4.597254742750978,4.617514545783443,4.637774026797264,4.557579791591143,4.587969013111874,4.604852128635822,4.903682210748161,5.07842176408093,5.05478559555859,5.757120174379536,5.654134103537528,5.631341623864351,5.904846871681447,5.6718612299292825,5.654134103537528,5.740237380874234,5.685367335926067,5.619523539603181,5.638094998881388,5.757120174379536,5.894717453193181,5.77822398827981,5.823808303588874,5.68705600169897,5.740237380874234,5.816211239722675,5.839003075358562,5.737705026252168,5.714912546578991,5.561276807146496,5.674393584551349,5.706471149826339,5.61108214285053,5.764717882283025,5.607705455342011,5.595887371080842,5.6718612299292825,5.454914048795969,5.6499130831425575,5.639783020617002,5.438874944139828,5.4439396533839615,5.318161102868776,5.481082571940374,5.269200100051193,5.241343233152528,5.346018291786085,5.409329733486904,5.313096071605997,5.302966331099087,5.2329018363998765,5.35192733391667,5.454914048795969,5.2759534750682295,5.4439396533839615,5.3088753732296725,5.481926904826826,5.546082035376807,5.647380728520491,5.660043145668112,5.924262663846106,6.03400275374244,6.176664097762928,6.346338941851564,6.491533284531408,6.681467609633864,6.802181450904917,6.818219911523768,6.963414254203611,6.92711566853365,7.0528948630861255,6.618156167933045,6.931336688928621,6.926271979684488,6.985362400990336,7.02672569590443,6.680623276747412,6.7557528027094005,6.401208986799731,6.640948003568933],\"type\":\"scatter\"},{\"name\":\"MGLU\",\"x\":[\"2015-01-02\",\"2015-01-05\",\"2015-01-06\",\"2015-01-07\",\"2015-01-08\",\"2015-01-09\",\"2015-01-12\",\"2015-01-13\",\"2015-01-14\",\"2015-01-15\",\"2015-01-16\",\"2015-01-19\",\"2015-01-20\",\"2015-01-21\",\"2015-01-22\",\"2015-01-23\",\"2015-01-26\",\"2015-01-27\",\"2015-01-28\",\"2015-01-29\",\"2015-01-30\",\"2015-02-02\",\"2015-02-03\",\"2015-02-04\",\"2015-02-05\",\"2015-02-06\",\"2015-02-09\",\"2015-02-10\",\"2015-02-11\",\"2015-02-12\",\"2015-02-13\",\"2015-02-18\",\"2015-02-19\",\"2015-02-20\",\"2015-02-23\",\"2015-02-24\",\"2015-02-25\",\"2015-02-26\",\"2015-02-27\",\"2015-03-02\",\"2015-03-03\",\"2015-03-04\",\"2015-03-05\",\"2015-03-06\",\"2015-03-09\",\"2015-03-10\",\"2015-03-11\",\"2015-03-12\",\"2015-03-13\",\"2015-03-16\",\"2015-03-17\",\"2015-03-18\",\"2015-03-19\",\"2015-03-20\",\"2015-03-23\",\"2015-03-24\",\"2015-03-25\",\"2015-03-26\",\"2015-03-27\",\"2015-03-30\",\"2015-03-31\",\"2015-04-01\",\"2015-04-02\",\"2015-04-06\",\"2015-04-07\",\"2015-04-08\",\"2015-04-09\",\"2015-04-10\",\"2015-04-13\",\"2015-04-14\",\"2015-04-15\",\"2015-04-16\",\"2015-04-17\",\"2015-04-20\",\"2015-04-22\",\"2015-04-23\",\"2015-04-24\",\"2015-04-27\",\"2015-04-28\",\"2015-04-29\",\"2015-04-30\",\"2015-05-04\",\"2015-05-05\",\"2015-05-06\",\"2015-05-07\",\"2015-05-08\",\"2015-05-11\",\"2015-05-12\",\"2015-05-13\",\"2015-05-14\",\"2015-05-15\",\"2015-05-18\",\"2015-05-19\",\"2015-05-20\",\"2015-05-21\",\"2015-05-22\",\"2015-05-25\",\"2015-05-26\",\"2015-05-27\",\"2015-05-28\",\"2015-05-29\",\"2015-06-01\",\"2015-06-02\",\"2015-06-03\",\"2015-06-05\",\"2015-06-08\",\"2015-06-09\",\"2015-06-10\",\"2015-06-11\",\"2015-06-12\",\"2015-06-15\",\"2015-06-16\",\"2015-06-17\",\"2015-06-18\",\"2015-06-19\",\"2015-06-22\",\"2015-06-23\",\"2015-06-24\",\"2015-06-25\",\"2015-06-26\",\"2015-06-29\",\"2015-06-30\",\"2015-07-01\",\"2015-07-02\",\"2015-07-03\",\"2015-07-06\",\"2015-07-07\",\"2015-07-08\",\"2015-07-10\",\"2015-07-13\",\"2015-07-14\",\"2015-07-15\",\"2015-07-16\",\"2015-07-17\",\"2015-07-20\",\"2015-07-21\",\"2015-07-22\",\"2015-07-23\",\"2015-07-24\",\"2015-07-27\",\"2015-07-28\",\"2015-07-29\",\"2015-07-30\",\"2015-07-31\",\"2015-08-03\",\"2015-08-04\",\"2015-08-05\",\"2015-08-06\",\"2015-08-07\",\"2015-08-10\",\"2015-08-11\",\"2015-08-12\",\"2015-08-13\",\"2015-08-14\",\"2015-08-17\",\"2015-08-18\",\"2015-08-19\",\"2015-08-20\",\"2015-08-21\",\"2015-08-24\",\"2015-08-25\",\"2015-08-26\",\"2015-08-27\",\"2015-08-28\",\"2015-08-31\",\"2015-09-01\",\"2015-09-02\",\"2015-09-03\",\"2015-09-04\",\"2015-09-08\",\"2015-09-09\",\"2015-09-10\",\"2015-09-11\",\"2015-09-14\",\"2015-09-15\",\"2015-09-16\",\"2015-09-17\",\"2015-09-18\",\"2015-09-21\",\"2015-09-22\",\"2015-09-23\",\"2015-09-24\",\"2015-09-25\",\"2015-09-28\",\"2015-09-29\",\"2015-09-30\",\"2015-10-01\",\"2015-10-02\",\"2015-10-05\",\"2015-10-06\",\"2015-10-07\",\"2015-10-08\",\"2015-10-09\",\"2015-10-13\",\"2015-10-14\",\"2015-10-15\",\"2015-10-16\",\"2015-10-19\",\"2015-10-20\",\"2015-10-21\",\"2015-10-22\",\"2015-10-23\",\"2015-10-26\",\"2015-10-27\",\"2015-10-28\",\"2015-10-29\",\"2015-10-30\",\"2015-11-03\",\"2015-11-04\",\"2015-11-05\",\"2015-11-06\",\"2015-11-09\",\"2015-11-10\",\"2015-11-11\",\"2015-11-12\",\"2015-11-13\",\"2015-11-16\",\"2015-11-17\",\"2015-11-18\",\"2015-11-19\",\"2015-11-23\",\"2015-11-24\",\"2015-11-25\",\"2015-11-26\",\"2015-11-27\",\"2015-11-30\",\"2015-12-01\",\"2015-12-02\",\"2015-12-03\",\"2015-12-04\",\"2015-12-07\",\"2015-12-08\",\"2015-12-09\",\"2015-12-10\",\"2015-12-11\",\"2015-12-14\",\"2015-12-15\",\"2015-12-16\",\"2015-12-17\",\"2015-12-18\",\"2015-12-21\",\"2015-12-22\",\"2015-12-23\",\"2015-12-28\",\"2015-12-29\",\"2015-12-30\",\"2016-01-04\",\"2016-01-05\",\"2016-01-06\",\"2016-01-07\",\"2016-01-08\",\"2016-01-11\",\"2016-01-12\",\"2016-01-13\",\"2016-01-14\",\"2016-01-15\",\"2016-01-18\",\"2016-01-19\",\"2016-01-20\",\"2016-01-21\",\"2016-01-22\",\"2016-01-26\",\"2016-01-27\",\"2016-01-28\",\"2016-01-29\",\"2016-02-01\",\"2016-02-02\",\"2016-02-03\",\"2016-02-04\",\"2016-02-05\",\"2016-02-10\",\"2016-02-11\",\"2016-02-12\",\"2016-02-15\",\"2016-02-16\",\"2016-02-17\",\"2016-02-18\",\"2016-02-19\",\"2016-02-22\",\"2016-02-23\",\"2016-02-24\",\"2016-02-25\",\"2016-02-26\",\"2016-02-29\",\"2016-03-01\",\"2016-03-02\",\"2016-03-03\",\"2016-03-04\",\"2016-03-07\",\"2016-03-08\",\"2016-03-09\",\"2016-03-10\",\"2016-03-11\",\"2016-03-14\",\"2016-03-15\",\"2016-03-16\",\"2016-03-17\",\"2016-03-18\",\"2016-03-21\",\"2016-03-22\",\"2016-03-23\",\"2016-03-24\",\"2016-03-28\",\"2016-03-29\",\"2016-03-30\",\"2016-03-31\",\"2016-04-01\",\"2016-04-04\",\"2016-04-05\",\"2016-04-06\",\"2016-04-07\",\"2016-04-08\",\"2016-04-11\",\"2016-04-12\",\"2016-04-13\",\"2016-04-14\",\"2016-04-15\",\"2016-04-18\",\"2016-04-19\",\"2016-04-20\",\"2016-04-22\",\"2016-04-25\",\"2016-04-26\",\"2016-04-27\",\"2016-04-28\",\"2016-04-29\",\"2016-05-02\",\"2016-05-03\",\"2016-05-04\",\"2016-05-05\",\"2016-05-06\",\"2016-05-09\",\"2016-05-10\",\"2016-05-11\",\"2016-05-12\",\"2016-05-13\",\"2016-05-16\",\"2016-05-17\",\"2016-05-18\",\"2016-05-19\",\"2016-05-20\",\"2016-05-23\",\"2016-05-24\",\"2016-05-25\",\"2016-05-27\",\"2016-05-30\",\"2016-05-31\",\"2016-06-01\",\"2016-06-02\",\"2016-06-03\",\"2016-06-06\",\"2016-06-07\",\"2016-06-08\",\"2016-06-09\",\"2016-06-10\",\"2016-06-13\",\"2016-06-14\",\"2016-06-15\",\"2016-06-16\",\"2016-06-17\",\"2016-06-20\",\"2016-06-21\",\"2016-06-22\",\"2016-06-23\",\"2016-06-24\",\"2016-06-27\",\"2016-06-28\",\"2016-06-29\",\"2016-06-30\",\"2016-07-01\",\"2016-07-04\",\"2016-07-05\",\"2016-07-06\",\"2016-07-07\",\"2016-07-08\",\"2016-07-11\",\"2016-07-12\",\"2016-07-13\",\"2016-07-14\",\"2016-07-15\",\"2016-07-18\",\"2016-07-19\",\"2016-07-20\",\"2016-07-21\",\"2016-07-22\",\"2016-07-25\",\"2016-07-26\",\"2016-07-27\",\"2016-07-28\",\"2016-07-29\",\"2016-08-01\",\"2016-08-02\",\"2016-08-03\",\"2016-08-04\",\"2016-08-05\",\"2016-08-08\",\"2016-08-09\",\"2016-08-10\",\"2016-08-11\",\"2016-08-12\",\"2016-08-15\",\"2016-08-16\",\"2016-08-17\",\"2016-08-18\",\"2016-08-19\",\"2016-08-22\",\"2016-08-23\",\"2016-08-24\",\"2016-08-25\",\"2016-08-26\",\"2016-08-29\",\"2016-08-30\",\"2016-08-31\",\"2016-09-01\",\"2016-09-02\",\"2016-09-05\",\"2016-09-06\",\"2016-09-08\",\"2016-09-09\",\"2016-09-12\",\"2016-09-13\",\"2016-09-14\",\"2016-09-15\",\"2016-09-16\",\"2016-09-19\",\"2016-09-20\",\"2016-09-21\",\"2016-09-22\",\"2016-09-23\",\"2016-09-26\",\"2016-09-27\",\"2016-09-28\",\"2016-09-29\",\"2016-09-30\",\"2016-10-03\",\"2016-10-04\",\"2016-10-05\",\"2016-10-06\",\"2016-10-07\",\"2016-10-10\",\"2016-10-11\",\"2016-10-13\",\"2016-10-14\",\"2016-10-17\",\"2016-10-18\",\"2016-10-19\",\"2016-10-20\",\"2016-10-21\",\"2016-10-24\",\"2016-10-25\",\"2016-10-26\",\"2016-10-27\",\"2016-10-28\",\"2016-10-31\",\"2016-11-01\",\"2016-11-03\",\"2016-11-04\",\"2016-11-07\",\"2016-11-08\",\"2016-11-09\",\"2016-11-10\",\"2016-11-11\",\"2016-11-14\",\"2016-11-16\",\"2016-11-17\",\"2016-11-18\",\"2016-11-21\",\"2016-11-22\",\"2016-11-23\",\"2016-11-24\",\"2016-11-25\",\"2016-11-28\",\"2016-11-29\",\"2016-11-30\",\"2016-12-01\",\"2016-12-02\",\"2016-12-05\",\"2016-12-06\",\"2016-12-07\",\"2016-12-08\",\"2016-12-09\",\"2016-12-12\",\"2016-12-13\",\"2016-12-14\",\"2016-12-15\",\"2016-12-16\",\"2016-12-19\",\"2016-12-20\",\"2016-12-21\",\"2016-12-22\",\"2016-12-23\",\"2016-12-26\",\"2016-12-27\",\"2016-12-28\",\"2016-12-29\",\"2017-01-02\",\"2017-01-03\",\"2017-01-04\",\"2017-01-05\",\"2017-01-06\",\"2017-01-09\",\"2017-01-10\",\"2017-01-11\",\"2017-01-12\",\"2017-01-13\",\"2017-01-16\",\"2017-01-17\",\"2017-01-18\",\"2017-01-19\",\"2017-01-20\",\"2017-01-23\",\"2017-01-24\",\"2017-01-26\",\"2017-01-27\",\"2017-01-30\",\"2017-01-31\",\"2017-02-01\",\"2017-02-02\",\"2017-02-03\",\"2017-02-06\",\"2017-02-07\",\"2017-02-08\",\"2017-02-09\",\"2017-02-10\",\"2017-02-13\",\"2017-02-14\",\"2017-02-15\",\"2017-02-16\",\"2017-02-17\",\"2017-02-20\",\"2017-02-21\",\"2017-02-22\",\"2017-02-23\",\"2017-02-24\",\"2017-03-01\",\"2017-03-02\",\"2017-03-03\",\"2017-03-06\",\"2017-03-07\",\"2017-03-08\",\"2017-03-09\",\"2017-03-10\",\"2017-03-13\",\"2017-03-14\",\"2017-03-15\",\"2017-03-16\",\"2017-03-17\",\"2017-03-20\",\"2017-03-21\",\"2017-03-22\",\"2017-03-23\",\"2017-03-24\",\"2017-03-27\",\"2017-03-28\",\"2017-03-29\",\"2017-03-30\",\"2017-03-31\",\"2017-04-03\",\"2017-04-04\",\"2017-04-05\",\"2017-04-06\",\"2017-04-07\",\"2017-04-10\",\"2017-04-11\",\"2017-04-12\",\"2017-04-13\",\"2017-04-17\",\"2017-04-18\",\"2017-04-19\",\"2017-04-20\",\"2017-04-24\",\"2017-04-25\",\"2017-04-26\",\"2017-04-27\",\"2017-04-28\",\"2017-05-02\",\"2017-05-03\",\"2017-05-04\",\"2017-05-05\",\"2017-05-08\",\"2017-05-09\",\"2017-05-10\",\"2017-05-11\",\"2017-05-12\",\"2017-05-15\",\"2017-05-16\",\"2017-05-17\",\"2017-05-18\",\"2017-05-19\",\"2017-05-22\",\"2017-05-23\",\"2017-05-24\",\"2017-05-25\",\"2017-05-26\",\"2017-05-29\",\"2017-05-30\",\"2017-05-31\",\"2017-06-01\",\"2017-06-02\",\"2017-06-05\",\"2017-06-06\",\"2017-06-07\",\"2017-06-08\",\"2017-06-09\",\"2017-06-12\",\"2017-06-13\",\"2017-06-14\",\"2017-06-15\",\"2017-06-16\",\"2017-06-19\",\"2017-06-20\",\"2017-06-21\",\"2017-06-22\",\"2017-06-23\",\"2017-06-26\",\"2017-06-27\",\"2017-06-28\",\"2017-06-29\",\"2017-06-30\",\"2017-07-03\",\"2017-07-04\",\"2017-07-05\",\"2017-07-06\",\"2017-07-07\",\"2017-07-10\",\"2017-07-11\",\"2017-07-12\",\"2017-07-13\",\"2017-07-14\",\"2017-07-17\",\"2017-07-18\",\"2017-07-19\",\"2017-07-20\",\"2017-07-21\",\"2017-07-24\",\"2017-07-25\",\"2017-07-26\",\"2017-07-27\",\"2017-07-28\",\"2017-07-31\",\"2017-08-01\",\"2017-08-02\",\"2017-08-03\",\"2017-08-04\",\"2017-08-07\",\"2017-08-08\",\"2017-08-09\",\"2017-08-10\",\"2017-08-11\",\"2017-08-14\",\"2017-08-15\",\"2017-08-16\",\"2017-08-17\",\"2017-08-18\",\"2017-08-21\",\"2017-08-22\",\"2017-08-23\",\"2017-08-24\",\"2017-08-25\",\"2017-08-28\",\"2017-08-29\",\"2017-08-30\",\"2017-08-31\",\"2017-09-01\",\"2017-09-04\",\"2017-09-05\",\"2017-09-06\",\"2017-09-07\",\"2017-09-08\",\"2017-09-11\",\"2017-09-12\",\"2017-09-13\",\"2017-09-14\",\"2017-09-15\",\"2017-09-18\",\"2017-09-19\",\"2017-09-20\",\"2017-09-21\",\"2017-09-22\",\"2017-09-25\",\"2017-09-26\",\"2017-09-27\",\"2017-09-28\",\"2017-09-29\",\"2017-10-02\",\"2017-10-03\",\"2017-10-04\",\"2017-10-05\",\"2017-10-06\",\"2017-10-09\",\"2017-10-10\",\"2017-10-11\",\"2017-10-12\",\"2017-10-13\",\"2017-10-16\",\"2017-10-17\",\"2017-10-18\",\"2017-10-19\",\"2017-10-20\",\"2017-10-23\",\"2017-10-24\",\"2017-10-25\",\"2017-10-26\",\"2017-10-27\",\"2017-10-30\",\"2017-10-31\",\"2017-11-01\",\"2017-11-02\",\"2017-11-03\",\"2017-11-06\",\"2017-11-07\",\"2017-11-08\",\"2017-11-09\",\"2017-11-10\",\"2017-11-13\",\"2017-11-14\",\"2017-11-15\",\"2017-11-16\",\"2017-11-17\",\"2017-11-20\",\"2017-11-21\",\"2017-11-22\",\"2017-11-23\",\"2017-11-24\",\"2017-11-27\",\"2017-11-28\",\"2017-11-29\",\"2017-11-30\",\"2017-12-01\",\"2017-12-04\",\"2017-12-05\",\"2017-12-06\",\"2017-12-07\",\"2017-12-08\",\"2017-12-11\",\"2017-12-12\",\"2017-12-13\",\"2017-12-14\",\"2017-12-15\",\"2017-12-18\",\"2017-12-19\",\"2017-12-20\",\"2017-12-21\",\"2017-12-22\",\"2017-12-25\",\"2017-12-26\",\"2017-12-27\",\"2017-12-28\",\"2017-12-29\",\"2018-01-02\",\"2018-01-03\",\"2018-01-04\",\"2018-01-05\",\"2018-01-08\",\"2018-01-09\",\"2018-01-10\",\"2018-01-11\",\"2018-01-12\",\"2018-01-15\",\"2018-01-16\",\"2018-01-17\",\"2018-01-18\",\"2018-01-19\",\"2018-01-22\",\"2018-01-23\",\"2018-01-24\",\"2018-01-25\",\"2018-01-26\",\"2018-01-29\",\"2018-01-30\",\"2018-01-31\",\"2018-02-01\",\"2018-02-02\",\"2018-02-05\",\"2018-02-06\",\"2018-02-07\",\"2018-02-08\",\"2018-02-09\",\"2018-02-15\",\"2018-02-16\",\"2018-02-19\",\"2018-02-20\",\"2018-02-21\",\"2018-02-22\",\"2018-02-23\",\"2018-02-26\",\"2018-02-27\",\"2018-02-28\",\"2018-03-01\",\"2018-03-02\",\"2018-03-05\",\"2018-03-06\",\"2018-03-07\",\"2018-03-08\",\"2018-03-09\",\"2018-03-12\",\"2018-03-13\",\"2018-03-14\",\"2018-03-15\",\"2018-03-16\",\"2018-03-19\",\"2018-03-20\",\"2018-03-21\",\"2018-03-22\",\"2018-03-23\",\"2018-03-26\",\"2018-03-27\",\"2018-03-28\",\"2018-03-29\",\"2018-04-02\",\"2018-04-03\",\"2018-04-04\",\"2018-04-05\",\"2018-04-06\",\"2018-04-09\",\"2018-04-10\",\"2018-04-11\",\"2018-04-12\",\"2018-04-13\",\"2018-04-16\",\"2018-04-17\",\"2018-04-18\",\"2018-04-19\",\"2018-04-20\",\"2018-04-23\",\"2018-04-24\",\"2018-04-25\",\"2018-04-26\",\"2018-04-27\",\"2018-04-30\",\"2018-05-02\",\"2018-05-03\",\"2018-05-04\",\"2018-05-07\",\"2018-05-08\",\"2018-05-09\",\"2018-05-10\",\"2018-05-11\",\"2018-05-14\",\"2018-05-15\",\"2018-05-16\",\"2018-05-17\",\"2018-05-18\",\"2018-05-21\",\"2018-05-22\",\"2018-05-23\",\"2018-05-24\",\"2018-05-25\",\"2018-05-28\",\"2018-05-29\",\"2018-05-30\",\"2018-06-01\",\"2018-06-04\",\"2018-06-05\",\"2018-06-06\",\"2018-06-07\",\"2018-06-08\",\"2018-06-11\",\"2018-06-12\",\"2018-06-13\",\"2018-06-14\",\"2018-06-15\",\"2018-06-18\",\"2018-06-19\",\"2018-06-20\",\"2018-06-21\",\"2018-06-22\",\"2018-06-25\",\"2018-06-26\",\"2018-06-27\",\"2018-06-28\",\"2018-06-29\",\"2018-07-02\",\"2018-07-03\",\"2018-07-04\",\"2018-07-05\",\"2018-07-06\",\"2018-07-10\",\"2018-07-11\",\"2018-07-12\",\"2018-07-13\",\"2018-07-16\",\"2018-07-17\",\"2018-07-18\",\"2018-07-19\",\"2018-07-20\",\"2018-07-23\",\"2018-07-24\",\"2018-07-25\",\"2018-07-26\",\"2018-07-27\",\"2018-07-30\",\"2018-07-31\",\"2018-08-01\",\"2018-08-02\",\"2018-08-03\",\"2018-08-06\",\"2018-08-07\",\"2018-08-08\",\"2018-08-09\",\"2018-08-10\",\"2018-08-13\",\"2018-08-14\",\"2018-08-15\",\"2018-08-16\",\"2018-08-17\",\"2018-08-20\",\"2018-08-21\",\"2018-08-22\",\"2018-08-23\",\"2018-08-24\",\"2018-08-27\",\"2018-08-28\",\"2018-08-29\",\"2018-08-30\",\"2018-08-31\",\"2018-09-03\",\"2018-09-04\",\"2018-09-05\",\"2018-09-06\",\"2018-09-10\",\"2018-09-11\",\"2018-09-12\",\"2018-09-13\",\"2018-09-14\",\"2018-09-17\",\"2018-09-18\",\"2018-09-19\",\"2018-09-20\",\"2018-09-21\",\"2018-09-24\",\"2018-09-25\",\"2018-09-26\",\"2018-09-27\",\"2018-09-28\",\"2018-10-01\",\"2018-10-02\",\"2018-10-03\",\"2018-10-04\",\"2018-10-05\",\"2018-10-08\",\"2018-10-09\",\"2018-10-10\",\"2018-10-11\",\"2018-10-15\",\"2018-10-16\",\"2018-10-17\",\"2018-10-18\",\"2018-10-19\",\"2018-10-22\",\"2018-10-23\",\"2018-10-24\",\"2018-10-25\",\"2018-10-26\",\"2018-10-29\",\"2018-10-30\",\"2018-10-31\",\"2018-11-01\",\"2018-11-05\",\"2018-11-06\",\"2018-11-07\",\"2018-11-08\",\"2018-11-09\",\"2018-11-12\",\"2018-11-13\",\"2018-11-14\",\"2018-11-16\",\"2018-11-19\",\"2018-11-21\",\"2018-11-22\",\"2018-11-23\",\"2018-11-26\",\"2018-11-27\",\"2018-11-28\",\"2018-11-29\",\"2018-11-30\",\"2018-12-03\",\"2018-12-04\",\"2018-12-05\",\"2018-12-06\",\"2018-12-07\",\"2018-12-10\",\"2018-12-11\",\"2018-12-12\",\"2018-12-13\",\"2018-12-14\",\"2018-12-17\",\"2018-12-18\",\"2018-12-19\",\"2018-12-20\",\"2018-12-21\",\"2018-12-26\",\"2018-12-27\",\"2018-12-28\",\"2019-01-02\",\"2019-01-03\",\"2019-01-04\",\"2019-01-07\",\"2019-01-08\",\"2019-01-09\",\"2019-01-10\",\"2019-01-11\",\"2019-01-14\",\"2019-01-15\",\"2019-01-16\",\"2019-01-17\",\"2019-01-18\",\"2019-01-21\",\"2019-01-22\",\"2019-01-23\",\"2019-01-24\",\"2019-01-28\",\"2019-01-29\",\"2019-01-30\",\"2019-01-31\",\"2019-02-01\",\"2019-02-04\",\"2019-02-05\",\"2019-02-06\",\"2019-02-07\",\"2019-02-08\",\"2019-02-11\",\"2019-02-12\",\"2019-02-13\",\"2019-02-14\",\"2019-02-15\",\"2019-02-18\",\"2019-02-19\",\"2019-02-20\",\"2019-02-21\",\"2019-02-22\",\"2019-02-25\",\"2019-02-26\",\"2019-02-27\",\"2019-02-28\",\"2019-03-01\",\"2019-03-07\",\"2019-03-08\",\"2019-03-11\",\"2019-03-12\",\"2019-03-13\",\"2019-03-14\",\"2019-03-15\",\"2019-03-18\",\"2019-03-19\",\"2019-03-20\",\"2019-03-21\",\"2019-03-22\",\"2019-03-25\",\"2019-03-26\",\"2019-03-27\",\"2019-03-28\",\"2019-03-29\",\"2019-04-01\",\"2019-04-02\",\"2019-04-03\",\"2019-04-04\",\"2019-04-05\",\"2019-04-08\",\"2019-04-09\",\"2019-04-10\",\"2019-04-11\",\"2019-04-12\",\"2019-04-15\",\"2019-04-16\",\"2019-04-17\",\"2019-04-18\",\"2019-04-22\",\"2019-04-23\",\"2019-04-24\",\"2019-04-25\",\"2019-04-26\",\"2019-04-29\",\"2019-04-30\",\"2019-05-02\",\"2019-05-03\",\"2019-05-06\",\"2019-05-07\",\"2019-05-08\",\"2019-05-09\",\"2019-05-10\",\"2019-05-13\",\"2019-05-14\",\"2019-05-15\",\"2019-05-16\",\"2019-05-17\",\"2019-05-20\",\"2019-05-21\",\"2019-05-22\",\"2019-05-23\",\"2019-05-24\",\"2019-05-27\",\"2019-05-28\",\"2019-05-29\",\"2019-05-30\",\"2019-05-31\",\"2019-06-03\",\"2019-06-04\",\"2019-06-05\",\"2019-06-06\",\"2019-06-07\",\"2019-06-10\",\"2019-06-11\",\"2019-06-12\",\"2019-06-13\",\"2019-06-14\",\"2019-06-17\",\"2019-06-18\",\"2019-06-19\",\"2019-06-21\",\"2019-06-24\",\"2019-06-25\",\"2019-06-26\",\"2019-06-27\",\"2019-06-28\",\"2019-07-01\",\"2019-07-02\",\"2019-07-03\",\"2019-07-04\",\"2019-07-05\",\"2019-07-08\",\"2019-07-10\",\"2019-07-11\",\"2019-07-12\",\"2019-07-15\",\"2019-07-16\",\"2019-07-17\",\"2019-07-18\",\"2019-07-19\",\"2019-07-22\",\"2019-07-23\",\"2019-07-24\",\"2019-07-25\",\"2019-07-26\",\"2019-07-29\",\"2019-07-30\",\"2019-07-31\",\"2019-08-01\",\"2019-08-02\",\"2019-08-05\",\"2019-08-06\",\"2019-08-07\",\"2019-08-08\",\"2019-08-09\",\"2019-08-12\",\"2019-08-13\",\"2019-08-14\",\"2019-08-15\",\"2019-08-16\",\"2019-08-19\",\"2019-08-20\",\"2019-08-21\",\"2019-08-22\",\"2019-08-23\",\"2019-08-26\",\"2019-08-27\",\"2019-08-28\",\"2019-08-29\",\"2019-08-30\",\"2019-09-02\",\"2019-09-03\",\"2019-09-04\",\"2019-09-05\",\"2019-09-06\",\"2019-09-09\",\"2019-09-10\",\"2019-09-11\",\"2019-09-12\",\"2019-09-13\",\"2019-09-16\",\"2019-09-17\",\"2019-09-18\",\"2019-09-19\",\"2019-09-20\",\"2019-09-23\",\"2019-09-24\",\"2019-09-25\",\"2019-09-26\",\"2019-09-27\",\"2019-09-30\",\"2019-10-01\",\"2019-10-02\",\"2019-10-03\",\"2019-10-04\",\"2019-10-07\",\"2019-10-08\",\"2019-10-09\",\"2019-10-10\",\"2019-10-11\",\"2019-10-14\",\"2019-10-15\",\"2019-10-16\",\"2019-10-17\",\"2019-10-18\",\"2019-10-21\",\"2019-10-22\",\"2019-10-23\",\"2019-10-24\",\"2019-10-25\",\"2019-10-28\",\"2019-10-29\",\"2019-10-30\",\"2019-10-31\",\"2019-11-01\",\"2019-11-04\",\"2019-11-05\",\"2019-11-06\",\"2019-11-07\",\"2019-11-08\",\"2019-11-11\",\"2019-11-12\",\"2019-11-13\",\"2019-11-14\",\"2019-11-18\",\"2019-11-19\",\"2019-11-21\",\"2019-11-22\",\"2019-11-25\",\"2019-11-26\",\"2019-11-27\",\"2019-11-28\",\"2019-11-29\",\"2019-12-02\",\"2019-12-03\",\"2019-12-04\",\"2019-12-05\",\"2019-12-06\",\"2019-12-09\",\"2019-12-10\",\"2019-12-11\",\"2019-12-12\",\"2019-12-13\",\"2019-12-16\",\"2019-12-17\",\"2019-12-18\",\"2019-12-19\",\"2019-12-20\",\"2019-12-23\",\"2019-12-26\",\"2019-12-27\",\"2019-12-30\",\"2020-01-02\",\"2020-01-03\",\"2020-01-06\",\"2020-01-07\",\"2020-01-08\",\"2020-01-09\",\"2020-01-10\",\"2020-01-13\",\"2020-01-14\",\"2020-01-15\",\"2020-01-16\",\"2020-01-17\",\"2020-01-20\",\"2020-01-21\",\"2020-01-22\",\"2020-01-23\",\"2020-01-24\",\"2020-01-27\",\"2020-01-28\",\"2020-01-29\",\"2020-01-30\",\"2020-01-31\",\"2020-02-03\",\"2020-02-04\",\"2020-02-05\",\"2020-02-06\",\"2020-02-07\",\"2020-02-10\",\"2020-02-11\",\"2020-02-12\",\"2020-02-13\",\"2020-02-14\",\"2020-02-17\",\"2020-02-18\",\"2020-02-19\",\"2020-02-20\",\"2020-02-21\",\"2020-02-27\",\"2020-02-28\",\"2020-03-02\",\"2020-03-03\",\"2020-03-04\",\"2020-03-05\",\"2020-03-06\",\"2020-03-09\",\"2020-03-10\",\"2020-03-11\",\"2020-03-12\",\"2020-03-13\",\"2020-03-16\",\"2020-03-17\",\"2020-03-18\",\"2020-03-19\",\"2020-03-20\",\"2020-03-23\",\"2020-03-24\",\"2020-03-25\",\"2020-03-26\",\"2020-03-27\",\"2020-03-30\",\"2020-03-31\",\"2020-04-01\",\"2020-04-02\",\"2020-04-03\",\"2020-04-06\",\"2020-04-07\",\"2020-04-08\",\"2020-04-09\",\"2020-04-13\",\"2020-04-14\",\"2020-04-15\",\"2020-04-16\",\"2020-04-17\",\"2020-04-20\",\"2020-04-22\",\"2020-04-23\",\"2020-04-24\",\"2020-04-27\",\"2020-04-28\",\"2020-04-29\",\"2020-04-30\",\"2020-05-04\",\"2020-05-05\",\"2020-05-06\",\"2020-05-07\",\"2020-05-08\",\"2020-05-11\",\"2020-05-12\",\"2020-05-13\",\"2020-05-14\",\"2020-05-15\",\"2020-05-18\",\"2020-05-19\",\"2020-05-20\",\"2020-05-21\",\"2020-05-22\",\"2020-05-25\",\"2020-05-26\",\"2020-05-27\",\"2020-05-28\",\"2020-05-29\",\"2020-06-01\",\"2020-06-02\",\"2020-06-03\",\"2020-06-04\",\"2020-06-05\",\"2020-06-08\",\"2020-06-09\",\"2020-06-10\",\"2020-06-12\",\"2020-06-15\",\"2020-06-16\",\"2020-06-17\",\"2020-06-18\",\"2020-06-19\",\"2020-06-22\",\"2020-06-23\",\"2020-06-24\",\"2020-06-25\",\"2020-06-26\",\"2020-06-29\",\"2020-06-30\",\"2020-07-01\",\"2020-07-02\",\"2020-07-08\",\"2020-07-09\",\"2020-07-10\",\"2020-07-13\",\"2020-07-14\",\"2020-07-15\",\"2020-07-16\",\"2020-07-17\",\"2020-07-20\",\"2020-07-21\",\"2020-07-22\",\"2020-07-23\",\"2020-07-24\",\"2020-07-27\",\"2020-07-28\",\"2020-07-29\",\"2020-07-30\",\"2020-07-31\",\"2020-08-03\",\"2020-08-04\",\"2020-08-05\",\"2020-08-06\",\"2020-08-07\",\"2020-08-10\",\"2020-08-11\",\"2020-08-12\",\"2020-08-13\",\"2020-08-14\",\"2020-08-17\",\"2020-08-18\",\"2020-08-19\",\"2020-08-20\",\"2020-08-21\",\"2020-08-24\",\"2020-08-25\",\"2020-08-26\",\"2020-08-27\",\"2020-08-28\",\"2020-08-31\",\"2020-09-01\",\"2020-09-02\",\"2020-09-03\",\"2020-09-04\",\"2020-09-08\",\"2020-09-09\",\"2020-09-10\",\"2020-09-11\",\"2020-09-14\",\"2020-09-15\",\"2020-09-16\",\"2020-09-17\",\"2020-09-18\",\"2020-09-21\",\"2020-09-22\",\"2020-09-23\",\"2020-09-24\",\"2020-09-28\",\"2020-09-29\",\"2020-09-30\",\"2020-10-01\",\"2020-10-02\",\"2020-10-05\",\"2020-10-06\",\"2020-10-07\",\"2020-10-08\",\"2020-10-09\",\"2020-10-13\",\"2020-10-14\",\"2020-10-15\",\"2020-10-16\",\"2020-10-19\",\"2020-10-20\",\"2020-10-21\",\"2020-10-22\",\"2020-10-23\",\"2020-10-26\",\"2020-10-27\",\"2020-10-28\",\"2020-10-29\",\"2020-10-30\",\"2020-11-03\"],\"y\":[1.0,1.018791968560171,1.0053691338743345,1.0389283647605962,1.0308746639490942,0.9959752937659202,1.0067135615145892,0.9959752937659202,0.9798678921429163,0.9771833252057492,0.9852370260172508,0.9798678921429163,0.9395993240802832,0.9463085972515305,0.9422838910174502,0.9463085972515305,0.9395993240802832,0.9127536547086104,0.8872480606287261,0.9194629278798576,0.9127536547086104,0.9181227885829448,0.8805387874574788,0.8711406590057226,0.859062251960141,0.8174492562572531,0.8093955554457511,0.824162817771842,0.7785251798399985,0.791948014525835,0.8174492562572531,0.821478250834675,0.8536931180858064,0.8523486904455517,0.8617468188973083,0.8859079213318134,0.8644313858344753,0.8832233543946464,0.8120801223829186,0.8161091169603404,0.7892634475886678,0.7449658849486126,0.7369121841371107,0.7154356486397728,0.6805362144514738,0.7100665147654383,0.7046973168859793,0.7382566117773655,0.706041808531358,0.6845652090288955,0.676511508217394,0.6697979467028048,0.6832207813886412,0.6859053483258082,0.6859053483258082,0.6805362144514738,0.6711423743430595,0.668457807405892,0.6644288128284702,0.676511508217394,0.6832207813886412,0.7033571775890665,0.7382566117773655,0.7369121841371107,0.7288584833256088,0.679196075154561,0.6724825136399718,0.6805362144514738,0.676511508217394,0.6751670805771393,0.6805362144514738,0.6979880437147319,0.6885899152629757,0.6805362144514738,0.6845652090288955,0.6832207813886412,0.6926189098403974,0.7033571775890665,0.679196075154561,0.665773240468725,0.6751670805771393,0.706041808531358,0.7315430502627762,0.7449658849486126,0.7369121841371107,0.6738269412802265,0.6697979467028048,0.668457807405892,0.665773240468725,0.6416121380342196,0.6523504057828886,0.646981271908554,0.6348985125145058,0.6201355385317571,0.6228201054689241,0.6134219770171678,0.6080528431428334,0.58792073528575,0.5906053022229171,0.5892608745826624,0.5744979005999136,0.5798670344742481,0.5704688420173674,0.5516768734571963,0.5489923065200293,0.5449676002859491,0.5476521672231166,0.5382540387713599,0.5342293325372801,0.5248312040855239,0.5208064978514437,0.5181218989117143,0.5248312040855239,0.5154373319745469,0.5234910647886111,0.5302003379598583,0.5127527650373799,0.49798550271128916,0.4805379297888106,0.4805379297888106,0.4724842289773087,0.4738243682742214,0.46308610052555244,0.44832309454024094,0.4362403991513177,0.4281866983398157,0.41744839858858446,0.4000008576686683,0.4067101308399155,0.3959718630912465,0.39194715685716625,0.3718107286541788,0.3543631877342625,0.3422804603427766,0.3275174863600278,0.3758397232316005,0.40939469777708254,0.4805379297888106,0.4080545584801702,0.3744952955913462,0.38389342404310245,0.36912616171701174,0.36778602242009895,0.4818780690857229,0.44832309454024094,0.4617459612286397,0.43892496608848475,0.4201329655257519,0.4067101308399155,0.4080545584801702,0.4201329655257519,0.4000008576686683,0.3865780229828318,0.38254899640284773,0.3959718630912465,0.42416199210573596,0.4000008576686683,0.4026854246058357,0.38254899640284773,0.3664415947798443,0.35704775467143,0.359732321608597,0.36241688854576454,0.35570329502861303,0.3422804603427766,0.33288662023436233,0.33154219259410755,0.344965027279944,0.3302020532971952,0.31946378554852584,0.3261730587197731,0.3221483524856933,0.3060409188601275,0.2926180841742911,0.28187978442305983,0.2979872180486256,0.3060409188601275,0.2765106505487253,0.2684569497372238,0.25637423834701895,0.2550340990501062,0.26174337222135347,0.25234953211293876,0.2416112483629886,0.23892668142582157,0.2416112483629886,0.22063724910071178,0.21812019957565884,0.23489768684839982,0.24345393989624364,0.26107330257289707,0.26811762656965366,0.2585562530478437,0.23372506496360118,0.22734652227195903,0.22567134815081807,0.21694328934751822,0.21392367158484143,0.20973144793864754,0.20134271230291784,0.20134271230291784,0.19865814536575038,0.20805198547416467,0.21644073711117595,0.20603748818545398,0.19731371772549566,0.1979837713726709,0.19009758797328347,0.19731371772549566,0.19781625396055683,0.18993007056116937,0.18557032950286098,0.1761721850498236,0.17718159386713125,0.1728175484642002,0.17785164751430652,0.17449701092868267,0.18439341927472078,0.1761721850498236,0.1760046676377095,0.1733201007005425,0.1798661608042983,0.1714731208239455,0.17734911127924535,0.16778344941409387,0.14815387779207131,0.1342284748686119,0.1355686141655242,0.1454693108549043,0.134395992280726,0.1407702306277446,0.13338659146405868,0.13607116640186648,0.1426172105043416,0.13473102710495377,0.131372094175348,0.14765132555572905,0.15402556390274813,0.17785164751430652,0.1761721850498236,0.16946291187857637,0.18255072774146577,0.1979837713726709,0.2718115863228472,0.3011743212208542,0.29614022217074787,0.3011743212208542,0.3041939229822494,0.27785078984563805,0.2409368903711907,0.2419462831872168,0.2419462831872168,0.2281884136771526,0.22667645262350264,0.23808480602190915,0.2416112483629886,0.23825232343402325,0.23321822438391693,0.231543050262776,0.2298635717970124,0.21392367158484143,0.21493308040214912,0.21778516475143064,0.21560315005060546,0.23741473637345276,0.2441240095447,0.23489768684839982,0.24328642248412957,0.2441240095447,0.2318780850870042,0.225503830738704,0.21241603087709618,0.2555366512864485,0.29110612312064155,0.3192919637917891,0.28439256160605236,0.2991598239321431,0.3020119242827058,0.3063759536843557,0.3186218941433327,0.31878939555416563,0.31409461967162905,0.31878939555416563,0.33053708812142296,0.3489940218573658,0.3709731575948894,0.42214749481702485,0.4244970269299641,0.42416199210573596,0.41929539446646263,0.44798377137267126,0.4555349359491116,0.4531854038361728,0.4697996620401416,0.46358863676061357,0.4791935021485559,0.4800311052104075,0.4614066380610695,0.5010051044726843,0.5150980088069772,0.5302003379598583,0.5302003379598583,0.500335034824228,0.5070443079954753,0.5100681981002124,0.49076937295907647,0.4978179692978939,0.4847301694362856,0.47499697415773895,0.4614066380610695,0.4572143984135945,0.4765089352113885,0.4813755328506622,0.4879172726085138,0.47885846732432774,0.4798635717970123,0.47818839767587135,0.4815430342614952,0.4825481387341793,0.4874147363734526,0.483892566374434,0.4803661400346357,0.4865771333116015,0.5798670344742481,0.5434556712348618,0.537416467712071,0.5855711711702485,0.5786901082448264,0.5377514705337368,0.47818839767587135,0.5704688420173674,0.5880882366965826,0.5872463772939517,0.5922804443414957,0.5788576096556594,0.5642621370837434,0.5718133336627461,0.5739910440189482,0.5843942449408268,0.5786901082448264,0.5872463772939517,0.5662723460291126,0.5798670344742481,0.5704688420173674,0.56375956884612,0.578355041418036,0.5832216710598714,0.5676167736693669,0.5810396083552033,0.5870788118779942,0.625839739232882,0.6384207145160871,0.6384207145160871,0.6323815109932962,0.6172791818404146,0.5887583063450389,0.5843942449408268,0.5837241752923703,0.5687894115554467,0.598994005856085,0.6174509715945896,0.6322139455773388,0.6300319468777946,0.6367455083923839,0.6208056081802135,0.6206381067693805,0.6375830794516733,0.6417796394450525,0.6459718470899652,0.6543606147282577,0.6585571107165124,0.6568776162494673,0.6543606147282577,0.6644288128284702,0.7013426803003554,0.6986581133631884,0.7013426803003554,0.7046973168859793,0.7156031500506057,0.71409550934286,0.7135886527618945,0.7214748521625637,0.7239918536837732,0.7214748521625637,0.7219773563950626,0.7580537168127828,0.7602357155123268,0.7557041526972816,0.7392616842474877,0.7718115543202851,0.7718115543202851,0.7357395462510309,0.7449658849486126,0.8389257917545911,0.8892625579174372,0.8901001289767265,0.9479880917185752,0.9765089032088264,0.9899318018997875,1.0062067049336239,0.9974829344736654,1.0426180681730102,1.0604049642630589,1.0369138674718852,1.0285251638387176,1.0369138674718852,1.0553708332103902,1.0553708332103902,1.0362437978234287,1.0416129957028877,1.0553708332103902,1.0243286038453383,1.0151023291528811,1.061410036733181,1.1031863095086847,1.107047738670149,1.1090622359588598,1.1057032470247696,1.1055358096190613,1.1023486104391462,1.040268504057509,1.033052438310421,1.0412736405327558,1.048657271695801,1.0771824355345185,1.0973146073967268,1.1696304132894098,1.1817131726834575,1.1679552711708312,1.1934564488971247,1.2466453474130954,1.2583887516370111,1.2607382517473877,1.283559278890105,1.3055383826250664,1.3255029890713173,1.3582203605549477,1.3884250188607101,1.4261765213970092,1.5184569337359426,1.5162748710312743,1.4849019911930228,1.5265106985525692,1.5100681660976507,1.526845701374235,1.543455671234862,1.5436274609890368,1.560739999087287,1.6479862803735519,1.3926172265056231,1.1661082112878285,1.5266781359582775,1.4595638985239716,1.5513418706355304,1.5453026031076154,1.5436274609890368,1.5572177970857057,1.5771824035319566,1.5924522340956706,1.6441292035605541,1.5911078704605406,1.5894326003317132,1.5453026031076154,1.5370814008852807,1.539598466411615,1.5654389993080409,1.6098997750155868,1.6194654688833006,1.6508384767318012,1.6342285068711744,1.6342285068711744,1.6478188429678433,1.6971505366605673,1.7449701732919547,1.6862447034959407,1.661074176242847,1.6409420043806386,1.7105733073412792,1.7172825805125265,1.7682894163238287,1.7818797524204977,1.7367446187211533,1.7667817116109585,1.7283558510828614,1.7810421813612085,1.7953026511114587,1.7583930719829153,1.7407736132985754,1.785573744176254,1.774328683851744,1.7751704792492506,1.7785251158348745,1.7600682141014938,1.7807071785395425,1.7813771841828745,1.7065443127638573,1.7013427443054803,1.6107416984233427,1.6661083072955154,1.6553700395468465,1.5800344718799566,1.6176185370105474,1.6359078733279702,1.7449701732919547,1.7785251158348745,1.7434582442408668,1.7785251158348745,1.7877514545324558,1.8020161486209234,2.011747628562133,2.097318895740069,2.1885942996140044,2.139601833081164,2.085403701761978,1.956376795351743,2.1474838081436154,2.1308738382829886,2.1308738382829886,2.1308738382829886,2.332048985169949,2.348998310200708,2.2986616080429867,2.2986616080429867,2.3201381435403245,2.550341022503626,2.5083930879841967,2.583896093056795,2.617455259937932,2.74413266623779,2.953026447109462,3.2130902768599268,3.249501768109562,3.4409436557128514,3.4917829261081965,3.6073869338274704,3.3221527048341604,3.2719834400821473,3.2721508774878556,3.1057075993732366,2.953026447109462,3.112253531466744,2.869130322050105,2.853357923248767,2.9026897449517404,2.9478248786510846,3.2877558388834847,3.0855754275110288,3.2803722077204394,3.0872549219780736,3.059734766604354,3.171146694688964,3.0553752495639817,3.0453069874586443,2.963932152263839,3.0260122586454767,3.036918219820352,2.971479124504625,3.0703055969473145,3.083728495638275,3.1347352034393285,3.1543691594123797,3.1468180908436256,3.104032457254658,3.142789096266204,3.0112449963193857,2.886079647080864,3.18372754196192,3.3035282376848225,3.456381179702772,3.5939642911570076,3.5234954171370783,3.5151066494987857,3.5426224525240393,3.724502998608081,3.7380933347047502,3.8419539382001084,3.859066604308608,3.8087296461303883,4.345651994281271,4.412745238034739,4.550667576648857,4.697996620401416,4.421163704050802,4.446334103293647,4.572144112146195,4.731542986257653,4.707059746031507,3.9429581209990006,4.169471488565261,3.722823504141036,4.0585621287182745,4.189268529595554,4.173328693388507,4.278529308170531,4.278529308170531,4.362403927508052,4.211415070736225,4.15470422623917,4.052020548973233,3.976349850474429,3.976517543900635,4.1860813304156395,4.315627958436865,4.228196958361274,4.1662799370368795,4.289770144156822,4.3121056284250345,4.3121056284250345,4.345651994281271,4.3121056284250345,4.125341491341164,4.110746018769246,4.010072358433306,4.10554445031087,4.211415070736225,4.1275235540458315,4.043631781334941,4.169136357733347,4.2953111957955805,4.362403927508052,4.362403927508052,4.362403927508052,4.352353074796581,4.790131229066724,4.996993231266068,5.100509999232579,5.285251318361554,5.067135679151016,5.302046263032004,5.537600994486024,5.771824419350311,5.790294250118842,5.8453171514724165,5.622476397950325,5.620801511852245,5.812243399455535,5.767614930321782,5.839260730571133,6.1515299560944054,6.155739445122936,6.213940584938993,6.239626609464861,6.2489903031596326,6.593989701191437,6.711423743430595,6.617141634827852,6.803214772587554,6.653866751187567,6.94581870202856,7.477535385393097,7.621814712973181,8.221483332841563,7.567135391127956,7.684569433367114,7.936274449877556,7.851871660252607,7.769960462114439,8.005042579729105,8.033091161410747,8.288447030223029,8.322165441853938,8.640963190076851,9.530221715671445,9.46544852967108,10.432752343883662,11.006734939226176,11.464443265185585,11.464443265185585,10.593310990851172,10.510111497566943,9.264427379113682,9.704740648355271,11.006734939226176,11.166477392845982,10.906053342254795,10.583904797753728,10.134271358302032,10.218803182257986,10.073836183620205,9.637604905199133,9.93157583368755,9.169158055470554,9.496674837774213,9.961084756289928,10.453713254097977,10.602718208030609,10.67118525777648,10.523512634515571,10.697987531673737,10.44164342373908,10.68729304343023,10.335592564883116,10.335592564883116,9.758388207593454,9.302055223749436,8.563776594209239,9.492637906561352,9.394661934213103,9.724842353778214,9.288610051275146,9.234919480593296,9.237582093772758,8.81612627033371,8.590622391591161,8.489940282578786,8.557076025734926,8.991976509607266,8.991976509607266,8.259067141951654,7.651023067510878,6.922151655150119,7.398673391386409,6.942296884057727,6.585270667110692,6.864422617132418,7.371827594004487,7.371827594004487,7.651023067510878,7.959726951578652,7.959726951578652,8.134245372221482,8.097993381742116,7.880564389507282,8.248329130223482,7.998685590763139,7.888596776612324,7.8120973397614115,7.626840395349414,7.813428646351142,7.74500460804894,7.718158810667018,7.826873306784435,8.65234586141905,9.39062397891825,9.363778693577324,9.35840943169274,9.234919480593296,9.288610051275146,9.316787667287795,9.233587149921572,8.98256929242783,9.345008294744112,9.692627806552705,9.779908266575456,9.779908266575456,10.132897040268633,10.37588302269833,10.767829923534999,10.767829923534999,10.644339972435555,10.510111497566943,10.762460661650415,10.550357919856497,10.551689226446227,10.298008755773024,10.402728308039256,10.421498706872468,10.410760183103301,10.59064837767171,10.563759056805125,10.574497580574292,10.401353990005857,10.302045686985885,10.335592564883116,10.034921067920383,10.871175157767833,10.871175157767833,11.114118128753864,11.355728769068168,11.36380365557588,11.350359507183585,11.524878439867411,11.256421490130187,10.822852824888573,10.958412606346917,10.604049514620339,10.201364090014504,9.918131685295252,10.632227130632987,10.551689226446227,11.041656135156808,11.139632107505056,10.676554519661062,10.928860672300868,11.676546006979505,12.660429708644195,12.281926956199822,12.221491781517996,12.373202360073758,12.461771115242572,12.134254332938914,11.970516935467924,12.084600693469921,11.844320335663356,12.174500755228468,12.4268939548376,12.288627524674137,12.040272280359856,12.214791213043682,12.442957704965691,12.174500755228468,12.08056273817507,12.483248162780907,12.804065400692243,12.724859827177207,13.42284748686119,12.97987160444014,13.020162062255354,13.142320706765068,13.1436520133548,13.020162062255354,12.953026319099214,13.246997247587633,13.167791674072594,12.970508422786363,12.738303975569501,13.002722970011872,13.357086061738448,13.187937415021198,12.908741941514807,13.020162062255354,12.845643129571528,12.66846158370824,13.008092231896455,13.405408394617709,13.57185141671183,13.616136818378228,14.026854118048108,14.134280319019464,14.32353169524165,13.758397168310886,13.04700734759628,13.114100079308752,13.000017345388743,14.89802940382619,15.118164020684153,14.698039503834837,14.583912734389168,14.516820002676695,14.29131612393415,15.06176680129718,14.677894786968226,14.106059691563146,14.702034447686021,15.302046135021756,15.017481399630782,15.166486353563414,15.033589185284532,14.09398986120425,14.025522811458378,14.553029493753389,15.499372397751657,16.689947591964003,16.244308072281502,15.346330512606164,14.281909930836704,14.15975128632699,14.25777027011891,14.76513223554731,15.088612086638106,16.026880104128658,16.083234312071966,15.809408100450156,16.598714175451747,16.334252169565705,16.323513645796538,16.48458843008807,16.476555530942033,16.609409687777244,16.31277614610936,16.58393872046972,17.179913476592592,16.83628788455319,16.7154615707152,16.691321909997406,16.107416984233428,16.33558347615544,15.845660602970518,15.370513184767628,16.559756048308255,16.86446550056584,17.146323587251693,17.71815868265677,17.040315739839397,17.311436326838074,17.579893276575298,17.42556207220175,17.954400061086492,17.85238715752538,17.65776651941861,17.42285644757862,17.449701732919547,17.753036867143734,18.021493816880955,18.369155316051227,18.383932819197238,18.52352953186844,19.58391318242504,18.796023412818528,19.73025449909622,18.661794937949914,18.926214956474276,19.038966383804556,18.613472605070655,18.29536201586444,17.939624606104466,18.573183171337433,17.777219539305197,18.018831203701495,17.82150289280761,17.71815868265677,17.640285439813454,17.361089966307066,17.732934137638797,17.127553188418478,17.48324861081678,16.97451130327299,15.838960034496203,16.353065579842585,16.80540464391741,16.35710353513744,15.986589646313444,16.026880104128658,15.494003135867072,15.57050308475898,15.958413054382786,16.70205940968458,15.974519815954546,15.904721459618944,16.644330883707877,16.294005747276152,16.528872807672478,16.396018650837263,16.66713923783594,16.441635359093393,16.460448769370274,17.503392303601398,18.703374714993185,18.724892725811202,19.06044343134289,19.938276274151615,20.16111651563271,19.281909354790585,20.228210271427173,20.134271230291784,21.369172789450218,21.711466050817894,21.594677692274757,22.68461225279541,22.429599451450482,22.69264515194145,22.5503837779268,22.579934687890855,22.38931001771726,22.34231899142773,22.720864755315773,22.657766967454485,22.809433510484585,23.216157914467267,21.275192785035145,20.2550555567681,19.808084730495864,19.651047901499187,20.609418648494675,20.591980580333185,20.87254832370899,21.00673583529792,20.95978782045206,20.837629175942347,21.476555978977903,21.792003955004656,21.230907383368745,22.65372798807764,22.82554232022033,22.985284773840135,22.098044713851973,21.762450996876616,22.120853067980036,22.135628522962065,22.191983754987362,22.06046090474188,21.54768666598523,22.065829142544473,22.5503837779268,22.483290022132334,22.899378631850784,22.828247944843458,23.610767428483395,23.759771358334035,23.88463562746688,24.531595329648475,23.726224480436805,23.35575462713847,24.30476116839819,24.965165018972083,24.69803937582459,23.946359097294767,24.318162305346817,24.122210360650318,24.04167245646356,24.27520821027015,23.838977955931067,24.02689700148153,23.754403120531446,23.48998310200708,23.42018372158949,23.382599912479396,22.416155303058186,21.751714521271435,22.76515015698217,22.480584397509205,22.467183260560578,23.906112675005215,23.644357317824298,24.036304218660966,24.000051716140604,23.76784726892374,23.55711782108123,22.7785512939308,22.38931001771726,22.81884072766402,22.191983754987362,22.120853067980036,21.651073887579738,22.91144846220968,22.00943294723949,22.622845771523853,22.77322401940789,21.81210668450959,21.624228602238812,23.87922437822062,23.31546519340525,23.959762282407382,23.624211576875695,23.283292633541414,23.51953401197114,23.77858579269291,24.271214290500957,24.506081350897283,24.006751260532926,23.796023860854397,23.691305332670158,23.7839540304955,24.217480708375437,24.255064517485533,24.379928786618375,24.463129303984598,23.26181558600308,23.236301607251885,23.70341612630874,22.5503837779268,22.92489261060198,23.201380411321257,22.991984318232458,22.30207256913818,22.694019469974847,22.68461225279541,22.81750942107429,22.381277118571223,22.323547568512527,22.64432281906219,22.281926828189576,22.1248899991929,21.946376122657888,21.838951969850516,21.45241631826011,22.92622391719171,22.443000588399112,22.953069202532635,23.149064158672804,23.48998310200708,24.020195408925222,23.96113660044078,25.672516884391836,25.60276051541791,26.342327952145165,26.873871565653037,25.792012915722086,25.973230368716244,24.953052177169514,25.033590081356277,24.163831100973272,23.92621540451015,23.22152615226986,22.416155303058186,22.660472592077614,23.22152615226986,24.081920926917096,24.194672354247373,24.2215176395883,23.738294310795702,23.89266852661292,25.369181750167648,25.40543425268801,25.891320194660068,26.308781074247932,26.139674414892358,26.110123504928303,25.66315267865607,25.504741531625992,26.637630187223312,27.18124567925407,27.810808276553857,27.264487159899975,28.135620458316378,28.398707122087025,27.852429016876812,27.93296692106357,28.1879797224085,28.543674120724805,28.185274097785367,27.719533896761913,27.97991493590943,28.006760221250357,28.33831495884887,28.214825007749425,28.51820315341728,29.644347205014626,29.677937094355524,30.346373844075455,30.792011315593975,31.34236936346072,30.975893429931578,31.147707762074266,30.95978666835982,31.409463119255182,32.80410713203342,33.15443329254714,31.95307861128594,33.201424318836665,32.48329091820408,32.99469083892733,32.81617696239232,33.825575666890195,35.40947003180863,35.51015367694399,35.398733556203446,37.11415281953135,38.060494699447624,37.04705906373688,39.302095802998366,38.99068885451245,39.88196379754949,40.569212933464314,39.10880647148134,40.644380551684485,39.67793799042727,38.99068885451245,40.332973603198575,40.62290760047413,39.226928184778195,39.237668756711344,36.9718914455167,36.27390173766873,36.18799764384336,36.735648018922994,37.48732829745281,40.010821986451525,38.969211806974116,39.31283637493153,38.52894257325819,39.946394940164495,39.409481040690046,38.65780076216023,36.72491154331781,34.89940346583909,37.154440205100585,37.58397296321133,36.617526305626136,37.444374202376146,37.42289715483781,37.64840410582633,38.45377495503801,39.25914580424968,38.64706428655504,39.48464865891023,39.43095808822837,39.26988227985487,39.51686218205375,39.77458265618579,40.214851889901716,39.19471466163468,40.0537760815282,41.64304073241321,41.23498911816877,40.80545636005802,42.57727386685489,41.81485301639191,43.490025857430254,45.28331631543748,44.886001176798224,45.91687488067045,46.35714411438638,46.17459535480249,46.28197649616619,46.947752680870636,46.700772778671755,46.44305230453972,45.1007675558536,45.82023021491193,44.18801556527823,47.26990020128972,47.93567228966621,50.6739323577203,48.29003742955676,47.291377248828056,48.537017331755656,47.46318953280676,47.04439734662917,48.34372800023862,46.604128112913244,45.63768145532804,47.51688010348861,48.30077390516195,47.80681410076417,48.32225095270028,48.84842837656955,47.57057067417046,46.21754944987916,48.966545993538425,48.966545993538425,48.354464475843805,48.23634276254695,47.881981718984356,47.32359077197158,48.20412923940343,48.75178371081103,49.235002943275646,50.04037379248732,51.09272864022586,51.36118558996308,52.692729766716056,52.93970966891494,51.41487616064493,52.11286177216494,52.20950643792345,52.17729291477993,52.33836872315346,52.71420681425438,52.3276281512203,51.221586829127894,52.971927288386425,52.49944043519901,52.54239453027567,52.39205929383531,54.00280099225865,55.92495373549588,55.624279166287174,58.233681045439226,57.98670114324034,57.62159952774459,57.40683314868922,58.362539234341256,60.13435674113813,60.03771207537961,59.80146864878591,60.757178830765916,60.29543254951166,57.77193476418497,61.19744806448184,61.51959558490092,60.671270640612576,59.91959036208276,60.7034841637561,61.91691072354018,61.5303320605061,59.95180798155424,58.233681045439226,56.24710125591496,58.2766351405159,60.06992559852313,61.26187511076888,60.48872188102869,63.19476432961129,62.51825576562962,62.131677102595546,60.71422473568924,60.617580069930725,53.95984689718198,54.24978089445754,56.42965001549885,56.751797535917916,56.32226887413515,51.31823149488641,48.67661609259084,43.339690620989884,50.45917007499289,46.26050354495583,36.51014516426243,45.1007675558536,36.585312782482625,38.196054480905964,30.936978314231755,32.805438438623156,32.91282162815084,32.44033682312741,39.388003993151706,42.953111957955805,44.15579794580674,41.879284159006914,44.67123479774284,41.86854768340173,40.247065413045235,38.53967904886337,38.163840957762446,41.020222739113386,43.04975662371432,45.05781346077693,44.72492946475268,45.004122890095076,46.067214213438795,47.08734734537786,48.93433247039492,47.881981718984356,52.05917120148308,54.281994417601055,53.12226252482679,50.87796226117048,53.15447604797031,55.624279166287174,54.35716203582124,53.36924242702568,55.2377005032531,53.90615632650013,59.22160475056276,60.98268168542647,59.64039693674035,59.006838371507385,58.84576256313386,59.167910083552925,59.597442841663685,59.20012770302442,59.865899791400906,62.904834428663705,61.10080339872333,62.59342338384981,61.906174247935,64.85920069504446,69.24042008099337,72.33304119261005,70.06726388141541,69.10081722383022,68.40283161231022,66.36255715577613,66.9853792454039,64.95584536080297,63.83906346677741,66.9853792454039,66.9853792454039,69.36927417356745,68.67128856204744,70.71155892225356,70.87263473062708,72.15049243302617,74.84579430967563,76.6713064834823,76.13439258400786,75.43640287615989,74.95318364369525,74.83506193039841,74.4699562185747,75.60821925646655,76.93976343321953,77.63775314106749,75.27532706778636,82.36258890231788,85.26192887507347,86.09951324742865,86.44313781538607,86.44313781538607,87.51696561433495,86.09951324742865,88.0538795138094,93.42301850855388,90.52368672845424,90.89952481955517,86.33575667402236,85.55185877602105,85.20823420806366,86.33575667402236,86.13172677057217,89.43911835757221,86.66864067004661,88.66596103150403,88.59079341328385,89.1277073127583,92.25255014017444,91.97335261850407,87.97871189558921,86.96931114292735,85.97065096219866,86.38944314837624,87.79616313600533,87.67804142270847,96.10758800592612,96.32235028865352,93.79885659965483,93.79885659965483,93.50892669870721,94.49684630750278,96.80557771377408,98.77068455208799,101.56263519082393,100.10222872884096,102.3680060400356,100.41363977365485,95.03376020697722,95.32369010792482,94.1639623114785,97.93309198707686,94.76530325723999,94.0351000262485,96.96665352214761,96.19349619607945,95.75322286603556,93.5303996499176,93.59483488886055,95.24852248970463,96.09684743399296,92.86463165786907,95.89282572319871,93.92771888488481,93.93845945681797,95.78543638917907,98.68477636193465,94.5505409745126,96.79483714184093,95.89282572319871,95.50624706016463,98.65256283879114,105.39620010536525,111.6780910906851,110.30359281885546,109.57338958786399,111.11970424000029,110.34654691393213,111.84990747099177,112.62305660440397,112.10762384879584,110.69017148188954,109.40157320755729,109.3156732100599,105.79351114767654,108.92909454702581,105.79351114767654,108.71432407164248],\"type\":\"scatter\"},{\"name\":\"TOTS\",\"x\":[\"2015-01-02\",\"2015-01-05\",\"2015-01-06\",\"2015-01-07\",\"2015-01-08\",\"2015-01-09\",\"2015-01-12\",\"2015-01-13\",\"2015-01-14\",\"2015-01-15\",\"2015-01-16\",\"2015-01-19\",\"2015-01-20\",\"2015-01-21\",\"2015-01-22\",\"2015-01-23\",\"2015-01-26\",\"2015-01-27\",\"2015-01-28\",\"2015-01-29\",\"2015-01-30\",\"2015-02-02\",\"2015-02-03\",\"2015-02-04\",\"2015-02-05\",\"2015-02-06\",\"2015-02-09\",\"2015-02-10\",\"2015-02-11\",\"2015-02-12\",\"2015-02-13\",\"2015-02-18\",\"2015-02-19\",\"2015-02-20\",\"2015-02-23\",\"2015-02-24\",\"2015-02-25\",\"2015-02-26\",\"2015-02-27\",\"2015-03-02\",\"2015-03-03\",\"2015-03-04\",\"2015-03-05\",\"2015-03-06\",\"2015-03-09\",\"2015-03-10\",\"2015-03-11\",\"2015-03-12\",\"2015-03-13\",\"2015-03-16\",\"2015-03-17\",\"2015-03-18\",\"2015-03-19\",\"2015-03-20\",\"2015-03-23\",\"2015-03-24\",\"2015-03-25\",\"2015-03-26\",\"2015-03-27\",\"2015-03-30\",\"2015-03-31\",\"2015-04-01\",\"2015-04-02\",\"2015-04-06\",\"2015-04-07\",\"2015-04-08\",\"2015-04-09\",\"2015-04-10\",\"2015-04-13\",\"2015-04-14\",\"2015-04-15\",\"2015-04-16\",\"2015-04-17\",\"2015-04-20\",\"2015-04-22\",\"2015-04-23\",\"2015-04-24\",\"2015-04-27\",\"2015-04-28\",\"2015-04-29\",\"2015-04-30\",\"2015-05-04\",\"2015-05-05\",\"2015-05-06\",\"2015-05-07\",\"2015-05-08\",\"2015-05-11\",\"2015-05-12\",\"2015-05-13\",\"2015-05-14\",\"2015-05-15\",\"2015-05-18\",\"2015-05-19\",\"2015-05-20\",\"2015-05-21\",\"2015-05-22\",\"2015-05-25\",\"2015-05-26\",\"2015-05-27\",\"2015-05-28\",\"2015-05-29\",\"2015-06-01\",\"2015-06-02\",\"2015-06-03\",\"2015-06-05\",\"2015-06-08\",\"2015-06-09\",\"2015-06-10\",\"2015-06-11\",\"2015-06-12\",\"2015-06-15\",\"2015-06-16\",\"2015-06-17\",\"2015-06-18\",\"2015-06-19\",\"2015-06-22\",\"2015-06-23\",\"2015-06-24\",\"2015-06-25\",\"2015-06-26\",\"2015-06-29\",\"2015-06-30\",\"2015-07-01\",\"2015-07-02\",\"2015-07-03\",\"2015-07-06\",\"2015-07-07\",\"2015-07-08\",\"2015-07-10\",\"2015-07-13\",\"2015-07-14\",\"2015-07-15\",\"2015-07-16\",\"2015-07-17\",\"2015-07-20\",\"2015-07-21\",\"2015-07-22\",\"2015-07-23\",\"2015-07-24\",\"2015-07-27\",\"2015-07-28\",\"2015-07-29\",\"2015-07-30\",\"2015-07-31\",\"2015-08-03\",\"2015-08-04\",\"2015-08-05\",\"2015-08-06\",\"2015-08-07\",\"2015-08-10\",\"2015-08-11\",\"2015-08-12\",\"2015-08-13\",\"2015-08-14\",\"2015-08-17\",\"2015-08-18\",\"2015-08-19\",\"2015-08-20\",\"2015-08-21\",\"2015-08-24\",\"2015-08-25\",\"2015-08-26\",\"2015-08-27\",\"2015-08-28\",\"2015-08-31\",\"2015-09-01\",\"2015-09-02\",\"2015-09-03\",\"2015-09-04\",\"2015-09-08\",\"2015-09-09\",\"2015-09-10\",\"2015-09-11\",\"2015-09-14\",\"2015-09-15\",\"2015-09-16\",\"2015-09-17\",\"2015-09-18\",\"2015-09-21\",\"2015-09-22\",\"2015-09-23\",\"2015-09-24\",\"2015-09-25\",\"2015-09-28\",\"2015-09-29\",\"2015-09-30\",\"2015-10-01\",\"2015-10-02\",\"2015-10-05\",\"2015-10-06\",\"2015-10-07\",\"2015-10-08\",\"2015-10-09\",\"2015-10-13\",\"2015-10-14\",\"2015-10-15\",\"2015-10-16\",\"2015-10-19\",\"2015-10-20\",\"2015-10-21\",\"2015-10-22\",\"2015-10-23\",\"2015-10-26\",\"2015-10-27\",\"2015-10-28\",\"2015-10-29\",\"2015-10-30\",\"2015-11-03\",\"2015-11-04\",\"2015-11-05\",\"2015-11-06\",\"2015-11-09\",\"2015-11-10\",\"2015-11-11\",\"2015-11-12\",\"2015-11-13\",\"2015-11-16\",\"2015-11-17\",\"2015-11-18\",\"2015-11-19\",\"2015-11-23\",\"2015-11-24\",\"2015-11-25\",\"2015-11-26\",\"2015-11-27\",\"2015-11-30\",\"2015-12-01\",\"2015-12-02\",\"2015-12-03\",\"2015-12-04\",\"2015-12-07\",\"2015-12-08\",\"2015-12-09\",\"2015-12-10\",\"2015-12-11\",\"2015-12-14\",\"2015-12-15\",\"2015-12-16\",\"2015-12-17\",\"2015-12-18\",\"2015-12-21\",\"2015-12-22\",\"2015-12-23\",\"2015-12-28\",\"2015-12-29\",\"2015-12-30\",\"2016-01-04\",\"2016-01-05\",\"2016-01-06\",\"2016-01-07\",\"2016-01-08\",\"2016-01-11\",\"2016-01-12\",\"2016-01-13\",\"2016-01-14\",\"2016-01-15\",\"2016-01-18\",\"2016-01-19\",\"2016-01-20\",\"2016-01-21\",\"2016-01-22\",\"2016-01-26\",\"2016-01-27\",\"2016-01-28\",\"2016-01-29\",\"2016-02-01\",\"2016-02-02\",\"2016-02-03\",\"2016-02-04\",\"2016-02-05\",\"2016-02-10\",\"2016-02-11\",\"2016-02-12\",\"2016-02-15\",\"2016-02-16\",\"2016-02-17\",\"2016-02-18\",\"2016-02-19\",\"2016-02-22\",\"2016-02-23\",\"2016-02-24\",\"2016-02-25\",\"2016-02-26\",\"2016-02-29\",\"2016-03-01\",\"2016-03-02\",\"2016-03-03\",\"2016-03-04\",\"2016-03-07\",\"2016-03-08\",\"2016-03-09\",\"2016-03-10\",\"2016-03-11\",\"2016-03-14\",\"2016-03-15\",\"2016-03-16\",\"2016-03-17\",\"2016-03-18\",\"2016-03-21\",\"2016-03-22\",\"2016-03-23\",\"2016-03-24\",\"2016-03-28\",\"2016-03-29\",\"2016-03-30\",\"2016-03-31\",\"2016-04-01\",\"2016-04-04\",\"2016-04-05\",\"2016-04-06\",\"2016-04-07\",\"2016-04-08\",\"2016-04-11\",\"2016-04-12\",\"2016-04-13\",\"2016-04-14\",\"2016-04-15\",\"2016-04-18\",\"2016-04-19\",\"2016-04-20\",\"2016-04-22\",\"2016-04-25\",\"2016-04-26\",\"2016-04-27\",\"2016-04-28\",\"2016-04-29\",\"2016-05-02\",\"2016-05-03\",\"2016-05-04\",\"2016-05-05\",\"2016-05-06\",\"2016-05-09\",\"2016-05-10\",\"2016-05-11\",\"2016-05-12\",\"2016-05-13\",\"2016-05-16\",\"2016-05-17\",\"2016-05-18\",\"2016-05-19\",\"2016-05-20\",\"2016-05-23\",\"2016-05-24\",\"2016-05-25\",\"2016-05-27\",\"2016-05-30\",\"2016-05-31\",\"2016-06-01\",\"2016-06-02\",\"2016-06-03\",\"2016-06-06\",\"2016-06-07\",\"2016-06-08\",\"2016-06-09\",\"2016-06-10\",\"2016-06-13\",\"2016-06-14\",\"2016-06-15\",\"2016-06-16\",\"2016-06-17\",\"2016-06-20\",\"2016-06-21\",\"2016-06-22\",\"2016-06-23\",\"2016-06-24\",\"2016-06-27\",\"2016-06-28\",\"2016-06-29\",\"2016-06-30\",\"2016-07-01\",\"2016-07-04\",\"2016-07-05\",\"2016-07-06\",\"2016-07-07\",\"2016-07-08\",\"2016-07-11\",\"2016-07-12\",\"2016-07-13\",\"2016-07-14\",\"2016-07-15\",\"2016-07-18\",\"2016-07-19\",\"2016-07-20\",\"2016-07-21\",\"2016-07-22\",\"2016-07-25\",\"2016-07-26\",\"2016-07-27\",\"2016-07-28\",\"2016-07-29\",\"2016-08-01\",\"2016-08-02\",\"2016-08-03\",\"2016-08-04\",\"2016-08-05\",\"2016-08-08\",\"2016-08-09\",\"2016-08-10\",\"2016-08-11\",\"2016-08-12\",\"2016-08-15\",\"2016-08-16\",\"2016-08-17\",\"2016-08-18\",\"2016-08-19\",\"2016-08-22\",\"2016-08-23\",\"2016-08-24\",\"2016-08-25\",\"2016-08-26\",\"2016-08-29\",\"2016-08-30\",\"2016-08-31\",\"2016-09-01\",\"2016-09-02\",\"2016-09-05\",\"2016-09-06\",\"2016-09-08\",\"2016-09-09\",\"2016-09-12\",\"2016-09-13\",\"2016-09-14\",\"2016-09-15\",\"2016-09-16\",\"2016-09-19\",\"2016-09-20\",\"2016-09-21\",\"2016-09-22\",\"2016-09-23\",\"2016-09-26\",\"2016-09-27\",\"2016-09-28\",\"2016-09-29\",\"2016-09-30\",\"2016-10-03\",\"2016-10-04\",\"2016-10-05\",\"2016-10-06\",\"2016-10-07\",\"2016-10-10\",\"2016-10-11\",\"2016-10-13\",\"2016-10-14\",\"2016-10-17\",\"2016-10-18\",\"2016-10-19\",\"2016-10-20\",\"2016-10-21\",\"2016-10-24\",\"2016-10-25\",\"2016-10-26\",\"2016-10-27\",\"2016-10-28\",\"2016-10-31\",\"2016-11-01\",\"2016-11-03\",\"2016-11-04\",\"2016-11-07\",\"2016-11-08\",\"2016-11-09\",\"2016-11-10\",\"2016-11-11\",\"2016-11-14\",\"2016-11-16\",\"2016-11-17\",\"2016-11-18\",\"2016-11-21\",\"2016-11-22\",\"2016-11-23\",\"2016-11-24\",\"2016-11-25\",\"2016-11-28\",\"2016-11-29\",\"2016-11-30\",\"2016-12-01\",\"2016-12-02\",\"2016-12-05\",\"2016-12-06\",\"2016-12-07\",\"2016-12-08\",\"2016-12-09\",\"2016-12-12\",\"2016-12-13\",\"2016-12-14\",\"2016-12-15\",\"2016-12-16\",\"2016-12-19\",\"2016-12-20\",\"2016-12-21\",\"2016-12-22\",\"2016-12-23\",\"2016-12-26\",\"2016-12-27\",\"2016-12-28\",\"2016-12-29\",\"2017-01-02\",\"2017-01-03\",\"2017-01-04\",\"2017-01-05\",\"2017-01-06\",\"2017-01-09\",\"2017-01-10\",\"2017-01-11\",\"2017-01-12\",\"2017-01-13\",\"2017-01-16\",\"2017-01-17\",\"2017-01-18\",\"2017-01-19\",\"2017-01-20\",\"2017-01-23\",\"2017-01-24\",\"2017-01-26\",\"2017-01-27\",\"2017-01-30\",\"2017-01-31\",\"2017-02-01\",\"2017-02-02\",\"2017-02-03\",\"2017-02-06\",\"2017-02-07\",\"2017-02-08\",\"2017-02-09\",\"2017-02-10\",\"2017-02-13\",\"2017-02-14\",\"2017-02-15\",\"2017-02-16\",\"2017-02-17\",\"2017-02-20\",\"2017-02-21\",\"2017-02-22\",\"2017-02-23\",\"2017-02-24\",\"2017-03-01\",\"2017-03-02\",\"2017-03-03\",\"2017-03-06\",\"2017-03-07\",\"2017-03-08\",\"2017-03-09\",\"2017-03-10\",\"2017-03-13\",\"2017-03-14\",\"2017-03-15\",\"2017-03-16\",\"2017-03-17\",\"2017-03-20\",\"2017-03-21\",\"2017-03-22\",\"2017-03-23\",\"2017-03-24\",\"2017-03-27\",\"2017-03-28\",\"2017-03-29\",\"2017-03-30\",\"2017-03-31\",\"2017-04-03\",\"2017-04-04\",\"2017-04-05\",\"2017-04-06\",\"2017-04-07\",\"2017-04-10\",\"2017-04-11\",\"2017-04-12\",\"2017-04-13\",\"2017-04-17\",\"2017-04-18\",\"2017-04-19\",\"2017-04-20\",\"2017-04-24\",\"2017-04-25\",\"2017-04-26\",\"2017-04-27\",\"2017-04-28\",\"2017-05-02\",\"2017-05-03\",\"2017-05-04\",\"2017-05-05\",\"2017-05-08\",\"2017-05-09\",\"2017-05-10\",\"2017-05-11\",\"2017-05-12\",\"2017-05-15\",\"2017-05-16\",\"2017-05-17\",\"2017-05-18\",\"2017-05-19\",\"2017-05-22\",\"2017-05-23\",\"2017-05-24\",\"2017-05-25\",\"2017-05-26\",\"2017-05-29\",\"2017-05-30\",\"2017-05-31\",\"2017-06-01\",\"2017-06-02\",\"2017-06-05\",\"2017-06-06\",\"2017-06-07\",\"2017-06-08\",\"2017-06-09\",\"2017-06-12\",\"2017-06-13\",\"2017-06-14\",\"2017-06-15\",\"2017-06-16\",\"2017-06-19\",\"2017-06-20\",\"2017-06-21\",\"2017-06-22\",\"2017-06-23\",\"2017-06-26\",\"2017-06-27\",\"2017-06-28\",\"2017-06-29\",\"2017-06-30\",\"2017-07-03\",\"2017-07-04\",\"2017-07-05\",\"2017-07-06\",\"2017-07-07\",\"2017-07-10\",\"2017-07-11\",\"2017-07-12\",\"2017-07-13\",\"2017-07-14\",\"2017-07-17\",\"2017-07-18\",\"2017-07-19\",\"2017-07-20\",\"2017-07-21\",\"2017-07-24\",\"2017-07-25\",\"2017-07-26\",\"2017-07-27\",\"2017-07-28\",\"2017-07-31\",\"2017-08-01\",\"2017-08-02\",\"2017-08-03\",\"2017-08-04\",\"2017-08-07\",\"2017-08-08\",\"2017-08-09\",\"2017-08-10\",\"2017-08-11\",\"2017-08-14\",\"2017-08-15\",\"2017-08-16\",\"2017-08-17\",\"2017-08-18\",\"2017-08-21\",\"2017-08-22\",\"2017-08-23\",\"2017-08-24\",\"2017-08-25\",\"2017-08-28\",\"2017-08-29\",\"2017-08-30\",\"2017-08-31\",\"2017-09-01\",\"2017-09-04\",\"2017-09-05\",\"2017-09-06\",\"2017-09-07\",\"2017-09-08\",\"2017-09-11\",\"2017-09-12\",\"2017-09-13\",\"2017-09-14\",\"2017-09-15\",\"2017-09-18\",\"2017-09-19\",\"2017-09-20\",\"2017-09-21\",\"2017-09-22\",\"2017-09-25\",\"2017-09-26\",\"2017-09-27\",\"2017-09-28\",\"2017-09-29\",\"2017-10-02\",\"2017-10-03\",\"2017-10-04\",\"2017-10-05\",\"2017-10-06\",\"2017-10-09\",\"2017-10-10\",\"2017-10-11\",\"2017-10-12\",\"2017-10-13\",\"2017-10-16\",\"2017-10-17\",\"2017-10-18\",\"2017-10-19\",\"2017-10-20\",\"2017-10-23\",\"2017-10-24\",\"2017-10-25\",\"2017-10-26\",\"2017-10-27\",\"2017-10-30\",\"2017-10-31\",\"2017-11-01\",\"2017-11-02\",\"2017-11-03\",\"2017-11-06\",\"2017-11-07\",\"2017-11-08\",\"2017-11-09\",\"2017-11-10\",\"2017-11-13\",\"2017-11-14\",\"2017-11-15\",\"2017-11-16\",\"2017-11-17\",\"2017-11-20\",\"2017-11-21\",\"2017-11-22\",\"2017-11-23\",\"2017-11-24\",\"2017-11-27\",\"2017-11-28\",\"2017-11-29\",\"2017-11-30\",\"2017-12-01\",\"2017-12-04\",\"2017-12-05\",\"2017-12-06\",\"2017-12-07\",\"2017-12-08\",\"2017-12-11\",\"2017-12-12\",\"2017-12-13\",\"2017-12-14\",\"2017-12-15\",\"2017-12-18\",\"2017-12-19\",\"2017-12-20\",\"2017-12-21\",\"2017-12-22\",\"2017-12-25\",\"2017-12-26\",\"2017-12-27\",\"2017-12-28\",\"2017-12-29\",\"2018-01-02\",\"2018-01-03\",\"2018-01-04\",\"2018-01-05\",\"2018-01-08\",\"2018-01-09\",\"2018-01-10\",\"2018-01-11\",\"2018-01-12\",\"2018-01-15\",\"2018-01-16\",\"2018-01-17\",\"2018-01-18\",\"2018-01-19\",\"2018-01-22\",\"2018-01-23\",\"2018-01-24\",\"2018-01-25\",\"2018-01-26\",\"2018-01-29\",\"2018-01-30\",\"2018-01-31\",\"2018-02-01\",\"2018-02-02\",\"2018-02-05\",\"2018-02-06\",\"2018-02-07\",\"2018-02-08\",\"2018-02-09\",\"2018-02-15\",\"2018-02-16\",\"2018-02-19\",\"2018-02-20\",\"2018-02-21\",\"2018-02-22\",\"2018-02-23\",\"2018-02-26\",\"2018-02-27\",\"2018-02-28\",\"2018-03-01\",\"2018-03-02\",\"2018-03-05\",\"2018-03-06\",\"2018-03-07\",\"2018-03-08\",\"2018-03-09\",\"2018-03-12\",\"2018-03-13\",\"2018-03-14\",\"2018-03-15\",\"2018-03-16\",\"2018-03-19\",\"2018-03-20\",\"2018-03-21\",\"2018-03-22\",\"2018-03-23\",\"2018-03-26\",\"2018-03-27\",\"2018-03-28\",\"2018-03-29\",\"2018-04-02\",\"2018-04-03\",\"2018-04-04\",\"2018-04-05\",\"2018-04-06\",\"2018-04-09\",\"2018-04-10\",\"2018-04-11\",\"2018-04-12\",\"2018-04-13\",\"2018-04-16\",\"2018-04-17\",\"2018-04-18\",\"2018-04-19\",\"2018-04-20\",\"2018-04-23\",\"2018-04-24\",\"2018-04-25\",\"2018-04-26\",\"2018-04-27\",\"2018-04-30\",\"2018-05-02\",\"2018-05-03\",\"2018-05-04\",\"2018-05-07\",\"2018-05-08\",\"2018-05-09\",\"2018-05-10\",\"2018-05-11\",\"2018-05-14\",\"2018-05-15\",\"2018-05-16\",\"2018-05-17\",\"2018-05-18\",\"2018-05-21\",\"2018-05-22\",\"2018-05-23\",\"2018-05-24\",\"2018-05-25\",\"2018-05-28\",\"2018-05-29\",\"2018-05-30\",\"2018-06-01\",\"2018-06-04\",\"2018-06-05\",\"2018-06-06\",\"2018-06-07\",\"2018-06-08\",\"2018-06-11\",\"2018-06-12\",\"2018-06-13\",\"2018-06-14\",\"2018-06-15\",\"2018-06-18\",\"2018-06-19\",\"2018-06-20\",\"2018-06-21\",\"2018-06-22\",\"2018-06-25\",\"2018-06-26\",\"2018-06-27\",\"2018-06-28\",\"2018-06-29\",\"2018-07-02\",\"2018-07-03\",\"2018-07-04\",\"2018-07-05\",\"2018-07-06\",\"2018-07-10\",\"2018-07-11\",\"2018-07-12\",\"2018-07-13\",\"2018-07-16\",\"2018-07-17\",\"2018-07-18\",\"2018-07-19\",\"2018-07-20\",\"2018-07-23\",\"2018-07-24\",\"2018-07-25\",\"2018-07-26\",\"2018-07-27\",\"2018-07-30\",\"2018-07-31\",\"2018-08-01\",\"2018-08-02\",\"2018-08-03\",\"2018-08-06\",\"2018-08-07\",\"2018-08-08\",\"2018-08-09\",\"2018-08-10\",\"2018-08-13\",\"2018-08-14\",\"2018-08-15\",\"2018-08-16\",\"2018-08-17\",\"2018-08-20\",\"2018-08-21\",\"2018-08-22\",\"2018-08-23\",\"2018-08-24\",\"2018-08-27\",\"2018-08-28\",\"2018-08-29\",\"2018-08-30\",\"2018-08-31\",\"2018-09-03\",\"2018-09-04\",\"2018-09-05\",\"2018-09-06\",\"2018-09-10\",\"2018-09-11\",\"2018-09-12\",\"2018-09-13\",\"2018-09-14\",\"2018-09-17\",\"2018-09-18\",\"2018-09-19\",\"2018-09-20\",\"2018-09-21\",\"2018-09-24\",\"2018-09-25\",\"2018-09-26\",\"2018-09-27\",\"2018-09-28\",\"2018-10-01\",\"2018-10-02\",\"2018-10-03\",\"2018-10-04\",\"2018-10-05\",\"2018-10-08\",\"2018-10-09\",\"2018-10-10\",\"2018-10-11\",\"2018-10-15\",\"2018-10-16\",\"2018-10-17\",\"2018-10-18\",\"2018-10-19\",\"2018-10-22\",\"2018-10-23\",\"2018-10-24\",\"2018-10-25\",\"2018-10-26\",\"2018-10-29\",\"2018-10-30\",\"2018-10-31\",\"2018-11-01\",\"2018-11-05\",\"2018-11-06\",\"2018-11-07\",\"2018-11-08\",\"2018-11-09\",\"2018-11-12\",\"2018-11-13\",\"2018-11-14\",\"2018-11-16\",\"2018-11-19\",\"2018-11-21\",\"2018-11-22\",\"2018-11-23\",\"2018-11-26\",\"2018-11-27\",\"2018-11-28\",\"2018-11-29\",\"2018-11-30\",\"2018-12-03\",\"2018-12-04\",\"2018-12-05\",\"2018-12-06\",\"2018-12-07\",\"2018-12-10\",\"2018-12-11\",\"2018-12-12\",\"2018-12-13\",\"2018-12-14\",\"2018-12-17\",\"2018-12-18\",\"2018-12-19\",\"2018-12-20\",\"2018-12-21\",\"2018-12-26\",\"2018-12-27\",\"2018-12-28\",\"2019-01-02\",\"2019-01-03\",\"2019-01-04\",\"2019-01-07\",\"2019-01-08\",\"2019-01-09\",\"2019-01-10\",\"2019-01-11\",\"2019-01-14\",\"2019-01-15\",\"2019-01-16\",\"2019-01-17\",\"2019-01-18\",\"2019-01-21\",\"2019-01-22\",\"2019-01-23\",\"2019-01-24\",\"2019-01-28\",\"2019-01-29\",\"2019-01-30\",\"2019-01-31\",\"2019-02-01\",\"2019-02-04\",\"2019-02-05\",\"2019-02-06\",\"2019-02-07\",\"2019-02-08\",\"2019-02-11\",\"2019-02-12\",\"2019-02-13\",\"2019-02-14\",\"2019-02-15\",\"2019-02-18\",\"2019-02-19\",\"2019-02-20\",\"2019-02-21\",\"2019-02-22\",\"2019-02-25\",\"2019-02-26\",\"2019-02-27\",\"2019-02-28\",\"2019-03-01\",\"2019-03-07\",\"2019-03-08\",\"2019-03-11\",\"2019-03-12\",\"2019-03-13\",\"2019-03-14\",\"2019-03-15\",\"2019-03-18\",\"2019-03-19\",\"2019-03-20\",\"2019-03-21\",\"2019-03-22\",\"2019-03-25\",\"2019-03-26\",\"2019-03-27\",\"2019-03-28\",\"2019-03-29\",\"2019-04-01\",\"2019-04-02\",\"2019-04-03\",\"2019-04-04\",\"2019-04-05\",\"2019-04-08\",\"2019-04-09\",\"2019-04-10\",\"2019-04-11\",\"2019-04-12\",\"2019-04-15\",\"2019-04-16\",\"2019-04-17\",\"2019-04-18\",\"2019-04-22\",\"2019-04-23\",\"2019-04-24\",\"2019-04-25\",\"2019-04-26\",\"2019-04-29\",\"2019-04-30\",\"2019-05-02\",\"2019-05-03\",\"2019-05-06\",\"2019-05-07\",\"2019-05-08\",\"2019-05-09\",\"2019-05-10\",\"2019-05-13\",\"2019-05-14\",\"2019-05-15\",\"2019-05-16\",\"2019-05-17\",\"2019-05-20\",\"2019-05-21\",\"2019-05-22\",\"2019-05-23\",\"2019-05-24\",\"2019-05-27\",\"2019-05-28\",\"2019-05-29\",\"2019-05-30\",\"2019-05-31\",\"2019-06-03\",\"2019-06-04\",\"2019-06-05\",\"2019-06-06\",\"2019-06-07\",\"2019-06-10\",\"2019-06-11\",\"2019-06-12\",\"2019-06-13\",\"2019-06-14\",\"2019-06-17\",\"2019-06-18\",\"2019-06-19\",\"2019-06-21\",\"2019-06-24\",\"2019-06-25\",\"2019-06-26\",\"2019-06-27\",\"2019-06-28\",\"2019-07-01\",\"2019-07-02\",\"2019-07-03\",\"2019-07-04\",\"2019-07-05\",\"2019-07-08\",\"2019-07-10\",\"2019-07-11\",\"2019-07-12\",\"2019-07-15\",\"2019-07-16\",\"2019-07-17\",\"2019-07-18\",\"2019-07-19\",\"2019-07-22\",\"2019-07-23\",\"2019-07-24\",\"2019-07-25\",\"2019-07-26\",\"2019-07-29\",\"2019-07-30\",\"2019-07-31\",\"2019-08-01\",\"2019-08-02\",\"2019-08-05\",\"2019-08-06\",\"2019-08-07\",\"2019-08-08\",\"2019-08-09\",\"2019-08-12\",\"2019-08-13\",\"2019-08-14\",\"2019-08-15\",\"2019-08-16\",\"2019-08-19\",\"2019-08-20\",\"2019-08-21\",\"2019-08-22\",\"2019-08-23\",\"2019-08-26\",\"2019-08-27\",\"2019-08-28\",\"2019-08-29\",\"2019-08-30\",\"2019-09-02\",\"2019-09-03\",\"2019-09-04\",\"2019-09-05\",\"2019-09-06\",\"2019-09-09\",\"2019-09-10\",\"2019-09-11\",\"2019-09-12\",\"2019-09-13\",\"2019-09-16\",\"2019-09-17\",\"2019-09-18\",\"2019-09-19\",\"2019-09-20\",\"2019-09-23\",\"2019-09-24\",\"2019-09-25\",\"2019-09-26\",\"2019-09-27\",\"2019-09-30\",\"2019-10-01\",\"2019-10-02\",\"2019-10-03\",\"2019-10-04\",\"2019-10-07\",\"2019-10-08\",\"2019-10-09\",\"2019-10-10\",\"2019-10-11\",\"2019-10-14\",\"2019-10-15\",\"2019-10-16\",\"2019-10-17\",\"2019-10-18\",\"2019-10-21\",\"2019-10-22\",\"2019-10-23\",\"2019-10-24\",\"2019-10-25\",\"2019-10-28\",\"2019-10-29\",\"2019-10-30\",\"2019-10-31\",\"2019-11-01\",\"2019-11-04\",\"2019-11-05\",\"2019-11-06\",\"2019-11-07\",\"2019-11-08\",\"2019-11-11\",\"2019-11-12\",\"2019-11-13\",\"2019-11-14\",\"2019-11-18\",\"2019-11-19\",\"2019-11-21\",\"2019-11-22\",\"2019-11-25\",\"2019-11-26\",\"2019-11-27\",\"2019-11-28\",\"2019-11-29\",\"2019-12-02\",\"2019-12-03\",\"2019-12-04\",\"2019-12-05\",\"2019-12-06\",\"2019-12-09\",\"2019-12-10\",\"2019-12-11\",\"2019-12-12\",\"2019-12-13\",\"2019-12-16\",\"2019-12-17\",\"2019-12-18\",\"2019-12-19\",\"2019-12-20\",\"2019-12-23\",\"2019-12-26\",\"2019-12-27\",\"2019-12-30\",\"2020-01-02\",\"2020-01-03\",\"2020-01-06\",\"2020-01-07\",\"2020-01-08\",\"2020-01-09\",\"2020-01-10\",\"2020-01-13\",\"2020-01-14\",\"2020-01-15\",\"2020-01-16\",\"2020-01-17\",\"2020-01-20\",\"2020-01-21\",\"2020-01-22\",\"2020-01-23\",\"2020-01-24\",\"2020-01-27\",\"2020-01-28\",\"2020-01-29\",\"2020-01-30\",\"2020-01-31\",\"2020-02-03\",\"2020-02-04\",\"2020-02-05\",\"2020-02-06\",\"2020-02-07\",\"2020-02-10\",\"2020-02-11\",\"2020-02-12\",\"2020-02-13\",\"2020-02-14\",\"2020-02-17\",\"2020-02-18\",\"2020-02-19\",\"2020-02-20\",\"2020-02-21\",\"2020-02-27\",\"2020-02-28\",\"2020-03-02\",\"2020-03-03\",\"2020-03-04\",\"2020-03-05\",\"2020-03-06\",\"2020-03-09\",\"2020-03-10\",\"2020-03-11\",\"2020-03-12\",\"2020-03-13\",\"2020-03-16\",\"2020-03-17\",\"2020-03-18\",\"2020-03-19\",\"2020-03-20\",\"2020-03-23\",\"2020-03-24\",\"2020-03-25\",\"2020-03-26\",\"2020-03-27\",\"2020-03-30\",\"2020-03-31\",\"2020-04-01\",\"2020-04-02\",\"2020-04-03\",\"2020-04-06\",\"2020-04-07\",\"2020-04-08\",\"2020-04-09\",\"2020-04-13\",\"2020-04-14\",\"2020-04-15\",\"2020-04-16\",\"2020-04-17\",\"2020-04-20\",\"2020-04-22\",\"2020-04-23\",\"2020-04-24\",\"2020-04-27\",\"2020-04-28\",\"2020-04-29\",\"2020-04-30\",\"2020-05-04\",\"2020-05-05\",\"2020-05-06\",\"2020-05-07\",\"2020-05-08\",\"2020-05-11\",\"2020-05-12\",\"2020-05-13\",\"2020-05-14\",\"2020-05-15\",\"2020-05-18\",\"2020-05-19\",\"2020-05-20\",\"2020-05-21\",\"2020-05-22\",\"2020-05-25\",\"2020-05-26\",\"2020-05-27\",\"2020-05-28\",\"2020-05-29\",\"2020-06-01\",\"2020-06-02\",\"2020-06-03\",\"2020-06-04\",\"2020-06-05\",\"2020-06-08\",\"2020-06-09\",\"2020-06-10\",\"2020-06-12\",\"2020-06-15\",\"2020-06-16\",\"2020-06-17\",\"2020-06-18\",\"2020-06-19\",\"2020-06-22\",\"2020-06-23\",\"2020-06-24\",\"2020-06-25\",\"2020-06-26\",\"2020-06-29\",\"2020-06-30\",\"2020-07-01\",\"2020-07-02\",\"2020-07-08\",\"2020-07-09\",\"2020-07-10\",\"2020-07-13\",\"2020-07-14\",\"2020-07-15\",\"2020-07-16\",\"2020-07-17\",\"2020-07-20\",\"2020-07-21\",\"2020-07-22\",\"2020-07-23\",\"2020-07-24\",\"2020-07-27\",\"2020-07-28\",\"2020-07-29\",\"2020-07-30\",\"2020-07-31\",\"2020-08-03\",\"2020-08-04\",\"2020-08-05\",\"2020-08-06\",\"2020-08-07\",\"2020-08-10\",\"2020-08-11\",\"2020-08-12\",\"2020-08-13\",\"2020-08-14\",\"2020-08-17\",\"2020-08-18\",\"2020-08-19\",\"2020-08-20\",\"2020-08-21\",\"2020-08-24\",\"2020-08-25\",\"2020-08-26\",\"2020-08-27\",\"2020-08-28\",\"2020-08-31\",\"2020-09-01\",\"2020-09-02\",\"2020-09-03\",\"2020-09-04\",\"2020-09-08\",\"2020-09-09\",\"2020-09-10\",\"2020-09-11\",\"2020-09-14\",\"2020-09-15\",\"2020-09-16\",\"2020-09-17\",\"2020-09-18\",\"2020-09-21\",\"2020-09-22\",\"2020-09-23\",\"2020-09-24\",\"2020-09-28\",\"2020-09-29\",\"2020-09-30\",\"2020-10-01\",\"2020-10-02\",\"2020-10-05\",\"2020-10-06\",\"2020-10-07\",\"2020-10-08\",\"2020-10-09\",\"2020-10-13\",\"2020-10-14\",\"2020-10-15\",\"2020-10-16\",\"2020-10-19\",\"2020-10-20\",\"2020-10-21\",\"2020-10-22\",\"2020-10-23\",\"2020-10-26\",\"2020-10-27\",\"2020-10-28\",\"2020-10-29\",\"2020-10-30\",\"2020-11-03\"],\"y\":[1.0,0.9692741163724907,0.9086591204228994,0.9022335537820397,0.9231839030737413,0.9136881821586437,0.9692741163724907,0.9357552229347507,0.9287699226942029,0.9106153589277028,0.977653145803183,0.9016765958973224,0.9273734177890876,0.977653145803183,0.9768163744977557,0.9636880967520292,0.9441342523654429,0.9343587180296352,0.9567027965114814,0.9203908932635105,0.9377086857245833,0.9497202719859045,0.9938542467798503,0.9846384460437307,1.0139678247661246,1.0195538443865861,1.0357549453632533,1.0284925006586985,1.0053060994414835,1.0094983898718004,1.0223468541968173,1.0363117964897028,1.0349152915845872,1.0106150813562058,1.0092185764510904,1.0209503492917016,1.0237433591019323,1.012291399682031,0.9692741163724907,0.9513965903117299,0.9497202719859045,0.9357552229347507,0.9550291471423588,0.940781508955524,0.940781508955524,0.929609469714601,0.929609469714601,0.9413412425552121,0.9229039828947633,0.9315657082194044,0.9245804079788568,0.9567027965114814,0.9664811065622599,0.963408176573051,0.977653145803183,0.9748601359929523,0.9765364543187777,0.977653145803183,0.9882682271593888,0.9843585258647527,1.0279328738172786,1.0027930098102307,1.0307258836275093,1.0307258836275093,1.0209503492917016,1.021787120597129,1.01536432967124,1.0120115862613213,1.0097755343358077,1.0223468541968173,1.0251398640070477,1.0,1.0086588428514023,1.0251398640070477,1.033518786679472,1.03407852027916,1.0405041936782877,1.037708301394818,1.0134080911664365,1.011174814955894,0.9720671261827215,1.0195538443865861,1.0419006985834032,1.0572621457814044,1.078212495073106,1.089384534314029,1.0648044039066693,1.0625711276961267,1.0541893225504635,1.0768159901679906,1.0888276831875798,1.0919005064185205,1.089384534314029,1.055865640876289,1.082122196367742,1.1173174081313075,1.1145243983210769,1.0726265822109124,1.0952504741134688,1.0617315806757286,1.0388277685941942,1.078212495073106,1.107821793974478,1.1089383787006153,1.0977663394596922,1.0849152061779728,1.0796089999782212,1.0946935162287514,1.093017197902926,1.0826819299674302,1.0357549453632533,1.0262564487331851,1.0209503492917016,1.0502797280140954,1.0611746227910113,1.0656440576853357,1.1050287841642472,1.089384534314029,1.0837985146935676,1.115920903226192,1.1033523590801537,1.089384534314029,1.089384534314029,1.096926792439294,1.0896644544930072,1.0796089999782212,1.0717869284322463,1.0472067980248867,1.048603302930002,1.055865640876289,1.0687141052013054,1.0424575497098523,1.040781231384027,1.0287724208376767,1.0195538443865861,1.0178774193024926,1.0134080911664365,1.008101884966685,0.9818426605185292,0.9720671261827215,0.974303178108235,0.9664811065622599,0.959498582036683,0.9986034950948847,0.9787697305293203,0.985475217349158,0.9829620209596373,0.9628484429733629,0.9388280461656914,0.9497202719859045,0.9441342523654429,0.915084687063759,0.8969273475822882,0.8882685047308858,0.913965326622651,0.9357552229347507,0.9103354387487248,0.8966475341615782,0.8645251456289536,0.8379887767167904,0.8580995256089599,0.8622918694184109,0.8689945271441437,0.9011168622976343,0.8854754949206551,0.8337992620014443,0.8321228902964848,0.8659216505340689,0.8268167374758671,0.8379887767167904,0.8486038580729962,0.8184349323302041,0.8379887767167904,0.8379887767167904,0.8379887767167904,0.8810061134054649,0.8513968678832269,0.8379887767167904,0.8360325382119869,0.8349159001067156,0.8268167374758671,0.8156419225199734,0.8150850180143902,0.8061462549840097,0.8189946659298921,0.8418984246322925,0.8240237276656365,0.8569828875036885,0.8773735565748361,0.8628487739239941,0.8938545243513474,0.8963676139826001,0.9226269451890241,0.9259769128839721,0.9008370488769244,0.9301692033142891,0.9078223491174721,0.9586590350162849,0.9608950869417984,0.9357552229347507,0.9748601359929523,0.9681574248880853,0.9754198695926404,0.977653145803183,0.9491633141011871,0.9298892831353109,0.9544695203009388,1.01871419060792,0.9896647320645042,1.0265363689121632,1.0212301627124116,1.0307258836275093,1.018994110786898,1.0053060994414835,1.0125713198610093,1.0083790294306922,0.9860349509488462,0.9958104852846539,0.9986034950948847,0.9832391654236445,1.0094983898718004,0.9958104852846539,0.9944139803795384,1.0055860196204616,0.9916209705693076,0.9349156759143525,0.9608950869417984,0.9804461556134138,1.0195538443865861,0.9667609199829699,0.9762566408980676,0.9427377474603276,0.9399447376500968,0.8801665130059327,0.8938545243513474,0.8857553617204992,0.8807262466056208,0.8712305790696572,0.8924580194462319,0.885195628120811,0.8466476729473268,0.8659216505340689,0.8938545243513474,0.8756971848698766,0.8756971848698766,0.866761250933601,0.8572627543035325,0.8530732395881863,0.8743006799647612,0.8513968678832269,0.8533531063880304,0.8036303362586522,0.8310062521912134,0.836592271811675,0.829609747286098,0.8100559028995119,0.8150850180143902,0.832959661601912,0.8100559028995119,0.7927381638175731,0.7988838636585888,0.8100559028995119,0.8243008187505098,0.8421782914321365,0.9050293393072413,0.8949711624566188,0.8826824851104244,0.8494406827575576,0.8603356309136073,0.8715076701545305,0.8603356309136073,0.8466476729473268,0.8421782914321365,0.8122920082041594,0.8382686435166344,0.8379887767167904,0.8578224879032207,0.8698312984495711,0.9061460307916467,0.921787398168626,0.8715076701545305,0.8575426211033765,0.8536301974729037,0.8798894753001936,0.9162013785481644,0.9245804079788568,0.9092188540225875,0.9212304402839087,0.9399447376500968,0.9413412425552121,0.9100556253280148,0.9120118638328183,0.9125688217175355,0.9078223491174721,0.8882685047308858,0.9022335537820397,0.8659216505340689,0.8379887767167904,0.840224882021438,0.8240237276656365,0.79972068834315,0.7949714400281158,0.8097760360996679,0.7949714400281158,0.7868722773972676,0.7608928129906877,0.7706711764206001,0.7664816617052541,0.7569831650751856,0.7597761748854164,0.7868722773972676,0.791898563418041,0.7877090487026949,0.7960908538483579,0.7608928129906877,0.7723475481255597,0.7821230290822333,0.7824028958820773,0.7860326769977354,0.792178430217885,0.7874291819028508,0.7879889155025389,0.8016768734688194,0.7810063909769619,0.8002803685637041,0.7877090487026949,0.8136885131092748,0.8033532451737789,0.8041900164792063,0.8153620557201293,0.8097760360996679,0.8175981610247769,0.8421782914321365,0.8134086463094307,0.859218992808336,0.8245806855503538,0.8254202325707518,0.814245417614858,0.8025136981533809,0.791898563418041,0.7701114428209122,0.7527936503598395,0.7924582970177292,0.7782133811667311,0.7974873587534734,0.7960908538483579,0.8273736953605845,0.829609747286098,0.8561461161982611,0.9178776968739898,0.8840789900155397,0.8743006799647612,0.8603356309136073,0.8572627543035325,0.8469275397471708,0.8603356309136073,0.8379887767167904,0.843574796337252,0.8502802297779556,0.8379887767167904,0.8298896140859421,0.8550294780929899,0.8379887767167904,0.8491608159577134,0.8315631566967967,0.8206710376348517,0.8229043138453944,0.8463678061474827,0.8530732395881863,0.8622918694184109,0.8706708988491032,0.8544697444933017,0.8555863825985731,0.8628487739239941,0.8675980222390284,0.8622918694184109,0.8877087711311978,0.8840789900155397,0.8938545243513474,0.8835192564158516,0.8988835860870917,0.9259769128839721,0.9136881821586437,0.921787398168626,0.9148048736430491,0.9134083687379336,0.9312857880404264,0.9173179632743017,0.929329656293891,0.9189943883583952,0.9131284485589556,0.9092188540225875,0.9005600111711852,0.877653369995546,0.8815630179110481,0.8882685047308858,0.8902247432356893,0.8790498749006614,0.9083793070021894,0.9013967824766125,0.8857553617204992,0.8659216505340689,0.8759770516697206,0.8687146603442997,0.8639654120292655,0.832959661601912,0.8449713012423673,0.8198314372353196,0.843574796337252,0.8516767346830709,0.8379887767167904,0.8413415201267093,0.8379887767167904,0.8301667051708154,0.8572627543035325,0.858939126008492,0.8731840418594898,0.8662015173339128,0.8240237276656365,0.8379887767167904,0.8379887767167904,0.8430178918316686,0.8717875369543744,0.8854754949206551,0.8784929703950782,0.8980440390666936,0.8840789900155397,0.906982802097074,0.8938545243513474,0.8731840418594898,0.8924580194462319,0.8938545243513474,0.8555863825985731,0.8486038580729962,0.884915761320967,0.8854754949206551,0.8648050124287976,0.888828238330574,0.8765367318902747,0.8717875369543744,0.8421782914321365,0.8379887767167904,0.8287702002657,0.8351957669065596,0.8379887767167904,0.8346360333068715,0.8399450152215938,0.829609747286098,0.8421782914321365,0.8170384274250889,0.8164815229195056,0.8125690459098985,0.7882687823023828,0.8089392647942404,0.7891055536078103,0.7765370094617717,0.7206713152063488,0.7220678201114642,0.713685961586667,0.7033507470303052,0.6955314511993009,0.6768143781181422,0.6589396811514862,0.6494412379005517,0.6673187105821785,0.6564237624261287,0.6513974764053551,0.6555869911207013,0.6533508858160538,0.6539106194157419,0.6564237624261287,0.6396657035647438,0.6287707554086941,0.6008378815914156,0.6061440344120331,0.6019545196966869,0.6036308914016464,0.6382691986596286,0.6480447329954363,0.6497211047003957,0.6673187105821785,0.6578202673312439,0.6675985773820226,0.6363129601548251,0.6424587133749747,0.6424587133749747,0.6438552182800902,0.647207961690009,0.6550272575210132,0.6667589769824903,0.6670388437823344,0.6684353486874498,0.6695519867927211,0.6743012351077554,0.6715082252975246,0.6589396811514862,0.6927384413890701,0.688548926673724,0.6921787077893823,0.6706714539920974,0.673464463802328,0.6743012351077554,0.6715082252975246,0.6849163164639612,0.6955314511993009,0.7053069855351087,0.7167588381967418,0.7223476869113082,0.7122894566815516,0.7265371482475204,0.736032815783484,0.7432952071089048,0.7653621945058778,0.7583796699803009,0.7343564974576586,0.7287704778371971,0.7304468495421564,0.7402223304988301,0.7407820640985182,0.7421785690036337,0.7391056923935588,0.7466479505188238,0.736032815783484,0.717878305396118,0.7145255619861991,0.7128491902812398,0.7354759112779007,0.7220678201114642,0.7234643250165794,0.710336047270853,0.7039104806299934,0.6983244610095318,0.6983244610095318,0.7078201285454955,0.7245809631218509,0.731563487647428,0.7452514456137085,0.7516770122545681,0.78463617209262,0.7863125437975796,0.7547498888646429,0.7625691846956472,0.7608928129906877,0.7597761748854164,0.7787703390514485,0.7826827626819213,0.7874291819028508,0.79972068834315,0.7905020585129257,0.7754203713565004,0.7765370094617717,0.7798897528716906,0.7681552043161086,0.7670385662108373,0.7474874975392218,0.7614525465903758,0.7751405045566564,0.7835195339873487,0.7877090487026949,0.7849160388924641,0.7849160388924641,0.7804466573772739,0.777653700946177,0.7849160388924641,0.7821230290822333,0.7832396671875047,0.788548649102227,0.7868722773972676,0.7930180306174173,0.7829598537667947,0.7932950683231564,0.7826827626819213,0.7765370094617717,0.7681552043161086,0.7765370094617717,0.7913416589124578,0.7932950683231564,0.8617321358187227,0.8463678061474827,0.8226272227605211,0.8044698832790503,0.8240237276656365,0.8505600965777996,0.8212279421404349,0.8407817865270212,0.8477643110525982,0.8511170544625168,0.814245417614858,0.8212279421404349,0.8072628930892811,0.814245417614858,0.8189946659298921,0.814245417614858,0.8379887767167904,0.8379887767167904,0.8533531063880304,0.8430178918316686,0.8298896140859421,0.8254202325707518,0.8078226266889692,0.8120121414043153,0.829609747286098,0.8407817865270212,0.8463678061474827,0.8265368706760232,0.8262570038761792,0.8293298804862539,0.8293298804862539,0.86256890712415,0.884915761320967,0.8837991232156955,0.8715076701545305,0.8541898776934578,0.8530732395881863,0.8745805467646053,0.8558662493984172,0.8382686435166344,0.8268167374758671,0.8424581582319804,0.8385485103164785,0.8508371876626729,0.8396651484217498,0.8307263853913694,0.8108926742049392,0.8212279421404349,0.813965550815014,0.8025136981533809,0.8103357696993558,0.822347355960677,0.8310062521912134,0.8379887767167904,0.8379887767167904,0.8421782914321365,0.8455310348420553,0.8427380250318246,0.8240237276656365,0.8418984246322925,0.8396651484217498,0.8466476729473268,0.8379887767167904,0.836592271811675,0.8421782914321365,0.8770964654899628,0.9022335537820397,0.8882685047308858,0.8687146603442997,0.8622918694184109,0.8659216505340689,0.8874317334254586,0.8687146603442997,0.8715076701545305,0.8754200937850034,0.8798894753001936,0.8896650096360013,0.8907816477412726,0.8857553617204992,0.8784929703950782,0.8924580194462319,0.8670382886393403,0.8798894753001936,0.8759770516697206,0.8762568650904307,0.8675980222390284,0.8748603601853153,0.8773735565748361,0.8695542073646977,0.8670382886393403,0.8670382886393403,0.8756971848698766,0.8860323994262383,0.8804463798057768,0.8843588568153837,0.8893851428361572,0.899440543971809,0.8821227515107362,0.8991635062660698,0.8938545243513474,0.8743006799647612,0.8946940713717455,0.8673181554391843,0.8675980222390284,0.8586592592086479,0.8659216505340689,0.8743006799647612,0.8659216505340689,0.8622918694184109,0.8695542073646977,0.8765367318902747,0.8519566014829151,0.86256890712415,0.8706708988491032,0.8756971848698766,0.8756971848698766,0.8689945271441437,0.8812859802053089,0.870111165249415,0.8938545243513474,0.8988835860870917,0.9078223491174721,0.9022335537820397,0.9002800909922071,0.8966475341615782,0.8902247432356893,0.9011168622976343,0.8980440390666936,0.9100556253280148,0.9427377474603276,0.9427377474603276,0.9315657082194044,0.9497202719859045,0.9678776114673753,0.9597756197424222,0.9078223491174721,0.9036328344021259,0.9162013785481644,0.9162013785481644,0.9162013785481644,0.9421780138606395,0.9287699226942029,0.9287699226942029,0.9497202719859045,0.9189943883583952,0.9162013785481644,0.9080993868232113,0.921787398168626,0.9050293393072413,0.8840789900155397,0.8455310348420553,0.8670382886393403,0.8720674037542185,0.8603356309136073,0.8611724022190347,0.8508371876626729,0.8628487739239941,0.8477643110525982,0.8405019197271771,0.8256973236556252,0.829609747286098,0.8553065157987291,0.8463678061474827,0.8463678061474827,0.8547496112931459,0.8466476729473268,0.843574796337252,0.843574796337252,0.8463678061474827,0.8396651484217498,0.8349159001067156,0.8349159001067156,0.8421782914321365,0.8600557641137632,0.8547496112931459,0.8731840418594898,0.8726270839747726,0.8729041750596458,0.8706708988491032,0.8695542073646977,0.8681577024595822,0.8670382886393403,0.8804463798057768,0.8765367318902747,0.8745805467646053,0.8980440390666936,0.9131284485589556,0.9080993868232113,0.9265366464836602,0.9265366464836602,0.9399447376500968,0.9189943883583952,0.9100556253280148,0.9078223491174721,0.9106153589277028,0.9008370488769244,0.884915761320967,0.8553065157987291,0.829609747286098,0.843574796337252,0.8335193952016002,0.8382686435166344,0.8393852816219056,0.836592271811675,0.8743006799647612,0.8659216505340689,0.888828238330574,0.8896650096360013,0.8840789900155397,0.8798894753001936,0.8530732395881863,0.8519566014829151,0.8472073531678808,0.8416213869265533,0.8477643110525982,0.8421782914321365,0.8351957669065596,0.8282132423809827,0.8379887767167904,0.8326826238961729,0.821787675740123,0.8282132423809827,0.8343589956011324,0.8318430234966407,0.8282132423809827,0.8226272227605211,0.8120121414043153,0.8108926742049392,0.8086593979943963,0.8089392647942404,0.8030733783739349,0.8047497500788943,0.7932950683231564,0.8145252844147021,0.8268167374758671,0.8407817865270212,0.8287702002657,0.8111725410047832,0.822347355960677,0.8106156364992,0.8310062521912134,0.8351957669065596,0.8282132423809827,0.8558662493984172,0.8815630179110481,0.8938545243513474,0.8924580194462319,0.8924580194462319,0.8924580194462319,0.8857553617204992,0.8944142045719014,0.8955308960563069,0.8938545243513474,0.870111165249415,0.8698312984495711,0.870111165249415,0.8357555005062477,0.8511170544625168,0.8519566014829151,0.8826824851104244,0.8527933727883423,0.8343589956011324,0.8209508510555616,0.8399450152215938,0.822067542539967,0.8122920082041594,0.8111725410047832,0.8097760360996679,0.8019567402686636,0.8086593979943963,0.8153620557201293,0.7611726797905317,0.7751405045566564,0.7835195339873487,0.7974873587534734,0.8100559028995119,0.788548649102227,0.7821230290822333,0.7611726797905317,0.7709510432204443,0.76620179490541,0.7642455564006065,0.7709510432204443,0.7628490514954912,0.7751405045566564,0.7418987022037896,0.7402223304988301,0.7567033516544756,0.7583796699803009,0.7541901552649548,0.7460882169191357,0.7759773292412178,0.7737439996515411,0.7715079477260275,0.7597761748854164,0.7544700220647989,0.7639656896007625,0.7681552043161086,0.7765370094617717,0.7723475481255597,0.7874291819028508,0.7821230290822333,0.7840792675870367,0.7891055536078103,0.7891055536078103,0.8131287795095867,0.8209508510555616,0.8170384274250889,0.8332395284017561,0.8354756337064035,0.8432949295374079,0.8698312984495711,0.8533531063880304,0.8533531063880304,0.8617321358187227,0.8229043138453944,0.8310062521912134,0.8041900164792063,0.79972068834315,0.7877090487026949,0.7779335143668871,0.7765370094617717,0.7832396671875047,0.7709510432204443,0.7729044526311429,0.7871521441971117,0.7821230290822333,0.7720676813257156,0.7681552043161086,0.7706711764206001,0.7553068467493602,0.7745808243361023,0.7569831650751856,0.7491610935292106,0.7701114428209122,0.7703913096207562,0.7541901552649548,0.7402223304988301,0.7441348075084371,0.7276538397319258,0.7287704778371971,0.7346363108783684,0.7148054287860431,0.7243010963220069,0.6983244610095318,0.6899454315788395,0.6818434932330204,0.6648055675717917,0.6759776068127148,0.6863128213690766,0.6840795451585338,0.6913419364839549,0.6893856979791514,0.6756977400128708,0.6801671215280611,0.7053069855351087,0.7027938425247219,0.7011174708197625,0.7039104806299934,0.7122894566815516,0.7223476869113082,0.7080999953453395,0.703073655945432,0.7229045914168916,0.7164818004910026,0.7011174708197625,0.7011174708197625,0.6829601313382918,0.681006668548459,0.6913419364839549,0.7044701608505473,0.7262573348268102,0.7636886518950233,0.7122894566815516,0.7156422000914705,0.7212282197119321,0.7089395423657376,0.6921787077893823,0.7125693234813956,0.7011174708197625,0.7421785690036337,0.7332398059732532,0.7181553431018572,0.7094965002504549,0.6871496460536379,0.7022341089250339,0.6703915871922532,0.6634090626666762,0.702513975724878,0.7153623332916265,0.7276538397319258,0.7189949435013894,0.7290503446370411,0.7234643250165794,0.7810063909769619,0.7849160388924641,0.8156419225199734,0.8184349323302041,0.8100559028995119,0.8335193952016002,0.8184349323302041,0.813965550815014,0.8100559028995119,0.8100559028995119,0.7932950683231564,0.7877090487026949,0.799160954743462,0.7821230290822333,0.791898563418041,0.7821230290822333,0.7650851568001387,0.7751405045566564,0.7829598537667947,0.7541901552649548,0.7636886518950233,0.7519541033394413,0.7583796699803009,0.8002803685637041,0.8187147991300482,0.8413415201267093,0.8231841806452385,0.7896652872074983,0.8201113040351636,0.8351957669065596,0.8432949295374079,0.8678778890388724,0.8944142045719014,0.8854754949206551,0.9078223491174721,0.9494403518069264,0.9301692033142891,0.9455307572705584,0.9508368567120418,0.9385482327449814,0.9050293393072413,0.9156416449484763,0.918157617052968,0.9290497361149129,0.9259769128839721,0.9329622131245199,0.9617318582472256,0.9419009761549003,0.913965326622651,0.9022335537820397,0.9044696057075532,0.8796096085003495,0.8882685047308858,0.9100556253280148,0.9312857880404264,0.9469272621756737,0.937151727839866,0.9597756197424222,0.9357552229347507,0.9472070755963837,0.9608950869417984,0.9801690111494065,0.9991632286945727,1.018157339481471,1.029889005563814,1.030168925742792,1.0215072004181507,1.0162011009766674,1.011174814955894,1.033518786679472,1.0572621457814044,1.0365917166686809,1.0527928176453483,1.0279328738172786,1.0307258836275093,1.0279328738172786,1.0628481654018658,1.0614516604967505,1.0896644544930072,1.0731834333373618,1.1005593492699228,1.1005593492699228,1.0963698345545767,1.089384534314029,1.1231833479307471,1.1796087224067242,1.1620111165249416,1.1692735612294967,1.1653638599348604,1.1698331880709165,1.1773754461961816,1.1815649609115277,1.1804483761853906,1.1765358991757835,1.1837982371220703,1.1368712525178934,1.1620111165249416,1.1952529722569425,1.2067048249185752,1.2086582877084082,1.2178768641594986,1.2318446889256232,1.2444132330716617,1.230168370599798,1.1868711671112793,1.1759789412910664,1.1424572721383552,1.1033523590801537,1.1229062034667399,1.1544241266853394,1.158062341704178,1.1197213908125543,1.1158033623730057,1.091455537957048,1.07746251823965,1.0816604668581769,1.1479873504263285,1.1558234073054257,1.1149638153526076,1.1194415773918442,1.1194415773918442,1.1214005916116185,1.1275575544499195,1.1054485576744462,1.1054485576744462,1.0948138327969086,1.117202642993092,1.1407109203886514,1.1247588864514788,1.1488268974467266,1.18772747517977,1.2020004150761463,1.2047989763163187,1.2350239501498672,1.2672078314449222,1.2590919611451148,1.2523752647071258,1.2590919611451148,1.2171129019929205,1.219911463233093,1.1944441716177592,1.2143142339944801,1.2201912766538028,1.2305461881106305,1.2229899446522434,1.2649690038044377,1.280361304141922,1.306948062956632,1.3724353995043854,1.362920141826224,1.3713159323050093,1.3872679662421816,1.3508861363286002,1.335493835991116,1.3399715980303526,1.3464083742893636,1.3265383119126426,1.3405313316300407,1.343329892870213,1.3469681078890516,1.3592819268073855,1.3503264027289121,1.3601214738277834,1.3676777172861707,1.3534048841480626,1.3573229125876112,1.375793694344246,1.3713159323050093,1.3598416604070735,1.3704763852846111,1.3878276998418697,1.4972531097615918,1.5775730130471415,1.5364336076736136,1.5308363784350008,1.526078696216786,1.5028503390002046,1.4913760671022689,1.493055161143065,1.5031301524209146,1.5232801349766136,1.491655880522979,1.4941746283424413,1.465628855307957,1.4549942371886875,1.4751441129861185,1.4888573192828065,1.5078878346391293,1.511805863078678,1.4720656315669678,1.499492044160344,1.5081676480598394,1.4944545485214193,1.4244894499344292,1.4404414838716013,1.491096146923291,1.4944545485214193,1.484099637064592,1.492775347722355,1.5109663160582798,1.5168433587176027,1.5563036700503343,1.5826105086860662,1.595204247783378,1.60779798688069,1.5845695229058405,1.6063987062606038,1.6231902872181743,1.6159139639387652,1.6357840263154861,1.6175930579795614,1.6791623660877664,1.6651693463703683,1.6455790974143574,1.6427805361741852,1.6458590175933356,1.6184327117582276,1.6091972675007762,1.6063987062606038,1.593804967163292,1.594924434362668,1.607238253281002,1.5907264857441414,1.5730952510079048,1.601081290442701,1.6343847456954,1.6231902872181743,1.6161937773594752,1.6310263440972714,1.7351344449573587,1.7701169942508537,1.7429705018364559,1.771796195049918,1.7331754307375844,1.676363804847594,1.7217011588396487,1.7091074197423368,1.7169434766214338,1.7401719405962834,1.7326156971378963,1.7267386544785734,1.7659190456323268,1.8011815151048003,1.833645209820565,1.8638701836541134,1.825809152941468,1.8314064889383488,1.8207716573025432,1.8375634517766497,1.832246035958747,1.8106966660246937,1.7768336906888427,1.7491274646747568,1.786908575208424,1.799222500885026,1.8305669419179507,1.8202120304611231,1.8148946146432203,1.8118161332240699,1.875064642131339,1.9226408237638781,1.9030506815661352,1.9002521203259628,1.894654784329082,1.9030506815661352,1.9159242340841571,1.8938152373086838,1.874784721952361,1.8140550676228222,1.806498930922703,1.935234669619458,1.9763741817512541,1.9313166411799094,1.9394326182379846,1.9134055930229628,1.9450297407183295,1.9304770941595113,1.949227689336856,1.949227689336856,1.9539852647968028,1.9542651849757808,2.025069830583169,2.0396224771419873,2.0205919617856645,2.0732058525736643,2.0953148493491374,2.0558544312581377,2.0222712693429967,2.086359325270664,2.056973898457514,2.0345849815030626,2.0891578865108364,2.194665161232742,2.182911075914096,2.1899075857727954,2.145689592221849,2.11182651012773,2.085799484912708,2.1048300002690308,2.194105534391322,2.1857096371542686,2.174515178677043,2.342991255643776,2.3116468146108513,2.3018517435119796,2.301571823333002,2.323680820108475,2.0608919268970625,1.9872887200495017,2.0760044138138367,2.051096855798191,2.070966918174912,1.9450297407183295,1.8174134692209507,1.6321458112966476,1.7429705018364559,1.6427805361741852,1.4342845210333004,1.6131152959403248,1.3858686856220954,1.4172130198967519,1.199761480677394,1.1782122175016085,1.2238294916726415,1.2235496782519315,1.2848390661811586,1.5392321689137858,1.4880176655041404,1.273924527882911,1.3136646526363525,1.3063883293569436,1.2529349983068139,1.276163355523395,1.2297065343319642,1.3072278763773417,1.4244894499344292,1.5249593357756779,1.5042496196202908,1.5574231372497105,1.5395119823344958,1.5784126668258076,1.6254292216169266,1.6520158736733686,0.5505777437195178,0.5625194033152285,0.5467548368968531,0.4953529193475447,0.545168035378836,0.5406902733395993,0.5485263835978305,0.5517923325357779,0.5597207886959221,0.5672770321543092,0.5510451314172928,0.5096257524856528,0.517741729543728,0.5029091094267978,0.4830390470500769,0.4925543047282383,0.49647233316778683,0.5233389587823408,0.5356527777006747,0.5353729109008305,0.5434888879589057,0.5633589503356267,0.552164545237535,0.5681165791747074,0.5784714372524009,0.5686763127743955,0.5737138084133202,0.5627992701150725,0.57203466099339,0.5807103182720192,0.6011401142484282,0.607017210286885,0.5809901850718634,0.5885464285302504,0.5907853095498686,0.6014199810482722,0.6030991284682025,0.592464456969799,0.5885464285302504,0.6198907628049071,0.6364025303417674,0.6322046351023748,0.6336039157224611,0.6392011449610738,0.62716713946345,0.6456379212200848,0.6229692442240575,0.6274470062632941,0.6478768022397031,0.6646684365764075,0.6753031080748111,0.6806204705135799,0.7021697336893651,0.701610000089677,0.6904155949915853,0.6906954617914294,0.6996509858699027,0.7035690143094513,0.7195210482466236,0.7385515636029465,0.7351932687630859,0.736032815783484,0.7340738015637097,0.7377120165825481,0.7343536683635538,0.7262377446846126,0.7301557731241611,0.7309953735236933,0.7228793964656179,0.7228793964656179,0.7259578778847685,0.7276370253046988,0.8065576479701624,0.8054382341499202,0.7458279402614896,0.769895951256737,0.783609104174291,0.7805306227551406,0.77717232791528,0.7556230647394949,0.783609104174291,0.7752133136955057,0.7707355516562692,0.7864077187935974,0.7782917417355222,0.7791313421350543,0.7864077187935974,0.7894861468336138,0.8059979143704743,0.8076771151695384,0.8073972483696945,0.8353832878044906,0.7869674523932855,0.7726945658760433,0.7752133136955057,0.8082367953900925,0.790325747233146,0.7738139796962856,0.8073972483696945,0.8115951436090871,0.8157930388484798,0.7939639622519845,0.7920048946530762,0.7852882515942212,0.7948035092723827,0.7587015461586453,0.7830493705746029,0.7648584556178122,0.7623397077983498,0.7584216793588013,0.769895951256737,0.757022345359581,0.7556230647394949,0.7472272742607097,0.7542237841194087,0.7679369370369628,0.7556230647394949,0.7791313421350543,0.7934042286522964,0.7959229764717588,0.8082367953900925,0.8082367953900925,0.7995611381114633,0.8065576479701624,0.8118750104089313,0.8034791665510119,0.7911653476326781,0.797602123891689,0.7696160844568929,0.797602123891689,0.7556230647394949,0.7816500899545167],\"type\":\"scatter\"},{\"name\":\"BOVA\",\"x\":[\"2015-01-02\",\"2015-01-05\",\"2015-01-06\",\"2015-01-07\",\"2015-01-08\",\"2015-01-09\",\"2015-01-12\",\"2015-01-13\",\"2015-01-14\",\"2015-01-15\",\"2015-01-16\",\"2015-01-19\",\"2015-01-20\",\"2015-01-21\",\"2015-01-22\",\"2015-01-23\",\"2015-01-26\",\"2015-01-27\",\"2015-01-28\",\"2015-01-29\",\"2015-01-30\",\"2015-02-02\",\"2015-02-03\",\"2015-02-04\",\"2015-02-05\",\"2015-02-06\",\"2015-02-09\",\"2015-02-10\",\"2015-02-11\",\"2015-02-12\",\"2015-02-13\",\"2015-02-18\",\"2015-02-19\",\"2015-02-20\",\"2015-02-23\",\"2015-02-24\",\"2015-02-25\",\"2015-02-26\",\"2015-02-27\",\"2015-03-02\",\"2015-03-03\",\"2015-03-04\",\"2015-03-05\",\"2015-03-06\",\"2015-03-09\",\"2015-03-10\",\"2015-03-11\",\"2015-03-12\",\"2015-03-13\",\"2015-03-16\",\"2015-03-17\",\"2015-03-18\",\"2015-03-19\",\"2015-03-20\",\"2015-03-23\",\"2015-03-24\",\"2015-03-25\",\"2015-03-26\",\"2015-03-27\",\"2015-03-30\",\"2015-03-31\",\"2015-04-01\",\"2015-04-02\",\"2015-04-06\",\"2015-04-07\",\"2015-04-08\",\"2015-04-09\",\"2015-04-10\",\"2015-04-13\",\"2015-04-14\",\"2015-04-15\",\"2015-04-16\",\"2015-04-17\",\"2015-04-20\",\"2015-04-22\",\"2015-04-23\",\"2015-04-24\",\"2015-04-27\",\"2015-04-28\",\"2015-04-29\",\"2015-04-30\",\"2015-05-04\",\"2015-05-05\",\"2015-05-06\",\"2015-05-07\",\"2015-05-08\",\"2015-05-11\",\"2015-05-12\",\"2015-05-13\",\"2015-05-14\",\"2015-05-15\",\"2015-05-18\",\"2015-05-19\",\"2015-05-20\",\"2015-05-21\",\"2015-05-22\",\"2015-05-25\",\"2015-05-26\",\"2015-05-27\",\"2015-05-28\",\"2015-05-29\",\"2015-06-01\",\"2015-06-02\",\"2015-06-03\",\"2015-06-05\",\"2015-06-08\",\"2015-06-09\",\"2015-06-10\",\"2015-06-11\",\"2015-06-12\",\"2015-06-15\",\"2015-06-16\",\"2015-06-17\",\"2015-06-18\",\"2015-06-19\",\"2015-06-22\",\"2015-06-23\",\"2015-06-24\",\"2015-06-25\",\"2015-06-26\",\"2015-06-29\",\"2015-06-30\",\"2015-07-01\",\"2015-07-02\",\"2015-07-03\",\"2015-07-06\",\"2015-07-07\",\"2015-07-08\",\"2015-07-10\",\"2015-07-13\",\"2015-07-14\",\"2015-07-15\",\"2015-07-16\",\"2015-07-17\",\"2015-07-20\",\"2015-07-21\",\"2015-07-22\",\"2015-07-23\",\"2015-07-24\",\"2015-07-27\",\"2015-07-28\",\"2015-07-29\",\"2015-07-30\",\"2015-07-31\",\"2015-08-03\",\"2015-08-04\",\"2015-08-05\",\"2015-08-06\",\"2015-08-07\",\"2015-08-10\",\"2015-08-11\",\"2015-08-12\",\"2015-08-13\",\"2015-08-14\",\"2015-08-17\",\"2015-08-18\",\"2015-08-19\",\"2015-08-20\",\"2015-08-21\",\"2015-08-24\",\"2015-08-25\",\"2015-08-26\",\"2015-08-27\",\"2015-08-28\",\"2015-08-31\",\"2015-09-01\",\"2015-09-02\",\"2015-09-03\",\"2015-09-04\",\"2015-09-08\",\"2015-09-09\",\"2015-09-10\",\"2015-09-11\",\"2015-09-14\",\"2015-09-15\",\"2015-09-16\",\"2015-09-17\",\"2015-09-18\",\"2015-09-21\",\"2015-09-22\",\"2015-09-23\",\"2015-09-24\",\"2015-09-25\",\"2015-09-28\",\"2015-09-29\",\"2015-09-30\",\"2015-10-01\",\"2015-10-02\",\"2015-10-05\",\"2015-10-06\",\"2015-10-07\",\"2015-10-08\",\"2015-10-09\",\"2015-10-13\",\"2015-10-14\",\"2015-10-15\",\"2015-10-16\",\"2015-10-19\",\"2015-10-20\",\"2015-10-21\",\"2015-10-22\",\"2015-10-23\",\"2015-10-26\",\"2015-10-27\",\"2015-10-28\",\"2015-10-29\",\"2015-10-30\",\"2015-11-03\",\"2015-11-04\",\"2015-11-05\",\"2015-11-06\",\"2015-11-09\",\"2015-11-10\",\"2015-11-11\",\"2015-11-12\",\"2015-11-13\",\"2015-11-16\",\"2015-11-17\",\"2015-11-18\",\"2015-11-19\",\"2015-11-23\",\"2015-11-24\",\"2015-11-25\",\"2015-11-26\",\"2015-11-27\",\"2015-11-30\",\"2015-12-01\",\"2015-12-02\",\"2015-12-03\",\"2015-12-04\",\"2015-12-07\",\"2015-12-08\",\"2015-12-09\",\"2015-12-10\",\"2015-12-11\",\"2015-12-14\",\"2015-12-15\",\"2015-12-16\",\"2015-12-17\",\"2015-12-18\",\"2015-12-21\",\"2015-12-22\",\"2015-12-23\",\"2015-12-28\",\"2015-12-29\",\"2015-12-30\",\"2016-01-04\",\"2016-01-05\",\"2016-01-06\",\"2016-01-07\",\"2016-01-08\",\"2016-01-11\",\"2016-01-12\",\"2016-01-13\",\"2016-01-14\",\"2016-01-15\",\"2016-01-18\",\"2016-01-19\",\"2016-01-20\",\"2016-01-21\",\"2016-01-22\",\"2016-01-26\",\"2016-01-27\",\"2016-01-28\",\"2016-01-29\",\"2016-02-01\",\"2016-02-02\",\"2016-02-03\",\"2016-02-04\",\"2016-02-05\",\"2016-02-10\",\"2016-02-11\",\"2016-02-12\",\"2016-02-15\",\"2016-02-16\",\"2016-02-17\",\"2016-02-18\",\"2016-02-19\",\"2016-02-22\",\"2016-02-23\",\"2016-02-24\",\"2016-02-25\",\"2016-02-26\",\"2016-02-29\",\"2016-03-01\",\"2016-03-02\",\"2016-03-03\",\"2016-03-04\",\"2016-03-07\",\"2016-03-08\",\"2016-03-09\",\"2016-03-10\",\"2016-03-11\",\"2016-03-14\",\"2016-03-15\",\"2016-03-16\",\"2016-03-17\",\"2016-03-18\",\"2016-03-21\",\"2016-03-22\",\"2016-03-23\",\"2016-03-24\",\"2016-03-28\",\"2016-03-29\",\"2016-03-30\",\"2016-03-31\",\"2016-04-01\",\"2016-04-04\",\"2016-04-05\",\"2016-04-06\",\"2016-04-07\",\"2016-04-08\",\"2016-04-11\",\"2016-04-12\",\"2016-04-13\",\"2016-04-14\",\"2016-04-15\",\"2016-04-18\",\"2016-04-19\",\"2016-04-20\",\"2016-04-22\",\"2016-04-25\",\"2016-04-26\",\"2016-04-27\",\"2016-04-28\",\"2016-04-29\",\"2016-05-02\",\"2016-05-03\",\"2016-05-04\",\"2016-05-05\",\"2016-05-06\",\"2016-05-09\",\"2016-05-10\",\"2016-05-11\",\"2016-05-12\",\"2016-05-13\",\"2016-05-16\",\"2016-05-17\",\"2016-05-18\",\"2016-05-19\",\"2016-05-20\",\"2016-05-23\",\"2016-05-24\",\"2016-05-25\",\"2016-05-27\",\"2016-05-30\",\"2016-05-31\",\"2016-06-01\",\"2016-06-02\",\"2016-06-03\",\"2016-06-06\",\"2016-06-07\",\"2016-06-08\",\"2016-06-09\",\"2016-06-10\",\"2016-06-13\",\"2016-06-14\",\"2016-06-15\",\"2016-06-16\",\"2016-06-17\",\"2016-06-20\",\"2016-06-21\",\"2016-06-22\",\"2016-06-23\",\"2016-06-24\",\"2016-06-27\",\"2016-06-28\",\"2016-06-29\",\"2016-06-30\",\"2016-07-01\",\"2016-07-04\",\"2016-07-05\",\"2016-07-06\",\"2016-07-07\",\"2016-07-08\",\"2016-07-11\",\"2016-07-12\",\"2016-07-13\",\"2016-07-14\",\"2016-07-15\",\"2016-07-18\",\"2016-07-19\",\"2016-07-20\",\"2016-07-21\",\"2016-07-22\",\"2016-07-25\",\"2016-07-26\",\"2016-07-27\",\"2016-07-28\",\"2016-07-29\",\"2016-08-01\",\"2016-08-02\",\"2016-08-03\",\"2016-08-04\",\"2016-08-05\",\"2016-08-08\",\"2016-08-09\",\"2016-08-10\",\"2016-08-11\",\"2016-08-12\",\"2016-08-15\",\"2016-08-16\",\"2016-08-17\",\"2016-08-18\",\"2016-08-19\",\"2016-08-22\",\"2016-08-23\",\"2016-08-24\",\"2016-08-25\",\"2016-08-26\",\"2016-08-29\",\"2016-08-30\",\"2016-08-31\",\"2016-09-01\",\"2016-09-02\",\"2016-09-05\",\"2016-09-06\",\"2016-09-08\",\"2016-09-09\",\"2016-09-12\",\"2016-09-13\",\"2016-09-14\",\"2016-09-15\",\"2016-09-16\",\"2016-09-19\",\"2016-09-20\",\"2016-09-21\",\"2016-09-22\",\"2016-09-23\",\"2016-09-26\",\"2016-09-27\",\"2016-09-28\",\"2016-09-29\",\"2016-09-30\",\"2016-10-03\",\"2016-10-04\",\"2016-10-05\",\"2016-10-06\",\"2016-10-07\",\"2016-10-10\",\"2016-10-11\",\"2016-10-13\",\"2016-10-14\",\"2016-10-17\",\"2016-10-18\",\"2016-10-19\",\"2016-10-20\",\"2016-10-21\",\"2016-10-24\",\"2016-10-25\",\"2016-10-26\",\"2016-10-27\",\"2016-10-28\",\"2016-10-31\",\"2016-11-01\",\"2016-11-03\",\"2016-11-04\",\"2016-11-07\",\"2016-11-08\",\"2016-11-09\",\"2016-11-10\",\"2016-11-11\",\"2016-11-14\",\"2016-11-16\",\"2016-11-17\",\"2016-11-18\",\"2016-11-21\",\"2016-11-22\",\"2016-11-23\",\"2016-11-24\",\"2016-11-25\",\"2016-11-28\",\"2016-11-29\",\"2016-11-30\",\"2016-12-01\",\"2016-12-02\",\"2016-12-05\",\"2016-12-06\",\"2016-12-07\",\"2016-12-08\",\"2016-12-09\",\"2016-12-12\",\"2016-12-13\",\"2016-12-14\",\"2016-12-15\",\"2016-12-16\",\"2016-12-19\",\"2016-12-20\",\"2016-12-21\",\"2016-12-22\",\"2016-12-23\",\"2016-12-26\",\"2016-12-27\",\"2016-12-28\",\"2016-12-29\",\"2017-01-02\",\"2017-01-03\",\"2017-01-04\",\"2017-01-05\",\"2017-01-06\",\"2017-01-09\",\"2017-01-10\",\"2017-01-11\",\"2017-01-12\",\"2017-01-13\",\"2017-01-16\",\"2017-01-17\",\"2017-01-18\",\"2017-01-19\",\"2017-01-20\",\"2017-01-23\",\"2017-01-24\",\"2017-01-26\",\"2017-01-27\",\"2017-01-30\",\"2017-01-31\",\"2017-02-01\",\"2017-02-02\",\"2017-02-03\",\"2017-02-06\",\"2017-02-07\",\"2017-02-08\",\"2017-02-09\",\"2017-02-10\",\"2017-02-13\",\"2017-02-14\",\"2017-02-15\",\"2017-02-16\",\"2017-02-17\",\"2017-02-20\",\"2017-02-21\",\"2017-02-22\",\"2017-02-23\",\"2017-02-24\",\"2017-03-01\",\"2017-03-02\",\"2017-03-03\",\"2017-03-06\",\"2017-03-07\",\"2017-03-08\",\"2017-03-09\",\"2017-03-10\",\"2017-03-13\",\"2017-03-14\",\"2017-03-15\",\"2017-03-16\",\"2017-03-17\",\"2017-03-20\",\"2017-03-21\",\"2017-03-22\",\"2017-03-23\",\"2017-03-24\",\"2017-03-27\",\"2017-03-28\",\"2017-03-29\",\"2017-03-30\",\"2017-03-31\",\"2017-04-03\",\"2017-04-04\",\"2017-04-05\",\"2017-04-06\",\"2017-04-07\",\"2017-04-10\",\"2017-04-11\",\"2017-04-12\",\"2017-04-13\",\"2017-04-17\",\"2017-04-18\",\"2017-04-19\",\"2017-04-20\",\"2017-04-24\",\"2017-04-25\",\"2017-04-26\",\"2017-04-27\",\"2017-04-28\",\"2017-05-02\",\"2017-05-03\",\"2017-05-04\",\"2017-05-05\",\"2017-05-08\",\"2017-05-09\",\"2017-05-10\",\"2017-05-11\",\"2017-05-12\",\"2017-05-15\",\"2017-05-16\",\"2017-05-17\",\"2017-05-18\",\"2017-05-19\",\"2017-05-22\",\"2017-05-23\",\"2017-05-24\",\"2017-05-25\",\"2017-05-26\",\"2017-05-29\",\"2017-05-30\",\"2017-05-31\",\"2017-06-01\",\"2017-06-02\",\"2017-06-05\",\"2017-06-06\",\"2017-06-07\",\"2017-06-08\",\"2017-06-09\",\"2017-06-12\",\"2017-06-13\",\"2017-06-14\",\"2017-06-15\",\"2017-06-16\",\"2017-06-19\",\"2017-06-20\",\"2017-06-21\",\"2017-06-22\",\"2017-06-23\",\"2017-06-26\",\"2017-06-27\",\"2017-06-28\",\"2017-06-29\",\"2017-06-30\",\"2017-07-03\",\"2017-07-04\",\"2017-07-05\",\"2017-07-06\",\"2017-07-07\",\"2017-07-10\",\"2017-07-11\",\"2017-07-12\",\"2017-07-13\",\"2017-07-14\",\"2017-07-17\",\"2017-07-18\",\"2017-07-19\",\"2017-07-20\",\"2017-07-21\",\"2017-07-24\",\"2017-07-25\",\"2017-07-26\",\"2017-07-27\",\"2017-07-28\",\"2017-07-31\",\"2017-08-01\",\"2017-08-02\",\"2017-08-03\",\"2017-08-04\",\"2017-08-07\",\"2017-08-08\",\"2017-08-09\",\"2017-08-10\",\"2017-08-11\",\"2017-08-14\",\"2017-08-15\",\"2017-08-16\",\"2017-08-17\",\"2017-08-18\",\"2017-08-21\",\"2017-08-22\",\"2017-08-23\",\"2017-08-24\",\"2017-08-25\",\"2017-08-28\",\"2017-08-29\",\"2017-08-30\",\"2017-08-31\",\"2017-09-01\",\"2017-09-04\",\"2017-09-05\",\"2017-09-06\",\"2017-09-07\",\"2017-09-08\",\"2017-09-11\",\"2017-09-12\",\"2017-09-13\",\"2017-09-14\",\"2017-09-15\",\"2017-09-18\",\"2017-09-19\",\"2017-09-20\",\"2017-09-21\",\"2017-09-22\",\"2017-09-25\",\"2017-09-26\",\"2017-09-27\",\"2017-09-28\",\"2017-09-29\",\"2017-10-02\",\"2017-10-03\",\"2017-10-04\",\"2017-10-05\",\"2017-10-06\",\"2017-10-09\",\"2017-10-10\",\"2017-10-11\",\"2017-10-12\",\"2017-10-13\",\"2017-10-16\",\"2017-10-17\",\"2017-10-18\",\"2017-10-19\",\"2017-10-20\",\"2017-10-23\",\"2017-10-24\",\"2017-10-25\",\"2017-10-26\",\"2017-10-27\",\"2017-10-30\",\"2017-10-31\",\"2017-11-01\",\"2017-11-02\",\"2017-11-03\",\"2017-11-06\",\"2017-11-07\",\"2017-11-08\",\"2017-11-09\",\"2017-11-10\",\"2017-11-13\",\"2017-11-14\",\"2017-11-15\",\"2017-11-16\",\"2017-11-17\",\"2017-11-20\",\"2017-11-21\",\"2017-11-22\",\"2017-11-23\",\"2017-11-24\",\"2017-11-27\",\"2017-11-28\",\"2017-11-29\",\"2017-11-30\",\"2017-12-01\",\"2017-12-04\",\"2017-12-05\",\"2017-12-06\",\"2017-12-07\",\"2017-12-08\",\"2017-12-11\",\"2017-12-12\",\"2017-12-13\",\"2017-12-14\",\"2017-12-15\",\"2017-12-18\",\"2017-12-19\",\"2017-12-20\",\"2017-12-21\",\"2017-12-22\",\"2017-12-25\",\"2017-12-26\",\"2017-12-27\",\"2017-12-28\",\"2017-12-29\",\"2018-01-02\",\"2018-01-03\",\"2018-01-04\",\"2018-01-05\",\"2018-01-08\",\"2018-01-09\",\"2018-01-10\",\"2018-01-11\",\"2018-01-12\",\"2018-01-15\",\"2018-01-16\",\"2018-01-17\",\"2018-01-18\",\"2018-01-19\",\"2018-01-22\",\"2018-01-23\",\"2018-01-24\",\"2018-01-25\",\"2018-01-26\",\"2018-01-29\",\"2018-01-30\",\"2018-01-31\",\"2018-02-01\",\"2018-02-02\",\"2018-02-05\",\"2018-02-06\",\"2018-02-07\",\"2018-02-08\",\"2018-02-09\",\"2018-02-15\",\"2018-02-16\",\"2018-02-19\",\"2018-02-20\",\"2018-02-21\",\"2018-02-22\",\"2018-02-23\",\"2018-02-26\",\"2018-02-27\",\"2018-02-28\",\"2018-03-01\",\"2018-03-02\",\"2018-03-05\",\"2018-03-06\",\"2018-03-07\",\"2018-03-08\",\"2018-03-09\",\"2018-03-12\",\"2018-03-13\",\"2018-03-14\",\"2018-03-15\",\"2018-03-16\",\"2018-03-19\",\"2018-03-20\",\"2018-03-21\",\"2018-03-22\",\"2018-03-23\",\"2018-03-26\",\"2018-03-27\",\"2018-03-28\",\"2018-03-29\",\"2018-04-02\",\"2018-04-03\",\"2018-04-04\",\"2018-04-05\",\"2018-04-06\",\"2018-04-09\",\"2018-04-10\",\"2018-04-11\",\"2018-04-12\",\"2018-04-13\",\"2018-04-16\",\"2018-04-17\",\"2018-04-18\",\"2018-04-19\",\"2018-04-20\",\"2018-04-23\",\"2018-04-24\",\"2018-04-25\",\"2018-04-26\",\"2018-04-27\",\"2018-04-30\",\"2018-05-02\",\"2018-05-03\",\"2018-05-04\",\"2018-05-07\",\"2018-05-08\",\"2018-05-09\",\"2018-05-10\",\"2018-05-11\",\"2018-05-14\",\"2018-05-15\",\"2018-05-16\",\"2018-05-17\",\"2018-05-18\",\"2018-05-21\",\"2018-05-22\",\"2018-05-23\",\"2018-05-24\",\"2018-05-25\",\"2018-05-28\",\"2018-05-29\",\"2018-05-30\",\"2018-06-01\",\"2018-06-04\",\"2018-06-05\",\"2018-06-06\",\"2018-06-07\",\"2018-06-08\",\"2018-06-11\",\"2018-06-12\",\"2018-06-13\",\"2018-06-14\",\"2018-06-15\",\"2018-06-18\",\"2018-06-19\",\"2018-06-20\",\"2018-06-21\",\"2018-06-22\",\"2018-06-25\",\"2018-06-26\",\"2018-06-27\",\"2018-06-28\",\"2018-06-29\",\"2018-07-02\",\"2018-07-03\",\"2018-07-04\",\"2018-07-05\",\"2018-07-06\",\"2018-07-10\",\"2018-07-11\",\"2018-07-12\",\"2018-07-13\",\"2018-07-16\",\"2018-07-17\",\"2018-07-18\",\"2018-07-19\",\"2018-07-20\",\"2018-07-23\",\"2018-07-24\",\"2018-07-25\",\"2018-07-26\",\"2018-07-27\",\"2018-07-30\",\"2018-07-31\",\"2018-08-01\",\"2018-08-02\",\"2018-08-03\",\"2018-08-06\",\"2018-08-07\",\"2018-08-08\",\"2018-08-09\",\"2018-08-10\",\"2018-08-13\",\"2018-08-14\",\"2018-08-15\",\"2018-08-16\",\"2018-08-17\",\"2018-08-20\",\"2018-08-21\",\"2018-08-22\",\"2018-08-23\",\"2018-08-24\",\"2018-08-27\",\"2018-08-28\",\"2018-08-29\",\"2018-08-30\",\"2018-08-31\",\"2018-09-03\",\"2018-09-04\",\"2018-09-05\",\"2018-09-06\",\"2018-09-10\",\"2018-09-11\",\"2018-09-12\",\"2018-09-13\",\"2018-09-14\",\"2018-09-17\",\"2018-09-18\",\"2018-09-19\",\"2018-09-20\",\"2018-09-21\",\"2018-09-24\",\"2018-09-25\",\"2018-09-26\",\"2018-09-27\",\"2018-09-28\",\"2018-10-01\",\"2018-10-02\",\"2018-10-03\",\"2018-10-04\",\"2018-10-05\",\"2018-10-08\",\"2018-10-09\",\"2018-10-10\",\"2018-10-11\",\"2018-10-15\",\"2018-10-16\",\"2018-10-17\",\"2018-10-18\",\"2018-10-19\",\"2018-10-22\",\"2018-10-23\",\"2018-10-24\",\"2018-10-25\",\"2018-10-26\",\"2018-10-29\",\"2018-10-30\",\"2018-10-31\",\"2018-11-01\",\"2018-11-05\",\"2018-11-06\",\"2018-11-07\",\"2018-11-08\",\"2018-11-09\",\"2018-11-12\",\"2018-11-13\",\"2018-11-14\",\"2018-11-16\",\"2018-11-19\",\"2018-11-21\",\"2018-11-22\",\"2018-11-23\",\"2018-11-26\",\"2018-11-27\",\"2018-11-28\",\"2018-11-29\",\"2018-11-30\",\"2018-12-03\",\"2018-12-04\",\"2018-12-05\",\"2018-12-06\",\"2018-12-07\",\"2018-12-10\",\"2018-12-11\",\"2018-12-12\",\"2018-12-13\",\"2018-12-14\",\"2018-12-17\",\"2018-12-18\",\"2018-12-19\",\"2018-12-20\",\"2018-12-21\",\"2018-12-26\",\"2018-12-27\",\"2018-12-28\",\"2019-01-02\",\"2019-01-03\",\"2019-01-04\",\"2019-01-07\",\"2019-01-08\",\"2019-01-09\",\"2019-01-10\",\"2019-01-11\",\"2019-01-14\",\"2019-01-15\",\"2019-01-16\",\"2019-01-17\",\"2019-01-18\",\"2019-01-21\",\"2019-01-22\",\"2019-01-23\",\"2019-01-24\",\"2019-01-28\",\"2019-01-29\",\"2019-01-30\",\"2019-01-31\",\"2019-02-01\",\"2019-02-04\",\"2019-02-05\",\"2019-02-06\",\"2019-02-07\",\"2019-02-08\",\"2019-02-11\",\"2019-02-12\",\"2019-02-13\",\"2019-02-14\",\"2019-02-15\",\"2019-02-18\",\"2019-02-19\",\"2019-02-20\",\"2019-02-21\",\"2019-02-22\",\"2019-02-25\",\"2019-02-26\",\"2019-02-27\",\"2019-02-28\",\"2019-03-01\",\"2019-03-07\",\"2019-03-08\",\"2019-03-11\",\"2019-03-12\",\"2019-03-13\",\"2019-03-14\",\"2019-03-15\",\"2019-03-18\",\"2019-03-19\",\"2019-03-20\",\"2019-03-21\",\"2019-03-22\",\"2019-03-25\",\"2019-03-26\",\"2019-03-27\",\"2019-03-28\",\"2019-03-29\",\"2019-04-01\",\"2019-04-02\",\"2019-04-03\",\"2019-04-04\",\"2019-04-05\",\"2019-04-08\",\"2019-04-09\",\"2019-04-10\",\"2019-04-11\",\"2019-04-12\",\"2019-04-15\",\"2019-04-16\",\"2019-04-17\",\"2019-04-18\",\"2019-04-22\",\"2019-04-23\",\"2019-04-24\",\"2019-04-25\",\"2019-04-26\",\"2019-04-29\",\"2019-04-30\",\"2019-05-02\",\"2019-05-03\",\"2019-05-06\",\"2019-05-07\",\"2019-05-08\",\"2019-05-09\",\"2019-05-10\",\"2019-05-13\",\"2019-05-14\",\"2019-05-15\",\"2019-05-16\",\"2019-05-17\",\"2019-05-20\",\"2019-05-21\",\"2019-05-22\",\"2019-05-23\",\"2019-05-24\",\"2019-05-27\",\"2019-05-28\",\"2019-05-29\",\"2019-05-30\",\"2019-05-31\",\"2019-06-03\",\"2019-06-04\",\"2019-06-05\",\"2019-06-06\",\"2019-06-07\",\"2019-06-10\",\"2019-06-11\",\"2019-06-12\",\"2019-06-13\",\"2019-06-14\",\"2019-06-17\",\"2019-06-18\",\"2019-06-19\",\"2019-06-21\",\"2019-06-24\",\"2019-06-25\",\"2019-06-26\",\"2019-06-27\",\"2019-06-28\",\"2019-07-01\",\"2019-07-02\",\"2019-07-03\",\"2019-07-04\",\"2019-07-05\",\"2019-07-08\",\"2019-07-10\",\"2019-07-11\",\"2019-07-12\",\"2019-07-15\",\"2019-07-16\",\"2019-07-17\",\"2019-07-18\",\"2019-07-19\",\"2019-07-22\",\"2019-07-23\",\"2019-07-24\",\"2019-07-25\",\"2019-07-26\",\"2019-07-29\",\"2019-07-30\",\"2019-07-31\",\"2019-08-01\",\"2019-08-02\",\"2019-08-05\",\"2019-08-06\",\"2019-08-07\",\"2019-08-08\",\"2019-08-09\",\"2019-08-12\",\"2019-08-13\",\"2019-08-14\",\"2019-08-15\",\"2019-08-16\",\"2019-08-19\",\"2019-08-20\",\"2019-08-21\",\"2019-08-22\",\"2019-08-23\",\"2019-08-26\",\"2019-08-27\",\"2019-08-28\",\"2019-08-29\",\"2019-08-30\",\"2019-09-02\",\"2019-09-03\",\"2019-09-04\",\"2019-09-05\",\"2019-09-06\",\"2019-09-09\",\"2019-09-10\",\"2019-09-11\",\"2019-09-12\",\"2019-09-13\",\"2019-09-16\",\"2019-09-17\",\"2019-09-18\",\"2019-09-19\",\"2019-09-20\",\"2019-09-23\",\"2019-09-24\",\"2019-09-25\",\"2019-09-26\",\"2019-09-27\",\"2019-09-30\",\"2019-10-01\",\"2019-10-02\",\"2019-10-03\",\"2019-10-04\",\"2019-10-07\",\"2019-10-08\",\"2019-10-09\",\"2019-10-10\",\"2019-10-11\",\"2019-10-14\",\"2019-10-15\",\"2019-10-16\",\"2019-10-17\",\"2019-10-18\",\"2019-10-21\",\"2019-10-22\",\"2019-10-23\",\"2019-10-24\",\"2019-10-25\",\"2019-10-28\",\"2019-10-29\",\"2019-10-30\",\"2019-10-31\",\"2019-11-01\",\"2019-11-04\",\"2019-11-05\",\"2019-11-06\",\"2019-11-07\",\"2019-11-08\",\"2019-11-11\",\"2019-11-12\",\"2019-11-13\",\"2019-11-14\",\"2019-11-18\",\"2019-11-19\",\"2019-11-21\",\"2019-11-22\",\"2019-11-25\",\"2019-11-26\",\"2019-11-27\",\"2019-11-28\",\"2019-11-29\",\"2019-12-02\",\"2019-12-03\",\"2019-12-04\",\"2019-12-05\",\"2019-12-06\",\"2019-12-09\",\"2019-12-10\",\"2019-12-11\",\"2019-12-12\",\"2019-12-13\",\"2019-12-16\",\"2019-12-17\",\"2019-12-18\",\"2019-12-19\",\"2019-12-20\",\"2019-12-23\",\"2019-12-26\",\"2019-12-27\",\"2019-12-30\",\"2020-01-02\",\"2020-01-03\",\"2020-01-06\",\"2020-01-07\",\"2020-01-08\",\"2020-01-09\",\"2020-01-10\",\"2020-01-13\",\"2020-01-14\",\"2020-01-15\",\"2020-01-16\",\"2020-01-17\",\"2020-01-20\",\"2020-01-21\",\"2020-01-22\",\"2020-01-23\",\"2020-01-24\",\"2020-01-27\",\"2020-01-28\",\"2020-01-29\",\"2020-01-30\",\"2020-01-31\",\"2020-02-03\",\"2020-02-04\",\"2020-02-05\",\"2020-02-06\",\"2020-02-07\",\"2020-02-10\",\"2020-02-11\",\"2020-02-12\",\"2020-02-13\",\"2020-02-14\",\"2020-02-17\",\"2020-02-18\",\"2020-02-19\",\"2020-02-20\",\"2020-02-21\",\"2020-02-27\",\"2020-02-28\",\"2020-03-02\",\"2020-03-03\",\"2020-03-04\",\"2020-03-05\",\"2020-03-06\",\"2020-03-09\",\"2020-03-10\",\"2020-03-11\",\"2020-03-12\",\"2020-03-13\",\"2020-03-16\",\"2020-03-17\",\"2020-03-18\",\"2020-03-19\",\"2020-03-20\",\"2020-03-23\",\"2020-03-24\",\"2020-03-25\",\"2020-03-26\",\"2020-03-27\",\"2020-03-30\",\"2020-03-31\",\"2020-04-01\",\"2020-04-02\",\"2020-04-03\",\"2020-04-06\",\"2020-04-07\",\"2020-04-08\",\"2020-04-09\",\"2020-04-13\",\"2020-04-14\",\"2020-04-15\",\"2020-04-16\",\"2020-04-17\",\"2020-04-20\",\"2020-04-22\",\"2020-04-23\",\"2020-04-24\",\"2020-04-27\",\"2020-04-28\",\"2020-04-29\",\"2020-04-30\",\"2020-05-04\",\"2020-05-05\",\"2020-05-06\",\"2020-05-07\",\"2020-05-08\",\"2020-05-11\",\"2020-05-12\",\"2020-05-13\",\"2020-05-14\",\"2020-05-15\",\"2020-05-18\",\"2020-05-19\",\"2020-05-20\",\"2020-05-21\",\"2020-05-22\",\"2020-05-25\",\"2020-05-26\",\"2020-05-27\",\"2020-05-28\",\"2020-05-29\",\"2020-06-01\",\"2020-06-02\",\"2020-06-03\",\"2020-06-04\",\"2020-06-05\",\"2020-06-08\",\"2020-06-09\",\"2020-06-10\",\"2020-06-12\",\"2020-06-15\",\"2020-06-16\",\"2020-06-17\",\"2020-06-18\",\"2020-06-19\",\"2020-06-22\",\"2020-06-23\",\"2020-06-24\",\"2020-06-25\",\"2020-06-26\",\"2020-06-29\",\"2020-06-30\",\"2020-07-01\",\"2020-07-02\",\"2020-07-08\",\"2020-07-09\",\"2020-07-10\",\"2020-07-13\",\"2020-07-14\",\"2020-07-15\",\"2020-07-16\",\"2020-07-17\",\"2020-07-20\",\"2020-07-21\",\"2020-07-22\",\"2020-07-23\",\"2020-07-24\",\"2020-07-27\",\"2020-07-28\",\"2020-07-29\",\"2020-07-30\",\"2020-07-31\",\"2020-08-03\",\"2020-08-04\",\"2020-08-05\",\"2020-08-06\",\"2020-08-07\",\"2020-08-10\",\"2020-08-11\",\"2020-08-12\",\"2020-08-13\",\"2020-08-14\",\"2020-08-17\",\"2020-08-18\",\"2020-08-19\",\"2020-08-20\",\"2020-08-21\",\"2020-08-24\",\"2020-08-25\",\"2020-08-26\",\"2020-08-27\",\"2020-08-28\",\"2020-08-31\",\"2020-09-01\",\"2020-09-02\",\"2020-09-03\",\"2020-09-04\",\"2020-09-08\",\"2020-09-09\",\"2020-09-10\",\"2020-09-11\",\"2020-09-14\",\"2020-09-15\",\"2020-09-16\",\"2020-09-17\",\"2020-09-18\",\"2020-09-21\",\"2020-09-22\",\"2020-09-23\",\"2020-09-24\",\"2020-09-28\",\"2020-09-29\",\"2020-09-30\",\"2020-10-01\",\"2020-10-02\",\"2020-10-05\",\"2020-10-06\",\"2020-10-07\",\"2020-10-08\",\"2020-10-09\",\"2020-10-13\",\"2020-10-14\",\"2020-10-15\",\"2020-10-16\",\"2020-10-19\",\"2020-10-20\",\"2020-10-21\",\"2020-10-22\",\"2020-10-23\",\"2020-10-26\",\"2020-10-27\",\"2020-10-28\",\"2020-10-29\",\"2020-10-30\",\"2020-11-03\"],\"y\":[1.0,0.9801100579751674,0.9856115845402245,1.0188320617002686,1.0264494296317073,1.0057130864865194,0.990901470466566,0.9868811055035042,0.9834955817393357,0.9944985541521965,1.0071942480885143,0.9798984980537052,0.9843419828596912,1.011637813611754,1.0181972205013752,1.0008464011203555,0.9985188383980045,1.001692802240711,0.980321698613883,0.9813796596557005,0.9650868013164984,0.9790520969333497,1.00804064920887,1.0107914124913986,1.0131189752137493,1.0008464011203555,1.0139652956168514,0.9978840779163648,0.9934405931103788,1.0184088611400908,1.0450698506932603,1.056072823106121,1.0537452603837703,1.0545916615041258,1.0537452603837703,1.066652594958804,1.0655946339169864,1.0645366728751688,1.0581887451897563,1.0493017755777843,1.0543801015826635,1.0382988031649234,1.0357596805211107,1.0272958307520628,1.0103682119312207,0.9934405931103788,1.005501526565057,1.0040203649630617,0.9989420389581825,1.0025392033610665,1.0351248393222172,1.060093107351929,1.0484553744574288,1.064748232796631,1.0670757955189816,1.0588235863886495,1.064113472314991,1.039145204285279,1.0296233934744137,1.054168460943948,1.0473974134156112,1.074904804089136,1.089716500826343,1.1024121947626608,1.1045281975635497,1.1049513981237273,1.106009359165545,1.1140500083744151,1.1132036072540596,1.1115108050133489,1.1267457023107332,1.1220905768660316,1.1098180834898912,1.1053745986839052,1.1220905768660316,1.143461761210113,1.1633517032349456,1.141768958969402,1.1468472849742815,1.1358443125614208,1.1557342545862535,1.1813373638148588,1.1938214171124613,1.172873514045811,1.1705459513234602,1.1743546756478065,1.1747778762079841,1.1675836281194696,1.1589082184289596,1.165256065397119,1.1762590378099795,1.1529835720209785,1.1411341984877623,1.1286500644729063,1.1330935492788923,1.1199746547823963,1.1214558163843917,1.1053745986839052,1.1140500083744151,1.108548481809358,1.0865425369836363,1.0888700997059875,1.1134151671755217,1.1011426737993812,1.0869657375438144,1.0844266149000015,1.0865425369836363,1.1077020806890023,1.1019890749197367,1.0945831861925066,1.0924672641088715,1.104104997003372,1.0926788240303336,1.1132036072540596,1.1049513981237273,1.1066441196471848,1.1057977185268295,1.1055861586053672,1.0931020245905112,1.1083369218878958,1.089928060747805,1.0888700997059875,1.0842150549785392,1.0901397013865206,1.076809166251309,1.0717309209636834,1.0734236424871408,1.0626323107129956,1.07913672897366,1.089716500826343,1.0939484257108667,1.0867541776223522,1.0901397013865206,1.0740584029687805,1.060304747990645,1.0564960236662988,1.0444350902116204,1.0207364238624417,1.0110029724128609,1.0019043621621728,1.0194668221819085,1.0313161957151247,1.0247567081082498,1.0446466501330827,1.0302581539560534,1.0281422318724183,1.0321625161182266,1.0270842708306007,0.995556515194014,1.0131189752137493,1.0188320617002686,0.9932289524716631,0.9841303422209756,0.9754549325304656,0.970588247164302,0.974185411567186,0.955353430584171,0.9557765504270952,0.9373677700042579,0.9077444572470977,0.9111299810112661,0.9449852186529502,0.9796868574149896,0.9691070855623066,0.9593737148299792,0.9346170067217293,0.9540838289036377,0.9695302861224844,0.9542953888250997,0.9593737148299792,0.9669911634786714,0.9549302300239932,0.9496403440976517,0.9754549325304656,0.9712230883631954,0.9964029163143695,0.9970376767960093,0.9688955256408446,0.9566229515474507,0.9509098650609313,0.9286923603137479,0.9310199230360988,0.9280575998321081,0.9045704934043914,0.9088024182889153,0.9189589895814205,0.9316546835177387,0.9619128374737921,0.9760897737293591,0.9773592946926386,1.0050783260048795,1.0069826881670525,1.0112146130515762,0.9718578488448352,0.9585273137096237,0.9688955256408446,0.9701650466041241,0.9733390104468306,0.9638171996359652,0.9640288402746808,0.9796868574149896,0.9724926093264751,0.9686838850021291,0.9638171996359652,0.9746086121273637,0.9348286473604449,0.9394837728051465,0.986669545582042,0.9771477347711767,0.9828608212576959,0.9633939990757876,0.9471011407365852,0.9506983051394693,0.9686838850021291,0.9591621549085171,0.9568345921861663,0.9614896369136142,0.9710114477244798,0.9750318126875415,0.9881507071840373,0.983072381179158,0.9900550693462105,0.9608548764319745,0.9659332024368539,0.9435040570509547,0.9246720760679397,0.9210749116650558,0.9195937500630603,0.9515447062598248,0.9331358451197338,0.9299619619942812,0.9109183403725505,0.944773658731488,0.9377909705644356,0.9293271207953878,0.9189589895814205,0.9204401511834158,0.9255184771882952,0.9255184771882952,0.9009734097187609,0.8876428745835494,0.8935675209915307,0.9045704934043914,0.8992806074780499,0.8975878052373389,0.8914515989078956,0.8696572140036362,0.8713500162443473,0.8569615200673182,0.8351672158803125,0.832416452597784,0.819297558101288,0.8121033100127735,0.798772774877562,0.8097757472904227,0.7930596883910428,0.7776132311721962,0.7797291532558311,0.7723233452458547,0.7744392673294896,0.779940793894547,0.7712653842040371,0.7930596883910428,0.7913669668675853,0.8292424887550774,0.8315700514774285,0.7939060895113983,0.8125265105729512,0.8383410990057653,0.8326280125192459,0.8286077282734378,0.8082945856884274,0.8195091180227502,0.826280165551087,0.8408803023668316,0.8527295951827943,0.8506136730991591,0.8516716341409767,0.8878544345050116,0.8741007795268758,0.8650021692761882,0.8590774421509533,0.8516716341409767,0.8770631027308665,0.9045704934043914,0.9204401511834158,0.9669911634786714,0.9669911634786714,1.0107914124913986,1.0093102508894032,0.9997884400785378,1.0283537917938803,1.0253914685898897,0.997249317434725,0.9682606844419511,0.9796868574149896,1.0484553744574288,1.0410495664474522,1.0518408982215972,1.0488785750176064,1.0198900227420862,1.0236987470664323,1.0473974134156112,1.0505713772583174,1.0512061377399573,1.0292001929142358,1.0393567642067412,1.001481242319249,1.0021160028008886,0.9906898298278503,0.995556515194014,0.995556515194014,1.0283537917938803,1.0696149181627945,1.089928060747805,1.0770208068900247,1.094159985632329,1.083368653858184,1.1053745986839052,1.0992383116372082,1.085484575941819,1.0653829932782706,1.0901397013865206,1.1187050531018632,1.1187050531018632,1.1034702365217322,1.0988151110770306,1.074904804089136,1.0795599295338376,1.0649598734353465,1.0645366728751688,1.0478206139757889,1.0914093030670537,1.0840034143398236,1.0886585397845252,1.0626323107129956,1.060304747990645,1.0448582907717983,1.0448582907717983,1.034701719479293,1.0215827442655439,1.009733451449581,1.0124841340148558,1.014176936255567,1.0071942480885143,1.0052898859263415,0.9949217547123742,1.0046551254447016,1.0241219476266101,1.0389335636465633,1.0336436777202218,1.0357596805211107,1.0632670711946355,1.0507829371797794,1.0143884961770289,1.0177740199411973,0.9966144762358314,1.0029624039212441,1.0156580978575622,1.01608129841774,1.0300465940345913,1.0442234495729046,1.0277190313122406,1.060304747990645,1.0277190313122406,1.0124841340148558,1.0294118335529516,1.0476089733370733,1.055861263184659,1.073000441926963,1.079348288895122,1.0632670711946355,1.066441035037342,1.066441035037342,1.0907744618681605,1.1066441196471848,1.1121456462122419,1.1195514542222187,1.1343631509594254,1.14155739904794,1.1612357811513105,1.164832864836941,1.1631401433134836,1.162293742193128,1.164832864836941,1.1658908258787586,1.1658908258787586,1.164832864836941,1.1637749037951235,1.1781633999721526,1.164621304915479,1.1510792098588054,1.1699111908418205,1.1811257231761432,1.1811257231761432,1.1821836842179607,1.183453285898494,1.166525667077652,1.1953026594317102,1.1957257792746343,1.2111723172107345,1.2111723172107345,1.2162505624983604,1.2132882392943698,1.2134997992158318,1.185992408542307,1.1849344475004893,1.1828185254168542,1.1862040491810226,1.1840880463801338,1.2029200273631488,1.2037664284835043,1.183453285898494,1.1902243334268308,1.2219636489848797,1.2204824873828843,1.229792657555034,1.233389821957918,1.1862040491810226,1.1999577041591583,1.167371987480754,1.1675836281194696,1.1857808486208448,1.1722387535641712,1.1745662355692685,1.1828185254168542,1.1986881831958787,1.2094795149700237,1.2118070776923744,1.190435893348293,1.1986881831958787,1.2187896851421731,1.1946678182328168,1.1967838210337054,1.2177317241003558,1.2160390025768983,1.2312738191570292,1.2456623153340585,1.2530682040612886,1.2642827363956115,1.2488362791767647,1.254549365663284,1.2674567002383177,1.2860770405826172,1.3087177458899781,1.2972916536341934,1.307025024366521,1.3021583390003573,1.314642473015213,1.309140946450156,1.3116801498112225,1.3142192724550354,1.3180279967793815,1.3309353313544154,1.2981379740372954,1.2687262212015975,1.25899285046927,1.3161236346172085,1.3161236346172085,1.2951756508333048,1.2532797639827506,1.2151926014565428,1.2287346965132164,1.2473551175747695,1.2198477269012444,1.2278882953928612,1.250529000700222,1.2706305833637705,1.2723233856044813,1.256453727825457,1.2611087725529049,1.2875582021846124,1.2524333628623951,1.2695726223219528,1.2230216100266973,1.235294184120091,1.2230216100266973,1.2507406413389377,1.259204410390732,1.265340697437429,1.2393144683658994,1.2113838771321968,1.222810050105235,1.1917054950288262,1.1976301414368073,1.1938214171124613,1.1680068286796474,1.1787981604537925,1.1785866005323302,1.1845112469403116,1.1925518961491817,1.2052475900854998,1.202073706960047,1.2238680111470528,1.2323318609161005,1.2194245263410668,1.2642827363956115,1.2642827363956115,1.2706305833637705,1.2663986584792464,1.2640711764741492,1.2748625082482943,1.2795176336929959,1.3118917097326845,1.3051206622043479,1.3097757876490494,1.3178163561406662,1.3097757876490494,1.3140076318163196,1.323952643187363,1.3499788722588926,1.3523064349812433,1.3584426413106867,1.3544224377821321,1.3173931555804883,1.3201439188630169,1.3269149663913535,1.325645445428074,1.3349556156002236,1.3121032696541468,1.3121032696541468,1.330300490155522,1.32945416975242,1.3539992372219543,1.3685992933204454,1.3764283826078534,1.3933559207114419,1.3880660347851004,1.3842573104607543,1.4039356925641249,1.4153618655371631,1.406686536563907,1.382141388377119,1.3647905689960993,1.3717732571631518,1.3436310252907335,1.3669064910797346,1.3584426413106867,1.3504020728190702,1.325222244867896,1.319720718302839,1.323529442627185,1.3429962648090936,1.327761367511709,1.3565383598657672,1.3419382230500225,1.3163351945386705,1.3290309691922422,1.290308965467141,1.2985611745974732,1.3021583390003573,1.3093525870888718,1.3178163561406662,1.3224714815853675,1.3432078247305557,1.3362252172807567,1.328396127993349,1.3347440556787615,1.3482861507354351,1.323741083265901,1.3118917097326845,1.317604796219204,1.323317882705723,1.3207786793446565,1.3051206622043479,1.2865002411427948,1.317181595659026,1.310833748690867,1.2949640909118427,1.3015234978014638,1.3180279967793815,1.3330512534380505,1.3288193285535266,1.321625080465012,1.3370715376838587,1.366060089959379,1.353364396023061,1.325857005349536,1.3470165490549018,1.3419382230500225,1.357807880829047,1.3796021850160527,1.3827761488587589,1.3952603635908685,1.4022428903234139,1.40605161464776,1.3823530290158348,1.2625899341549005,1.2824799568969867,1.25962761095091,1.2852307201795152,1.2943292497129493,1.2968684530740158,1.310833748690867,1.306390263884881,1.3097757876490494,1.2814219958551691,1.2750740681697565,1.2769784303319294,1.2790944331328182,1.2896742049855012,1.294752450273127,1.2845958789806218,1.2742277477666546,1.2621668143119762,1.2657638979976067,1.267245059599602,1.267245059599602,1.2613204131916207,1.271476984484126,1.2429116327687835,1.2437579531718854,1.2558188866265636,1.250529000700222,1.2750740681697565,1.2642827363956115,1.2685146612801352,1.2716885444055879,1.2892510044253234,1.2926365281894918,1.293906129870025,1.2917901270691363,1.2784595919339248,1.2801523941746358,1.2894625643467854,1.3055438627645255,1.3267034064698915,1.3372831783225745,1.340245501526565,1.3343208551185837,1.3355903760818635,1.3349556156002236,1.327761367511709,1.3231062420670077,1.3315700918360551,1.3432078247305557,1.3290309691922422,1.334109214479868,1.3413034625683826,1.3482861507354351,1.3590775632268337,1.3736775386080713,1.3637325272370282,1.3692340538020853,1.3887007952667403,1.389335717182887,1.3846805917381855,1.3696573350795165,1.3774862629324174,1.3969530043970724,1.398222686794859,1.40541685416612,1.3922980403868779,1.4064748959251911,1.40605161464776,1.4341938465201782,1.4430808161321502,1.4566229111888238,1.4526027076602692,1.4540838692622644,1.4595853958273215,1.4500635042992027,1.4475244623726433,1.4707999281616444,1.4777824548941898,1.476089814087986,1.5012695613219065,1.5012695613219065,1.4961913160342806,1.5220059851843482,1.5256030688699787,1.5292001525556091,1.5228523863047037,1.5476090136957,1.5552264623443923,1.5541684205853212,1.5543800612240368,1.5461278520937047,1.5408379661673632,1.5213712247027082,1.5203131829436372,1.5095217704522386,1.5040204053216886,1.5146001771743716,1.5196784224619972,1.569191838678497,1.5662293540399994,1.5666526353174306,1.555438102983108,1.5490901752976953,1.570884479484701,1.5685569167623503,1.5685569167623503,1.575327964290687,1.5730004015683363,1.5596699471503783,1.5677105156419948,1.5613627493910893,1.5573423844280274,1.5573423844280274,1.5628439109930845,1.566017874835791,1.5457047322507804,1.5524757797791173,1.5308929547963201,1.5186203807029262,1.5080406088502432,1.5080406088502432,1.5086755307663902,1.5190436619803576,1.480533298893972,1.5220059851843482,1.4917478312282946,1.480533298893972,1.4913247113853705,1.4485823426972073,1.4485823426972073,1.4847651430612423,1.500423321636058,1.500423321636058,1.5234871467863433,1.5213712247027082,1.5220059851843482,1.5156580574989356,1.51481165637858,1.5205248235823527,1.486457945301953,1.4684723654392935,1.4741853712085593,1.4923825917099345,1.4811680593756116,1.544223570648785,1.4811680593756116,1.483707262736678,1.490478310265015,1.5107914528500253,1.4892086278672283,1.4811680593756116,1.4801100176165405,1.495344914913925,1.4847651430612423,1.5002116809973425,1.5349133197593818,1.5382987628062967,1.5382987628062967,1.5499365764180508,1.5584004261870985,1.561997509872729,1.561997509872729,1.5890816999860762,1.5933137055878537,1.608125321607807,1.6174355724972103,1.624206620025547,1.6115109260892289,1.5996614718387592,1.6220906979419119,1.6223021771461203,1.6307660269151683,1.6305543862764527,1.6591198994263021,1.652560331102174,1.6593313786305106,1.6682183482424826,1.6485401275736191,1.7103259564490059,1.7103259564490059,1.7488363195353915,1.7304274583953005,1.72683037470967,1.7350825838400024,1.7467203974517562,1.7190012854222623,1.675835796891175,1.7170970039773428,1.691917095308915,1.665256025038492,1.6540414927041693,1.722386889903684,1.725772332950599,1.7321202606360115,1.7549726065820885,1.7570885286657236,1.7721117853243926,1.783537958297431,1.7926365685481185,1.7793059526956536,1.7456623556926851,1.7460854755356094,1.755184085786297,1.754126205461733,1.749682720655747,1.7477782777763204,1.738044907043993,1.7647059773144158,1.776343629491663,1.7668218993980511,1.7592044507493587,1.7365637454419975,1.735294224478718,1.7158273215795559,1.722386889903684,1.7369868652849219,1.7306390990340164,1.7261956142280304,1.7399493499234195,1.713499920291712,1.7143461599775607,1.74418119409069,1.731908619997296,1.7297926979136609,1.722386889903684,1.7429116731274101,1.7338130628767225,1.7016504660412424,1.725772332950599,1.744604313933614,1.74418119409069,1.720270967820049,1.6923403765863463,1.7162506028569873,1.7498941998599555,1.754126205461733,1.750740600980311,1.7498941998599555,1.745239235849761,1.7367753860807131,1.7670335400367667,1.7661871389164112,1.7600508518697142,1.7289462967933054,1.7031316276432378,1.6982650229943277,1.6889547721049243,1.6974186218739722,1.721328848144613,1.7534914449800931,1.7412188708866991,1.7433347929703344,1.7395260686459884,1.7651290971573401,1.7092679146899348,1.6972069812352566,1.675835796891175,1.6927634964292706,1.6557342949448801,1.6388065954067847,1.6388065954067847,1.5380872836020882,1.553110540260757,1.5672873957990705,1.5789252094108246,1.6049513577651007,1.5679221562807104,1.5545917018627524,1.5101566923683856,1.4896319091446595,1.478205736171621,1.4868810651448774,1.4758781734492703,1.4557766715029754,1.4411765346872307,1.4286923199551211,1.4559881507071841,1.4707999281616444,1.4316548045936188,1.4426576962892261,1.4515446659011981,1.4600085156702458,1.4388489719648798,1.4684723654392935,1.4885738673855884,1.4875159870610242,1.5044435251646127,1.5258147095086942,1.5207364642210683,1.5330088768799552,1.5308929547963201,1.5184089014987177,1.5501482170567664,1.566017874835791,1.564748192438004,1.594794867189849,1.57977161053118,1.5795599698924645,1.6038934774405367,1.5922556638287826,1.6187050934604899,1.6371139546005808,1.6212442968215564,1.6320355478784478,1.6381718349251448,1.6176470517014188,1.6178586923401344,1.6282268235541018,1.6644097853526436,1.6555226543061645,1.6396529965271402,1.6148963691361438,1.6072789204874516,1.561574390029805,1.5846382151800902,1.6060093995241718,1.5740584433274074,1.568768557401066,1.552052498501686,1.5590351866687384,1.534278559277742,1.5689801980397815,1.5452814509733492,1.5590351866687384,1.5890816999860762,1.582522293096455,1.6013542740794702,1.560304707632018,1.5683454375581416,1.554803342501468,1.5249683083883387,1.5323741163983153,1.5679221562807104,1.5658062341970753,1.5262378293516186,1.5355480802410217,1.5239102666292677,1.5406263255286476,1.5672873957990705,1.5943715859124177,1.5926787836717067,1.5939484660694936,1.6187050934604899,1.5911976220697115,1.6055861182467406,1.6049513577651007,1.6307660269151683,1.6210326561828408,1.6038934774405367,1.666948827279203,1.6988997834759674,1.690224293068204,1.6811256828175165,1.7697842226020417,1.7562421275453681,1.7082100343653708,1.6959374602719768,1.7024968671615979,1.7477782777763204,1.7503174811373867,1.7503174811373867,1.718578165579338,1.7482015590537516,1.7412188708866991,1.6959374602719768,1.7145578006162763,1.7501058404986711,1.7099026751715747,1.7723234259631082,1.779094473491445,1.8038511008824414,1.821836680745101,1.8044858613640813,1.7898857245483366,1.7477782777763204,1.7460854755356094,1.742488391849979,1.72746513519131,1.7488363195353915,1.8049091426415125,1.7837495989361467,1.7833263176587153,1.7837495989361467,1.756876888027008,1.7422767512112634,1.7877698024647013,1.8197207586614659,1.8277613271530824,1.8275498479488737,1.830088889875433,1.803427981039517,1.8203555191431056,1.8099873879291384,1.7970800533541045,1.7532798043413775,1.7668218993980511,1.7752857491670988,1.7833263176587153,1.7818451560567201,1.761320372832994,1.7668218993980511,1.7456623556926851,1.7439695534519744,1.7443928347294055,1.738044907043993,1.7488363195353915,1.7900973651870522,1.8599239239885623,1.8620398460721976,1.8726196179248804,1.8721964980819563,1.879602306091933,1.911129981011266,1.9132459030949016,1.9123995019745454,1.9299619619942812,1.917266268057963,1.9286924410310016,1.9460432604120212,1.9595853554686948,1.9602201159503347,1.9339823269573428,1.9699534866826622,1.9925941919900236,1.9483708231343717,1.9506983858567226,1.978840456294634,1.988997108304393,1.996614556953085,2.0107914124913986,2.005924807842488,1.931231482957561,1.9255184771882952,1.9403300932082488,1.9253068365495793,1.9561997509872733,1.9593737148299792,1.996191275675654,1.9898435094247484,1.9674144447561028,1.9843419828596913,1.9714346482846579,1.9801101386924205,1.9983073591937959,1.9841303422209755,1.9915363116654596,1.985611503822971,1.9435040570509547,1.927211279429006,1.926576518947366,1.9435040570509547,2.000634921916147,1.9974609580734406,2.01671605889938,2.009098610250688,2.0213711843440816,2.0393567642067407,2.0325857166784047,1.9964029163143695,1.968049205237743,1.9096488194092707,1.911764741492906,1.9447737394487414,1.8641557681558327,1.9259415970312195,1.9426576559305997,1.9540838289036377,1.9430809372080302,1.9289040816697172,1.9650868820337521,1.97968685741499,1.9843419828596913,1.9614896369136148,1.9570461521076281,1.9335590456799114,1.893990802268962,1.9003385685198675,1.9255184771882952,1.9043589334829294,1.9289040816697172,1.9297503213555658,1.9545071101810694,1.9382141711246132,1.9657216425153918,1.9600084753116187,1.9619129181910457,1.9652983612379602,1.950063625375083,1.9593737148299792,1.9384258117633288,1.925095357345371,1.9490055836160118,1.9333475664757034,1.9212866330210245,1.8685992529618187,1.8781211444899375,1.8592891635069224,1.8315700514774285,1.8353787758017746,1.879602306091933,1.9295388421513566,1.9246720760679397,1.913457543733617,1.9096488194092707,1.9360982490409782,1.9646636007563207,1.969107085562307,1.9881507071840374,1.9803216178966294,1.9779942166087856,1.984765264137122,1.9602201159503347,1.9824377014147714,1.9936522337490945,1.9858231444616865,2.019043621621731,2.002962484638498,2.0131189752137493,1.9997885207957917,1.9942869942307344,2.0264494296317075,2.044646650133082,2.078290408570558,2.0801946900154777,2.038933644363817,2.049301775577784,2.053956901022486,2.054803302142841,2.0619974695141026,2.047608973337073,2.115954370536588,2.115954370536588,2.121667376305854,2.1278036633525512,2.1574270568269642,2.14155739904794,2.117012412295659,2.1168007716569437,2.113838448452953,2.116166011175304,2.1307659865565416,2.1074905207675405,2.115954370536588,2.1180702926202235,2.1242065796669203,2.090562982663952,2.0979687906739284,2.1066441196471852,2.097334030192289,2.0732121632829323,2.082733893376544,2.0901397013865206,2.0412612070861678,2.082945534015259,2.095852868590293,2.1235718191852806,2.121032615824214,2.0770208876072784,2.1057977185268295,2.045069931410514,2.0181972205013747,2.034490159557831,2.0264494296317075,2.021582824982797,2.063690271754813,2.038722003725101,1.989420228147317,1.9604317565890503,1.981591300294416,2.0012696823977865,2.0495134162164996,2.065383073995524,2.047397494132865,2.0292002736314894,2.0603048287078987,2.082945534015259,2.0975455093964968,2.1017775149982745,2.0988151917942837,2.1106644846102465,2.1235718191852806,2.107067400924616,2.1117225263693173,2.1320356689543285,2.1292848249545457,2.125264621425991,2.1320356689543285,2.1324587887972526,2.115954370536588,2.1254761006302,2.1462125244926415,2.1421921595295794,2.13732555488067,2.1172238914998682,2.055649703263197,2.0677106367178752,2.0882354199416007,2.04824389525322,2.034490159557831,2.0630555112731734,2.075328085366567,2.1153196100549483,2.1233601785465646,2.1282269446299815,2.145577764011002,2.138171956001025,2.1318240283156125,2.15827345794732,2.1845112469403114,2.1878968514217334,2.179433001652686,2.187262090940094,2.199534503598981,2.1900127735053685,2.2067288324047487,2.184299767736103,2.2063055511273175,2.2139229997760093,2.2147694008963654,2.2079983533680285,2.228311495953039,2.1878968514217334,2.2056707906456774,2.167795188040932,2.166102547234728,2.169911271559074,2.15827345794732,2.1574270568269642,2.1900127735053685,2.2132882392943696,2.205882431284393,2.1887432525420887,2.193821497829715,2.2086331138496678,2.2079983533680285,2.2177317241003562,2.2217520890634175,2.2450275548524186,2.252221883658186,2.262590014872154,2.259204410390732,2.255184206862177,2.258781290547808,2.282056756336809,2.2917901270691368,2.279306073771534,2.2939062105872785,2.330935412071669,2.344900626971267,2.345323746814191,2.3628862068339265,2.3870080737432833,2.3734659786866095,2.35357611737903,2.417266227699336,2.40795613824444,2.382352948298581,2.3749471402886044,2.368810853241908,2.3626747276297175,2.354633997703594,2.392721240947055,2.3977994862346814,2.3736776193253246,2.3772747030109556,2.4143039044953456,2.420863472819474,2.383622630696368,2.4143039044953456,2.4377910109230623,2.4121879824117105,2.3336860946369438,2.376216822686391,2.3461701479345463,2.352729716258674,2.304274341801246,2.3364367772022194,2.3531528361015988,2.3650021289175616,2.347651309536542,2.3137960718948576,2.3019467790788952,2.355057278981025,2.3793906250945906,2.3465934292119774,2.3292426098309575,2.3444775071283424,2.3516716744996033,2.3715616972416895,2.3317816517575176,2.315911993978493,2.099026670998493,2.128650064472906,2.17922136101397,2.1529835720209785,2.181548923736321,2.090351342025236,1.9974609580734406,1.7520102833780977,1.8753703004901556,1.736352104803282,1.483283981459247,1.681972083937872,1.4659331620782272,1.5023276030809776,1.3755819814874979,1.3753703408487823,1.370503574765365,1.293906129870025,1.4261532780285617,1.5177741410170777,1.5778671676517535,1.4858231848203134,1.5234871467863433,1.4674143236802224,1.4426576962892261,1.4733389700882038,1.415573506175879,1.5116378539703808,1.555438102983108,1.6024123158385413,1.584215095337166,1.6028354356814656,1.6261109014704667,1.6091833633668782,1.5854846163004457,1.608125321607807,1.6009311542365459,1.6440964813331262,1.6218790573031963,1.5321626371941068,1.593102064949138,1.6567923367039512,1.6965722207536167,1.6337283501191588,1.6102412436914422,1.6195514945808454,1.6123571657750773,1.5954296276714888,1.6383834755638604,1.6110876448117977,1.586965777902441,1.5901397417451473,1.6134152075341484,1.577655527013038,1.6510791695001785,1.643038601008562,1.6599661391121505,1.6921287359476307,1.6914939754659908,1.7477782777763204,1.744604313933614,1.7917901674277632,1.7699958632407573,1.7805756350934403,1.8055439031231524,1.8573847206274958,1.8910284790649714,1.9109183403725507,1.926576518947366,1.987939066545322,1.966779522839956,1.929115560873926,1.888489275703905,1.8846805513795588,1.9043589334829294,1.9456199791345903,1.9600084753116187,1.9602201159503347,1.9413881349673197,1.9521795474587185,1.920651711104878,1.9549302300239932,1.909014058927631,1.9435040570509547,1.946889661532377,1.9636057204317563,1.9593737148299792,2.0359713211598263,2.018832142417522,2.0385103630863854,2.0112146937688293,2.0440118896514425,2.074270043607496,2.0486670150961444,2.0975455093964968,2.126534142389271,2.122090657583285,2.1239949390282042,2.0820991328949043,2.086119336423459,2.1256877412689157,2.117012412295659,2.147270566251713,2.1436733211315753,2.100931113877919,2.099026670998493,2.0651714333568085,2.0945831861925064,2.119551454222219,2.0911977431455915,2.1062209998042607,2.077867127293127,2.0806179712929085,2.0421076082065235,2.0624207507915338,2.027719112029494,2.078925169052198,2.0524757394204904,2.0666525949588044,2.0651714333568085,2.0842150549785394,2.081041091135833,2.044646650133082,2.0497250568552157,2.079983210811269,2.036606081641466,2.081041091135833,2.076809246968563,2.051629338300135,2.061362709032463,2.04824389525322,2.0630555112731734,2.011003053130114,1.9991537603141516,2.0421076082065235,2.041049566447452,2.029411914270205,2.0391452850025327,2.0025392033610663,1.972281049405013,1.9837072223780514,1.9498519847363673,1.9779942166087856,1.9286924410310016,1.9026661312422184,1.926576518947366,1.9447737394487414,1.90668649620528,1.9589505949870547,1.9498519847363673,1.9506983858567226,1.9917477908696675,1.981591300294416,2.009098610250688,2.0253915493071433,2.019890022742086,2.000423281277431,2.006559568324128,2.0486670150961444,2.05438002086541,2.0730005226442163,2.0617859903098936,2.047608973337073,2.027084351547854,1.9557766311443487,1.9659332831541074,1.9183243098170342,1.9553535113014244],\"type\":\"scatter\"},{\"name\":\"CARTEIRA\",\"x\":[\"2015-01-02\",\"2015-01-05\",\"2015-01-06\",\"2015-01-07\",\"2015-01-08\",\"2015-01-09\",\"2015-01-12\",\"2015-01-13\",\"2015-01-14\",\"2015-01-15\",\"2015-01-16\",\"2015-01-19\",\"2015-01-20\",\"2015-01-21\",\"2015-01-22\",\"2015-01-23\",\"2015-01-26\",\"2015-01-27\",\"2015-01-28\",\"2015-01-29\",\"2015-01-30\",\"2015-02-02\",\"2015-02-03\",\"2015-02-04\",\"2015-02-05\",\"2015-02-06\",\"2015-02-09\",\"2015-02-10\",\"2015-02-11\",\"2015-02-12\",\"2015-02-13\",\"2015-02-18\",\"2015-02-19\",\"2015-02-20\",\"2015-02-23\",\"2015-02-24\",\"2015-02-25\",\"2015-02-26\",\"2015-02-27\",\"2015-03-02\",\"2015-03-03\",\"2015-03-04\",\"2015-03-05\",\"2015-03-06\",\"2015-03-09\",\"2015-03-10\",\"2015-03-11\",\"2015-03-12\",\"2015-03-13\",\"2015-03-16\",\"2015-03-17\",\"2015-03-18\",\"2015-03-19\",\"2015-03-20\",\"2015-03-23\",\"2015-03-24\",\"2015-03-25\",\"2015-03-26\",\"2015-03-27\",\"2015-03-30\",\"2015-03-31\",\"2015-04-01\",\"2015-04-02\",\"2015-04-06\",\"2015-04-07\",\"2015-04-08\",\"2015-04-09\",\"2015-04-10\",\"2015-04-13\",\"2015-04-14\",\"2015-04-15\",\"2015-04-16\",\"2015-04-17\",\"2015-04-20\",\"2015-04-22\",\"2015-04-23\",\"2015-04-24\",\"2015-04-27\",\"2015-04-28\",\"2015-04-29\",\"2015-04-30\",\"2015-05-04\",\"2015-05-05\",\"2015-05-06\",\"2015-05-07\",\"2015-05-08\",\"2015-05-11\",\"2015-05-12\",\"2015-05-13\",\"2015-05-14\",\"2015-05-15\",\"2015-05-18\",\"2015-05-19\",\"2015-05-20\",\"2015-05-21\",\"2015-05-22\",\"2015-05-25\",\"2015-05-26\",\"2015-05-27\",\"2015-05-28\",\"2015-05-29\",\"2015-06-01\",\"2015-06-02\",\"2015-06-03\",\"2015-06-05\",\"2015-06-08\",\"2015-06-09\",\"2015-06-10\",\"2015-06-11\",\"2015-06-12\",\"2015-06-15\",\"2015-06-16\",\"2015-06-17\",\"2015-06-18\",\"2015-06-19\",\"2015-06-22\",\"2015-06-23\",\"2015-06-24\",\"2015-06-25\",\"2015-06-26\",\"2015-06-29\",\"2015-06-30\",\"2015-07-01\",\"2015-07-02\",\"2015-07-03\",\"2015-07-06\",\"2015-07-07\",\"2015-07-08\",\"2015-07-10\",\"2015-07-13\",\"2015-07-14\",\"2015-07-15\",\"2015-07-16\",\"2015-07-17\",\"2015-07-20\",\"2015-07-21\",\"2015-07-22\",\"2015-07-23\",\"2015-07-24\",\"2015-07-27\",\"2015-07-28\",\"2015-07-29\",\"2015-07-30\",\"2015-07-31\",\"2015-08-03\",\"2015-08-04\",\"2015-08-05\",\"2015-08-06\",\"2015-08-07\",\"2015-08-10\",\"2015-08-11\",\"2015-08-12\",\"2015-08-13\",\"2015-08-14\",\"2015-08-17\",\"2015-08-18\",\"2015-08-19\",\"2015-08-20\",\"2015-08-21\",\"2015-08-24\",\"2015-08-25\",\"2015-08-26\",\"2015-08-27\",\"2015-08-28\",\"2015-08-31\",\"2015-09-01\",\"2015-09-02\",\"2015-09-03\",\"2015-09-04\",\"2015-09-08\",\"2015-09-09\",\"2015-09-10\",\"2015-09-11\",\"2015-09-14\",\"2015-09-15\",\"2015-09-16\",\"2015-09-17\",\"2015-09-18\",\"2015-09-21\",\"2015-09-22\",\"2015-09-23\",\"2015-09-24\",\"2015-09-25\",\"2015-09-28\",\"2015-09-29\",\"2015-09-30\",\"2015-10-01\",\"2015-10-02\",\"2015-10-05\",\"2015-10-06\",\"2015-10-07\",\"2015-10-08\",\"2015-10-09\",\"2015-10-13\",\"2015-10-14\",\"2015-10-15\",\"2015-10-16\",\"2015-10-19\",\"2015-10-20\",\"2015-10-21\",\"2015-10-22\",\"2015-10-23\",\"2015-10-26\",\"2015-10-27\",\"2015-10-28\",\"2015-10-29\",\"2015-10-30\",\"2015-11-03\",\"2015-11-04\",\"2015-11-05\",\"2015-11-06\",\"2015-11-09\",\"2015-11-10\",\"2015-11-11\",\"2015-11-12\",\"2015-11-13\",\"2015-11-16\",\"2015-11-17\",\"2015-11-18\",\"2015-11-19\",\"2015-11-23\",\"2015-11-24\",\"2015-11-25\",\"2015-11-26\",\"2015-11-27\",\"2015-11-30\",\"2015-12-01\",\"2015-12-02\",\"2015-12-03\",\"2015-12-04\",\"2015-12-07\",\"2015-12-08\",\"2015-12-09\",\"2015-12-10\",\"2015-12-11\",\"2015-12-14\",\"2015-12-15\",\"2015-12-16\",\"2015-12-17\",\"2015-12-18\",\"2015-12-21\",\"2015-12-22\",\"2015-12-23\",\"2015-12-28\",\"2015-12-29\",\"2015-12-30\",\"2016-01-04\",\"2016-01-05\",\"2016-01-06\",\"2016-01-07\",\"2016-01-08\",\"2016-01-11\",\"2016-01-12\",\"2016-01-13\",\"2016-01-14\",\"2016-01-15\",\"2016-01-18\",\"2016-01-19\",\"2016-01-20\",\"2016-01-21\",\"2016-01-22\",\"2016-01-26\",\"2016-01-27\",\"2016-01-28\",\"2016-01-29\",\"2016-02-01\",\"2016-02-02\",\"2016-02-03\",\"2016-02-04\",\"2016-02-05\",\"2016-02-10\",\"2016-02-11\",\"2016-02-12\",\"2016-02-15\",\"2016-02-16\",\"2016-02-17\",\"2016-02-18\",\"2016-02-19\",\"2016-02-22\",\"2016-02-23\",\"2016-02-24\",\"2016-02-25\",\"2016-02-26\",\"2016-02-29\",\"2016-03-01\",\"2016-03-02\",\"2016-03-03\",\"2016-03-04\",\"2016-03-07\",\"2016-03-08\",\"2016-03-09\",\"2016-03-10\",\"2016-03-11\",\"2016-03-14\",\"2016-03-15\",\"2016-03-16\",\"2016-03-17\",\"2016-03-18\",\"2016-03-21\",\"2016-03-22\",\"2016-03-23\",\"2016-03-24\",\"2016-03-28\",\"2016-03-29\",\"2016-03-30\",\"2016-03-31\",\"2016-04-01\",\"2016-04-04\",\"2016-04-05\",\"2016-04-06\",\"2016-04-07\",\"2016-04-08\",\"2016-04-11\",\"2016-04-12\",\"2016-04-13\",\"2016-04-14\",\"2016-04-15\",\"2016-04-18\",\"2016-04-19\",\"2016-04-20\",\"2016-04-22\",\"2016-04-25\",\"2016-04-26\",\"2016-04-27\",\"2016-04-28\",\"2016-04-29\",\"2016-05-02\",\"2016-05-03\",\"2016-05-04\",\"2016-05-05\",\"2016-05-06\",\"2016-05-09\",\"2016-05-10\",\"2016-05-11\",\"2016-05-12\",\"2016-05-13\",\"2016-05-16\",\"2016-05-17\",\"2016-05-18\",\"2016-05-19\",\"2016-05-20\",\"2016-05-23\",\"2016-05-24\",\"2016-05-25\",\"2016-05-27\",\"2016-05-30\",\"2016-05-31\",\"2016-06-01\",\"2016-06-02\",\"2016-06-03\",\"2016-06-06\",\"2016-06-07\",\"2016-06-08\",\"2016-06-09\",\"2016-06-10\",\"2016-06-13\",\"2016-06-14\",\"2016-06-15\",\"2016-06-16\",\"2016-06-17\",\"2016-06-20\",\"2016-06-21\",\"2016-06-22\",\"2016-06-23\",\"2016-06-24\",\"2016-06-27\",\"2016-06-28\",\"2016-06-29\",\"2016-06-30\",\"2016-07-01\",\"2016-07-04\",\"2016-07-05\",\"2016-07-06\",\"2016-07-07\",\"2016-07-08\",\"2016-07-11\",\"2016-07-12\",\"2016-07-13\",\"2016-07-14\",\"2016-07-15\",\"2016-07-18\",\"2016-07-19\",\"2016-07-20\",\"2016-07-21\",\"2016-07-22\",\"2016-07-25\",\"2016-07-26\",\"2016-07-27\",\"2016-07-28\",\"2016-07-29\",\"2016-08-01\",\"2016-08-02\",\"2016-08-03\",\"2016-08-04\",\"2016-08-05\",\"2016-08-08\",\"2016-08-09\",\"2016-08-10\",\"2016-08-11\",\"2016-08-12\",\"2016-08-15\",\"2016-08-16\",\"2016-08-17\",\"2016-08-18\",\"2016-08-19\",\"2016-08-22\",\"2016-08-23\",\"2016-08-24\",\"2016-08-25\",\"2016-08-26\",\"2016-08-29\",\"2016-08-30\",\"2016-08-31\",\"2016-09-01\",\"2016-09-02\",\"2016-09-05\",\"2016-09-06\",\"2016-09-08\",\"2016-09-09\",\"2016-09-12\",\"2016-09-13\",\"2016-09-14\",\"2016-09-15\",\"2016-09-16\",\"2016-09-19\",\"2016-09-20\",\"2016-09-21\",\"2016-09-22\",\"2016-09-23\",\"2016-09-26\",\"2016-09-27\",\"2016-09-28\",\"2016-09-29\",\"2016-09-30\",\"2016-10-03\",\"2016-10-04\",\"2016-10-05\",\"2016-10-06\",\"2016-10-07\",\"2016-10-10\",\"2016-10-11\",\"2016-10-13\",\"2016-10-14\",\"2016-10-17\",\"2016-10-18\",\"2016-10-19\",\"2016-10-20\",\"2016-10-21\",\"2016-10-24\",\"2016-10-25\",\"2016-10-26\",\"2016-10-27\",\"2016-10-28\",\"2016-10-31\",\"2016-11-01\",\"2016-11-03\",\"2016-11-04\",\"2016-11-07\",\"2016-11-08\",\"2016-11-09\",\"2016-11-10\",\"2016-11-11\",\"2016-11-14\",\"2016-11-16\",\"2016-11-17\",\"2016-11-18\",\"2016-11-21\",\"2016-11-22\",\"2016-11-23\",\"2016-11-24\",\"2016-11-25\",\"2016-11-28\",\"2016-11-29\",\"2016-11-30\",\"2016-12-01\",\"2016-12-02\",\"2016-12-05\",\"2016-12-06\",\"2016-12-07\",\"2016-12-08\",\"2016-12-09\",\"2016-12-12\",\"2016-12-13\",\"2016-12-14\",\"2016-12-15\",\"2016-12-16\",\"2016-12-19\",\"2016-12-20\",\"2016-12-21\",\"2016-12-22\",\"2016-12-23\",\"2016-12-26\",\"2016-12-27\",\"2016-12-28\",\"2016-12-29\",\"2017-01-02\",\"2017-01-03\",\"2017-01-04\",\"2017-01-05\",\"2017-01-06\",\"2017-01-09\",\"2017-01-10\",\"2017-01-11\",\"2017-01-12\",\"2017-01-13\",\"2017-01-16\",\"2017-01-17\",\"2017-01-18\",\"2017-01-19\",\"2017-01-20\",\"2017-01-23\",\"2017-01-24\",\"2017-01-26\",\"2017-01-27\",\"2017-01-30\",\"2017-01-31\",\"2017-02-01\",\"2017-02-02\",\"2017-02-03\",\"2017-02-06\",\"2017-02-07\",\"2017-02-08\",\"2017-02-09\",\"2017-02-10\",\"2017-02-13\",\"2017-02-14\",\"2017-02-15\",\"2017-02-16\",\"2017-02-17\",\"2017-02-20\",\"2017-02-21\",\"2017-02-22\",\"2017-02-23\",\"2017-02-24\",\"2017-03-01\",\"2017-03-02\",\"2017-03-03\",\"2017-03-06\",\"2017-03-07\",\"2017-03-08\",\"2017-03-09\",\"2017-03-10\",\"2017-03-13\",\"2017-03-14\",\"2017-03-15\",\"2017-03-16\",\"2017-03-17\",\"2017-03-20\",\"2017-03-21\",\"2017-03-22\",\"2017-03-23\",\"2017-03-24\",\"2017-03-27\",\"2017-03-28\",\"2017-03-29\",\"2017-03-30\",\"2017-03-31\",\"2017-04-03\",\"2017-04-04\",\"2017-04-05\",\"2017-04-06\",\"2017-04-07\",\"2017-04-10\",\"2017-04-11\",\"2017-04-12\",\"2017-04-13\",\"2017-04-17\",\"2017-04-18\",\"2017-04-19\",\"2017-04-20\",\"2017-04-24\",\"2017-04-25\",\"2017-04-26\",\"2017-04-27\",\"2017-04-28\",\"2017-05-02\",\"2017-05-03\",\"2017-05-04\",\"2017-05-05\",\"2017-05-08\",\"2017-05-09\",\"2017-05-10\",\"2017-05-11\",\"2017-05-12\",\"2017-05-15\",\"2017-05-16\",\"2017-05-17\",\"2017-05-18\",\"2017-05-19\",\"2017-05-22\",\"2017-05-23\",\"2017-05-24\",\"2017-05-25\",\"2017-05-26\",\"2017-05-29\",\"2017-05-30\",\"2017-05-31\",\"2017-06-01\",\"2017-06-02\",\"2017-06-05\",\"2017-06-06\",\"2017-06-07\",\"2017-06-08\",\"2017-06-09\",\"2017-06-12\",\"2017-06-13\",\"2017-06-14\",\"2017-06-15\",\"2017-06-16\",\"2017-06-19\",\"2017-06-20\",\"2017-06-21\",\"2017-06-22\",\"2017-06-23\",\"2017-06-26\",\"2017-06-27\",\"2017-06-28\",\"2017-06-29\",\"2017-06-30\",\"2017-07-03\",\"2017-07-04\",\"2017-07-05\",\"2017-07-06\",\"2017-07-07\",\"2017-07-10\",\"2017-07-11\",\"2017-07-12\",\"2017-07-13\",\"2017-07-14\",\"2017-07-17\",\"2017-07-18\",\"2017-07-19\",\"2017-07-20\",\"2017-07-21\",\"2017-07-24\",\"2017-07-25\",\"2017-07-26\",\"2017-07-27\",\"2017-07-28\",\"2017-07-31\",\"2017-08-01\",\"2017-08-02\",\"2017-08-03\",\"2017-08-04\",\"2017-08-07\",\"2017-08-08\",\"2017-08-09\",\"2017-08-10\",\"2017-08-11\",\"2017-08-14\",\"2017-08-15\",\"2017-08-16\",\"2017-08-17\",\"2017-08-18\",\"2017-08-21\",\"2017-08-22\",\"2017-08-23\",\"2017-08-24\",\"2017-08-25\",\"2017-08-28\",\"2017-08-29\",\"2017-08-30\",\"2017-08-31\",\"2017-09-01\",\"2017-09-04\",\"2017-09-05\",\"2017-09-06\",\"2017-09-07\",\"2017-09-08\",\"2017-09-11\",\"2017-09-12\",\"2017-09-13\",\"2017-09-14\",\"2017-09-15\",\"2017-09-18\",\"2017-09-19\",\"2017-09-20\",\"2017-09-21\",\"2017-09-22\",\"2017-09-25\",\"2017-09-26\",\"2017-09-27\",\"2017-09-28\",\"2017-09-29\",\"2017-10-02\",\"2017-10-03\",\"2017-10-04\",\"2017-10-05\",\"2017-10-06\",\"2017-10-09\",\"2017-10-10\",\"2017-10-11\",\"2017-10-12\",\"2017-10-13\",\"2017-10-16\",\"2017-10-17\",\"2017-10-18\",\"2017-10-19\",\"2017-10-20\",\"2017-10-23\",\"2017-10-24\",\"2017-10-25\",\"2017-10-26\",\"2017-10-27\",\"2017-10-30\",\"2017-10-31\",\"2017-11-01\",\"2017-11-02\",\"2017-11-03\",\"2017-11-06\",\"2017-11-07\",\"2017-11-08\",\"2017-11-09\",\"2017-11-10\",\"2017-11-13\",\"2017-11-14\",\"2017-11-15\",\"2017-11-16\",\"2017-11-17\",\"2017-11-20\",\"2017-11-21\",\"2017-11-22\",\"2017-11-23\",\"2017-11-24\",\"2017-11-27\",\"2017-11-28\",\"2017-11-29\",\"2017-11-30\",\"2017-12-01\",\"2017-12-04\",\"2017-12-05\",\"2017-12-06\",\"2017-12-07\",\"2017-12-08\",\"2017-12-11\",\"2017-12-12\",\"2017-12-13\",\"2017-12-14\",\"2017-12-15\",\"2017-12-18\",\"2017-12-19\",\"2017-12-20\",\"2017-12-21\",\"2017-12-22\",\"2017-12-25\",\"2017-12-26\",\"2017-12-27\",\"2017-12-28\",\"2017-12-29\",\"2018-01-02\",\"2018-01-03\",\"2018-01-04\",\"2018-01-05\",\"2018-01-08\",\"2018-01-09\",\"2018-01-10\",\"2018-01-11\",\"2018-01-12\",\"2018-01-15\",\"2018-01-16\",\"2018-01-17\",\"2018-01-18\",\"2018-01-19\",\"2018-01-22\",\"2018-01-23\",\"2018-01-24\",\"2018-01-25\",\"2018-01-26\",\"2018-01-29\",\"2018-01-30\",\"2018-01-31\",\"2018-02-01\",\"2018-02-02\",\"2018-02-05\",\"2018-02-06\",\"2018-02-07\",\"2018-02-08\",\"2018-02-09\",\"2018-02-15\",\"2018-02-16\",\"2018-02-19\",\"2018-02-20\",\"2018-02-21\",\"2018-02-22\",\"2018-02-23\",\"2018-02-26\",\"2018-02-27\",\"2018-02-28\",\"2018-03-01\",\"2018-03-02\",\"2018-03-05\",\"2018-03-06\",\"2018-03-07\",\"2018-03-08\",\"2018-03-09\",\"2018-03-12\",\"2018-03-13\",\"2018-03-14\",\"2018-03-15\",\"2018-03-16\",\"2018-03-19\",\"2018-03-20\",\"2018-03-21\",\"2018-03-22\",\"2018-03-23\",\"2018-03-26\",\"2018-03-27\",\"2018-03-28\",\"2018-03-29\",\"2018-04-02\",\"2018-04-03\",\"2018-04-04\",\"2018-04-05\",\"2018-04-06\",\"2018-04-09\",\"2018-04-10\",\"2018-04-11\",\"2018-04-12\",\"2018-04-13\",\"2018-04-16\",\"2018-04-17\",\"2018-04-18\",\"2018-04-19\",\"2018-04-20\",\"2018-04-23\",\"2018-04-24\",\"2018-04-25\",\"2018-04-26\",\"2018-04-27\",\"2018-04-30\",\"2018-05-02\",\"2018-05-03\",\"2018-05-04\",\"2018-05-07\",\"2018-05-08\",\"2018-05-09\",\"2018-05-10\",\"2018-05-11\",\"2018-05-14\",\"2018-05-15\",\"2018-05-16\",\"2018-05-17\",\"2018-05-18\",\"2018-05-21\",\"2018-05-22\",\"2018-05-23\",\"2018-05-24\",\"2018-05-25\",\"2018-05-28\",\"2018-05-29\",\"2018-05-30\",\"2018-06-01\",\"2018-06-04\",\"2018-06-05\",\"2018-06-06\",\"2018-06-07\",\"2018-06-08\",\"2018-06-11\",\"2018-06-12\",\"2018-06-13\",\"2018-06-14\",\"2018-06-15\",\"2018-06-18\",\"2018-06-19\",\"2018-06-20\",\"2018-06-21\",\"2018-06-22\",\"2018-06-25\",\"2018-06-26\",\"2018-06-27\",\"2018-06-28\",\"2018-06-29\",\"2018-07-02\",\"2018-07-03\",\"2018-07-04\",\"2018-07-05\",\"2018-07-06\",\"2018-07-10\",\"2018-07-11\",\"2018-07-12\",\"2018-07-13\",\"2018-07-16\",\"2018-07-17\",\"2018-07-18\",\"2018-07-19\",\"2018-07-20\",\"2018-07-23\",\"2018-07-24\",\"2018-07-25\",\"2018-07-26\",\"2018-07-27\",\"2018-07-30\",\"2018-07-31\",\"2018-08-01\",\"2018-08-02\",\"2018-08-03\",\"2018-08-06\",\"2018-08-07\",\"2018-08-08\",\"2018-08-09\",\"2018-08-10\",\"2018-08-13\",\"2018-08-14\",\"2018-08-15\",\"2018-08-16\",\"2018-08-17\",\"2018-08-20\",\"2018-08-21\",\"2018-08-22\",\"2018-08-23\",\"2018-08-24\",\"2018-08-27\",\"2018-08-28\",\"2018-08-29\",\"2018-08-30\",\"2018-08-31\",\"2018-09-03\",\"2018-09-04\",\"2018-09-05\",\"2018-09-06\",\"2018-09-10\",\"2018-09-11\",\"2018-09-12\",\"2018-09-13\",\"2018-09-14\",\"2018-09-17\",\"2018-09-18\",\"2018-09-19\",\"2018-09-20\",\"2018-09-21\",\"2018-09-24\",\"2018-09-25\",\"2018-09-26\",\"2018-09-27\",\"2018-09-28\",\"2018-10-01\",\"2018-10-02\",\"2018-10-03\",\"2018-10-04\",\"2018-10-05\",\"2018-10-08\",\"2018-10-09\",\"2018-10-10\",\"2018-10-11\",\"2018-10-15\",\"2018-10-16\",\"2018-10-17\",\"2018-10-18\",\"2018-10-19\",\"2018-10-22\",\"2018-10-23\",\"2018-10-24\",\"2018-10-25\",\"2018-10-26\",\"2018-10-29\",\"2018-10-30\",\"2018-10-31\",\"2018-11-01\",\"2018-11-05\",\"2018-11-06\",\"2018-11-07\",\"2018-11-08\",\"2018-11-09\",\"2018-11-12\",\"2018-11-13\",\"2018-11-14\",\"2018-11-16\",\"2018-11-19\",\"2018-11-21\",\"2018-11-22\",\"2018-11-23\",\"2018-11-26\",\"2018-11-27\",\"2018-11-28\",\"2018-11-29\",\"2018-11-30\",\"2018-12-03\",\"2018-12-04\",\"2018-12-05\",\"2018-12-06\",\"2018-12-07\",\"2018-12-10\",\"2018-12-11\",\"2018-12-12\",\"2018-12-13\",\"2018-12-14\",\"2018-12-17\",\"2018-12-18\",\"2018-12-19\",\"2018-12-20\",\"2018-12-21\",\"2018-12-26\",\"2018-12-27\",\"2018-12-28\",\"2019-01-02\",\"2019-01-03\",\"2019-01-04\",\"2019-01-07\",\"2019-01-08\",\"2019-01-09\",\"2019-01-10\",\"2019-01-11\",\"2019-01-14\",\"2019-01-15\",\"2019-01-16\",\"2019-01-17\",\"2019-01-18\",\"2019-01-21\",\"2019-01-22\",\"2019-01-23\",\"2019-01-24\",\"2019-01-28\",\"2019-01-29\",\"2019-01-30\",\"2019-01-31\",\"2019-02-01\",\"2019-02-04\",\"2019-02-05\",\"2019-02-06\",\"2019-02-07\",\"2019-02-08\",\"2019-02-11\",\"2019-02-12\",\"2019-02-13\",\"2019-02-14\",\"2019-02-15\",\"2019-02-18\",\"2019-02-19\",\"2019-02-20\",\"2019-02-21\",\"2019-02-22\",\"2019-02-25\",\"2019-02-26\",\"2019-02-27\",\"2019-02-28\",\"2019-03-01\",\"2019-03-07\",\"2019-03-08\",\"2019-03-11\",\"2019-03-12\",\"2019-03-13\",\"2019-03-14\",\"2019-03-15\",\"2019-03-18\",\"2019-03-19\",\"2019-03-20\",\"2019-03-21\",\"2019-03-22\",\"2019-03-25\",\"2019-03-26\",\"2019-03-27\",\"2019-03-28\",\"2019-03-29\",\"2019-04-01\",\"2019-04-02\",\"2019-04-03\",\"2019-04-04\",\"2019-04-05\",\"2019-04-08\",\"2019-04-09\",\"2019-04-10\",\"2019-04-11\",\"2019-04-12\",\"2019-04-15\",\"2019-04-16\",\"2019-04-17\",\"2019-04-18\",\"2019-04-22\",\"2019-04-23\",\"2019-04-24\",\"2019-04-25\",\"2019-04-26\",\"2019-04-29\",\"2019-04-30\",\"2019-05-02\",\"2019-05-03\",\"2019-05-06\",\"2019-05-07\",\"2019-05-08\",\"2019-05-09\",\"2019-05-10\",\"2019-05-13\",\"2019-05-14\",\"2019-05-15\",\"2019-05-16\",\"2019-05-17\",\"2019-05-20\",\"2019-05-21\",\"2019-05-22\",\"2019-05-23\",\"2019-05-24\",\"2019-05-27\",\"2019-05-28\",\"2019-05-29\",\"2019-05-30\",\"2019-05-31\",\"2019-06-03\",\"2019-06-04\",\"2019-06-05\",\"2019-06-06\",\"2019-06-07\",\"2019-06-10\",\"2019-06-11\",\"2019-06-12\",\"2019-06-13\",\"2019-06-14\",\"2019-06-17\",\"2019-06-18\",\"2019-06-19\",\"2019-06-21\",\"2019-06-24\",\"2019-06-25\",\"2019-06-26\",\"2019-06-27\",\"2019-06-28\",\"2019-07-01\",\"2019-07-02\",\"2019-07-03\",\"2019-07-04\",\"2019-07-05\",\"2019-07-08\",\"2019-07-10\",\"2019-07-11\",\"2019-07-12\",\"2019-07-15\",\"2019-07-16\",\"2019-07-17\",\"2019-07-18\",\"2019-07-19\",\"2019-07-22\",\"2019-07-23\",\"2019-07-24\",\"2019-07-25\",\"2019-07-26\",\"2019-07-29\",\"2019-07-30\",\"2019-07-31\",\"2019-08-01\",\"2019-08-02\",\"2019-08-05\",\"2019-08-06\",\"2019-08-07\",\"2019-08-08\",\"2019-08-09\",\"2019-08-12\",\"2019-08-13\",\"2019-08-14\",\"2019-08-15\",\"2019-08-16\",\"2019-08-19\",\"2019-08-20\",\"2019-08-21\",\"2019-08-22\",\"2019-08-23\",\"2019-08-26\",\"2019-08-27\",\"2019-08-28\",\"2019-08-29\",\"2019-08-30\",\"2019-09-02\",\"2019-09-03\",\"2019-09-04\",\"2019-09-05\",\"2019-09-06\",\"2019-09-09\",\"2019-09-10\",\"2019-09-11\",\"2019-09-12\",\"2019-09-13\",\"2019-09-16\",\"2019-09-17\",\"2019-09-18\",\"2019-09-19\",\"2019-09-20\",\"2019-09-23\",\"2019-09-24\",\"2019-09-25\",\"2019-09-26\",\"2019-09-27\",\"2019-09-30\",\"2019-10-01\",\"2019-10-02\",\"2019-10-03\",\"2019-10-04\",\"2019-10-07\",\"2019-10-08\",\"2019-10-09\",\"2019-10-10\",\"2019-10-11\",\"2019-10-14\",\"2019-10-15\",\"2019-10-16\",\"2019-10-17\",\"2019-10-18\",\"2019-10-21\",\"2019-10-22\",\"2019-10-23\",\"2019-10-24\",\"2019-10-25\",\"2019-10-28\",\"2019-10-29\",\"2019-10-30\",\"2019-10-31\",\"2019-11-01\",\"2019-11-04\",\"2019-11-05\",\"2019-11-06\",\"2019-11-07\",\"2019-11-08\",\"2019-11-11\",\"2019-11-12\",\"2019-11-13\",\"2019-11-14\",\"2019-11-18\",\"2019-11-19\",\"2019-11-21\",\"2019-11-22\",\"2019-11-25\",\"2019-11-26\",\"2019-11-27\",\"2019-11-28\",\"2019-11-29\",\"2019-12-02\",\"2019-12-03\",\"2019-12-04\",\"2019-12-05\",\"2019-12-06\",\"2019-12-09\",\"2019-12-10\",\"2019-12-11\",\"2019-12-12\",\"2019-12-13\",\"2019-12-16\",\"2019-12-17\",\"2019-12-18\",\"2019-12-19\",\"2019-12-20\",\"2019-12-23\",\"2019-12-26\",\"2019-12-27\",\"2019-12-30\",\"2020-01-02\",\"2020-01-03\",\"2020-01-06\",\"2020-01-07\",\"2020-01-08\",\"2020-01-09\",\"2020-01-10\",\"2020-01-13\",\"2020-01-14\",\"2020-01-15\",\"2020-01-16\",\"2020-01-17\",\"2020-01-20\",\"2020-01-21\",\"2020-01-22\",\"2020-01-23\",\"2020-01-24\",\"2020-01-27\",\"2020-01-28\",\"2020-01-29\",\"2020-01-30\",\"2020-01-31\",\"2020-02-03\",\"2020-02-04\",\"2020-02-05\",\"2020-02-06\",\"2020-02-07\",\"2020-02-10\",\"2020-02-11\",\"2020-02-12\",\"2020-02-13\",\"2020-02-14\",\"2020-02-17\",\"2020-02-18\",\"2020-02-19\",\"2020-02-20\",\"2020-02-21\",\"2020-02-27\",\"2020-02-28\",\"2020-03-02\",\"2020-03-03\",\"2020-03-04\",\"2020-03-05\",\"2020-03-06\",\"2020-03-09\",\"2020-03-10\",\"2020-03-11\",\"2020-03-12\",\"2020-03-13\",\"2020-03-16\",\"2020-03-17\",\"2020-03-18\",\"2020-03-19\",\"2020-03-20\",\"2020-03-23\",\"2020-03-24\",\"2020-03-25\",\"2020-03-26\",\"2020-03-27\",\"2020-03-30\",\"2020-03-31\",\"2020-04-01\",\"2020-04-02\",\"2020-04-03\",\"2020-04-06\",\"2020-04-07\",\"2020-04-08\",\"2020-04-09\",\"2020-04-13\",\"2020-04-14\",\"2020-04-15\",\"2020-04-16\",\"2020-04-17\",\"2020-04-20\",\"2020-04-22\",\"2020-04-23\",\"2020-04-24\",\"2020-04-27\",\"2020-04-28\",\"2020-04-29\",\"2020-04-30\",\"2020-05-04\",\"2020-05-05\",\"2020-05-06\",\"2020-05-07\",\"2020-05-08\",\"2020-05-11\",\"2020-05-12\",\"2020-05-13\",\"2020-05-14\",\"2020-05-15\",\"2020-05-18\",\"2020-05-19\",\"2020-05-20\",\"2020-05-21\",\"2020-05-22\",\"2020-05-25\",\"2020-05-26\",\"2020-05-27\",\"2020-05-28\",\"2020-05-29\",\"2020-06-01\",\"2020-06-02\",\"2020-06-03\",\"2020-06-04\",\"2020-06-05\",\"2020-06-08\",\"2020-06-09\",\"2020-06-10\",\"2020-06-12\",\"2020-06-15\",\"2020-06-16\",\"2020-06-17\",\"2020-06-18\",\"2020-06-19\",\"2020-06-22\",\"2020-06-23\",\"2020-06-24\",\"2020-06-25\",\"2020-06-26\",\"2020-06-29\",\"2020-06-30\",\"2020-07-01\",\"2020-07-02\",\"2020-07-08\",\"2020-07-09\",\"2020-07-10\",\"2020-07-13\",\"2020-07-14\",\"2020-07-15\",\"2020-07-16\",\"2020-07-17\",\"2020-07-20\",\"2020-07-21\",\"2020-07-22\",\"2020-07-23\",\"2020-07-24\",\"2020-07-27\",\"2020-07-28\",\"2020-07-29\",\"2020-07-30\",\"2020-07-31\",\"2020-08-03\",\"2020-08-04\",\"2020-08-05\",\"2020-08-06\",\"2020-08-07\",\"2020-08-10\",\"2020-08-11\",\"2020-08-12\",\"2020-08-13\",\"2020-08-14\",\"2020-08-17\",\"2020-08-18\",\"2020-08-19\",\"2020-08-20\",\"2020-08-21\",\"2020-08-24\",\"2020-08-25\",\"2020-08-26\",\"2020-08-27\",\"2020-08-28\",\"2020-08-31\",\"2020-09-01\",\"2020-09-02\",\"2020-09-03\",\"2020-09-04\",\"2020-09-08\",\"2020-09-09\",\"2020-09-10\",\"2020-09-11\",\"2020-09-14\",\"2020-09-15\",\"2020-09-16\",\"2020-09-17\",\"2020-09-18\",\"2020-09-21\",\"2020-09-22\",\"2020-09-23\",\"2020-09-24\",\"2020-09-28\",\"2020-09-29\",\"2020-09-30\",\"2020-10-01\",\"2020-10-02\",\"2020-10-05\",\"2020-10-06\",\"2020-10-07\",\"2020-10-08\",\"2020-10-09\",\"2020-10-13\",\"2020-10-14\",\"2020-10-15\",\"2020-10-16\",\"2020-10-19\",\"2020-10-20\",\"2020-10-21\",\"2020-10-22\",\"2020-10-23\",\"2020-10-26\",\"2020-10-27\",\"2020-10-28\",\"2020-10-29\",\"2020-10-30\",\"2020-11-03\"],\"y\":[1.0,0.9944761975752499,0.9788536423816104,0.9714915253347405,0.9668036774727001,0.9521073843458258,0.9596996695289797,0.9498802214470722,0.9480659997427722,0.9505268911699414,0.9715178522214085,0.9486487701134223,0.936857064356623,0.9456278767311176,0.9564489500000116,0.9542212934248134,0.933897143893498,0.9248562787180337,0.9147225674016777,0.9274480967709522,0.9074986609476289,0.9126556028484444,0.9227851584969253,0.919097676327174,0.9243026445134147,0.9145202536892556,0.9169539603944799,0.9237989595818454,0.9041971134165209,0.9117912288654964,0.9187560621203913,0.9197393298284018,0.928865653095771,0.9211664479397369,0.9126417860504189,0.9262556106906852,0.9158360581909083,0.9128796291966148,0.8769565747232935,0.8706510569817155,0.8677853745022084,0.8571079001184048,0.8538865475548876,0.8433936854355684,0.8233634745840421,0.82532336861709,0.8358570760577836,0.8417265611965092,0.8218714253044871,0.809215620053385,0.8082577749271473,0.8218012212113779,0.8288809652622717,0.8353156116826093,0.8393462053036643,0.8277795211468731,0.8338153519801613,0.8224228718239115,0.8255036604784014,0.8268879765261605,0.8392443830713185,0.8362799935895611,0.8528341192370259,0.8627127719922454,0.861681946696794,0.8653705249905128,0.8655023994002615,0.8618156320915895,0.8625289991292873,0.8759069718444318,0.8777983446906201,0.8659151739580639,0.8603144889307517,0.8672803249433606,0.8799170364174959,0.886745519089289,0.9051580471882454,0.9059957744257015,0.8845648940282048,0.8733248535803501,0.8673172018246346,0.8984852859500915,0.9113445466761465,0.9118370135866908,0.9141484553569288,0.9026276550818852,0.8934512253080443,0.8949603883946349,0.8934734083197972,0.907304754486501,0.9278672832800726,0.9245729624784523,0.9157492151453489,0.9055237793031031,0.9161659346604367,0.9268655251489502,0.9279069467740942,0.9049311518679193,0.9090257632921949,0.9088357185148908,0.9052563208152415,0.9095791729511762,0.9242212220617982,0.9210569152584146,0.9198502339492289,0.905252917411639,0.9019086146355638,0.9084492206357092,0.9091160097204606,0.8991806466769535,0.8834769661327299,0.8847889556060583,0.8850476218944257,0.8942831396272073,0.9047621220296322,0.9066715861056363,0.9064770210340765,0.900671829418745,0.8925580033332746,0.9123047813400543,0.8969652426377509,0.9052249656673705,0.9038712951860767,0.898553053365762,0.903944853344103,0.8917420624604866,0.8841291869587835,0.8694420449764841,0.8709340875944338,0.8889519152056353,0.9024039116679013,0.8935382087869137,0.8906026446716228,0.8774720544313173,0.8665393463041411,0.8768783961309474,0.8739535565297739,0.8784112904097128,0.8592918597444813,0.8498396736795876,0.8339347008328465,0.824793181191707,0.8162897031224873,0.8609187430759299,0.843535736764872,0.8494676333588034,0.8435500792411583,0.8267083945594079,0.8136933797505543,0.8189699359034618,0.8200534552850398,0.8014899569553361,0.7922792756101551,0.7754004285551004,0.7756345937738318,0.7851154773088674,0.7704027896368862,0.7544083444207149,0.7465410846321863,0.7320836795203123,0.7268182207852201,0.7375641523419114,0.7437414168765084,0.7479901294219597,0.7368756925648652,0.7100763015953312,0.7136200283694091,0.7313869963640053,0.7227003733803864,0.7282546448070242,0.7238289419165105,0.704988459967206,0.7026469435568975,0.7025328306202775,0.7035524231424789,0.7226141319758488,0.7214458079434641,0.7123784767748234,0.6920320694664392,0.680207975717267,0.6663842923639839,0.6598251278184417,0.6493578138373873,0.6388469733760453,0.6336464330997131,0.647895169875945,0.6433053196697198,0.6563227707371283,0.6689679063469711,0.6724206557428467,0.685428104949857,0.6839033246919868,0.696950827962222,0.6832702051566584,0.6754265071652001,0.6840038591579835,0.6797738251422075,0.6899723133285534,0.7002346656840539,0.6808000538802015,0.6942731990822877,0.6900070511267298,0.6755953706855161,0.6741752983906406,0.6672622995592066,0.6514946258851698,0.6569726999427705,0.6748451982393788,0.6720680177621935,0.6954409927635933,0.6795353659060841,0.6778102963039566,0.6674650334861717,0.6691326217316924,0.6643765205949201,0.6582677422086368,0.6530749762565309,0.661200197652434,0.6555473999461917,0.6590805889902465,0.6653597197126306,0.6654423184020122,0.6678935269485005,0.6784169351066822,0.6694460790719174,0.6410915586959165,0.6532459717391993,0.6585950591558841,0.6732106108987294,0.6457081596512417,0.6543103700233749,0.6345154434894662,0.6337353399739462,0.6305955273871736,0.6383931806664664,0.6228095028838574,0.6192990709029876,0.6225792903969499,0.6324057406521829,0.6190348360165949,0.6023257390323007,0.6063249333370189,0.6173466825705045,0.6298803922038838,0.6419672722120028,0.637989378881924,0.6188390924397946,0.62556030187597,0.611919833190602,0.591978989738259,0.5911210599674069,0.578320517814692,0.5900003857681805,0.5786406500139625,0.5808160638942137,0.5714427953609452,0.5723373252691493,0.5763282147398525,0.568684382369711,0.5735776268481607,0.5793338051518284,0.5668671436521127,0.5879533438437827,0.5874180787611654,0.614154413376576,0.6188232446917554,0.6017989372516417,0.5993194262492509,0.6069680652126619,0.5980649661583779,0.5832048927013029,0.5652589196874805,0.5803523157421496,0.5740297139537965,0.5857901042370747,0.5771676740644583,0.597739576883134,0.5994121478947406,0.6170848104061541,0.6200526581839263,0.5914434650844825,0.5889958647898004,0.5993978885712004,0.6177573039741159,0.6321098970824607,0.6576754594250165,0.6807106412493534,0.68961727377174,0.6960440761131141,0.6999779064297889,0.693382721125084,0.7062630298625231,0.7078780301871448,0.7035174605338107,0.6782944367738833,0.689155559156287,0.7071781842116762,0.70915262568362,0.7176052128010177,0.7210323224347934,0.7040442004774137,0.6969157504002912,0.7094094699073292,0.7193002936566655,0.7110054795667764,0.6900205213735904,0.6997780461232156,0.687147377426518,0.6876572010024266,0.6872859261778017,0.6977816881752311,0.7095067446240361,0.7090618504341057,0.7187401073116061,0.7117158119612421,0.7060206479697525,0.720884844637363,0.7209843490792671,0.729290697368624,0.727158276064753,0.7277112298164259,0.7230269384246796,0.7353676128191795,0.7526632705680547,0.7472473525939346,0.7447218424774469,0.7612671016797676,0.7503277919476659,0.7470755102192466,0.7266253997778783,0.7470035972901712,0.7533786455193677,0.7752926796693147,0.7721643668297865,0.7962940413928798,0.7785870920204798,0.7814849581549981,0.7736248282808349,0.7768834835042796,0.766107770285986,0.7659190103326265,0.7525645262220353,0.7642229416030023,0.7646330196397714,0.7725835449725066,0.7726842836852229,0.780866739346133,0.7785075215260103,0.7799447409912796,0.798357831784752,0.7967054520358772,0.800843184172028,0.8054052573534302,0.8022201779557699,0.7862533878370397,0.7800506841351451,0.762795452276427,0.7743405977831602,0.7773522801903854,0.780601208227908,0.7854284608334037,0.7987877542311967,0.8022148063041101,0.8182460768838341,0.7987168185680771,0.7897568235893162,0.8018740720913431,0.8169615760507991,0.8254642485804297,0.8262197958151063,0.8291197333402625,0.8234618720132358,0.822933382071049,0.8392667476684977,0.8495590036648244,0.8483024356649059,0.8614426653134627,0.870994111452833,0.8950840092328892,0.8947768034234838,0.9160413985303301,0.9230170408370881,0.9192561946347453,0.9285206736060948,0.9292887754729164,0.9251746830154272,0.9358153501146204,0.9281983221069947,0.8797725712111852,0.8891290448771126,0.8967738114758943,0.8825753601625437,0.8852022903617003,0.9137910254784203,0.9336658703047307,0.9272982095821988,0.9382997102804221,0.9424749793043844,0.9772728937723155,0.9898667935496194,0.9835494388675949,0.9820894984559752,0.9935413619407522,0.9856330774352864,0.9802055518939078,0.96108616116992,0.9742297730189982,0.9572834772880354,0.9581185752707941,0.9574454896067197,0.9716885385470556,0.9696277000869055,0.9651440200961956,0.9716579783673177,1.0018072740742987,1.0062906303381252,1.0233952155224604,1.0316855441346777,0.9994100105691226,1.0086832473448992,0.9809737353858271,0.9797239564183673,0.9977521801842976,0.9872006289947539,0.9926444405690905,1.0056381883606493,1.0296387979504729,1.0548154535682834,1.042715822270595,1.0289673826091263,1.0471187813949767,1.0623121209789672,1.054977150880681,1.0554849954540282,1.0801855956383328,1.0844707556185291,1.0927802653089498,1.105587054842115,1.1113585382509394,1.133851667374032,1.1138229306831127,1.1054049402635286,1.1117870511681154,1.113011865260888,1.128110077566025,1.1255574502273105,1.1269278762693555,1.1339939049666632,1.1501102689766083,1.0905493690849184,1.0415897230804323,1.1154088168497354,1.0983394809320888,1.1278657535992402,1.1032318373523333,1.0924665908407758,1.0889613780952325,1.1184893946462282,1.1251299678184634,1.119686134117518,1.0757412415477654,1.0518771688949897,1.0375120089813001,1.0458259659667357,1.0475780877655303,1.049194428384666,1.0538358731208866,1.0512646868531856,1.0536561788476102,1.0469358190410696,1.0446936771663196,1.0507737444729195,1.053343663228244,1.0567094381090187,1.0128214281699672,1.005867199566207,0.9982399309725288,1.0298445544543235,1.0378226234495929,1.0520289918788641,1.0540477812076077,1.0307651536615399,1.0443727607489557,1.0267821156998589,1.0360096004269777,1.0438741847570763,1.0252912956668692,1.0131172696188349,1.0247911352150427,1.018298045032867,1.0296896793919306,1.032933996758895,1.0430362701167013,1.0556463242883445,1.0653586093598013,1.0322683956764174,1.0618732095675705,1.0517178447093818,1.0735345242498915,1.0649431832628706,1.0520586032597623,1.056085243440194,1.059115808878968,1.0975455110312502,1.113790560875836,1.1012230744514258,1.1120360566740985,1.111442351729739,1.1004196719103267,1.1650080717133426,1.186764768628726,1.2136252442625888,1.2151138930982852,1.199885679585441,1.171037638280404,1.2075016922890027,1.201090602959503,1.208715235050448,1.2185043214491404,1.2500526892949764,1.2591533921627263,1.2538947744062807,1.2628862649547723,1.2689887540312463,1.3264745899347767,1.3145068676171583,1.3587186135397382,1.3622143545593255,1.3905572764039815,1.4498630946163213,1.4972713755393159,1.5054150184839834,1.542010791665351,1.5489754172479686,1.5900872206652266,1.5353168544801066,1.534597613624056,1.5425189486604096,1.512782495037634,1.46840095179428,1.4960103776052631,1.4643668898576712,1.4548809068992856,1.4614733975531593,1.4853148434498427,1.5495769355405076,1.5037537913483652,1.5378207454101591,1.4792697799747223,1.4657395451891284,1.4987126379117894,1.4709031292344261,1.4690880057053497,1.4562144910661439,1.479148593157045,1.4764854143172668,1.4668341506995657,1.4909407007820876,1.5014554581566537,1.514879176642283,1.5190575133425583,1.5122610046868008,1.5003432387544506,1.5179814518583081,1.4878692198748447,1.4652743096376626,1.5506048567586774,1.5753504827082603,1.5998908326681003,1.627490978303791,1.6142693196438362,1.6082037094800454,1.6257659050252298,1.6551085268962762,1.6741199546639134,1.7140744614045083,1.7292576078944468,1.718823627880213,1.8293198613031485,1.8516296583844654,1.8850186499503252,1.9208217765873337,1.8622345932459237,1.871323710784187,1.8974279629031963,1.933861878686636,1.9178981009581988,1.6848063982238866,1.7378319637664184,1.6159538799842952,1.6968479895921487,1.7409474303675718,1.7425678252942636,1.7879169174572176,1.7879169174572176,1.8095760588811263,1.756445373941694,1.7401908302028584,1.727197959228069,1.7082817701485795,1.7179204702734032,1.7806542675057948,1.8169036026041945,1.7983293173760262,1.7727940210715853,1.8094485903666289,1.8175381554241963,1.8175381554241963,1.8293045308518088,1.8316367581931583,1.7809170278932662,1.7559480337759577,1.7346548734595366,1.7530009905210377,1.7879236589019278,1.7540115056665542,1.724638640134118,1.7463803614736773,1.7843414048091766,1.8032269886280452,1.8071082624624495,1.824506619219531,1.8261516750787812,1.9164927479631053,1.970078372932747,1.991112812121904,2.0371002476272335,2.0065485696811782,2.053332653320176,2.1003807355342268,2.1548386915608035,2.156347103356381,2.1748323495619406,2.1254186118366376,2.1247588597998046,2.16500408374048,2.1535720146096624,2.166377323370626,2.2211788628787312,2.2332100999268145,2.2440338069726447,2.26488893727255,2.262237767274393,2.341451167110717,2.368118550332678,2.34384845940304,2.391105579601765,2.3509291172231928,2.4047438533805408,2.515117102270317,2.5439774244602367,2.6625808050515736,2.538268482690476,2.5698852905144594,2.635789560727406,2.624398131664156,2.6157462751970253,2.6753463822325596,2.676540777110925,2.7315211188078865,2.7368891822729333,2.8124967000141794,2.9990768831304893,3.000817798256743,3.192396244385442,3.3272779096011966,3.424064036013159,3.424064036013159,3.2459290211107508,3.2631827071883692,3.00882842136833,3.126216505657419,3.4051049302448675,3.446892763773351,3.4046940040412195,3.3352739655375827,3.235437973143705,3.249616921138574,3.2163007864701925,3.1005049283626116,3.14491815259035,2.96366655453018,3.04467841921496,3.161931996013684,3.2554235658819457,3.317405114434986,3.343567725269471,3.3297864165344024,3.3758798812344084,3.3206845751965566,3.384314644629238,3.323457717252828,3.323457717252828,3.2118547304935774,3.100068683501931,2.9413692404751695,3.1554249279665725,3.1358422728716433,3.221959367244614,3.1081012791887055,3.114859355845008,3.1074071793237814,2.9871398798082285,2.957683880426514,2.9080635245776354,2.922999304057116,3.022457756330005,3.022457756330005,2.8551809069909484,2.7338764844287544,2.5656370109046867,2.709763491748374,2.5917138276286398,2.492987448101049,2.547999195336444,2.636185235865533,2.636185235865533,2.743779561854759,2.827702707035617,2.827702707035617,2.9057229030267977,2.9046293639663032,2.856700202176108,2.9335280302270563,2.879459961726263,2.8546709760958087,2.8255023010163685,2.770651427603967,2.808125756604701,2.810797902603858,2.8082491619595253,2.8327647008047134,2.9832936462670583,3.138419327450605,3.1188117622322222,3.122545503876929,3.093001597446441,3.104967639158697,3.1337228465600613,3.1175543405809245,3.0472741249950497,3.1309035828013205,3.2353205836751955,3.251528351846212,3.251528351846212,3.3281011328209793,3.3859785460583383,3.4666200458429666,3.4666200458429666,3.4812224956135602,3.446798290929288,3.5059585120600447,3.466302774810169,3.4668247344417447,3.4235057939549427,3.437398349851297,3.4484060775184013,3.442263331483706,3.48249722928324,3.49269504263344,3.503529651834403,3.4724703802552397,3.4595762765476485,3.461894148441349,3.388368146128127,3.598682196622279,3.598682196622279,3.687441726599764,3.722314000491013,3.710308186235339,3.726450433902593,3.7781542501837735,3.6892633460907143,3.582334968374988,3.6328435418826066,3.5446423293144718,3.4458492592760606,3.362396614339384,3.5479590743386034,3.529153478035586,3.636983960512558,3.666879692661154,3.568203849559656,3.6359631950392055,3.824786762771473,4.027332078057469,3.9419100328692287,3.9137929296878022,3.944704979868245,3.945818461455365,3.8625319024573264,3.8260451578257615,3.8424258406489855,3.8169479428236763,3.9255622332222386,3.989886166720383,3.9601560163639924,3.901011170853008,3.938804455832532,4.0082377566546965,3.923920081564521,3.9192901426015823,4.003307517112074,4.065792659987475,4.055292363878568,4.202353858275254,4.102778659491231,4.110323692180293,4.169934760188006,4.138298735614322,4.094292276218413,4.074888567102699,4.149597260794062,4.173023604150844,4.097707615255732,4.054567873347254,4.100626187608592,4.187148007268727,4.140949024862789,4.0647565045821334,4.121910929640411,4.113339483357926,4.055826009688877,4.111956130247201,4.197050250659681,4.2256530842844455,4.196292834342876,4.300615070610283,4.328190910436758,4.3657903275660574,4.217612415865203,4.019776871289961,4.049805385022941,3.9884937268676,4.36337489932628,4.38493016788922,4.3406634822056285,4.280336349938139,4.239521510052866,4.193172094784086,4.384159397787479,4.260908202185042,4.134196910370969,4.266492644935591,4.428910233305121,4.328500940138154,4.382744918484276,4.351840101375787,4.071309390714093,4.095955366193592,4.2083999264116105,4.399414615927458,4.686008793335114,4.537789508182032,4.322956775038269,4.062027333380063,4.072889956947572,4.044677076865748,4.116555378043308,4.164734909668221,4.336327026157482,4.345463307818488,4.281690615566955,4.465558377804197,4.43062840572672,4.404030636782904,4.426790057706572,4.43212702710227,4.48096089398155,4.392082126788101,4.459380549880568,4.596050391091666,4.505063536173612,4.486578664123136,4.480034587362253,4.358800874029785,4.391741922093652,4.289084101611083,4.1856402857560315,4.449851533067248,4.5389038659932694,4.6390954226278565,4.7813941584335655,4.652572793791335,4.699478677692666,4.770521350638535,4.734106943866851,4.86906339964236,4.884161786227884,4.808044266388806,4.761962368464267,4.767527782338476,4.792212840588561,4.843996161444015,4.896053517542547,4.932982181498186,4.95037886974432,5.166606919459783,4.9782016050478495,5.1448807018245555,4.919559537321076,4.981996486447504,5.025738361029332,4.945672539528946,4.8654188055578445,4.780961373027769,4.909305421728415,4.700459540278279,4.7669299997476156,4.691236128230615,4.685582072372454,4.702696415131939,4.634884142392589,4.735392416328431,4.5839005296187665,4.67805307021855,4.546152021555832,4.280675215517766,4.391063562605362,4.507311831936789,4.409525805578857,4.2963521291216376,4.312934504693308,4.199458058599034,4.219251964592074,4.337460924285979,4.496438012589817,4.337290832749578,4.331580722182738,4.514853518185816,4.418425552328275,4.4564673879627446,4.436901225599028,4.532229202116648,4.479290897756778,4.467167770350837,4.733657374137042,4.995045526549617,4.973973307347597,5.072192282110454,5.3215716929543895,5.371160509382752,5.153652517793966,5.3355687022737905,5.315266529808033,5.640181921164443,5.717504851861468,5.677971165099977,5.913134087762542,5.898691733024482,5.93661513526586,5.887435803455157,5.93408013773263,5.9244363979886785,5.864965830547449,6.001145490961255,5.9659056358494,6.023247651878314,6.138469183753781,5.736058106186574,5.524258850762855,5.424215913680744,5.3804620391177576,5.568435737578331,5.5601134779651895,5.632344158305185,5.6905361031503725,5.666498665463854,5.643813849560319,5.79319702816036,5.858912409490742,5.725226128355834,6.049554636412555,6.122690046445252,6.150672442065014,5.984484006344106,5.911086043132334,5.939751932575172,5.95104572725356,5.957431848899164,5.906810933228995,5.761224315488646,5.911991076608109,6.033864617343987,6.051054486980733,6.144746423836233,6.111312807706752,6.2971006426365035,6.306662697145946,6.366666946269545,6.492101221863057,6.324247543559354,6.232355092730088,6.448646850718937,6.600153409187163,6.554607223800747,6.393936399067011,6.45496143739477,6.376214501935502,6.372841944501526,6.434097744549392,6.3613366183084405,6.410182457311583,6.3501249489232965,6.296159621811465,6.291640818239492,6.29474170894645,6.085436830617814,5.941345213232923,6.181344349485141,6.129831884486807,6.1248069765234066,6.4213441912306495,6.412570101464799,6.483072626155737,6.501739966572226,6.472862900703506,6.43736085482868,6.217520669243113,6.135083259105933,6.228264858211718,6.114129136478239,6.131568229278324,6.025818938074529,6.291578390152542,6.116904591224812,6.228134589372244,6.257628852454612,6.054579577516698,6.009333687401146,6.455153909433198,6.321910202054228,6.453442837573971,6.382341703378885,6.2954006858088105,6.333863572707101,6.374465419453491,6.487247643405328,6.543569777918812,6.436005014993794,6.392544897526131,6.363135294692006,6.371074860092496,6.506672031373405,6.548583303343392,6.568066846018231,6.552329913484295,6.2521721377397075,6.244158776866438,6.352006044529534,6.048037642690991,6.168629200306045,6.230241327490205,6.179712558443227,6.035416530943976,6.108899942111525,6.125414908284504,6.155436994841206,6.02981245732407,5.992287849962684,6.077292085345948,5.996715027114817,5.950497289861888,5.908618498383513,5.8797657161422485,5.782209865987262,6.133116344086707,6.0524774212089305,6.192356365711002,6.200450368118595,6.294174040532228,6.4096406338279035,6.402024749932181,6.748245946653585,6.739086571589934,6.884812422776577,6.9706852650855495,6.7514317723232296,6.828372138680353,6.631503771997908,6.594510612568259,6.335933628447441,6.29407892506637,6.131590460697196,5.915600219045418,5.938113470311671,6.07318998593102,6.3227567893331,6.353835064225296,6.32662196219413,6.232706110423672,6.279071461181923,6.611902875680888,6.625094581863671,6.760611972232562,6.843651873061029,6.808099715964872,6.802420414882836,6.69872044414732,6.679817938575303,6.929472335244077,7.049935575956458,7.188581050093985,7.0758853782930915,7.280627140848685,7.3393301416164745,7.250349724200568,7.280108302235272,7.3682731109753,7.444502025889136,7.3758644146600165,7.236918916776686,7.2832986169770475,7.288944347107406,7.364613991744109,7.323965520694765,7.395541752425726,7.66546829823464,7.713396251609849,7.901362954087553,8.002981510696731,8.17428339736615,8.109040170701933,8.108336700780546,8.018349560172279,8.12649721103111,8.382801366131487,8.44670169242664,8.194530941750001,8.430046829067157,8.272942679546555,8.397074037078411,8.346826718512904,8.605605157575564,8.926879033789954,8.983755782171134,8.969338777922648,9.35939433347325,9.548411807806005,9.300819466195106,9.77306594159392,9.684332491505355,9.903599840083176,10.123487002349556,9.75445879024312,10.07330278391041,9.831421690625133,9.649337102012026,9.915856762615617,9.976090853144344,9.710409858057307,9.747888316973711,9.25235482394351,9.06636079984533,9.01736773238044,9.123623881109802,9.275346143433552,9.827891940813597,9.61654004855133,9.69159365537741,9.49644362078848,9.785034260853607,9.703473763730724,9.539312090379417,9.127653545541234,8.760467170382684,9.267596295209584,9.365508688566536,9.159433583313376,9.274515704381821,9.297851652765122,9.382469999031283,9.566947072431734,9.72365627770559,9.566055494845829,9.725918483454697,9.729052198023505,9.728311110867027,9.78261299962072,9.8529980208498,9.942960059222132,9.701814785546215,9.905169229675446,10.233976542932108,10.111546128897213,10.011587896538163,10.380264444083327,10.20858857923178,10.581116813293855,10.961398792454656,10.88034594131153,11.089487128976263,11.172573447279046,11.118236676350005,11.129331543496754,11.317090434481795,11.294051733665096,11.24558492270499,10.960694029500672,11.115216508177454,10.810169643764356,11.440407455721774,11.528650849134404,12.109762506396944,11.610255549437996,11.393902882830048,11.657565760209566,11.465129467401495,11.267675804228016,11.539078734247099,11.123783452813221,10.942124648691005,11.341728683334471,11.4895634710679,11.39053908883267,11.520138255558663,11.640427214273233,11.387421537194113,11.082825856563598,11.630804380596604,11.647711905887768,11.529208854194334,11.49815885743887,11.443779878642513,11.359221510710245,11.547759797207725,11.695078894411306,11.781412773468869,11.92541437836573,12.160343704784792,12.265662103490971,12.554742790470403,12.589478155948205,12.269070803531026,12.409528646513117,12.46268323442498,12.443215230263295,12.475214838932068,12.567928451639105,12.498631356262404,12.258093481242545,12.66061121399078,12.543089270356983,12.517173347172392,12.503587985813276,12.815432378494894,13.196453694780525,13.134997510266583,13.670381141613948,13.644174366688258,13.547774302307664,13.507068670803807,13.752783542622618,14.118979890449046,14.051499393017604,14.0506444344398,14.292636276796895,14.194588458032015,13.619152063667737,14.35426839422396,14.384137532019006,14.177091969505407,14.004345176898573,14.206937471904993,14.462652046356727,14.412197073312878,14.100280418884699,13.683294384887692,13.256266914472334,13.741360186191944,14.133385282899189,14.376981981467736,14.217854568324096,14.804665076489195,14.627001772052319,14.624873653860101,14.291218659934732,14.286578053365924,12.643598780018833,12.656031285303074,13.145462659598133,13.200955661860366,13.119662591614125,11.979765655813027,11.423904351427705,10.153935436701016,11.678742200723107,10.704436196600241,8.4585223352767,10.276754688447511,8.301114339682794,8.641583002613071,7.034353522963601,7.463195423914148,7.578992313569783,7.519653934764435,8.966575093610894,9.798209920496548,10.106352322798147,9.56455246487796,10.10584544470618,9.499504996814988,9.104357075193928,8.808905695831703,8.69060710006066,9.298702709825065,9.823315992466569,10.306286381976157,10.218021515673941,10.300274704475347,10.518892626645682,10.729339981734086,11.102686962250342,10.909254708643632,11.534696709556322,12.013924441766768,11.746935747617691,11.22833066394773,11.733709377523446,12.28381715031997,12.044791877462318,11.80553856914763,12.150739279849692,11.873492236414394,12.917222411623579,13.245269962684947,12.980447523247278,12.844987593558168,12.773744392799193,12.849057692558409,12.928129674760225,12.843117610161167,13.029938047206965,13.629695380005234,13.307594894350052,13.600367317138222,13.447647010314089,14.081333140423729,14.987798766175047,15.631159006938546,15.17225430255318,14.988922043188149,14.88495956621891,14.55117040848695,14.732001095646288,14.339928032821167,14.157067678268215,14.91126682900188,14.903958778427356,15.326122446851127,15.123133261987476,15.537603195724689,15.563690253131309,15.841617166503596,16.37685210545215,16.74715078337058,16.620854159530467,16.51796165481149,16.383739001365697,16.423153762836893,16.340195443118205,16.58024271371785,16.858161805902373,17.053317381638557,16.58501498993116,18.025950030874085,18.6141894082118,18.834951170772545,18.902187459055785,18.893103308067673,19.13930537466402,18.85427922642114,19.299776993006528,20.407588825964616,19.836409868860507,20.033538022393518,19.07726106996113,18.90712901029851,18.893032399780783,19.084104004169777,19.03147272651595,19.712463288607207,19.128020992226517,19.50005416626953,19.475406955949428,19.61890059602752,20.296693663912503,20.201294387677233,19.400878685264654,19.21318923838923,19.00853994955281,19.089544773499306,19.387490021535363,19.316719488047795,21.017723634978555,21.017803171685014,20.537191445524165,20.557401097778584,20.488698697328267,20.7080526491809,21.122383762889704,21.52655859841874,22.113439619424344,21.752445902370567,22.262216652599623,21.87281670703566,20.74718316997104,20.81240573874153,20.560357481875478,21.34221839016402,20.659619625110516,20.49579913808673,21.138974321822936,20.991203103143928,20.903687954115597,20.44133095660468,20.419495551964946,20.74001304150405,20.925032621443158,20.23341271102452,20.888585705024408,20.447195055118033,20.46181802261035,20.858110113808408,21.46594702023356,20.621332113719227,21.120831485597442,20.995672711683675,20.92764238616139,21.59691133776991,22.98850970255839,24.288506685281686,24.044504971613,23.900711800593236,24.23125628536901,24.086892059707676,24.40779196335483,24.466816206569053,24.426937952843176,24.14629643236644,23.87845725609794,23.862613030243704,23.042526930495768,23.684946427231278,22.960987143029833,23.60521509432565],\"type\":\"scatter\"}],                        {\"template\":{\"data\":{\"bar\":[{\"error_x\":{\"color\":\"#2a3f5f\"},\"error_y\":{\"color\":\"#2a3f5f\"},\"marker\":{\"line\":{\"color\":\"#E5ECF6\",\"width\":0.5},\"pattern\":{\"fillmode\":\"overlay\",\"size\":10,\"solidity\":0.2}},\"type\":\"bar\"}],\"barpolar\":[{\"marker\":{\"line\":{\"color\":\"#E5ECF6\",\"width\":0.5},\"pattern\":{\"fillmode\":\"overlay\",\"size\":10,\"solidity\":0.2}},\"type\":\"barpolar\"}],\"carpet\":[{\"aaxis\":{\"endlinecolor\":\"#2a3f5f\",\"gridcolor\":\"white\",\"linecolor\":\"white\",\"minorgridcolor\":\"white\",\"startlinecolor\":\"#2a3f5f\"},\"baxis\":{\"endlinecolor\":\"#2a3f5f\",\"gridcolor\":\"white\",\"linecolor\":\"white\",\"minorgridcolor\":\"white\",\"startlinecolor\":\"#2a3f5f\"},\"type\":\"carpet\"}],\"choropleth\":[{\"colorbar\":{\"outlinewidth\":0,\"ticks\":\"\"},\"type\":\"choropleth\"}],\"contour\":[{\"colorbar\":{\"outlinewidth\":0,\"ticks\":\"\"},\"colorscale\":[[0.0,\"#0d0887\"],[0.1111111111111111,\"#46039f\"],[0.2222222222222222,\"#7201a8\"],[0.3333333333333333,\"#9c179e\"],[0.4444444444444444,\"#bd3786\"],[0.5555555555555556,\"#d8576b\"],[0.6666666666666666,\"#ed7953\"],[0.7777777777777778,\"#fb9f3a\"],[0.8888888888888888,\"#fdca26\"],[1.0,\"#f0f921\"]],\"type\":\"contour\"}],\"contourcarpet\":[{\"colorbar\":{\"outlinewidth\":0,\"ticks\":\"\"},\"type\":\"contourcarpet\"}],\"heatmap\":[{\"colorbar\":{\"outlinewidth\":0,\"ticks\":\"\"},\"colorscale\":[[0.0,\"#0d0887\"],[0.1111111111111111,\"#46039f\"],[0.2222222222222222,\"#7201a8\"],[0.3333333333333333,\"#9c179e\"],[0.4444444444444444,\"#bd3786\"],[0.5555555555555556,\"#d8576b\"],[0.6666666666666666,\"#ed7953\"],[0.7777777777777778,\"#fb9f3a\"],[0.8888888888888888,\"#fdca26\"],[1.0,\"#f0f921\"]],\"type\":\"heatmap\"}],\"heatmapgl\":[{\"colorbar\":{\"outlinewidth\":0,\"ticks\":\"\"},\"colorscale\":[[0.0,\"#0d0887\"],[0.1111111111111111,\"#46039f\"],[0.2222222222222222,\"#7201a8\"],[0.3333333333333333,\"#9c179e\"],[0.4444444444444444,\"#bd3786\"],[0.5555555555555556,\"#d8576b\"],[0.6666666666666666,\"#ed7953\"],[0.7777777777777778,\"#fb9f3a\"],[0.8888888888888888,\"#fdca26\"],[1.0,\"#f0f921\"]],\"type\":\"heatmapgl\"}],\"histogram\":[{\"marker\":{\"pattern\":{\"fillmode\":\"overlay\",\"size\":10,\"solidity\":0.2}},\"type\":\"histogram\"}],\"histogram2d\":[{\"colorbar\":{\"outlinewidth\":0,\"ticks\":\"\"},\"colorscale\":[[0.0,\"#0d0887\"],[0.1111111111111111,\"#46039f\"],[0.2222222222222222,\"#7201a8\"],[0.3333333333333333,\"#9c179e\"],[0.4444444444444444,\"#bd3786\"],[0.5555555555555556,\"#d8576b\"],[0.6666666666666666,\"#ed7953\"],[0.7777777777777778,\"#fb9f3a\"],[0.8888888888888888,\"#fdca26\"],[1.0,\"#f0f921\"]],\"type\":\"histogram2d\"}],\"histogram2dcontour\":[{\"colorbar\":{\"outlinewidth\":0,\"ticks\":\"\"},\"colorscale\":[[0.0,\"#0d0887\"],[0.1111111111111111,\"#46039f\"],[0.2222222222222222,\"#7201a8\"],[0.3333333333333333,\"#9c179e\"],[0.4444444444444444,\"#bd3786\"],[0.5555555555555556,\"#d8576b\"],[0.6666666666666666,\"#ed7953\"],[0.7777777777777778,\"#fb9f3a\"],[0.8888888888888888,\"#fdca26\"],[1.0,\"#f0f921\"]],\"type\":\"histogram2dcontour\"}],\"mesh3d\":[{\"colorbar\":{\"outlinewidth\":0,\"ticks\":\"\"},\"type\":\"mesh3d\"}],\"parcoords\":[{\"line\":{\"colorbar\":{\"outlinewidth\":0,\"ticks\":\"\"}},\"type\":\"parcoords\"}],\"pie\":[{\"automargin\":true,\"type\":\"pie\"}],\"scatter\":[{\"marker\":{\"colorbar\":{\"outlinewidth\":0,\"ticks\":\"\"}},\"type\":\"scatter\"}],\"scatter3d\":[{\"line\":{\"colorbar\":{\"outlinewidth\":0,\"ticks\":\"\"}},\"marker\":{\"colorbar\":{\"outlinewidth\":0,\"ticks\":\"\"}},\"type\":\"scatter3d\"}],\"scattercarpet\":[{\"marker\":{\"colorbar\":{\"outlinewidth\":0,\"ticks\":\"\"}},\"type\":\"scattercarpet\"}],\"scattergeo\":[{\"marker\":{\"colorbar\":{\"outlinewidth\":0,\"ticks\":\"\"}},\"type\":\"scattergeo\"}],\"scattergl\":[{\"marker\":{\"colorbar\":{\"outlinewidth\":0,\"ticks\":\"\"}},\"type\":\"scattergl\"}],\"scattermapbox\":[{\"marker\":{\"colorbar\":{\"outlinewidth\":0,\"ticks\":\"\"}},\"type\":\"scattermapbox\"}],\"scatterpolar\":[{\"marker\":{\"colorbar\":{\"outlinewidth\":0,\"ticks\":\"\"}},\"type\":\"scatterpolar\"}],\"scatterpolargl\":[{\"marker\":{\"colorbar\":{\"outlinewidth\":0,\"ticks\":\"\"}},\"type\":\"scatterpolargl\"}],\"scatterternary\":[{\"marker\":{\"colorbar\":{\"outlinewidth\":0,\"ticks\":\"\"}},\"type\":\"scatterternary\"}],\"surface\":[{\"colorbar\":{\"outlinewidth\":0,\"ticks\":\"\"},\"colorscale\":[[0.0,\"#0d0887\"],[0.1111111111111111,\"#46039f\"],[0.2222222222222222,\"#7201a8\"],[0.3333333333333333,\"#9c179e\"],[0.4444444444444444,\"#bd3786\"],[0.5555555555555556,\"#d8576b\"],[0.6666666666666666,\"#ed7953\"],[0.7777777777777778,\"#fb9f3a\"],[0.8888888888888888,\"#fdca26\"],[1.0,\"#f0f921\"]],\"type\":\"surface\"}],\"table\":[{\"cells\":{\"fill\":{\"color\":\"#EBF0F8\"},\"line\":{\"color\":\"white\"}},\"header\":{\"fill\":{\"color\":\"#C8D4E3\"},\"line\":{\"color\":\"white\"}},\"type\":\"table\"}]},\"layout\":{\"annotationdefaults\":{\"arrowcolor\":\"#2a3f5f\",\"arrowhead\":0,\"arrowwidth\":1},\"autotypenumbers\":\"strict\",\"coloraxis\":{\"colorbar\":{\"outlinewidth\":0,\"ticks\":\"\"}},\"colorscale\":{\"diverging\":[[0,\"#8e0152\"],[0.1,\"#c51b7d\"],[0.2,\"#de77ae\"],[0.3,\"#f1b6da\"],[0.4,\"#fde0ef\"],[0.5,\"#f7f7f7\"],[0.6,\"#e6f5d0\"],[0.7,\"#b8e186\"],[0.8,\"#7fbc41\"],[0.9,\"#4d9221\"],[1,\"#276419\"]],\"sequential\":[[0.0,\"#0d0887\"],[0.1111111111111111,\"#46039f\"],[0.2222222222222222,\"#7201a8\"],[0.3333333333333333,\"#9c179e\"],[0.4444444444444444,\"#bd3786\"],[0.5555555555555556,\"#d8576b\"],[0.6666666666666666,\"#ed7953\"],[0.7777777777777778,\"#fb9f3a\"],[0.8888888888888888,\"#fdca26\"],[1.0,\"#f0f921\"]],\"sequentialminus\":[[0.0,\"#0d0887\"],[0.1111111111111111,\"#46039f\"],[0.2222222222222222,\"#7201a8\"],[0.3333333333333333,\"#9c179e\"],[0.4444444444444444,\"#bd3786\"],[0.5555555555555556,\"#d8576b\"],[0.6666666666666666,\"#ed7953\"],[0.7777777777777778,\"#fb9f3a\"],[0.8888888888888888,\"#fdca26\"],[1.0,\"#f0f921\"]]},\"colorway\":[\"#636efa\",\"#EF553B\",\"#00cc96\",\"#ab63fa\",\"#FFA15A\",\"#19d3f3\",\"#FF6692\",\"#B6E880\",\"#FF97FF\",\"#FECB52\"],\"font\":{\"color\":\"#2a3f5f\"},\"geo\":{\"bgcolor\":\"white\",\"lakecolor\":\"white\",\"landcolor\":\"#E5ECF6\",\"showlakes\":true,\"showland\":true,\"subunitcolor\":\"white\"},\"hoverlabel\":{\"align\":\"left\"},\"hovermode\":\"closest\",\"mapbox\":{\"style\":\"light\"},\"paper_bgcolor\":\"white\",\"plot_bgcolor\":\"#E5ECF6\",\"polar\":{\"angularaxis\":{\"gridcolor\":\"white\",\"linecolor\":\"white\",\"ticks\":\"\"},\"bgcolor\":\"#E5ECF6\",\"radialaxis\":{\"gridcolor\":\"white\",\"linecolor\":\"white\",\"ticks\":\"\"}},\"scene\":{\"xaxis\":{\"backgroundcolor\":\"#E5ECF6\",\"gridcolor\":\"white\",\"gridwidth\":2,\"linecolor\":\"white\",\"showbackground\":true,\"ticks\":\"\",\"zerolinecolor\":\"white\"},\"yaxis\":{\"backgroundcolor\":\"#E5ECF6\",\"gridcolor\":\"white\",\"gridwidth\":2,\"linecolor\":\"white\",\"showbackground\":true,\"ticks\":\"\",\"zerolinecolor\":\"white\"},\"zaxis\":{\"backgroundcolor\":\"#E5ECF6\",\"gridcolor\":\"white\",\"gridwidth\":2,\"linecolor\":\"white\",\"showbackground\":true,\"ticks\":\"\",\"zerolinecolor\":\"white\"}},\"shapedefaults\":{\"line\":{\"color\":\"#2a3f5f\"}},\"ternary\":{\"aaxis\":{\"gridcolor\":\"white\",\"linecolor\":\"white\",\"ticks\":\"\"},\"baxis\":{\"gridcolor\":\"white\",\"linecolor\":\"white\",\"ticks\":\"\"},\"bgcolor\":\"#E5ECF6\",\"caxis\":{\"gridcolor\":\"white\",\"linecolor\":\"white\",\"ticks\":\"\"}},\"title\":{\"x\":0.05},\"xaxis\":{\"automargin\":true,\"gridcolor\":\"white\",\"linecolor\":\"white\",\"ticks\":\"\",\"title\":{\"standoff\":15},\"zerolinecolor\":\"white\",\"zerolinewidth\":2},\"yaxis\":{\"automargin\":true,\"gridcolor\":\"white\",\"linecolor\":\"white\",\"ticks\":\"\",\"title\":{\"standoff\":15},\"zerolinecolor\":\"white\",\"zerolinewidth\":2}}},\"xaxis\":{\"anchor\":\"y\",\"domain\":[0.0,1.0]},\"yaxis\":{\"anchor\":\"x\",\"domain\":[0.0,1.0]},\"legend\":{\"tracegroupgap\":0},\"title\":{\"text\":\"Comparativo Carteira vs BOVA\"}},                        {\"responsive\": true}                    ).then(function(){\n",
              "                            \n",
              "var gd = document.getElementById('e91120b1-c772-488b-b15f-ed4890298258');\n",
              "var x = new MutationObserver(function (mutations, observer) {{\n",
              "        var display = window.getComputedStyle(gd).display;\n",
              "        if (!display || display === 'none') {{\n",
              "            console.log([gd, 'removed!']);\n",
              "            Plotly.purge(gd);\n",
              "            observer.disconnect();\n",
              "        }}\n",
              "}});\n",
              "\n",
              "// Listen for the removal of the full notebook cells\n",
              "var notebookContainer = gd.closest('#notebook-container');\n",
              "if (notebookContainer) {{\n",
              "    x.observe(notebookContainer, {childList: true});\n",
              "}}\n",
              "\n",
              "// Listen for the clearing of the current output cell\n",
              "var outputEl = gd.closest('.output');\n",
              "if (outputEl) {{\n",
              "    x.observe(outputEl, {childList: true});\n",
              "}}\n",
              "\n",
              "                        })                };                            </script>        </div>\n",
              "</body>\n",
              "</html>"
            ]
          },
          "metadata": {}
        }
      ]
    },
    {
      "cell_type": "markdown",
      "source": [
        "Vamos comparar somente Carteira vs BOVA:"
      ],
      "metadata": {
        "id": "VTbqLF4XfcjJ"
      }
    },
    {
      "cell_type": "code",
      "source": [
        "# Excluindo os papeis que nao vamos usar\n",
        "dataset_normalizado.drop(['GOL','CVC','WEGE','MGLU','TOTS'], axis=1, inplace=True)\n",
        "dataset_normalizado"
      ],
      "metadata": {
        "colab": {
          "base_uri": "https://localhost:8080/",
          "height": 424
        },
        "id": "2bMI5B5Me9t3",
        "outputId": "b96b47ab-0196-4bed-f7e8-a055800213c7"
      },
      "execution_count": null,
      "outputs": [
        {
          "output_type": "execute_result",
          "data": {
            "text/plain": [
              "            Date      BOVA   CARTEIRA\n",
              "0     2015-01-02  1.000000   1.000000\n",
              "1     2015-01-05  0.980110   0.994476\n",
              "2     2015-01-06  0.985612   0.978854\n",
              "3     2015-01-07  1.018832   0.971492\n",
              "4     2015-01-08  1.026449   0.966804\n",
              "...          ...       ...        ...\n",
              "1441  2020-10-27  2.027084  23.862613\n",
              "1442  2020-10-28  1.955777  23.042527\n",
              "1443  2020-10-29  1.965933  23.684946\n",
              "1444  2020-10-30  1.918324  22.960987\n",
              "1445  2020-11-03  1.955354  23.605215\n",
              "\n",
              "[1446 rows x 3 columns]"
            ],
            "text/html": [
              "\n",
              "  <div id=\"df-4ee00f4e-b8ff-4d98-a75f-9c8b070ae9e0\">\n",
              "    <div class=\"colab-df-container\">\n",
              "      <div>\n",
              "<style scoped>\n",
              "    .dataframe tbody tr th:only-of-type {\n",
              "        vertical-align: middle;\n",
              "    }\n",
              "\n",
              "    .dataframe tbody tr th {\n",
              "        vertical-align: top;\n",
              "    }\n",
              "\n",
              "    .dataframe thead th {\n",
              "        text-align: right;\n",
              "    }\n",
              "</style>\n",
              "<table border=\"1\" class=\"dataframe\">\n",
              "  <thead>\n",
              "    <tr style=\"text-align: right;\">\n",
              "      <th></th>\n",
              "      <th>Date</th>\n",
              "      <th>BOVA</th>\n",
              "      <th>CARTEIRA</th>\n",
              "    </tr>\n",
              "  </thead>\n",
              "  <tbody>\n",
              "    <tr>\n",
              "      <th>0</th>\n",
              "      <td>2015-01-02</td>\n",
              "      <td>1.000000</td>\n",
              "      <td>1.000000</td>\n",
              "    </tr>\n",
              "    <tr>\n",
              "      <th>1</th>\n",
              "      <td>2015-01-05</td>\n",
              "      <td>0.980110</td>\n",
              "      <td>0.994476</td>\n",
              "    </tr>\n",
              "    <tr>\n",
              "      <th>2</th>\n",
              "      <td>2015-01-06</td>\n",
              "      <td>0.985612</td>\n",
              "      <td>0.978854</td>\n",
              "    </tr>\n",
              "    <tr>\n",
              "      <th>3</th>\n",
              "      <td>2015-01-07</td>\n",
              "      <td>1.018832</td>\n",
              "      <td>0.971492</td>\n",
              "    </tr>\n",
              "    <tr>\n",
              "      <th>4</th>\n",
              "      <td>2015-01-08</td>\n",
              "      <td>1.026449</td>\n",
              "      <td>0.966804</td>\n",
              "    </tr>\n",
              "    <tr>\n",
              "      <th>...</th>\n",
              "      <td>...</td>\n",
              "      <td>...</td>\n",
              "      <td>...</td>\n",
              "    </tr>\n",
              "    <tr>\n",
              "      <th>1441</th>\n",
              "      <td>2020-10-27</td>\n",
              "      <td>2.027084</td>\n",
              "      <td>23.862613</td>\n",
              "    </tr>\n",
              "    <tr>\n",
              "      <th>1442</th>\n",
              "      <td>2020-10-28</td>\n",
              "      <td>1.955777</td>\n",
              "      <td>23.042527</td>\n",
              "    </tr>\n",
              "    <tr>\n",
              "      <th>1443</th>\n",
              "      <td>2020-10-29</td>\n",
              "      <td>1.965933</td>\n",
              "      <td>23.684946</td>\n",
              "    </tr>\n",
              "    <tr>\n",
              "      <th>1444</th>\n",
              "      <td>2020-10-30</td>\n",
              "      <td>1.918324</td>\n",
              "      <td>22.960987</td>\n",
              "    </tr>\n",
              "    <tr>\n",
              "      <th>1445</th>\n",
              "      <td>2020-11-03</td>\n",
              "      <td>1.955354</td>\n",
              "      <td>23.605215</td>\n",
              "    </tr>\n",
              "  </tbody>\n",
              "</table>\n",
              "<p>1446 rows × 3 columns</p>\n",
              "</div>\n",
              "      <button class=\"colab-df-convert\" onclick=\"convertToInteractive('df-4ee00f4e-b8ff-4d98-a75f-9c8b070ae9e0')\"\n",
              "              title=\"Convert this dataframe to an interactive table.\"\n",
              "              style=\"display:none;\">\n",
              "        \n",
              "  <svg xmlns=\"http://www.w3.org/2000/svg\" height=\"24px\"viewBox=\"0 0 24 24\"\n",
              "       width=\"24px\">\n",
              "    <path d=\"M0 0h24v24H0V0z\" fill=\"none\"/>\n",
              "    <path d=\"M18.56 5.44l.94 2.06.94-2.06 2.06-.94-2.06-.94-.94-2.06-.94 2.06-2.06.94zm-11 1L8.5 8.5l.94-2.06 2.06-.94-2.06-.94L8.5 2.5l-.94 2.06-2.06.94zm10 10l.94 2.06.94-2.06 2.06-.94-2.06-.94-.94-2.06-.94 2.06-2.06.94z\"/><path d=\"M17.41 7.96l-1.37-1.37c-.4-.4-.92-.59-1.43-.59-.52 0-1.04.2-1.43.59L10.3 9.45l-7.72 7.72c-.78.78-.78 2.05 0 2.83L4 21.41c.39.39.9.59 1.41.59.51 0 1.02-.2 1.41-.59l7.78-7.78 2.81-2.81c.8-.78.8-2.07 0-2.86zM5.41 20L4 18.59l7.72-7.72 1.47 1.35L5.41 20z\"/>\n",
              "  </svg>\n",
              "      </button>\n",
              "      \n",
              "  <style>\n",
              "    .colab-df-container {\n",
              "      display:flex;\n",
              "      flex-wrap:wrap;\n",
              "      gap: 12px;\n",
              "    }\n",
              "\n",
              "    .colab-df-convert {\n",
              "      background-color: #E8F0FE;\n",
              "      border: none;\n",
              "      border-radius: 50%;\n",
              "      cursor: pointer;\n",
              "      display: none;\n",
              "      fill: #1967D2;\n",
              "      height: 32px;\n",
              "      padding: 0 0 0 0;\n",
              "      width: 32px;\n",
              "    }\n",
              "\n",
              "    .colab-df-convert:hover {\n",
              "      background-color: #E2EBFA;\n",
              "      box-shadow: 0px 1px 2px rgba(60, 64, 67, 0.3), 0px 1px 3px 1px rgba(60, 64, 67, 0.15);\n",
              "      fill: #174EA6;\n",
              "    }\n",
              "\n",
              "    [theme=dark] .colab-df-convert {\n",
              "      background-color: #3B4455;\n",
              "      fill: #D2E3FC;\n",
              "    }\n",
              "\n",
              "    [theme=dark] .colab-df-convert:hover {\n",
              "      background-color: #434B5C;\n",
              "      box-shadow: 0px 1px 3px 1px rgba(0, 0, 0, 0.15);\n",
              "      filter: drop-shadow(0px 1px 2px rgba(0, 0, 0, 0.3));\n",
              "      fill: #FFFFFF;\n",
              "    }\n",
              "  </style>\n",
              "\n",
              "      <script>\n",
              "        const buttonEl =\n",
              "          document.querySelector('#df-4ee00f4e-b8ff-4d98-a75f-9c8b070ae9e0 button.colab-df-convert');\n",
              "        buttonEl.style.display =\n",
              "          google.colab.kernel.accessAllowed ? 'block' : 'none';\n",
              "\n",
              "        async function convertToInteractive(key) {\n",
              "          const element = document.querySelector('#df-4ee00f4e-b8ff-4d98-a75f-9c8b070ae9e0');\n",
              "          const dataTable =\n",
              "            await google.colab.kernel.invokeFunction('convertToInteractive',\n",
              "                                                     [key], {});\n",
              "          if (!dataTable) return;\n",
              "\n",
              "          const docLinkHtml = 'Like what you see? Visit the ' +\n",
              "            '<a target=\"_blank\" href=https://colab.research.google.com/notebooks/data_table.ipynb>data table notebook</a>'\n",
              "            + ' to learn more about interactive tables.';\n",
              "          element.innerHTML = '';\n",
              "          dataTable['output_type'] = 'display_data';\n",
              "          await google.colab.output.renderOutput(dataTable, element);\n",
              "          const docLink = document.createElement('div');\n",
              "          docLink.innerHTML = docLinkHtml;\n",
              "          element.appendChild(docLink);\n",
              "        }\n",
              "      </script>\n",
              "    </div>\n",
              "  </div>\n",
              "  "
            ]
          },
          "metadata": {},
          "execution_count": 24
        }
      ]
    },
    {
      "cell_type": "code",
      "source": [
        "figura = px.line(title='Comparativo Carteira vs BOVA')\n",
        "for i in dataset_normalizado.columns[1:]:\n",
        "  figura.add_scatter(x=dataset_normalizado['Date'], y=dataset_normalizado[i], name=i)\n",
        "figura.show()"
      ],
      "metadata": {
        "colab": {
          "base_uri": "https://localhost:8080/",
          "height": 542
        },
        "id": "tmZpvNibf9Oq",
        "outputId": "248e90f7-ef41-41ed-90af-2e82049fd0c7"
      },
      "execution_count": null,
      "outputs": [
        {
          "output_type": "display_data",
          "data": {
            "text/html": [
              "<html>\n",
              "<head><meta charset=\"utf-8\" /></head>\n",
              "<body>\n",
              "    <div>            <script src=\"https://cdnjs.cloudflare.com/ajax/libs/mathjax/2.7.5/MathJax.js?config=TeX-AMS-MML_SVG\"></script><script type=\"text/javascript\">if (window.MathJax) {MathJax.Hub.Config({SVG: {font: \"STIX-Web\"}});}</script>                <script type=\"text/javascript\">window.PlotlyConfig = {MathJaxConfig: 'local'};</script>\n",
              "        <script src=\"https://cdn.plot.ly/plotly-2.8.3.min.js\"></script>                <div id=\"c4dbf188-5101-4ace-8bc2-1a03f040ff91\" class=\"plotly-graph-div\" style=\"height:525px; width:100%;\"></div>            <script type=\"text/javascript\">                                    window.PLOTLYENV=window.PLOTLYENV || {};                                    if (document.getElementById(\"c4dbf188-5101-4ace-8bc2-1a03f040ff91\")) {                    Plotly.newPlot(                        \"c4dbf188-5101-4ace-8bc2-1a03f040ff91\",                        [{\"name\":\"BOVA\",\"x\":[\"2015-01-02\",\"2015-01-05\",\"2015-01-06\",\"2015-01-07\",\"2015-01-08\",\"2015-01-09\",\"2015-01-12\",\"2015-01-13\",\"2015-01-14\",\"2015-01-15\",\"2015-01-16\",\"2015-01-19\",\"2015-01-20\",\"2015-01-21\",\"2015-01-22\",\"2015-01-23\",\"2015-01-26\",\"2015-01-27\",\"2015-01-28\",\"2015-01-29\",\"2015-01-30\",\"2015-02-02\",\"2015-02-03\",\"2015-02-04\",\"2015-02-05\",\"2015-02-06\",\"2015-02-09\",\"2015-02-10\",\"2015-02-11\",\"2015-02-12\",\"2015-02-13\",\"2015-02-18\",\"2015-02-19\",\"2015-02-20\",\"2015-02-23\",\"2015-02-24\",\"2015-02-25\",\"2015-02-26\",\"2015-02-27\",\"2015-03-02\",\"2015-03-03\",\"2015-03-04\",\"2015-03-05\",\"2015-03-06\",\"2015-03-09\",\"2015-03-10\",\"2015-03-11\",\"2015-03-12\",\"2015-03-13\",\"2015-03-16\",\"2015-03-17\",\"2015-03-18\",\"2015-03-19\",\"2015-03-20\",\"2015-03-23\",\"2015-03-24\",\"2015-03-25\",\"2015-03-26\",\"2015-03-27\",\"2015-03-30\",\"2015-03-31\",\"2015-04-01\",\"2015-04-02\",\"2015-04-06\",\"2015-04-07\",\"2015-04-08\",\"2015-04-09\",\"2015-04-10\",\"2015-04-13\",\"2015-04-14\",\"2015-04-15\",\"2015-04-16\",\"2015-04-17\",\"2015-04-20\",\"2015-04-22\",\"2015-04-23\",\"2015-04-24\",\"2015-04-27\",\"2015-04-28\",\"2015-04-29\",\"2015-04-30\",\"2015-05-04\",\"2015-05-05\",\"2015-05-06\",\"2015-05-07\",\"2015-05-08\",\"2015-05-11\",\"2015-05-12\",\"2015-05-13\",\"2015-05-14\",\"2015-05-15\",\"2015-05-18\",\"2015-05-19\",\"2015-05-20\",\"2015-05-21\",\"2015-05-22\",\"2015-05-25\",\"2015-05-26\",\"2015-05-27\",\"2015-05-28\",\"2015-05-29\",\"2015-06-01\",\"2015-06-02\",\"2015-06-03\",\"2015-06-05\",\"2015-06-08\",\"2015-06-09\",\"2015-06-10\",\"2015-06-11\",\"2015-06-12\",\"2015-06-15\",\"2015-06-16\",\"2015-06-17\",\"2015-06-18\",\"2015-06-19\",\"2015-06-22\",\"2015-06-23\",\"2015-06-24\",\"2015-06-25\",\"2015-06-26\",\"2015-06-29\",\"2015-06-30\",\"2015-07-01\",\"2015-07-02\",\"2015-07-03\",\"2015-07-06\",\"2015-07-07\",\"2015-07-08\",\"2015-07-10\",\"2015-07-13\",\"2015-07-14\",\"2015-07-15\",\"2015-07-16\",\"2015-07-17\",\"2015-07-20\",\"2015-07-21\",\"2015-07-22\",\"2015-07-23\",\"2015-07-24\",\"2015-07-27\",\"2015-07-28\",\"2015-07-29\",\"2015-07-30\",\"2015-07-31\",\"2015-08-03\",\"2015-08-04\",\"2015-08-05\",\"2015-08-06\",\"2015-08-07\",\"2015-08-10\",\"2015-08-11\",\"2015-08-12\",\"2015-08-13\",\"2015-08-14\",\"2015-08-17\",\"2015-08-18\",\"2015-08-19\",\"2015-08-20\",\"2015-08-21\",\"2015-08-24\",\"2015-08-25\",\"2015-08-26\",\"2015-08-27\",\"2015-08-28\",\"2015-08-31\",\"2015-09-01\",\"2015-09-02\",\"2015-09-03\",\"2015-09-04\",\"2015-09-08\",\"2015-09-09\",\"2015-09-10\",\"2015-09-11\",\"2015-09-14\",\"2015-09-15\",\"2015-09-16\",\"2015-09-17\",\"2015-09-18\",\"2015-09-21\",\"2015-09-22\",\"2015-09-23\",\"2015-09-24\",\"2015-09-25\",\"2015-09-28\",\"2015-09-29\",\"2015-09-30\",\"2015-10-01\",\"2015-10-02\",\"2015-10-05\",\"2015-10-06\",\"2015-10-07\",\"2015-10-08\",\"2015-10-09\",\"2015-10-13\",\"2015-10-14\",\"2015-10-15\",\"2015-10-16\",\"2015-10-19\",\"2015-10-20\",\"2015-10-21\",\"2015-10-22\",\"2015-10-23\",\"2015-10-26\",\"2015-10-27\",\"2015-10-28\",\"2015-10-29\",\"2015-10-30\",\"2015-11-03\",\"2015-11-04\",\"2015-11-05\",\"2015-11-06\",\"2015-11-09\",\"2015-11-10\",\"2015-11-11\",\"2015-11-12\",\"2015-11-13\",\"2015-11-16\",\"2015-11-17\",\"2015-11-18\",\"2015-11-19\",\"2015-11-23\",\"2015-11-24\",\"2015-11-25\",\"2015-11-26\",\"2015-11-27\",\"2015-11-30\",\"2015-12-01\",\"2015-12-02\",\"2015-12-03\",\"2015-12-04\",\"2015-12-07\",\"2015-12-08\",\"2015-12-09\",\"2015-12-10\",\"2015-12-11\",\"2015-12-14\",\"2015-12-15\",\"2015-12-16\",\"2015-12-17\",\"2015-12-18\",\"2015-12-21\",\"2015-12-22\",\"2015-12-23\",\"2015-12-28\",\"2015-12-29\",\"2015-12-30\",\"2016-01-04\",\"2016-01-05\",\"2016-01-06\",\"2016-01-07\",\"2016-01-08\",\"2016-01-11\",\"2016-01-12\",\"2016-01-13\",\"2016-01-14\",\"2016-01-15\",\"2016-01-18\",\"2016-01-19\",\"2016-01-20\",\"2016-01-21\",\"2016-01-22\",\"2016-01-26\",\"2016-01-27\",\"2016-01-28\",\"2016-01-29\",\"2016-02-01\",\"2016-02-02\",\"2016-02-03\",\"2016-02-04\",\"2016-02-05\",\"2016-02-10\",\"2016-02-11\",\"2016-02-12\",\"2016-02-15\",\"2016-02-16\",\"2016-02-17\",\"2016-02-18\",\"2016-02-19\",\"2016-02-22\",\"2016-02-23\",\"2016-02-24\",\"2016-02-25\",\"2016-02-26\",\"2016-02-29\",\"2016-03-01\",\"2016-03-02\",\"2016-03-03\",\"2016-03-04\",\"2016-03-07\",\"2016-03-08\",\"2016-03-09\",\"2016-03-10\",\"2016-03-11\",\"2016-03-14\",\"2016-03-15\",\"2016-03-16\",\"2016-03-17\",\"2016-03-18\",\"2016-03-21\",\"2016-03-22\",\"2016-03-23\",\"2016-03-24\",\"2016-03-28\",\"2016-03-29\",\"2016-03-30\",\"2016-03-31\",\"2016-04-01\",\"2016-04-04\",\"2016-04-05\",\"2016-04-06\",\"2016-04-07\",\"2016-04-08\",\"2016-04-11\",\"2016-04-12\",\"2016-04-13\",\"2016-04-14\",\"2016-04-15\",\"2016-04-18\",\"2016-04-19\",\"2016-04-20\",\"2016-04-22\",\"2016-04-25\",\"2016-04-26\",\"2016-04-27\",\"2016-04-28\",\"2016-04-29\",\"2016-05-02\",\"2016-05-03\",\"2016-05-04\",\"2016-05-05\",\"2016-05-06\",\"2016-05-09\",\"2016-05-10\",\"2016-05-11\",\"2016-05-12\",\"2016-05-13\",\"2016-05-16\",\"2016-05-17\",\"2016-05-18\",\"2016-05-19\",\"2016-05-20\",\"2016-05-23\",\"2016-05-24\",\"2016-05-25\",\"2016-05-27\",\"2016-05-30\",\"2016-05-31\",\"2016-06-01\",\"2016-06-02\",\"2016-06-03\",\"2016-06-06\",\"2016-06-07\",\"2016-06-08\",\"2016-06-09\",\"2016-06-10\",\"2016-06-13\",\"2016-06-14\",\"2016-06-15\",\"2016-06-16\",\"2016-06-17\",\"2016-06-20\",\"2016-06-21\",\"2016-06-22\",\"2016-06-23\",\"2016-06-24\",\"2016-06-27\",\"2016-06-28\",\"2016-06-29\",\"2016-06-30\",\"2016-07-01\",\"2016-07-04\",\"2016-07-05\",\"2016-07-06\",\"2016-07-07\",\"2016-07-08\",\"2016-07-11\",\"2016-07-12\",\"2016-07-13\",\"2016-07-14\",\"2016-07-15\",\"2016-07-18\",\"2016-07-19\",\"2016-07-20\",\"2016-07-21\",\"2016-07-22\",\"2016-07-25\",\"2016-07-26\",\"2016-07-27\",\"2016-07-28\",\"2016-07-29\",\"2016-08-01\",\"2016-08-02\",\"2016-08-03\",\"2016-08-04\",\"2016-08-05\",\"2016-08-08\",\"2016-08-09\",\"2016-08-10\",\"2016-08-11\",\"2016-08-12\",\"2016-08-15\",\"2016-08-16\",\"2016-08-17\",\"2016-08-18\",\"2016-08-19\",\"2016-08-22\",\"2016-08-23\",\"2016-08-24\",\"2016-08-25\",\"2016-08-26\",\"2016-08-29\",\"2016-08-30\",\"2016-08-31\",\"2016-09-01\",\"2016-09-02\",\"2016-09-05\",\"2016-09-06\",\"2016-09-08\",\"2016-09-09\",\"2016-09-12\",\"2016-09-13\",\"2016-09-14\",\"2016-09-15\",\"2016-09-16\",\"2016-09-19\",\"2016-09-20\",\"2016-09-21\",\"2016-09-22\",\"2016-09-23\",\"2016-09-26\",\"2016-09-27\",\"2016-09-28\",\"2016-09-29\",\"2016-09-30\",\"2016-10-03\",\"2016-10-04\",\"2016-10-05\",\"2016-10-06\",\"2016-10-07\",\"2016-10-10\",\"2016-10-11\",\"2016-10-13\",\"2016-10-14\",\"2016-10-17\",\"2016-10-18\",\"2016-10-19\",\"2016-10-20\",\"2016-10-21\",\"2016-10-24\",\"2016-10-25\",\"2016-10-26\",\"2016-10-27\",\"2016-10-28\",\"2016-10-31\",\"2016-11-01\",\"2016-11-03\",\"2016-11-04\",\"2016-11-07\",\"2016-11-08\",\"2016-11-09\",\"2016-11-10\",\"2016-11-11\",\"2016-11-14\",\"2016-11-16\",\"2016-11-17\",\"2016-11-18\",\"2016-11-21\",\"2016-11-22\",\"2016-11-23\",\"2016-11-24\",\"2016-11-25\",\"2016-11-28\",\"2016-11-29\",\"2016-11-30\",\"2016-12-01\",\"2016-12-02\",\"2016-12-05\",\"2016-12-06\",\"2016-12-07\",\"2016-12-08\",\"2016-12-09\",\"2016-12-12\",\"2016-12-13\",\"2016-12-14\",\"2016-12-15\",\"2016-12-16\",\"2016-12-19\",\"2016-12-20\",\"2016-12-21\",\"2016-12-22\",\"2016-12-23\",\"2016-12-26\",\"2016-12-27\",\"2016-12-28\",\"2016-12-29\",\"2017-01-02\",\"2017-01-03\",\"2017-01-04\",\"2017-01-05\",\"2017-01-06\",\"2017-01-09\",\"2017-01-10\",\"2017-01-11\",\"2017-01-12\",\"2017-01-13\",\"2017-01-16\",\"2017-01-17\",\"2017-01-18\",\"2017-01-19\",\"2017-01-20\",\"2017-01-23\",\"2017-01-24\",\"2017-01-26\",\"2017-01-27\",\"2017-01-30\",\"2017-01-31\",\"2017-02-01\",\"2017-02-02\",\"2017-02-03\",\"2017-02-06\",\"2017-02-07\",\"2017-02-08\",\"2017-02-09\",\"2017-02-10\",\"2017-02-13\",\"2017-02-14\",\"2017-02-15\",\"2017-02-16\",\"2017-02-17\",\"2017-02-20\",\"2017-02-21\",\"2017-02-22\",\"2017-02-23\",\"2017-02-24\",\"2017-03-01\",\"2017-03-02\",\"2017-03-03\",\"2017-03-06\",\"2017-03-07\",\"2017-03-08\",\"2017-03-09\",\"2017-03-10\",\"2017-03-13\",\"2017-03-14\",\"2017-03-15\",\"2017-03-16\",\"2017-03-17\",\"2017-03-20\",\"2017-03-21\",\"2017-03-22\",\"2017-03-23\",\"2017-03-24\",\"2017-03-27\",\"2017-03-28\",\"2017-03-29\",\"2017-03-30\",\"2017-03-31\",\"2017-04-03\",\"2017-04-04\",\"2017-04-05\",\"2017-04-06\",\"2017-04-07\",\"2017-04-10\",\"2017-04-11\",\"2017-04-12\",\"2017-04-13\",\"2017-04-17\",\"2017-04-18\",\"2017-04-19\",\"2017-04-20\",\"2017-04-24\",\"2017-04-25\",\"2017-04-26\",\"2017-04-27\",\"2017-04-28\",\"2017-05-02\",\"2017-05-03\",\"2017-05-04\",\"2017-05-05\",\"2017-05-08\",\"2017-05-09\",\"2017-05-10\",\"2017-05-11\",\"2017-05-12\",\"2017-05-15\",\"2017-05-16\",\"2017-05-17\",\"2017-05-18\",\"2017-05-19\",\"2017-05-22\",\"2017-05-23\",\"2017-05-24\",\"2017-05-25\",\"2017-05-26\",\"2017-05-29\",\"2017-05-30\",\"2017-05-31\",\"2017-06-01\",\"2017-06-02\",\"2017-06-05\",\"2017-06-06\",\"2017-06-07\",\"2017-06-08\",\"2017-06-09\",\"2017-06-12\",\"2017-06-13\",\"2017-06-14\",\"2017-06-15\",\"2017-06-16\",\"2017-06-19\",\"2017-06-20\",\"2017-06-21\",\"2017-06-22\",\"2017-06-23\",\"2017-06-26\",\"2017-06-27\",\"2017-06-28\",\"2017-06-29\",\"2017-06-30\",\"2017-07-03\",\"2017-07-04\",\"2017-07-05\",\"2017-07-06\",\"2017-07-07\",\"2017-07-10\",\"2017-07-11\",\"2017-07-12\",\"2017-07-13\",\"2017-07-14\",\"2017-07-17\",\"2017-07-18\",\"2017-07-19\",\"2017-07-20\",\"2017-07-21\",\"2017-07-24\",\"2017-07-25\",\"2017-07-26\",\"2017-07-27\",\"2017-07-28\",\"2017-07-31\",\"2017-08-01\",\"2017-08-02\",\"2017-08-03\",\"2017-08-04\",\"2017-08-07\",\"2017-08-08\",\"2017-08-09\",\"2017-08-10\",\"2017-08-11\",\"2017-08-14\",\"2017-08-15\",\"2017-08-16\",\"2017-08-17\",\"2017-08-18\",\"2017-08-21\",\"2017-08-22\",\"2017-08-23\",\"2017-08-24\",\"2017-08-25\",\"2017-08-28\",\"2017-08-29\",\"2017-08-30\",\"2017-08-31\",\"2017-09-01\",\"2017-09-04\",\"2017-09-05\",\"2017-09-06\",\"2017-09-07\",\"2017-09-08\",\"2017-09-11\",\"2017-09-12\",\"2017-09-13\",\"2017-09-14\",\"2017-09-15\",\"2017-09-18\",\"2017-09-19\",\"2017-09-20\",\"2017-09-21\",\"2017-09-22\",\"2017-09-25\",\"2017-09-26\",\"2017-09-27\",\"2017-09-28\",\"2017-09-29\",\"2017-10-02\",\"2017-10-03\",\"2017-10-04\",\"2017-10-05\",\"2017-10-06\",\"2017-10-09\",\"2017-10-10\",\"2017-10-11\",\"2017-10-12\",\"2017-10-13\",\"2017-10-16\",\"2017-10-17\",\"2017-10-18\",\"2017-10-19\",\"2017-10-20\",\"2017-10-23\",\"2017-10-24\",\"2017-10-25\",\"2017-10-26\",\"2017-10-27\",\"2017-10-30\",\"2017-10-31\",\"2017-11-01\",\"2017-11-02\",\"2017-11-03\",\"2017-11-06\",\"2017-11-07\",\"2017-11-08\",\"2017-11-09\",\"2017-11-10\",\"2017-11-13\",\"2017-11-14\",\"2017-11-15\",\"2017-11-16\",\"2017-11-17\",\"2017-11-20\",\"2017-11-21\",\"2017-11-22\",\"2017-11-23\",\"2017-11-24\",\"2017-11-27\",\"2017-11-28\",\"2017-11-29\",\"2017-11-30\",\"2017-12-01\",\"2017-12-04\",\"2017-12-05\",\"2017-12-06\",\"2017-12-07\",\"2017-12-08\",\"2017-12-11\",\"2017-12-12\",\"2017-12-13\",\"2017-12-14\",\"2017-12-15\",\"2017-12-18\",\"2017-12-19\",\"2017-12-20\",\"2017-12-21\",\"2017-12-22\",\"2017-12-25\",\"2017-12-26\",\"2017-12-27\",\"2017-12-28\",\"2017-12-29\",\"2018-01-02\",\"2018-01-03\",\"2018-01-04\",\"2018-01-05\",\"2018-01-08\",\"2018-01-09\",\"2018-01-10\",\"2018-01-11\",\"2018-01-12\",\"2018-01-15\",\"2018-01-16\",\"2018-01-17\",\"2018-01-18\",\"2018-01-19\",\"2018-01-22\",\"2018-01-23\",\"2018-01-24\",\"2018-01-25\",\"2018-01-26\",\"2018-01-29\",\"2018-01-30\",\"2018-01-31\",\"2018-02-01\",\"2018-02-02\",\"2018-02-05\",\"2018-02-06\",\"2018-02-07\",\"2018-02-08\",\"2018-02-09\",\"2018-02-15\",\"2018-02-16\",\"2018-02-19\",\"2018-02-20\",\"2018-02-21\",\"2018-02-22\",\"2018-02-23\",\"2018-02-26\",\"2018-02-27\",\"2018-02-28\",\"2018-03-01\",\"2018-03-02\",\"2018-03-05\",\"2018-03-06\",\"2018-03-07\",\"2018-03-08\",\"2018-03-09\",\"2018-03-12\",\"2018-03-13\",\"2018-03-14\",\"2018-03-15\",\"2018-03-16\",\"2018-03-19\",\"2018-03-20\",\"2018-03-21\",\"2018-03-22\",\"2018-03-23\",\"2018-03-26\",\"2018-03-27\",\"2018-03-28\",\"2018-03-29\",\"2018-04-02\",\"2018-04-03\",\"2018-04-04\",\"2018-04-05\",\"2018-04-06\",\"2018-04-09\",\"2018-04-10\",\"2018-04-11\",\"2018-04-12\",\"2018-04-13\",\"2018-04-16\",\"2018-04-17\",\"2018-04-18\",\"2018-04-19\",\"2018-04-20\",\"2018-04-23\",\"2018-04-24\",\"2018-04-25\",\"2018-04-26\",\"2018-04-27\",\"2018-04-30\",\"2018-05-02\",\"2018-05-03\",\"2018-05-04\",\"2018-05-07\",\"2018-05-08\",\"2018-05-09\",\"2018-05-10\",\"2018-05-11\",\"2018-05-14\",\"2018-05-15\",\"2018-05-16\",\"2018-05-17\",\"2018-05-18\",\"2018-05-21\",\"2018-05-22\",\"2018-05-23\",\"2018-05-24\",\"2018-05-25\",\"2018-05-28\",\"2018-05-29\",\"2018-05-30\",\"2018-06-01\",\"2018-06-04\",\"2018-06-05\",\"2018-06-06\",\"2018-06-07\",\"2018-06-08\",\"2018-06-11\",\"2018-06-12\",\"2018-06-13\",\"2018-06-14\",\"2018-06-15\",\"2018-06-18\",\"2018-06-19\",\"2018-06-20\",\"2018-06-21\",\"2018-06-22\",\"2018-06-25\",\"2018-06-26\",\"2018-06-27\",\"2018-06-28\",\"2018-06-29\",\"2018-07-02\",\"2018-07-03\",\"2018-07-04\",\"2018-07-05\",\"2018-07-06\",\"2018-07-10\",\"2018-07-11\",\"2018-07-12\",\"2018-07-13\",\"2018-07-16\",\"2018-07-17\",\"2018-07-18\",\"2018-07-19\",\"2018-07-20\",\"2018-07-23\",\"2018-07-24\",\"2018-07-25\",\"2018-07-26\",\"2018-07-27\",\"2018-07-30\",\"2018-07-31\",\"2018-08-01\",\"2018-08-02\",\"2018-08-03\",\"2018-08-06\",\"2018-08-07\",\"2018-08-08\",\"2018-08-09\",\"2018-08-10\",\"2018-08-13\",\"2018-08-14\",\"2018-08-15\",\"2018-08-16\",\"2018-08-17\",\"2018-08-20\",\"2018-08-21\",\"2018-08-22\",\"2018-08-23\",\"2018-08-24\",\"2018-08-27\",\"2018-08-28\",\"2018-08-29\",\"2018-08-30\",\"2018-08-31\",\"2018-09-03\",\"2018-09-04\",\"2018-09-05\",\"2018-09-06\",\"2018-09-10\",\"2018-09-11\",\"2018-09-12\",\"2018-09-13\",\"2018-09-14\",\"2018-09-17\",\"2018-09-18\",\"2018-09-19\",\"2018-09-20\",\"2018-09-21\",\"2018-09-24\",\"2018-09-25\",\"2018-09-26\",\"2018-09-27\",\"2018-09-28\",\"2018-10-01\",\"2018-10-02\",\"2018-10-03\",\"2018-10-04\",\"2018-10-05\",\"2018-10-08\",\"2018-10-09\",\"2018-10-10\",\"2018-10-11\",\"2018-10-15\",\"2018-10-16\",\"2018-10-17\",\"2018-10-18\",\"2018-10-19\",\"2018-10-22\",\"2018-10-23\",\"2018-10-24\",\"2018-10-25\",\"2018-10-26\",\"2018-10-29\",\"2018-10-30\",\"2018-10-31\",\"2018-11-01\",\"2018-11-05\",\"2018-11-06\",\"2018-11-07\",\"2018-11-08\",\"2018-11-09\",\"2018-11-12\",\"2018-11-13\",\"2018-11-14\",\"2018-11-16\",\"2018-11-19\",\"2018-11-21\",\"2018-11-22\",\"2018-11-23\",\"2018-11-26\",\"2018-11-27\",\"2018-11-28\",\"2018-11-29\",\"2018-11-30\",\"2018-12-03\",\"2018-12-04\",\"2018-12-05\",\"2018-12-06\",\"2018-12-07\",\"2018-12-10\",\"2018-12-11\",\"2018-12-12\",\"2018-12-13\",\"2018-12-14\",\"2018-12-17\",\"2018-12-18\",\"2018-12-19\",\"2018-12-20\",\"2018-12-21\",\"2018-12-26\",\"2018-12-27\",\"2018-12-28\",\"2019-01-02\",\"2019-01-03\",\"2019-01-04\",\"2019-01-07\",\"2019-01-08\",\"2019-01-09\",\"2019-01-10\",\"2019-01-11\",\"2019-01-14\",\"2019-01-15\",\"2019-01-16\",\"2019-01-17\",\"2019-01-18\",\"2019-01-21\",\"2019-01-22\",\"2019-01-23\",\"2019-01-24\",\"2019-01-28\",\"2019-01-29\",\"2019-01-30\",\"2019-01-31\",\"2019-02-01\",\"2019-02-04\",\"2019-02-05\",\"2019-02-06\",\"2019-02-07\",\"2019-02-08\",\"2019-02-11\",\"2019-02-12\",\"2019-02-13\",\"2019-02-14\",\"2019-02-15\",\"2019-02-18\",\"2019-02-19\",\"2019-02-20\",\"2019-02-21\",\"2019-02-22\",\"2019-02-25\",\"2019-02-26\",\"2019-02-27\",\"2019-02-28\",\"2019-03-01\",\"2019-03-07\",\"2019-03-08\",\"2019-03-11\",\"2019-03-12\",\"2019-03-13\",\"2019-03-14\",\"2019-03-15\",\"2019-03-18\",\"2019-03-19\",\"2019-03-20\",\"2019-03-21\",\"2019-03-22\",\"2019-03-25\",\"2019-03-26\",\"2019-03-27\",\"2019-03-28\",\"2019-03-29\",\"2019-04-01\",\"2019-04-02\",\"2019-04-03\",\"2019-04-04\",\"2019-04-05\",\"2019-04-08\",\"2019-04-09\",\"2019-04-10\",\"2019-04-11\",\"2019-04-12\",\"2019-04-15\",\"2019-04-16\",\"2019-04-17\",\"2019-04-18\",\"2019-04-22\",\"2019-04-23\",\"2019-04-24\",\"2019-04-25\",\"2019-04-26\",\"2019-04-29\",\"2019-04-30\",\"2019-05-02\",\"2019-05-03\",\"2019-05-06\",\"2019-05-07\",\"2019-05-08\",\"2019-05-09\",\"2019-05-10\",\"2019-05-13\",\"2019-05-14\",\"2019-05-15\",\"2019-05-16\",\"2019-05-17\",\"2019-05-20\",\"2019-05-21\",\"2019-05-22\",\"2019-05-23\",\"2019-05-24\",\"2019-05-27\",\"2019-05-28\",\"2019-05-29\",\"2019-05-30\",\"2019-05-31\",\"2019-06-03\",\"2019-06-04\",\"2019-06-05\",\"2019-06-06\",\"2019-06-07\",\"2019-06-10\",\"2019-06-11\",\"2019-06-12\",\"2019-06-13\",\"2019-06-14\",\"2019-06-17\",\"2019-06-18\",\"2019-06-19\",\"2019-06-21\",\"2019-06-24\",\"2019-06-25\",\"2019-06-26\",\"2019-06-27\",\"2019-06-28\",\"2019-07-01\",\"2019-07-02\",\"2019-07-03\",\"2019-07-04\",\"2019-07-05\",\"2019-07-08\",\"2019-07-10\",\"2019-07-11\",\"2019-07-12\",\"2019-07-15\",\"2019-07-16\",\"2019-07-17\",\"2019-07-18\",\"2019-07-19\",\"2019-07-22\",\"2019-07-23\",\"2019-07-24\",\"2019-07-25\",\"2019-07-26\",\"2019-07-29\",\"2019-07-30\",\"2019-07-31\",\"2019-08-01\",\"2019-08-02\",\"2019-08-05\",\"2019-08-06\",\"2019-08-07\",\"2019-08-08\",\"2019-08-09\",\"2019-08-12\",\"2019-08-13\",\"2019-08-14\",\"2019-08-15\",\"2019-08-16\",\"2019-08-19\",\"2019-08-20\",\"2019-08-21\",\"2019-08-22\",\"2019-08-23\",\"2019-08-26\",\"2019-08-27\",\"2019-08-28\",\"2019-08-29\",\"2019-08-30\",\"2019-09-02\",\"2019-09-03\",\"2019-09-04\",\"2019-09-05\",\"2019-09-06\",\"2019-09-09\",\"2019-09-10\",\"2019-09-11\",\"2019-09-12\",\"2019-09-13\",\"2019-09-16\",\"2019-09-17\",\"2019-09-18\",\"2019-09-19\",\"2019-09-20\",\"2019-09-23\",\"2019-09-24\",\"2019-09-25\",\"2019-09-26\",\"2019-09-27\",\"2019-09-30\",\"2019-10-01\",\"2019-10-02\",\"2019-10-03\",\"2019-10-04\",\"2019-10-07\",\"2019-10-08\",\"2019-10-09\",\"2019-10-10\",\"2019-10-11\",\"2019-10-14\",\"2019-10-15\",\"2019-10-16\",\"2019-10-17\",\"2019-10-18\",\"2019-10-21\",\"2019-10-22\",\"2019-10-23\",\"2019-10-24\",\"2019-10-25\",\"2019-10-28\",\"2019-10-29\",\"2019-10-30\",\"2019-10-31\",\"2019-11-01\",\"2019-11-04\",\"2019-11-05\",\"2019-11-06\",\"2019-11-07\",\"2019-11-08\",\"2019-11-11\",\"2019-11-12\",\"2019-11-13\",\"2019-11-14\",\"2019-11-18\",\"2019-11-19\",\"2019-11-21\",\"2019-11-22\",\"2019-11-25\",\"2019-11-26\",\"2019-11-27\",\"2019-11-28\",\"2019-11-29\",\"2019-12-02\",\"2019-12-03\",\"2019-12-04\",\"2019-12-05\",\"2019-12-06\",\"2019-12-09\",\"2019-12-10\",\"2019-12-11\",\"2019-12-12\",\"2019-12-13\",\"2019-12-16\",\"2019-12-17\",\"2019-12-18\",\"2019-12-19\",\"2019-12-20\",\"2019-12-23\",\"2019-12-26\",\"2019-12-27\",\"2019-12-30\",\"2020-01-02\",\"2020-01-03\",\"2020-01-06\",\"2020-01-07\",\"2020-01-08\",\"2020-01-09\",\"2020-01-10\",\"2020-01-13\",\"2020-01-14\",\"2020-01-15\",\"2020-01-16\",\"2020-01-17\",\"2020-01-20\",\"2020-01-21\",\"2020-01-22\",\"2020-01-23\",\"2020-01-24\",\"2020-01-27\",\"2020-01-28\",\"2020-01-29\",\"2020-01-30\",\"2020-01-31\",\"2020-02-03\",\"2020-02-04\",\"2020-02-05\",\"2020-02-06\",\"2020-02-07\",\"2020-02-10\",\"2020-02-11\",\"2020-02-12\",\"2020-02-13\",\"2020-02-14\",\"2020-02-17\",\"2020-02-18\",\"2020-02-19\",\"2020-02-20\",\"2020-02-21\",\"2020-02-27\",\"2020-02-28\",\"2020-03-02\",\"2020-03-03\",\"2020-03-04\",\"2020-03-05\",\"2020-03-06\",\"2020-03-09\",\"2020-03-10\",\"2020-03-11\",\"2020-03-12\",\"2020-03-13\",\"2020-03-16\",\"2020-03-17\",\"2020-03-18\",\"2020-03-19\",\"2020-03-20\",\"2020-03-23\",\"2020-03-24\",\"2020-03-25\",\"2020-03-26\",\"2020-03-27\",\"2020-03-30\",\"2020-03-31\",\"2020-04-01\",\"2020-04-02\",\"2020-04-03\",\"2020-04-06\",\"2020-04-07\",\"2020-04-08\",\"2020-04-09\",\"2020-04-13\",\"2020-04-14\",\"2020-04-15\",\"2020-04-16\",\"2020-04-17\",\"2020-04-20\",\"2020-04-22\",\"2020-04-23\",\"2020-04-24\",\"2020-04-27\",\"2020-04-28\",\"2020-04-29\",\"2020-04-30\",\"2020-05-04\",\"2020-05-05\",\"2020-05-06\",\"2020-05-07\",\"2020-05-08\",\"2020-05-11\",\"2020-05-12\",\"2020-05-13\",\"2020-05-14\",\"2020-05-15\",\"2020-05-18\",\"2020-05-19\",\"2020-05-20\",\"2020-05-21\",\"2020-05-22\",\"2020-05-25\",\"2020-05-26\",\"2020-05-27\",\"2020-05-28\",\"2020-05-29\",\"2020-06-01\",\"2020-06-02\",\"2020-06-03\",\"2020-06-04\",\"2020-06-05\",\"2020-06-08\",\"2020-06-09\",\"2020-06-10\",\"2020-06-12\",\"2020-06-15\",\"2020-06-16\",\"2020-06-17\",\"2020-06-18\",\"2020-06-19\",\"2020-06-22\",\"2020-06-23\",\"2020-06-24\",\"2020-06-25\",\"2020-06-26\",\"2020-06-29\",\"2020-06-30\",\"2020-07-01\",\"2020-07-02\",\"2020-07-08\",\"2020-07-09\",\"2020-07-10\",\"2020-07-13\",\"2020-07-14\",\"2020-07-15\",\"2020-07-16\",\"2020-07-17\",\"2020-07-20\",\"2020-07-21\",\"2020-07-22\",\"2020-07-23\",\"2020-07-24\",\"2020-07-27\",\"2020-07-28\",\"2020-07-29\",\"2020-07-30\",\"2020-07-31\",\"2020-08-03\",\"2020-08-04\",\"2020-08-05\",\"2020-08-06\",\"2020-08-07\",\"2020-08-10\",\"2020-08-11\",\"2020-08-12\",\"2020-08-13\",\"2020-08-14\",\"2020-08-17\",\"2020-08-18\",\"2020-08-19\",\"2020-08-20\",\"2020-08-21\",\"2020-08-24\",\"2020-08-25\",\"2020-08-26\",\"2020-08-27\",\"2020-08-28\",\"2020-08-31\",\"2020-09-01\",\"2020-09-02\",\"2020-09-03\",\"2020-09-04\",\"2020-09-08\",\"2020-09-09\",\"2020-09-10\",\"2020-09-11\",\"2020-09-14\",\"2020-09-15\",\"2020-09-16\",\"2020-09-17\",\"2020-09-18\",\"2020-09-21\",\"2020-09-22\",\"2020-09-23\",\"2020-09-24\",\"2020-09-28\",\"2020-09-29\",\"2020-09-30\",\"2020-10-01\",\"2020-10-02\",\"2020-10-05\",\"2020-10-06\",\"2020-10-07\",\"2020-10-08\",\"2020-10-09\",\"2020-10-13\",\"2020-10-14\",\"2020-10-15\",\"2020-10-16\",\"2020-10-19\",\"2020-10-20\",\"2020-10-21\",\"2020-10-22\",\"2020-10-23\",\"2020-10-26\",\"2020-10-27\",\"2020-10-28\",\"2020-10-29\",\"2020-10-30\",\"2020-11-03\"],\"y\":[1.0,0.9801100579751674,0.9856115845402245,1.0188320617002686,1.0264494296317073,1.0057130864865194,0.990901470466566,0.9868811055035042,0.9834955817393357,0.9944985541521965,1.0071942480885143,0.9798984980537052,0.9843419828596912,1.011637813611754,1.0181972205013752,1.0008464011203555,0.9985188383980045,1.001692802240711,0.980321698613883,0.9813796596557005,0.9650868013164984,0.9790520969333497,1.00804064920887,1.0107914124913986,1.0131189752137493,1.0008464011203555,1.0139652956168514,0.9978840779163648,0.9934405931103788,1.0184088611400908,1.0450698506932603,1.056072823106121,1.0537452603837703,1.0545916615041258,1.0537452603837703,1.066652594958804,1.0655946339169864,1.0645366728751688,1.0581887451897563,1.0493017755777843,1.0543801015826635,1.0382988031649234,1.0357596805211107,1.0272958307520628,1.0103682119312207,0.9934405931103788,1.005501526565057,1.0040203649630617,0.9989420389581825,1.0025392033610665,1.0351248393222172,1.060093107351929,1.0484553744574288,1.064748232796631,1.0670757955189816,1.0588235863886495,1.064113472314991,1.039145204285279,1.0296233934744137,1.054168460943948,1.0473974134156112,1.074904804089136,1.089716500826343,1.1024121947626608,1.1045281975635497,1.1049513981237273,1.106009359165545,1.1140500083744151,1.1132036072540596,1.1115108050133489,1.1267457023107332,1.1220905768660316,1.1098180834898912,1.1053745986839052,1.1220905768660316,1.143461761210113,1.1633517032349456,1.141768958969402,1.1468472849742815,1.1358443125614208,1.1557342545862535,1.1813373638148588,1.1938214171124613,1.172873514045811,1.1705459513234602,1.1743546756478065,1.1747778762079841,1.1675836281194696,1.1589082184289596,1.165256065397119,1.1762590378099795,1.1529835720209785,1.1411341984877623,1.1286500644729063,1.1330935492788923,1.1199746547823963,1.1214558163843917,1.1053745986839052,1.1140500083744151,1.108548481809358,1.0865425369836363,1.0888700997059875,1.1134151671755217,1.1011426737993812,1.0869657375438144,1.0844266149000015,1.0865425369836363,1.1077020806890023,1.1019890749197367,1.0945831861925066,1.0924672641088715,1.104104997003372,1.0926788240303336,1.1132036072540596,1.1049513981237273,1.1066441196471848,1.1057977185268295,1.1055861586053672,1.0931020245905112,1.1083369218878958,1.089928060747805,1.0888700997059875,1.0842150549785392,1.0901397013865206,1.076809166251309,1.0717309209636834,1.0734236424871408,1.0626323107129956,1.07913672897366,1.089716500826343,1.0939484257108667,1.0867541776223522,1.0901397013865206,1.0740584029687805,1.060304747990645,1.0564960236662988,1.0444350902116204,1.0207364238624417,1.0110029724128609,1.0019043621621728,1.0194668221819085,1.0313161957151247,1.0247567081082498,1.0446466501330827,1.0302581539560534,1.0281422318724183,1.0321625161182266,1.0270842708306007,0.995556515194014,1.0131189752137493,1.0188320617002686,0.9932289524716631,0.9841303422209756,0.9754549325304656,0.970588247164302,0.974185411567186,0.955353430584171,0.9557765504270952,0.9373677700042579,0.9077444572470977,0.9111299810112661,0.9449852186529502,0.9796868574149896,0.9691070855623066,0.9593737148299792,0.9346170067217293,0.9540838289036377,0.9695302861224844,0.9542953888250997,0.9593737148299792,0.9669911634786714,0.9549302300239932,0.9496403440976517,0.9754549325304656,0.9712230883631954,0.9964029163143695,0.9970376767960093,0.9688955256408446,0.9566229515474507,0.9509098650609313,0.9286923603137479,0.9310199230360988,0.9280575998321081,0.9045704934043914,0.9088024182889153,0.9189589895814205,0.9316546835177387,0.9619128374737921,0.9760897737293591,0.9773592946926386,1.0050783260048795,1.0069826881670525,1.0112146130515762,0.9718578488448352,0.9585273137096237,0.9688955256408446,0.9701650466041241,0.9733390104468306,0.9638171996359652,0.9640288402746808,0.9796868574149896,0.9724926093264751,0.9686838850021291,0.9638171996359652,0.9746086121273637,0.9348286473604449,0.9394837728051465,0.986669545582042,0.9771477347711767,0.9828608212576959,0.9633939990757876,0.9471011407365852,0.9506983051394693,0.9686838850021291,0.9591621549085171,0.9568345921861663,0.9614896369136142,0.9710114477244798,0.9750318126875415,0.9881507071840373,0.983072381179158,0.9900550693462105,0.9608548764319745,0.9659332024368539,0.9435040570509547,0.9246720760679397,0.9210749116650558,0.9195937500630603,0.9515447062598248,0.9331358451197338,0.9299619619942812,0.9109183403725505,0.944773658731488,0.9377909705644356,0.9293271207953878,0.9189589895814205,0.9204401511834158,0.9255184771882952,0.9255184771882952,0.9009734097187609,0.8876428745835494,0.8935675209915307,0.9045704934043914,0.8992806074780499,0.8975878052373389,0.8914515989078956,0.8696572140036362,0.8713500162443473,0.8569615200673182,0.8351672158803125,0.832416452597784,0.819297558101288,0.8121033100127735,0.798772774877562,0.8097757472904227,0.7930596883910428,0.7776132311721962,0.7797291532558311,0.7723233452458547,0.7744392673294896,0.779940793894547,0.7712653842040371,0.7930596883910428,0.7913669668675853,0.8292424887550774,0.8315700514774285,0.7939060895113983,0.8125265105729512,0.8383410990057653,0.8326280125192459,0.8286077282734378,0.8082945856884274,0.8195091180227502,0.826280165551087,0.8408803023668316,0.8527295951827943,0.8506136730991591,0.8516716341409767,0.8878544345050116,0.8741007795268758,0.8650021692761882,0.8590774421509533,0.8516716341409767,0.8770631027308665,0.9045704934043914,0.9204401511834158,0.9669911634786714,0.9669911634786714,1.0107914124913986,1.0093102508894032,0.9997884400785378,1.0283537917938803,1.0253914685898897,0.997249317434725,0.9682606844419511,0.9796868574149896,1.0484553744574288,1.0410495664474522,1.0518408982215972,1.0488785750176064,1.0198900227420862,1.0236987470664323,1.0473974134156112,1.0505713772583174,1.0512061377399573,1.0292001929142358,1.0393567642067412,1.001481242319249,1.0021160028008886,0.9906898298278503,0.995556515194014,0.995556515194014,1.0283537917938803,1.0696149181627945,1.089928060747805,1.0770208068900247,1.094159985632329,1.083368653858184,1.1053745986839052,1.0992383116372082,1.085484575941819,1.0653829932782706,1.0901397013865206,1.1187050531018632,1.1187050531018632,1.1034702365217322,1.0988151110770306,1.074904804089136,1.0795599295338376,1.0649598734353465,1.0645366728751688,1.0478206139757889,1.0914093030670537,1.0840034143398236,1.0886585397845252,1.0626323107129956,1.060304747990645,1.0448582907717983,1.0448582907717983,1.034701719479293,1.0215827442655439,1.009733451449581,1.0124841340148558,1.014176936255567,1.0071942480885143,1.0052898859263415,0.9949217547123742,1.0046551254447016,1.0241219476266101,1.0389335636465633,1.0336436777202218,1.0357596805211107,1.0632670711946355,1.0507829371797794,1.0143884961770289,1.0177740199411973,0.9966144762358314,1.0029624039212441,1.0156580978575622,1.01608129841774,1.0300465940345913,1.0442234495729046,1.0277190313122406,1.060304747990645,1.0277190313122406,1.0124841340148558,1.0294118335529516,1.0476089733370733,1.055861263184659,1.073000441926963,1.079348288895122,1.0632670711946355,1.066441035037342,1.066441035037342,1.0907744618681605,1.1066441196471848,1.1121456462122419,1.1195514542222187,1.1343631509594254,1.14155739904794,1.1612357811513105,1.164832864836941,1.1631401433134836,1.162293742193128,1.164832864836941,1.1658908258787586,1.1658908258787586,1.164832864836941,1.1637749037951235,1.1781633999721526,1.164621304915479,1.1510792098588054,1.1699111908418205,1.1811257231761432,1.1811257231761432,1.1821836842179607,1.183453285898494,1.166525667077652,1.1953026594317102,1.1957257792746343,1.2111723172107345,1.2111723172107345,1.2162505624983604,1.2132882392943698,1.2134997992158318,1.185992408542307,1.1849344475004893,1.1828185254168542,1.1862040491810226,1.1840880463801338,1.2029200273631488,1.2037664284835043,1.183453285898494,1.1902243334268308,1.2219636489848797,1.2204824873828843,1.229792657555034,1.233389821957918,1.1862040491810226,1.1999577041591583,1.167371987480754,1.1675836281194696,1.1857808486208448,1.1722387535641712,1.1745662355692685,1.1828185254168542,1.1986881831958787,1.2094795149700237,1.2118070776923744,1.190435893348293,1.1986881831958787,1.2187896851421731,1.1946678182328168,1.1967838210337054,1.2177317241003558,1.2160390025768983,1.2312738191570292,1.2456623153340585,1.2530682040612886,1.2642827363956115,1.2488362791767647,1.254549365663284,1.2674567002383177,1.2860770405826172,1.3087177458899781,1.2972916536341934,1.307025024366521,1.3021583390003573,1.314642473015213,1.309140946450156,1.3116801498112225,1.3142192724550354,1.3180279967793815,1.3309353313544154,1.2981379740372954,1.2687262212015975,1.25899285046927,1.3161236346172085,1.3161236346172085,1.2951756508333048,1.2532797639827506,1.2151926014565428,1.2287346965132164,1.2473551175747695,1.2198477269012444,1.2278882953928612,1.250529000700222,1.2706305833637705,1.2723233856044813,1.256453727825457,1.2611087725529049,1.2875582021846124,1.2524333628623951,1.2695726223219528,1.2230216100266973,1.235294184120091,1.2230216100266973,1.2507406413389377,1.259204410390732,1.265340697437429,1.2393144683658994,1.2113838771321968,1.222810050105235,1.1917054950288262,1.1976301414368073,1.1938214171124613,1.1680068286796474,1.1787981604537925,1.1785866005323302,1.1845112469403116,1.1925518961491817,1.2052475900854998,1.202073706960047,1.2238680111470528,1.2323318609161005,1.2194245263410668,1.2642827363956115,1.2642827363956115,1.2706305833637705,1.2663986584792464,1.2640711764741492,1.2748625082482943,1.2795176336929959,1.3118917097326845,1.3051206622043479,1.3097757876490494,1.3178163561406662,1.3097757876490494,1.3140076318163196,1.323952643187363,1.3499788722588926,1.3523064349812433,1.3584426413106867,1.3544224377821321,1.3173931555804883,1.3201439188630169,1.3269149663913535,1.325645445428074,1.3349556156002236,1.3121032696541468,1.3121032696541468,1.330300490155522,1.32945416975242,1.3539992372219543,1.3685992933204454,1.3764283826078534,1.3933559207114419,1.3880660347851004,1.3842573104607543,1.4039356925641249,1.4153618655371631,1.406686536563907,1.382141388377119,1.3647905689960993,1.3717732571631518,1.3436310252907335,1.3669064910797346,1.3584426413106867,1.3504020728190702,1.325222244867896,1.319720718302839,1.323529442627185,1.3429962648090936,1.327761367511709,1.3565383598657672,1.3419382230500225,1.3163351945386705,1.3290309691922422,1.290308965467141,1.2985611745974732,1.3021583390003573,1.3093525870888718,1.3178163561406662,1.3224714815853675,1.3432078247305557,1.3362252172807567,1.328396127993349,1.3347440556787615,1.3482861507354351,1.323741083265901,1.3118917097326845,1.317604796219204,1.323317882705723,1.3207786793446565,1.3051206622043479,1.2865002411427948,1.317181595659026,1.310833748690867,1.2949640909118427,1.3015234978014638,1.3180279967793815,1.3330512534380505,1.3288193285535266,1.321625080465012,1.3370715376838587,1.366060089959379,1.353364396023061,1.325857005349536,1.3470165490549018,1.3419382230500225,1.357807880829047,1.3796021850160527,1.3827761488587589,1.3952603635908685,1.4022428903234139,1.40605161464776,1.3823530290158348,1.2625899341549005,1.2824799568969867,1.25962761095091,1.2852307201795152,1.2943292497129493,1.2968684530740158,1.310833748690867,1.306390263884881,1.3097757876490494,1.2814219958551691,1.2750740681697565,1.2769784303319294,1.2790944331328182,1.2896742049855012,1.294752450273127,1.2845958789806218,1.2742277477666546,1.2621668143119762,1.2657638979976067,1.267245059599602,1.267245059599602,1.2613204131916207,1.271476984484126,1.2429116327687835,1.2437579531718854,1.2558188866265636,1.250529000700222,1.2750740681697565,1.2642827363956115,1.2685146612801352,1.2716885444055879,1.2892510044253234,1.2926365281894918,1.293906129870025,1.2917901270691363,1.2784595919339248,1.2801523941746358,1.2894625643467854,1.3055438627645255,1.3267034064698915,1.3372831783225745,1.340245501526565,1.3343208551185837,1.3355903760818635,1.3349556156002236,1.327761367511709,1.3231062420670077,1.3315700918360551,1.3432078247305557,1.3290309691922422,1.334109214479868,1.3413034625683826,1.3482861507354351,1.3590775632268337,1.3736775386080713,1.3637325272370282,1.3692340538020853,1.3887007952667403,1.389335717182887,1.3846805917381855,1.3696573350795165,1.3774862629324174,1.3969530043970724,1.398222686794859,1.40541685416612,1.3922980403868779,1.4064748959251911,1.40605161464776,1.4341938465201782,1.4430808161321502,1.4566229111888238,1.4526027076602692,1.4540838692622644,1.4595853958273215,1.4500635042992027,1.4475244623726433,1.4707999281616444,1.4777824548941898,1.476089814087986,1.5012695613219065,1.5012695613219065,1.4961913160342806,1.5220059851843482,1.5256030688699787,1.5292001525556091,1.5228523863047037,1.5476090136957,1.5552264623443923,1.5541684205853212,1.5543800612240368,1.5461278520937047,1.5408379661673632,1.5213712247027082,1.5203131829436372,1.5095217704522386,1.5040204053216886,1.5146001771743716,1.5196784224619972,1.569191838678497,1.5662293540399994,1.5666526353174306,1.555438102983108,1.5490901752976953,1.570884479484701,1.5685569167623503,1.5685569167623503,1.575327964290687,1.5730004015683363,1.5596699471503783,1.5677105156419948,1.5613627493910893,1.5573423844280274,1.5573423844280274,1.5628439109930845,1.566017874835791,1.5457047322507804,1.5524757797791173,1.5308929547963201,1.5186203807029262,1.5080406088502432,1.5080406088502432,1.5086755307663902,1.5190436619803576,1.480533298893972,1.5220059851843482,1.4917478312282946,1.480533298893972,1.4913247113853705,1.4485823426972073,1.4485823426972073,1.4847651430612423,1.500423321636058,1.500423321636058,1.5234871467863433,1.5213712247027082,1.5220059851843482,1.5156580574989356,1.51481165637858,1.5205248235823527,1.486457945301953,1.4684723654392935,1.4741853712085593,1.4923825917099345,1.4811680593756116,1.544223570648785,1.4811680593756116,1.483707262736678,1.490478310265015,1.5107914528500253,1.4892086278672283,1.4811680593756116,1.4801100176165405,1.495344914913925,1.4847651430612423,1.5002116809973425,1.5349133197593818,1.5382987628062967,1.5382987628062967,1.5499365764180508,1.5584004261870985,1.561997509872729,1.561997509872729,1.5890816999860762,1.5933137055878537,1.608125321607807,1.6174355724972103,1.624206620025547,1.6115109260892289,1.5996614718387592,1.6220906979419119,1.6223021771461203,1.6307660269151683,1.6305543862764527,1.6591198994263021,1.652560331102174,1.6593313786305106,1.6682183482424826,1.6485401275736191,1.7103259564490059,1.7103259564490059,1.7488363195353915,1.7304274583953005,1.72683037470967,1.7350825838400024,1.7467203974517562,1.7190012854222623,1.675835796891175,1.7170970039773428,1.691917095308915,1.665256025038492,1.6540414927041693,1.722386889903684,1.725772332950599,1.7321202606360115,1.7549726065820885,1.7570885286657236,1.7721117853243926,1.783537958297431,1.7926365685481185,1.7793059526956536,1.7456623556926851,1.7460854755356094,1.755184085786297,1.754126205461733,1.749682720655747,1.7477782777763204,1.738044907043993,1.7647059773144158,1.776343629491663,1.7668218993980511,1.7592044507493587,1.7365637454419975,1.735294224478718,1.7158273215795559,1.722386889903684,1.7369868652849219,1.7306390990340164,1.7261956142280304,1.7399493499234195,1.713499920291712,1.7143461599775607,1.74418119409069,1.731908619997296,1.7297926979136609,1.722386889903684,1.7429116731274101,1.7338130628767225,1.7016504660412424,1.725772332950599,1.744604313933614,1.74418119409069,1.720270967820049,1.6923403765863463,1.7162506028569873,1.7498941998599555,1.754126205461733,1.750740600980311,1.7498941998599555,1.745239235849761,1.7367753860807131,1.7670335400367667,1.7661871389164112,1.7600508518697142,1.7289462967933054,1.7031316276432378,1.6982650229943277,1.6889547721049243,1.6974186218739722,1.721328848144613,1.7534914449800931,1.7412188708866991,1.7433347929703344,1.7395260686459884,1.7651290971573401,1.7092679146899348,1.6972069812352566,1.675835796891175,1.6927634964292706,1.6557342949448801,1.6388065954067847,1.6388065954067847,1.5380872836020882,1.553110540260757,1.5672873957990705,1.5789252094108246,1.6049513577651007,1.5679221562807104,1.5545917018627524,1.5101566923683856,1.4896319091446595,1.478205736171621,1.4868810651448774,1.4758781734492703,1.4557766715029754,1.4411765346872307,1.4286923199551211,1.4559881507071841,1.4707999281616444,1.4316548045936188,1.4426576962892261,1.4515446659011981,1.4600085156702458,1.4388489719648798,1.4684723654392935,1.4885738673855884,1.4875159870610242,1.5044435251646127,1.5258147095086942,1.5207364642210683,1.5330088768799552,1.5308929547963201,1.5184089014987177,1.5501482170567664,1.566017874835791,1.564748192438004,1.594794867189849,1.57977161053118,1.5795599698924645,1.6038934774405367,1.5922556638287826,1.6187050934604899,1.6371139546005808,1.6212442968215564,1.6320355478784478,1.6381718349251448,1.6176470517014188,1.6178586923401344,1.6282268235541018,1.6644097853526436,1.6555226543061645,1.6396529965271402,1.6148963691361438,1.6072789204874516,1.561574390029805,1.5846382151800902,1.6060093995241718,1.5740584433274074,1.568768557401066,1.552052498501686,1.5590351866687384,1.534278559277742,1.5689801980397815,1.5452814509733492,1.5590351866687384,1.5890816999860762,1.582522293096455,1.6013542740794702,1.560304707632018,1.5683454375581416,1.554803342501468,1.5249683083883387,1.5323741163983153,1.5679221562807104,1.5658062341970753,1.5262378293516186,1.5355480802410217,1.5239102666292677,1.5406263255286476,1.5672873957990705,1.5943715859124177,1.5926787836717067,1.5939484660694936,1.6187050934604899,1.5911976220697115,1.6055861182467406,1.6049513577651007,1.6307660269151683,1.6210326561828408,1.6038934774405367,1.666948827279203,1.6988997834759674,1.690224293068204,1.6811256828175165,1.7697842226020417,1.7562421275453681,1.7082100343653708,1.6959374602719768,1.7024968671615979,1.7477782777763204,1.7503174811373867,1.7503174811373867,1.718578165579338,1.7482015590537516,1.7412188708866991,1.6959374602719768,1.7145578006162763,1.7501058404986711,1.7099026751715747,1.7723234259631082,1.779094473491445,1.8038511008824414,1.821836680745101,1.8044858613640813,1.7898857245483366,1.7477782777763204,1.7460854755356094,1.742488391849979,1.72746513519131,1.7488363195353915,1.8049091426415125,1.7837495989361467,1.7833263176587153,1.7837495989361467,1.756876888027008,1.7422767512112634,1.7877698024647013,1.8197207586614659,1.8277613271530824,1.8275498479488737,1.830088889875433,1.803427981039517,1.8203555191431056,1.8099873879291384,1.7970800533541045,1.7532798043413775,1.7668218993980511,1.7752857491670988,1.7833263176587153,1.7818451560567201,1.761320372832994,1.7668218993980511,1.7456623556926851,1.7439695534519744,1.7443928347294055,1.738044907043993,1.7488363195353915,1.7900973651870522,1.8599239239885623,1.8620398460721976,1.8726196179248804,1.8721964980819563,1.879602306091933,1.911129981011266,1.9132459030949016,1.9123995019745454,1.9299619619942812,1.917266268057963,1.9286924410310016,1.9460432604120212,1.9595853554686948,1.9602201159503347,1.9339823269573428,1.9699534866826622,1.9925941919900236,1.9483708231343717,1.9506983858567226,1.978840456294634,1.988997108304393,1.996614556953085,2.0107914124913986,2.005924807842488,1.931231482957561,1.9255184771882952,1.9403300932082488,1.9253068365495793,1.9561997509872733,1.9593737148299792,1.996191275675654,1.9898435094247484,1.9674144447561028,1.9843419828596913,1.9714346482846579,1.9801101386924205,1.9983073591937959,1.9841303422209755,1.9915363116654596,1.985611503822971,1.9435040570509547,1.927211279429006,1.926576518947366,1.9435040570509547,2.000634921916147,1.9974609580734406,2.01671605889938,2.009098610250688,2.0213711843440816,2.0393567642067407,2.0325857166784047,1.9964029163143695,1.968049205237743,1.9096488194092707,1.911764741492906,1.9447737394487414,1.8641557681558327,1.9259415970312195,1.9426576559305997,1.9540838289036377,1.9430809372080302,1.9289040816697172,1.9650868820337521,1.97968685741499,1.9843419828596913,1.9614896369136148,1.9570461521076281,1.9335590456799114,1.893990802268962,1.9003385685198675,1.9255184771882952,1.9043589334829294,1.9289040816697172,1.9297503213555658,1.9545071101810694,1.9382141711246132,1.9657216425153918,1.9600084753116187,1.9619129181910457,1.9652983612379602,1.950063625375083,1.9593737148299792,1.9384258117633288,1.925095357345371,1.9490055836160118,1.9333475664757034,1.9212866330210245,1.8685992529618187,1.8781211444899375,1.8592891635069224,1.8315700514774285,1.8353787758017746,1.879602306091933,1.9295388421513566,1.9246720760679397,1.913457543733617,1.9096488194092707,1.9360982490409782,1.9646636007563207,1.969107085562307,1.9881507071840374,1.9803216178966294,1.9779942166087856,1.984765264137122,1.9602201159503347,1.9824377014147714,1.9936522337490945,1.9858231444616865,2.019043621621731,2.002962484638498,2.0131189752137493,1.9997885207957917,1.9942869942307344,2.0264494296317075,2.044646650133082,2.078290408570558,2.0801946900154777,2.038933644363817,2.049301775577784,2.053956901022486,2.054803302142841,2.0619974695141026,2.047608973337073,2.115954370536588,2.115954370536588,2.121667376305854,2.1278036633525512,2.1574270568269642,2.14155739904794,2.117012412295659,2.1168007716569437,2.113838448452953,2.116166011175304,2.1307659865565416,2.1074905207675405,2.115954370536588,2.1180702926202235,2.1242065796669203,2.090562982663952,2.0979687906739284,2.1066441196471852,2.097334030192289,2.0732121632829323,2.082733893376544,2.0901397013865206,2.0412612070861678,2.082945534015259,2.095852868590293,2.1235718191852806,2.121032615824214,2.0770208876072784,2.1057977185268295,2.045069931410514,2.0181972205013747,2.034490159557831,2.0264494296317075,2.021582824982797,2.063690271754813,2.038722003725101,1.989420228147317,1.9604317565890503,1.981591300294416,2.0012696823977865,2.0495134162164996,2.065383073995524,2.047397494132865,2.0292002736314894,2.0603048287078987,2.082945534015259,2.0975455093964968,2.1017775149982745,2.0988151917942837,2.1106644846102465,2.1235718191852806,2.107067400924616,2.1117225263693173,2.1320356689543285,2.1292848249545457,2.125264621425991,2.1320356689543285,2.1324587887972526,2.115954370536588,2.1254761006302,2.1462125244926415,2.1421921595295794,2.13732555488067,2.1172238914998682,2.055649703263197,2.0677106367178752,2.0882354199416007,2.04824389525322,2.034490159557831,2.0630555112731734,2.075328085366567,2.1153196100549483,2.1233601785465646,2.1282269446299815,2.145577764011002,2.138171956001025,2.1318240283156125,2.15827345794732,2.1845112469403114,2.1878968514217334,2.179433001652686,2.187262090940094,2.199534503598981,2.1900127735053685,2.2067288324047487,2.184299767736103,2.2063055511273175,2.2139229997760093,2.2147694008963654,2.2079983533680285,2.228311495953039,2.1878968514217334,2.2056707906456774,2.167795188040932,2.166102547234728,2.169911271559074,2.15827345794732,2.1574270568269642,2.1900127735053685,2.2132882392943696,2.205882431284393,2.1887432525420887,2.193821497829715,2.2086331138496678,2.2079983533680285,2.2177317241003562,2.2217520890634175,2.2450275548524186,2.252221883658186,2.262590014872154,2.259204410390732,2.255184206862177,2.258781290547808,2.282056756336809,2.2917901270691368,2.279306073771534,2.2939062105872785,2.330935412071669,2.344900626971267,2.345323746814191,2.3628862068339265,2.3870080737432833,2.3734659786866095,2.35357611737903,2.417266227699336,2.40795613824444,2.382352948298581,2.3749471402886044,2.368810853241908,2.3626747276297175,2.354633997703594,2.392721240947055,2.3977994862346814,2.3736776193253246,2.3772747030109556,2.4143039044953456,2.420863472819474,2.383622630696368,2.4143039044953456,2.4377910109230623,2.4121879824117105,2.3336860946369438,2.376216822686391,2.3461701479345463,2.352729716258674,2.304274341801246,2.3364367772022194,2.3531528361015988,2.3650021289175616,2.347651309536542,2.3137960718948576,2.3019467790788952,2.355057278981025,2.3793906250945906,2.3465934292119774,2.3292426098309575,2.3444775071283424,2.3516716744996033,2.3715616972416895,2.3317816517575176,2.315911993978493,2.099026670998493,2.128650064472906,2.17922136101397,2.1529835720209785,2.181548923736321,2.090351342025236,1.9974609580734406,1.7520102833780977,1.8753703004901556,1.736352104803282,1.483283981459247,1.681972083937872,1.4659331620782272,1.5023276030809776,1.3755819814874979,1.3753703408487823,1.370503574765365,1.293906129870025,1.4261532780285617,1.5177741410170777,1.5778671676517535,1.4858231848203134,1.5234871467863433,1.4674143236802224,1.4426576962892261,1.4733389700882038,1.415573506175879,1.5116378539703808,1.555438102983108,1.6024123158385413,1.584215095337166,1.6028354356814656,1.6261109014704667,1.6091833633668782,1.5854846163004457,1.608125321607807,1.6009311542365459,1.6440964813331262,1.6218790573031963,1.5321626371941068,1.593102064949138,1.6567923367039512,1.6965722207536167,1.6337283501191588,1.6102412436914422,1.6195514945808454,1.6123571657750773,1.5954296276714888,1.6383834755638604,1.6110876448117977,1.586965777902441,1.5901397417451473,1.6134152075341484,1.577655527013038,1.6510791695001785,1.643038601008562,1.6599661391121505,1.6921287359476307,1.6914939754659908,1.7477782777763204,1.744604313933614,1.7917901674277632,1.7699958632407573,1.7805756350934403,1.8055439031231524,1.8573847206274958,1.8910284790649714,1.9109183403725507,1.926576518947366,1.987939066545322,1.966779522839956,1.929115560873926,1.888489275703905,1.8846805513795588,1.9043589334829294,1.9456199791345903,1.9600084753116187,1.9602201159503347,1.9413881349673197,1.9521795474587185,1.920651711104878,1.9549302300239932,1.909014058927631,1.9435040570509547,1.946889661532377,1.9636057204317563,1.9593737148299792,2.0359713211598263,2.018832142417522,2.0385103630863854,2.0112146937688293,2.0440118896514425,2.074270043607496,2.0486670150961444,2.0975455093964968,2.126534142389271,2.122090657583285,2.1239949390282042,2.0820991328949043,2.086119336423459,2.1256877412689157,2.117012412295659,2.147270566251713,2.1436733211315753,2.100931113877919,2.099026670998493,2.0651714333568085,2.0945831861925064,2.119551454222219,2.0911977431455915,2.1062209998042607,2.077867127293127,2.0806179712929085,2.0421076082065235,2.0624207507915338,2.027719112029494,2.078925169052198,2.0524757394204904,2.0666525949588044,2.0651714333568085,2.0842150549785394,2.081041091135833,2.044646650133082,2.0497250568552157,2.079983210811269,2.036606081641466,2.081041091135833,2.076809246968563,2.051629338300135,2.061362709032463,2.04824389525322,2.0630555112731734,2.011003053130114,1.9991537603141516,2.0421076082065235,2.041049566447452,2.029411914270205,2.0391452850025327,2.0025392033610663,1.972281049405013,1.9837072223780514,1.9498519847363673,1.9779942166087856,1.9286924410310016,1.9026661312422184,1.926576518947366,1.9447737394487414,1.90668649620528,1.9589505949870547,1.9498519847363673,1.9506983858567226,1.9917477908696675,1.981591300294416,2.009098610250688,2.0253915493071433,2.019890022742086,2.000423281277431,2.006559568324128,2.0486670150961444,2.05438002086541,2.0730005226442163,2.0617859903098936,2.047608973337073,2.027084351547854,1.9557766311443487,1.9659332831541074,1.9183243098170342,1.9553535113014244],\"type\":\"scatter\"},{\"name\":\"CARTEIRA\",\"x\":[\"2015-01-02\",\"2015-01-05\",\"2015-01-06\",\"2015-01-07\",\"2015-01-08\",\"2015-01-09\",\"2015-01-12\",\"2015-01-13\",\"2015-01-14\",\"2015-01-15\",\"2015-01-16\",\"2015-01-19\",\"2015-01-20\",\"2015-01-21\",\"2015-01-22\",\"2015-01-23\",\"2015-01-26\",\"2015-01-27\",\"2015-01-28\",\"2015-01-29\",\"2015-01-30\",\"2015-02-02\",\"2015-02-03\",\"2015-02-04\",\"2015-02-05\",\"2015-02-06\",\"2015-02-09\",\"2015-02-10\",\"2015-02-11\",\"2015-02-12\",\"2015-02-13\",\"2015-02-18\",\"2015-02-19\",\"2015-02-20\",\"2015-02-23\",\"2015-02-24\",\"2015-02-25\",\"2015-02-26\",\"2015-02-27\",\"2015-03-02\",\"2015-03-03\",\"2015-03-04\",\"2015-03-05\",\"2015-03-06\",\"2015-03-09\",\"2015-03-10\",\"2015-03-11\",\"2015-03-12\",\"2015-03-13\",\"2015-03-16\",\"2015-03-17\",\"2015-03-18\",\"2015-03-19\",\"2015-03-20\",\"2015-03-23\",\"2015-03-24\",\"2015-03-25\",\"2015-03-26\",\"2015-03-27\",\"2015-03-30\",\"2015-03-31\",\"2015-04-01\",\"2015-04-02\",\"2015-04-06\",\"2015-04-07\",\"2015-04-08\",\"2015-04-09\",\"2015-04-10\",\"2015-04-13\",\"2015-04-14\",\"2015-04-15\",\"2015-04-16\",\"2015-04-17\",\"2015-04-20\",\"2015-04-22\",\"2015-04-23\",\"2015-04-24\",\"2015-04-27\",\"2015-04-28\",\"2015-04-29\",\"2015-04-30\",\"2015-05-04\",\"2015-05-05\",\"2015-05-06\",\"2015-05-07\",\"2015-05-08\",\"2015-05-11\",\"2015-05-12\",\"2015-05-13\",\"2015-05-14\",\"2015-05-15\",\"2015-05-18\",\"2015-05-19\",\"2015-05-20\",\"2015-05-21\",\"2015-05-22\",\"2015-05-25\",\"2015-05-26\",\"2015-05-27\",\"2015-05-28\",\"2015-05-29\",\"2015-06-01\",\"2015-06-02\",\"2015-06-03\",\"2015-06-05\",\"2015-06-08\",\"2015-06-09\",\"2015-06-10\",\"2015-06-11\",\"2015-06-12\",\"2015-06-15\",\"2015-06-16\",\"2015-06-17\",\"2015-06-18\",\"2015-06-19\",\"2015-06-22\",\"2015-06-23\",\"2015-06-24\",\"2015-06-25\",\"2015-06-26\",\"2015-06-29\",\"2015-06-30\",\"2015-07-01\",\"2015-07-02\",\"2015-07-03\",\"2015-07-06\",\"2015-07-07\",\"2015-07-08\",\"2015-07-10\",\"2015-07-13\",\"2015-07-14\",\"2015-07-15\",\"2015-07-16\",\"2015-07-17\",\"2015-07-20\",\"2015-07-21\",\"2015-07-22\",\"2015-07-23\",\"2015-07-24\",\"2015-07-27\",\"2015-07-28\",\"2015-07-29\",\"2015-07-30\",\"2015-07-31\",\"2015-08-03\",\"2015-08-04\",\"2015-08-05\",\"2015-08-06\",\"2015-08-07\",\"2015-08-10\",\"2015-08-11\",\"2015-08-12\",\"2015-08-13\",\"2015-08-14\",\"2015-08-17\",\"2015-08-18\",\"2015-08-19\",\"2015-08-20\",\"2015-08-21\",\"2015-08-24\",\"2015-08-25\",\"2015-08-26\",\"2015-08-27\",\"2015-08-28\",\"2015-08-31\",\"2015-09-01\",\"2015-09-02\",\"2015-09-03\",\"2015-09-04\",\"2015-09-08\",\"2015-09-09\",\"2015-09-10\",\"2015-09-11\",\"2015-09-14\",\"2015-09-15\",\"2015-09-16\",\"2015-09-17\",\"2015-09-18\",\"2015-09-21\",\"2015-09-22\",\"2015-09-23\",\"2015-09-24\",\"2015-09-25\",\"2015-09-28\",\"2015-09-29\",\"2015-09-30\",\"2015-10-01\",\"2015-10-02\",\"2015-10-05\",\"2015-10-06\",\"2015-10-07\",\"2015-10-08\",\"2015-10-09\",\"2015-10-13\",\"2015-10-14\",\"2015-10-15\",\"2015-10-16\",\"2015-10-19\",\"2015-10-20\",\"2015-10-21\",\"2015-10-22\",\"2015-10-23\",\"2015-10-26\",\"2015-10-27\",\"2015-10-28\",\"2015-10-29\",\"2015-10-30\",\"2015-11-03\",\"2015-11-04\",\"2015-11-05\",\"2015-11-06\",\"2015-11-09\",\"2015-11-10\",\"2015-11-11\",\"2015-11-12\",\"2015-11-13\",\"2015-11-16\",\"2015-11-17\",\"2015-11-18\",\"2015-11-19\",\"2015-11-23\",\"2015-11-24\",\"2015-11-25\",\"2015-11-26\",\"2015-11-27\",\"2015-11-30\",\"2015-12-01\",\"2015-12-02\",\"2015-12-03\",\"2015-12-04\",\"2015-12-07\",\"2015-12-08\",\"2015-12-09\",\"2015-12-10\",\"2015-12-11\",\"2015-12-14\",\"2015-12-15\",\"2015-12-16\",\"2015-12-17\",\"2015-12-18\",\"2015-12-21\",\"2015-12-22\",\"2015-12-23\",\"2015-12-28\",\"2015-12-29\",\"2015-12-30\",\"2016-01-04\",\"2016-01-05\",\"2016-01-06\",\"2016-01-07\",\"2016-01-08\",\"2016-01-11\",\"2016-01-12\",\"2016-01-13\",\"2016-01-14\",\"2016-01-15\",\"2016-01-18\",\"2016-01-19\",\"2016-01-20\",\"2016-01-21\",\"2016-01-22\",\"2016-01-26\",\"2016-01-27\",\"2016-01-28\",\"2016-01-29\",\"2016-02-01\",\"2016-02-02\",\"2016-02-03\",\"2016-02-04\",\"2016-02-05\",\"2016-02-10\",\"2016-02-11\",\"2016-02-12\",\"2016-02-15\",\"2016-02-16\",\"2016-02-17\",\"2016-02-18\",\"2016-02-19\",\"2016-02-22\",\"2016-02-23\",\"2016-02-24\",\"2016-02-25\",\"2016-02-26\",\"2016-02-29\",\"2016-03-01\",\"2016-03-02\",\"2016-03-03\",\"2016-03-04\",\"2016-03-07\",\"2016-03-08\",\"2016-03-09\",\"2016-03-10\",\"2016-03-11\",\"2016-03-14\",\"2016-03-15\",\"2016-03-16\",\"2016-03-17\",\"2016-03-18\",\"2016-03-21\",\"2016-03-22\",\"2016-03-23\",\"2016-03-24\",\"2016-03-28\",\"2016-03-29\",\"2016-03-30\",\"2016-03-31\",\"2016-04-01\",\"2016-04-04\",\"2016-04-05\",\"2016-04-06\",\"2016-04-07\",\"2016-04-08\",\"2016-04-11\",\"2016-04-12\",\"2016-04-13\",\"2016-04-14\",\"2016-04-15\",\"2016-04-18\",\"2016-04-19\",\"2016-04-20\",\"2016-04-22\",\"2016-04-25\",\"2016-04-26\",\"2016-04-27\",\"2016-04-28\",\"2016-04-29\",\"2016-05-02\",\"2016-05-03\",\"2016-05-04\",\"2016-05-05\",\"2016-05-06\",\"2016-05-09\",\"2016-05-10\",\"2016-05-11\",\"2016-05-12\",\"2016-05-13\",\"2016-05-16\",\"2016-05-17\",\"2016-05-18\",\"2016-05-19\",\"2016-05-20\",\"2016-05-23\",\"2016-05-24\",\"2016-05-25\",\"2016-05-27\",\"2016-05-30\",\"2016-05-31\",\"2016-06-01\",\"2016-06-02\",\"2016-06-03\",\"2016-06-06\",\"2016-06-07\",\"2016-06-08\",\"2016-06-09\",\"2016-06-10\",\"2016-06-13\",\"2016-06-14\",\"2016-06-15\",\"2016-06-16\",\"2016-06-17\",\"2016-06-20\",\"2016-06-21\",\"2016-06-22\",\"2016-06-23\",\"2016-06-24\",\"2016-06-27\",\"2016-06-28\",\"2016-06-29\",\"2016-06-30\",\"2016-07-01\",\"2016-07-04\",\"2016-07-05\",\"2016-07-06\",\"2016-07-07\",\"2016-07-08\",\"2016-07-11\",\"2016-07-12\",\"2016-07-13\",\"2016-07-14\",\"2016-07-15\",\"2016-07-18\",\"2016-07-19\",\"2016-07-20\",\"2016-07-21\",\"2016-07-22\",\"2016-07-25\",\"2016-07-26\",\"2016-07-27\",\"2016-07-28\",\"2016-07-29\",\"2016-08-01\",\"2016-08-02\",\"2016-08-03\",\"2016-08-04\",\"2016-08-05\",\"2016-08-08\",\"2016-08-09\",\"2016-08-10\",\"2016-08-11\",\"2016-08-12\",\"2016-08-15\",\"2016-08-16\",\"2016-08-17\",\"2016-08-18\",\"2016-08-19\",\"2016-08-22\",\"2016-08-23\",\"2016-08-24\",\"2016-08-25\",\"2016-08-26\",\"2016-08-29\",\"2016-08-30\",\"2016-08-31\",\"2016-09-01\",\"2016-09-02\",\"2016-09-05\",\"2016-09-06\",\"2016-09-08\",\"2016-09-09\",\"2016-09-12\",\"2016-09-13\",\"2016-09-14\",\"2016-09-15\",\"2016-09-16\",\"2016-09-19\",\"2016-09-20\",\"2016-09-21\",\"2016-09-22\",\"2016-09-23\",\"2016-09-26\",\"2016-09-27\",\"2016-09-28\",\"2016-09-29\",\"2016-09-30\",\"2016-10-03\",\"2016-10-04\",\"2016-10-05\",\"2016-10-06\",\"2016-10-07\",\"2016-10-10\",\"2016-10-11\",\"2016-10-13\",\"2016-10-14\",\"2016-10-17\",\"2016-10-18\",\"2016-10-19\",\"2016-10-20\",\"2016-10-21\",\"2016-10-24\",\"2016-10-25\",\"2016-10-26\",\"2016-10-27\",\"2016-10-28\",\"2016-10-31\",\"2016-11-01\",\"2016-11-03\",\"2016-11-04\",\"2016-11-07\",\"2016-11-08\",\"2016-11-09\",\"2016-11-10\",\"2016-11-11\",\"2016-11-14\",\"2016-11-16\",\"2016-11-17\",\"2016-11-18\",\"2016-11-21\",\"2016-11-22\",\"2016-11-23\",\"2016-11-24\",\"2016-11-25\",\"2016-11-28\",\"2016-11-29\",\"2016-11-30\",\"2016-12-01\",\"2016-12-02\",\"2016-12-05\",\"2016-12-06\",\"2016-12-07\",\"2016-12-08\",\"2016-12-09\",\"2016-12-12\",\"2016-12-13\",\"2016-12-14\",\"2016-12-15\",\"2016-12-16\",\"2016-12-19\",\"2016-12-20\",\"2016-12-21\",\"2016-12-22\",\"2016-12-23\",\"2016-12-26\",\"2016-12-27\",\"2016-12-28\",\"2016-12-29\",\"2017-01-02\",\"2017-01-03\",\"2017-01-04\",\"2017-01-05\",\"2017-01-06\",\"2017-01-09\",\"2017-01-10\",\"2017-01-11\",\"2017-01-12\",\"2017-01-13\",\"2017-01-16\",\"2017-01-17\",\"2017-01-18\",\"2017-01-19\",\"2017-01-20\",\"2017-01-23\",\"2017-01-24\",\"2017-01-26\",\"2017-01-27\",\"2017-01-30\",\"2017-01-31\",\"2017-02-01\",\"2017-02-02\",\"2017-02-03\",\"2017-02-06\",\"2017-02-07\",\"2017-02-08\",\"2017-02-09\",\"2017-02-10\",\"2017-02-13\",\"2017-02-14\",\"2017-02-15\",\"2017-02-16\",\"2017-02-17\",\"2017-02-20\",\"2017-02-21\",\"2017-02-22\",\"2017-02-23\",\"2017-02-24\",\"2017-03-01\",\"2017-03-02\",\"2017-03-03\",\"2017-03-06\",\"2017-03-07\",\"2017-03-08\",\"2017-03-09\",\"2017-03-10\",\"2017-03-13\",\"2017-03-14\",\"2017-03-15\",\"2017-03-16\",\"2017-03-17\",\"2017-03-20\",\"2017-03-21\",\"2017-03-22\",\"2017-03-23\",\"2017-03-24\",\"2017-03-27\",\"2017-03-28\",\"2017-03-29\",\"2017-03-30\",\"2017-03-31\",\"2017-04-03\",\"2017-04-04\",\"2017-04-05\",\"2017-04-06\",\"2017-04-07\",\"2017-04-10\",\"2017-04-11\",\"2017-04-12\",\"2017-04-13\",\"2017-04-17\",\"2017-04-18\",\"2017-04-19\",\"2017-04-20\",\"2017-04-24\",\"2017-04-25\",\"2017-04-26\",\"2017-04-27\",\"2017-04-28\",\"2017-05-02\",\"2017-05-03\",\"2017-05-04\",\"2017-05-05\",\"2017-05-08\",\"2017-05-09\",\"2017-05-10\",\"2017-05-11\",\"2017-05-12\",\"2017-05-15\",\"2017-05-16\",\"2017-05-17\",\"2017-05-18\",\"2017-05-19\",\"2017-05-22\",\"2017-05-23\",\"2017-05-24\",\"2017-05-25\",\"2017-05-26\",\"2017-05-29\",\"2017-05-30\",\"2017-05-31\",\"2017-06-01\",\"2017-06-02\",\"2017-06-05\",\"2017-06-06\",\"2017-06-07\",\"2017-06-08\",\"2017-06-09\",\"2017-06-12\",\"2017-06-13\",\"2017-06-14\",\"2017-06-15\",\"2017-06-16\",\"2017-06-19\",\"2017-06-20\",\"2017-06-21\",\"2017-06-22\",\"2017-06-23\",\"2017-06-26\",\"2017-06-27\",\"2017-06-28\",\"2017-06-29\",\"2017-06-30\",\"2017-07-03\",\"2017-07-04\",\"2017-07-05\",\"2017-07-06\",\"2017-07-07\",\"2017-07-10\",\"2017-07-11\",\"2017-07-12\",\"2017-07-13\",\"2017-07-14\",\"2017-07-17\",\"2017-07-18\",\"2017-07-19\",\"2017-07-20\",\"2017-07-21\",\"2017-07-24\",\"2017-07-25\",\"2017-07-26\",\"2017-07-27\",\"2017-07-28\",\"2017-07-31\",\"2017-08-01\",\"2017-08-02\",\"2017-08-03\",\"2017-08-04\",\"2017-08-07\",\"2017-08-08\",\"2017-08-09\",\"2017-08-10\",\"2017-08-11\",\"2017-08-14\",\"2017-08-15\",\"2017-08-16\",\"2017-08-17\",\"2017-08-18\",\"2017-08-21\",\"2017-08-22\",\"2017-08-23\",\"2017-08-24\",\"2017-08-25\",\"2017-08-28\",\"2017-08-29\",\"2017-08-30\",\"2017-08-31\",\"2017-09-01\",\"2017-09-04\",\"2017-09-05\",\"2017-09-06\",\"2017-09-07\",\"2017-09-08\",\"2017-09-11\",\"2017-09-12\",\"2017-09-13\",\"2017-09-14\",\"2017-09-15\",\"2017-09-18\",\"2017-09-19\",\"2017-09-20\",\"2017-09-21\",\"2017-09-22\",\"2017-09-25\",\"2017-09-26\",\"2017-09-27\",\"2017-09-28\",\"2017-09-29\",\"2017-10-02\",\"2017-10-03\",\"2017-10-04\",\"2017-10-05\",\"2017-10-06\",\"2017-10-09\",\"2017-10-10\",\"2017-10-11\",\"2017-10-12\",\"2017-10-13\",\"2017-10-16\",\"2017-10-17\",\"2017-10-18\",\"2017-10-19\",\"2017-10-20\",\"2017-10-23\",\"2017-10-24\",\"2017-10-25\",\"2017-10-26\",\"2017-10-27\",\"2017-10-30\",\"2017-10-31\",\"2017-11-01\",\"2017-11-02\",\"2017-11-03\",\"2017-11-06\",\"2017-11-07\",\"2017-11-08\",\"2017-11-09\",\"2017-11-10\",\"2017-11-13\",\"2017-11-14\",\"2017-11-15\",\"2017-11-16\",\"2017-11-17\",\"2017-11-20\",\"2017-11-21\",\"2017-11-22\",\"2017-11-23\",\"2017-11-24\",\"2017-11-27\",\"2017-11-28\",\"2017-11-29\",\"2017-11-30\",\"2017-12-01\",\"2017-12-04\",\"2017-12-05\",\"2017-12-06\",\"2017-12-07\",\"2017-12-08\",\"2017-12-11\",\"2017-12-12\",\"2017-12-13\",\"2017-12-14\",\"2017-12-15\",\"2017-12-18\",\"2017-12-19\",\"2017-12-20\",\"2017-12-21\",\"2017-12-22\",\"2017-12-25\",\"2017-12-26\",\"2017-12-27\",\"2017-12-28\",\"2017-12-29\",\"2018-01-02\",\"2018-01-03\",\"2018-01-04\",\"2018-01-05\",\"2018-01-08\",\"2018-01-09\",\"2018-01-10\",\"2018-01-11\",\"2018-01-12\",\"2018-01-15\",\"2018-01-16\",\"2018-01-17\",\"2018-01-18\",\"2018-01-19\",\"2018-01-22\",\"2018-01-23\",\"2018-01-24\",\"2018-01-25\",\"2018-01-26\",\"2018-01-29\",\"2018-01-30\",\"2018-01-31\",\"2018-02-01\",\"2018-02-02\",\"2018-02-05\",\"2018-02-06\",\"2018-02-07\",\"2018-02-08\",\"2018-02-09\",\"2018-02-15\",\"2018-02-16\",\"2018-02-19\",\"2018-02-20\",\"2018-02-21\",\"2018-02-22\",\"2018-02-23\",\"2018-02-26\",\"2018-02-27\",\"2018-02-28\",\"2018-03-01\",\"2018-03-02\",\"2018-03-05\",\"2018-03-06\",\"2018-03-07\",\"2018-03-08\",\"2018-03-09\",\"2018-03-12\",\"2018-03-13\",\"2018-03-14\",\"2018-03-15\",\"2018-03-16\",\"2018-03-19\",\"2018-03-20\",\"2018-03-21\",\"2018-03-22\",\"2018-03-23\",\"2018-03-26\",\"2018-03-27\",\"2018-03-28\",\"2018-03-29\",\"2018-04-02\",\"2018-04-03\",\"2018-04-04\",\"2018-04-05\",\"2018-04-06\",\"2018-04-09\",\"2018-04-10\",\"2018-04-11\",\"2018-04-12\",\"2018-04-13\",\"2018-04-16\",\"2018-04-17\",\"2018-04-18\",\"2018-04-19\",\"2018-04-20\",\"2018-04-23\",\"2018-04-24\",\"2018-04-25\",\"2018-04-26\",\"2018-04-27\",\"2018-04-30\",\"2018-05-02\",\"2018-05-03\",\"2018-05-04\",\"2018-05-07\",\"2018-05-08\",\"2018-05-09\",\"2018-05-10\",\"2018-05-11\",\"2018-05-14\",\"2018-05-15\",\"2018-05-16\",\"2018-05-17\",\"2018-05-18\",\"2018-05-21\",\"2018-05-22\",\"2018-05-23\",\"2018-05-24\",\"2018-05-25\",\"2018-05-28\",\"2018-05-29\",\"2018-05-30\",\"2018-06-01\",\"2018-06-04\",\"2018-06-05\",\"2018-06-06\",\"2018-06-07\",\"2018-06-08\",\"2018-06-11\",\"2018-06-12\",\"2018-06-13\",\"2018-06-14\",\"2018-06-15\",\"2018-06-18\",\"2018-06-19\",\"2018-06-20\",\"2018-06-21\",\"2018-06-22\",\"2018-06-25\",\"2018-06-26\",\"2018-06-27\",\"2018-06-28\",\"2018-06-29\",\"2018-07-02\",\"2018-07-03\",\"2018-07-04\",\"2018-07-05\",\"2018-07-06\",\"2018-07-10\",\"2018-07-11\",\"2018-07-12\",\"2018-07-13\",\"2018-07-16\",\"2018-07-17\",\"2018-07-18\",\"2018-07-19\",\"2018-07-20\",\"2018-07-23\",\"2018-07-24\",\"2018-07-25\",\"2018-07-26\",\"2018-07-27\",\"2018-07-30\",\"2018-07-31\",\"2018-08-01\",\"2018-08-02\",\"2018-08-03\",\"2018-08-06\",\"2018-08-07\",\"2018-08-08\",\"2018-08-09\",\"2018-08-10\",\"2018-08-13\",\"2018-08-14\",\"2018-08-15\",\"2018-08-16\",\"2018-08-17\",\"2018-08-20\",\"2018-08-21\",\"2018-08-22\",\"2018-08-23\",\"2018-08-24\",\"2018-08-27\",\"2018-08-28\",\"2018-08-29\",\"2018-08-30\",\"2018-08-31\",\"2018-09-03\",\"2018-09-04\",\"2018-09-05\",\"2018-09-06\",\"2018-09-10\",\"2018-09-11\",\"2018-09-12\",\"2018-09-13\",\"2018-09-14\",\"2018-09-17\",\"2018-09-18\",\"2018-09-19\",\"2018-09-20\",\"2018-09-21\",\"2018-09-24\",\"2018-09-25\",\"2018-09-26\",\"2018-09-27\",\"2018-09-28\",\"2018-10-01\",\"2018-10-02\",\"2018-10-03\",\"2018-10-04\",\"2018-10-05\",\"2018-10-08\",\"2018-10-09\",\"2018-10-10\",\"2018-10-11\",\"2018-10-15\",\"2018-10-16\",\"2018-10-17\",\"2018-10-18\",\"2018-10-19\",\"2018-10-22\",\"2018-10-23\",\"2018-10-24\",\"2018-10-25\",\"2018-10-26\",\"2018-10-29\",\"2018-10-30\",\"2018-10-31\",\"2018-11-01\",\"2018-11-05\",\"2018-11-06\",\"2018-11-07\",\"2018-11-08\",\"2018-11-09\",\"2018-11-12\",\"2018-11-13\",\"2018-11-14\",\"2018-11-16\",\"2018-11-19\",\"2018-11-21\",\"2018-11-22\",\"2018-11-23\",\"2018-11-26\",\"2018-11-27\",\"2018-11-28\",\"2018-11-29\",\"2018-11-30\",\"2018-12-03\",\"2018-12-04\",\"2018-12-05\",\"2018-12-06\",\"2018-12-07\",\"2018-12-10\",\"2018-12-11\",\"2018-12-12\",\"2018-12-13\",\"2018-12-14\",\"2018-12-17\",\"2018-12-18\",\"2018-12-19\",\"2018-12-20\",\"2018-12-21\",\"2018-12-26\",\"2018-12-27\",\"2018-12-28\",\"2019-01-02\",\"2019-01-03\",\"2019-01-04\",\"2019-01-07\",\"2019-01-08\",\"2019-01-09\",\"2019-01-10\",\"2019-01-11\",\"2019-01-14\",\"2019-01-15\",\"2019-01-16\",\"2019-01-17\",\"2019-01-18\",\"2019-01-21\",\"2019-01-22\",\"2019-01-23\",\"2019-01-24\",\"2019-01-28\",\"2019-01-29\",\"2019-01-30\",\"2019-01-31\",\"2019-02-01\",\"2019-02-04\",\"2019-02-05\",\"2019-02-06\",\"2019-02-07\",\"2019-02-08\",\"2019-02-11\",\"2019-02-12\",\"2019-02-13\",\"2019-02-14\",\"2019-02-15\",\"2019-02-18\",\"2019-02-19\",\"2019-02-20\",\"2019-02-21\",\"2019-02-22\",\"2019-02-25\",\"2019-02-26\",\"2019-02-27\",\"2019-02-28\",\"2019-03-01\",\"2019-03-07\",\"2019-03-08\",\"2019-03-11\",\"2019-03-12\",\"2019-03-13\",\"2019-03-14\",\"2019-03-15\",\"2019-03-18\",\"2019-03-19\",\"2019-03-20\",\"2019-03-21\",\"2019-03-22\",\"2019-03-25\",\"2019-03-26\",\"2019-03-27\",\"2019-03-28\",\"2019-03-29\",\"2019-04-01\",\"2019-04-02\",\"2019-04-03\",\"2019-04-04\",\"2019-04-05\",\"2019-04-08\",\"2019-04-09\",\"2019-04-10\",\"2019-04-11\",\"2019-04-12\",\"2019-04-15\",\"2019-04-16\",\"2019-04-17\",\"2019-04-18\",\"2019-04-22\",\"2019-04-23\",\"2019-04-24\",\"2019-04-25\",\"2019-04-26\",\"2019-04-29\",\"2019-04-30\",\"2019-05-02\",\"2019-05-03\",\"2019-05-06\",\"2019-05-07\",\"2019-05-08\",\"2019-05-09\",\"2019-05-10\",\"2019-05-13\",\"2019-05-14\",\"2019-05-15\",\"2019-05-16\",\"2019-05-17\",\"2019-05-20\",\"2019-05-21\",\"2019-05-22\",\"2019-05-23\",\"2019-05-24\",\"2019-05-27\",\"2019-05-28\",\"2019-05-29\",\"2019-05-30\",\"2019-05-31\",\"2019-06-03\",\"2019-06-04\",\"2019-06-05\",\"2019-06-06\",\"2019-06-07\",\"2019-06-10\",\"2019-06-11\",\"2019-06-12\",\"2019-06-13\",\"2019-06-14\",\"2019-06-17\",\"2019-06-18\",\"2019-06-19\",\"2019-06-21\",\"2019-06-24\",\"2019-06-25\",\"2019-06-26\",\"2019-06-27\",\"2019-06-28\",\"2019-07-01\",\"2019-07-02\",\"2019-07-03\",\"2019-07-04\",\"2019-07-05\",\"2019-07-08\",\"2019-07-10\",\"2019-07-11\",\"2019-07-12\",\"2019-07-15\",\"2019-07-16\",\"2019-07-17\",\"2019-07-18\",\"2019-07-19\",\"2019-07-22\",\"2019-07-23\",\"2019-07-24\",\"2019-07-25\",\"2019-07-26\",\"2019-07-29\",\"2019-07-30\",\"2019-07-31\",\"2019-08-01\",\"2019-08-02\",\"2019-08-05\",\"2019-08-06\",\"2019-08-07\",\"2019-08-08\",\"2019-08-09\",\"2019-08-12\",\"2019-08-13\",\"2019-08-14\",\"2019-08-15\",\"2019-08-16\",\"2019-08-19\",\"2019-08-20\",\"2019-08-21\",\"2019-08-22\",\"2019-08-23\",\"2019-08-26\",\"2019-08-27\",\"2019-08-28\",\"2019-08-29\",\"2019-08-30\",\"2019-09-02\",\"2019-09-03\",\"2019-09-04\",\"2019-09-05\",\"2019-09-06\",\"2019-09-09\",\"2019-09-10\",\"2019-09-11\",\"2019-09-12\",\"2019-09-13\",\"2019-09-16\",\"2019-09-17\",\"2019-09-18\",\"2019-09-19\",\"2019-09-20\",\"2019-09-23\",\"2019-09-24\",\"2019-09-25\",\"2019-09-26\",\"2019-09-27\",\"2019-09-30\",\"2019-10-01\",\"2019-10-02\",\"2019-10-03\",\"2019-10-04\",\"2019-10-07\",\"2019-10-08\",\"2019-10-09\",\"2019-10-10\",\"2019-10-11\",\"2019-10-14\",\"2019-10-15\",\"2019-10-16\",\"2019-10-17\",\"2019-10-18\",\"2019-10-21\",\"2019-10-22\",\"2019-10-23\",\"2019-10-24\",\"2019-10-25\",\"2019-10-28\",\"2019-10-29\",\"2019-10-30\",\"2019-10-31\",\"2019-11-01\",\"2019-11-04\",\"2019-11-05\",\"2019-11-06\",\"2019-11-07\",\"2019-11-08\",\"2019-11-11\",\"2019-11-12\",\"2019-11-13\",\"2019-11-14\",\"2019-11-18\",\"2019-11-19\",\"2019-11-21\",\"2019-11-22\",\"2019-11-25\",\"2019-11-26\",\"2019-11-27\",\"2019-11-28\",\"2019-11-29\",\"2019-12-02\",\"2019-12-03\",\"2019-12-04\",\"2019-12-05\",\"2019-12-06\",\"2019-12-09\",\"2019-12-10\",\"2019-12-11\",\"2019-12-12\",\"2019-12-13\",\"2019-12-16\",\"2019-12-17\",\"2019-12-18\",\"2019-12-19\",\"2019-12-20\",\"2019-12-23\",\"2019-12-26\",\"2019-12-27\",\"2019-12-30\",\"2020-01-02\",\"2020-01-03\",\"2020-01-06\",\"2020-01-07\",\"2020-01-08\",\"2020-01-09\",\"2020-01-10\",\"2020-01-13\",\"2020-01-14\",\"2020-01-15\",\"2020-01-16\",\"2020-01-17\",\"2020-01-20\",\"2020-01-21\",\"2020-01-22\",\"2020-01-23\",\"2020-01-24\",\"2020-01-27\",\"2020-01-28\",\"2020-01-29\",\"2020-01-30\",\"2020-01-31\",\"2020-02-03\",\"2020-02-04\",\"2020-02-05\",\"2020-02-06\",\"2020-02-07\",\"2020-02-10\",\"2020-02-11\",\"2020-02-12\",\"2020-02-13\",\"2020-02-14\",\"2020-02-17\",\"2020-02-18\",\"2020-02-19\",\"2020-02-20\",\"2020-02-21\",\"2020-02-27\",\"2020-02-28\",\"2020-03-02\",\"2020-03-03\",\"2020-03-04\",\"2020-03-05\",\"2020-03-06\",\"2020-03-09\",\"2020-03-10\",\"2020-03-11\",\"2020-03-12\",\"2020-03-13\",\"2020-03-16\",\"2020-03-17\",\"2020-03-18\",\"2020-03-19\",\"2020-03-20\",\"2020-03-23\",\"2020-03-24\",\"2020-03-25\",\"2020-03-26\",\"2020-03-27\",\"2020-03-30\",\"2020-03-31\",\"2020-04-01\",\"2020-04-02\",\"2020-04-03\",\"2020-04-06\",\"2020-04-07\",\"2020-04-08\",\"2020-04-09\",\"2020-04-13\",\"2020-04-14\",\"2020-04-15\",\"2020-04-16\",\"2020-04-17\",\"2020-04-20\",\"2020-04-22\",\"2020-04-23\",\"2020-04-24\",\"2020-04-27\",\"2020-04-28\",\"2020-04-29\",\"2020-04-30\",\"2020-05-04\",\"2020-05-05\",\"2020-05-06\",\"2020-05-07\",\"2020-05-08\",\"2020-05-11\",\"2020-05-12\",\"2020-05-13\",\"2020-05-14\",\"2020-05-15\",\"2020-05-18\",\"2020-05-19\",\"2020-05-20\",\"2020-05-21\",\"2020-05-22\",\"2020-05-25\",\"2020-05-26\",\"2020-05-27\",\"2020-05-28\",\"2020-05-29\",\"2020-06-01\",\"2020-06-02\",\"2020-06-03\",\"2020-06-04\",\"2020-06-05\",\"2020-06-08\",\"2020-06-09\",\"2020-06-10\",\"2020-06-12\",\"2020-06-15\",\"2020-06-16\",\"2020-06-17\",\"2020-06-18\",\"2020-06-19\",\"2020-06-22\",\"2020-06-23\",\"2020-06-24\",\"2020-06-25\",\"2020-06-26\",\"2020-06-29\",\"2020-06-30\",\"2020-07-01\",\"2020-07-02\",\"2020-07-08\",\"2020-07-09\",\"2020-07-10\",\"2020-07-13\",\"2020-07-14\",\"2020-07-15\",\"2020-07-16\",\"2020-07-17\",\"2020-07-20\",\"2020-07-21\",\"2020-07-22\",\"2020-07-23\",\"2020-07-24\",\"2020-07-27\",\"2020-07-28\",\"2020-07-29\",\"2020-07-30\",\"2020-07-31\",\"2020-08-03\",\"2020-08-04\",\"2020-08-05\",\"2020-08-06\",\"2020-08-07\",\"2020-08-10\",\"2020-08-11\",\"2020-08-12\",\"2020-08-13\",\"2020-08-14\",\"2020-08-17\",\"2020-08-18\",\"2020-08-19\",\"2020-08-20\",\"2020-08-21\",\"2020-08-24\",\"2020-08-25\",\"2020-08-26\",\"2020-08-27\",\"2020-08-28\",\"2020-08-31\",\"2020-09-01\",\"2020-09-02\",\"2020-09-03\",\"2020-09-04\",\"2020-09-08\",\"2020-09-09\",\"2020-09-10\",\"2020-09-11\",\"2020-09-14\",\"2020-09-15\",\"2020-09-16\",\"2020-09-17\",\"2020-09-18\",\"2020-09-21\",\"2020-09-22\",\"2020-09-23\",\"2020-09-24\",\"2020-09-28\",\"2020-09-29\",\"2020-09-30\",\"2020-10-01\",\"2020-10-02\",\"2020-10-05\",\"2020-10-06\",\"2020-10-07\",\"2020-10-08\",\"2020-10-09\",\"2020-10-13\",\"2020-10-14\",\"2020-10-15\",\"2020-10-16\",\"2020-10-19\",\"2020-10-20\",\"2020-10-21\",\"2020-10-22\",\"2020-10-23\",\"2020-10-26\",\"2020-10-27\",\"2020-10-28\",\"2020-10-29\",\"2020-10-30\",\"2020-11-03\"],\"y\":[1.0,0.9944761975752499,0.9788536423816104,0.9714915253347405,0.9668036774727001,0.9521073843458258,0.9596996695289797,0.9498802214470722,0.9480659997427722,0.9505268911699414,0.9715178522214085,0.9486487701134223,0.936857064356623,0.9456278767311176,0.9564489500000116,0.9542212934248134,0.933897143893498,0.9248562787180337,0.9147225674016777,0.9274480967709522,0.9074986609476289,0.9126556028484444,0.9227851584969253,0.919097676327174,0.9243026445134147,0.9145202536892556,0.9169539603944799,0.9237989595818454,0.9041971134165209,0.9117912288654964,0.9187560621203913,0.9197393298284018,0.928865653095771,0.9211664479397369,0.9126417860504189,0.9262556106906852,0.9158360581909083,0.9128796291966148,0.8769565747232935,0.8706510569817155,0.8677853745022084,0.8571079001184048,0.8538865475548876,0.8433936854355684,0.8233634745840421,0.82532336861709,0.8358570760577836,0.8417265611965092,0.8218714253044871,0.809215620053385,0.8082577749271473,0.8218012212113779,0.8288809652622717,0.8353156116826093,0.8393462053036643,0.8277795211468731,0.8338153519801613,0.8224228718239115,0.8255036604784014,0.8268879765261605,0.8392443830713185,0.8362799935895611,0.8528341192370259,0.8627127719922454,0.861681946696794,0.8653705249905128,0.8655023994002615,0.8618156320915895,0.8625289991292873,0.8759069718444318,0.8777983446906201,0.8659151739580639,0.8603144889307517,0.8672803249433606,0.8799170364174959,0.886745519089289,0.9051580471882454,0.9059957744257015,0.8845648940282048,0.8733248535803501,0.8673172018246346,0.8984852859500915,0.9113445466761465,0.9118370135866908,0.9141484553569288,0.9026276550818852,0.8934512253080443,0.8949603883946349,0.8934734083197972,0.907304754486501,0.9278672832800726,0.9245729624784523,0.9157492151453489,0.9055237793031031,0.9161659346604367,0.9268655251489502,0.9279069467740942,0.9049311518679193,0.9090257632921949,0.9088357185148908,0.9052563208152415,0.9095791729511762,0.9242212220617982,0.9210569152584146,0.9198502339492289,0.905252917411639,0.9019086146355638,0.9084492206357092,0.9091160097204606,0.8991806466769535,0.8834769661327299,0.8847889556060583,0.8850476218944257,0.8942831396272073,0.9047621220296322,0.9066715861056363,0.9064770210340765,0.900671829418745,0.8925580033332746,0.9123047813400543,0.8969652426377509,0.9052249656673705,0.9038712951860767,0.898553053365762,0.903944853344103,0.8917420624604866,0.8841291869587835,0.8694420449764841,0.8709340875944338,0.8889519152056353,0.9024039116679013,0.8935382087869137,0.8906026446716228,0.8774720544313173,0.8665393463041411,0.8768783961309474,0.8739535565297739,0.8784112904097128,0.8592918597444813,0.8498396736795876,0.8339347008328465,0.824793181191707,0.8162897031224873,0.8609187430759299,0.843535736764872,0.8494676333588034,0.8435500792411583,0.8267083945594079,0.8136933797505543,0.8189699359034618,0.8200534552850398,0.8014899569553361,0.7922792756101551,0.7754004285551004,0.7756345937738318,0.7851154773088674,0.7704027896368862,0.7544083444207149,0.7465410846321863,0.7320836795203123,0.7268182207852201,0.7375641523419114,0.7437414168765084,0.7479901294219597,0.7368756925648652,0.7100763015953312,0.7136200283694091,0.7313869963640053,0.7227003733803864,0.7282546448070242,0.7238289419165105,0.704988459967206,0.7026469435568975,0.7025328306202775,0.7035524231424789,0.7226141319758488,0.7214458079434641,0.7123784767748234,0.6920320694664392,0.680207975717267,0.6663842923639839,0.6598251278184417,0.6493578138373873,0.6388469733760453,0.6336464330997131,0.647895169875945,0.6433053196697198,0.6563227707371283,0.6689679063469711,0.6724206557428467,0.685428104949857,0.6839033246919868,0.696950827962222,0.6832702051566584,0.6754265071652001,0.6840038591579835,0.6797738251422075,0.6899723133285534,0.7002346656840539,0.6808000538802015,0.6942731990822877,0.6900070511267298,0.6755953706855161,0.6741752983906406,0.6672622995592066,0.6514946258851698,0.6569726999427705,0.6748451982393788,0.6720680177621935,0.6954409927635933,0.6795353659060841,0.6778102963039566,0.6674650334861717,0.6691326217316924,0.6643765205949201,0.6582677422086368,0.6530749762565309,0.661200197652434,0.6555473999461917,0.6590805889902465,0.6653597197126306,0.6654423184020122,0.6678935269485005,0.6784169351066822,0.6694460790719174,0.6410915586959165,0.6532459717391993,0.6585950591558841,0.6732106108987294,0.6457081596512417,0.6543103700233749,0.6345154434894662,0.6337353399739462,0.6305955273871736,0.6383931806664664,0.6228095028838574,0.6192990709029876,0.6225792903969499,0.6324057406521829,0.6190348360165949,0.6023257390323007,0.6063249333370189,0.6173466825705045,0.6298803922038838,0.6419672722120028,0.637989378881924,0.6188390924397946,0.62556030187597,0.611919833190602,0.591978989738259,0.5911210599674069,0.578320517814692,0.5900003857681805,0.5786406500139625,0.5808160638942137,0.5714427953609452,0.5723373252691493,0.5763282147398525,0.568684382369711,0.5735776268481607,0.5793338051518284,0.5668671436521127,0.5879533438437827,0.5874180787611654,0.614154413376576,0.6188232446917554,0.6017989372516417,0.5993194262492509,0.6069680652126619,0.5980649661583779,0.5832048927013029,0.5652589196874805,0.5803523157421496,0.5740297139537965,0.5857901042370747,0.5771676740644583,0.597739576883134,0.5994121478947406,0.6170848104061541,0.6200526581839263,0.5914434650844825,0.5889958647898004,0.5993978885712004,0.6177573039741159,0.6321098970824607,0.6576754594250165,0.6807106412493534,0.68961727377174,0.6960440761131141,0.6999779064297889,0.693382721125084,0.7062630298625231,0.7078780301871448,0.7035174605338107,0.6782944367738833,0.689155559156287,0.7071781842116762,0.70915262568362,0.7176052128010177,0.7210323224347934,0.7040442004774137,0.6969157504002912,0.7094094699073292,0.7193002936566655,0.7110054795667764,0.6900205213735904,0.6997780461232156,0.687147377426518,0.6876572010024266,0.6872859261778017,0.6977816881752311,0.7095067446240361,0.7090618504341057,0.7187401073116061,0.7117158119612421,0.7060206479697525,0.720884844637363,0.7209843490792671,0.729290697368624,0.727158276064753,0.7277112298164259,0.7230269384246796,0.7353676128191795,0.7526632705680547,0.7472473525939346,0.7447218424774469,0.7612671016797676,0.7503277919476659,0.7470755102192466,0.7266253997778783,0.7470035972901712,0.7533786455193677,0.7752926796693147,0.7721643668297865,0.7962940413928798,0.7785870920204798,0.7814849581549981,0.7736248282808349,0.7768834835042796,0.766107770285986,0.7659190103326265,0.7525645262220353,0.7642229416030023,0.7646330196397714,0.7725835449725066,0.7726842836852229,0.780866739346133,0.7785075215260103,0.7799447409912796,0.798357831784752,0.7967054520358772,0.800843184172028,0.8054052573534302,0.8022201779557699,0.7862533878370397,0.7800506841351451,0.762795452276427,0.7743405977831602,0.7773522801903854,0.780601208227908,0.7854284608334037,0.7987877542311967,0.8022148063041101,0.8182460768838341,0.7987168185680771,0.7897568235893162,0.8018740720913431,0.8169615760507991,0.8254642485804297,0.8262197958151063,0.8291197333402625,0.8234618720132358,0.822933382071049,0.8392667476684977,0.8495590036648244,0.8483024356649059,0.8614426653134627,0.870994111452833,0.8950840092328892,0.8947768034234838,0.9160413985303301,0.9230170408370881,0.9192561946347453,0.9285206736060948,0.9292887754729164,0.9251746830154272,0.9358153501146204,0.9281983221069947,0.8797725712111852,0.8891290448771126,0.8967738114758943,0.8825753601625437,0.8852022903617003,0.9137910254784203,0.9336658703047307,0.9272982095821988,0.9382997102804221,0.9424749793043844,0.9772728937723155,0.9898667935496194,0.9835494388675949,0.9820894984559752,0.9935413619407522,0.9856330774352864,0.9802055518939078,0.96108616116992,0.9742297730189982,0.9572834772880354,0.9581185752707941,0.9574454896067197,0.9716885385470556,0.9696277000869055,0.9651440200961956,0.9716579783673177,1.0018072740742987,1.0062906303381252,1.0233952155224604,1.0316855441346777,0.9994100105691226,1.0086832473448992,0.9809737353858271,0.9797239564183673,0.9977521801842976,0.9872006289947539,0.9926444405690905,1.0056381883606493,1.0296387979504729,1.0548154535682834,1.042715822270595,1.0289673826091263,1.0471187813949767,1.0623121209789672,1.054977150880681,1.0554849954540282,1.0801855956383328,1.0844707556185291,1.0927802653089498,1.105587054842115,1.1113585382509394,1.133851667374032,1.1138229306831127,1.1054049402635286,1.1117870511681154,1.113011865260888,1.128110077566025,1.1255574502273105,1.1269278762693555,1.1339939049666632,1.1501102689766083,1.0905493690849184,1.0415897230804323,1.1154088168497354,1.0983394809320888,1.1278657535992402,1.1032318373523333,1.0924665908407758,1.0889613780952325,1.1184893946462282,1.1251299678184634,1.119686134117518,1.0757412415477654,1.0518771688949897,1.0375120089813001,1.0458259659667357,1.0475780877655303,1.049194428384666,1.0538358731208866,1.0512646868531856,1.0536561788476102,1.0469358190410696,1.0446936771663196,1.0507737444729195,1.053343663228244,1.0567094381090187,1.0128214281699672,1.005867199566207,0.9982399309725288,1.0298445544543235,1.0378226234495929,1.0520289918788641,1.0540477812076077,1.0307651536615399,1.0443727607489557,1.0267821156998589,1.0360096004269777,1.0438741847570763,1.0252912956668692,1.0131172696188349,1.0247911352150427,1.018298045032867,1.0296896793919306,1.032933996758895,1.0430362701167013,1.0556463242883445,1.0653586093598013,1.0322683956764174,1.0618732095675705,1.0517178447093818,1.0735345242498915,1.0649431832628706,1.0520586032597623,1.056085243440194,1.059115808878968,1.0975455110312502,1.113790560875836,1.1012230744514258,1.1120360566740985,1.111442351729739,1.1004196719103267,1.1650080717133426,1.186764768628726,1.2136252442625888,1.2151138930982852,1.199885679585441,1.171037638280404,1.2075016922890027,1.201090602959503,1.208715235050448,1.2185043214491404,1.2500526892949764,1.2591533921627263,1.2538947744062807,1.2628862649547723,1.2689887540312463,1.3264745899347767,1.3145068676171583,1.3587186135397382,1.3622143545593255,1.3905572764039815,1.4498630946163213,1.4972713755393159,1.5054150184839834,1.542010791665351,1.5489754172479686,1.5900872206652266,1.5353168544801066,1.534597613624056,1.5425189486604096,1.512782495037634,1.46840095179428,1.4960103776052631,1.4643668898576712,1.4548809068992856,1.4614733975531593,1.4853148434498427,1.5495769355405076,1.5037537913483652,1.5378207454101591,1.4792697799747223,1.4657395451891284,1.4987126379117894,1.4709031292344261,1.4690880057053497,1.4562144910661439,1.479148593157045,1.4764854143172668,1.4668341506995657,1.4909407007820876,1.5014554581566537,1.514879176642283,1.5190575133425583,1.5122610046868008,1.5003432387544506,1.5179814518583081,1.4878692198748447,1.4652743096376626,1.5506048567586774,1.5753504827082603,1.5998908326681003,1.627490978303791,1.6142693196438362,1.6082037094800454,1.6257659050252298,1.6551085268962762,1.6741199546639134,1.7140744614045083,1.7292576078944468,1.718823627880213,1.8293198613031485,1.8516296583844654,1.8850186499503252,1.9208217765873337,1.8622345932459237,1.871323710784187,1.8974279629031963,1.933861878686636,1.9178981009581988,1.6848063982238866,1.7378319637664184,1.6159538799842952,1.6968479895921487,1.7409474303675718,1.7425678252942636,1.7879169174572176,1.7879169174572176,1.8095760588811263,1.756445373941694,1.7401908302028584,1.727197959228069,1.7082817701485795,1.7179204702734032,1.7806542675057948,1.8169036026041945,1.7983293173760262,1.7727940210715853,1.8094485903666289,1.8175381554241963,1.8175381554241963,1.8293045308518088,1.8316367581931583,1.7809170278932662,1.7559480337759577,1.7346548734595366,1.7530009905210377,1.7879236589019278,1.7540115056665542,1.724638640134118,1.7463803614736773,1.7843414048091766,1.8032269886280452,1.8071082624624495,1.824506619219531,1.8261516750787812,1.9164927479631053,1.970078372932747,1.991112812121904,2.0371002476272335,2.0065485696811782,2.053332653320176,2.1003807355342268,2.1548386915608035,2.156347103356381,2.1748323495619406,2.1254186118366376,2.1247588597998046,2.16500408374048,2.1535720146096624,2.166377323370626,2.2211788628787312,2.2332100999268145,2.2440338069726447,2.26488893727255,2.262237767274393,2.341451167110717,2.368118550332678,2.34384845940304,2.391105579601765,2.3509291172231928,2.4047438533805408,2.515117102270317,2.5439774244602367,2.6625808050515736,2.538268482690476,2.5698852905144594,2.635789560727406,2.624398131664156,2.6157462751970253,2.6753463822325596,2.676540777110925,2.7315211188078865,2.7368891822729333,2.8124967000141794,2.9990768831304893,3.000817798256743,3.192396244385442,3.3272779096011966,3.424064036013159,3.424064036013159,3.2459290211107508,3.2631827071883692,3.00882842136833,3.126216505657419,3.4051049302448675,3.446892763773351,3.4046940040412195,3.3352739655375827,3.235437973143705,3.249616921138574,3.2163007864701925,3.1005049283626116,3.14491815259035,2.96366655453018,3.04467841921496,3.161931996013684,3.2554235658819457,3.317405114434986,3.343567725269471,3.3297864165344024,3.3758798812344084,3.3206845751965566,3.384314644629238,3.323457717252828,3.323457717252828,3.2118547304935774,3.100068683501931,2.9413692404751695,3.1554249279665725,3.1358422728716433,3.221959367244614,3.1081012791887055,3.114859355845008,3.1074071793237814,2.9871398798082285,2.957683880426514,2.9080635245776354,2.922999304057116,3.022457756330005,3.022457756330005,2.8551809069909484,2.7338764844287544,2.5656370109046867,2.709763491748374,2.5917138276286398,2.492987448101049,2.547999195336444,2.636185235865533,2.636185235865533,2.743779561854759,2.827702707035617,2.827702707035617,2.9057229030267977,2.9046293639663032,2.856700202176108,2.9335280302270563,2.879459961726263,2.8546709760958087,2.8255023010163685,2.770651427603967,2.808125756604701,2.810797902603858,2.8082491619595253,2.8327647008047134,2.9832936462670583,3.138419327450605,3.1188117622322222,3.122545503876929,3.093001597446441,3.104967639158697,3.1337228465600613,3.1175543405809245,3.0472741249950497,3.1309035828013205,3.2353205836751955,3.251528351846212,3.251528351846212,3.3281011328209793,3.3859785460583383,3.4666200458429666,3.4666200458429666,3.4812224956135602,3.446798290929288,3.5059585120600447,3.466302774810169,3.4668247344417447,3.4235057939549427,3.437398349851297,3.4484060775184013,3.442263331483706,3.48249722928324,3.49269504263344,3.503529651834403,3.4724703802552397,3.4595762765476485,3.461894148441349,3.388368146128127,3.598682196622279,3.598682196622279,3.687441726599764,3.722314000491013,3.710308186235339,3.726450433902593,3.7781542501837735,3.6892633460907143,3.582334968374988,3.6328435418826066,3.5446423293144718,3.4458492592760606,3.362396614339384,3.5479590743386034,3.529153478035586,3.636983960512558,3.666879692661154,3.568203849559656,3.6359631950392055,3.824786762771473,4.027332078057469,3.9419100328692287,3.9137929296878022,3.944704979868245,3.945818461455365,3.8625319024573264,3.8260451578257615,3.8424258406489855,3.8169479428236763,3.9255622332222386,3.989886166720383,3.9601560163639924,3.901011170853008,3.938804455832532,4.0082377566546965,3.923920081564521,3.9192901426015823,4.003307517112074,4.065792659987475,4.055292363878568,4.202353858275254,4.102778659491231,4.110323692180293,4.169934760188006,4.138298735614322,4.094292276218413,4.074888567102699,4.149597260794062,4.173023604150844,4.097707615255732,4.054567873347254,4.100626187608592,4.187148007268727,4.140949024862789,4.0647565045821334,4.121910929640411,4.113339483357926,4.055826009688877,4.111956130247201,4.197050250659681,4.2256530842844455,4.196292834342876,4.300615070610283,4.328190910436758,4.3657903275660574,4.217612415865203,4.019776871289961,4.049805385022941,3.9884937268676,4.36337489932628,4.38493016788922,4.3406634822056285,4.280336349938139,4.239521510052866,4.193172094784086,4.384159397787479,4.260908202185042,4.134196910370969,4.266492644935591,4.428910233305121,4.328500940138154,4.382744918484276,4.351840101375787,4.071309390714093,4.095955366193592,4.2083999264116105,4.399414615927458,4.686008793335114,4.537789508182032,4.322956775038269,4.062027333380063,4.072889956947572,4.044677076865748,4.116555378043308,4.164734909668221,4.336327026157482,4.345463307818488,4.281690615566955,4.465558377804197,4.43062840572672,4.404030636782904,4.426790057706572,4.43212702710227,4.48096089398155,4.392082126788101,4.459380549880568,4.596050391091666,4.505063536173612,4.486578664123136,4.480034587362253,4.358800874029785,4.391741922093652,4.289084101611083,4.1856402857560315,4.449851533067248,4.5389038659932694,4.6390954226278565,4.7813941584335655,4.652572793791335,4.699478677692666,4.770521350638535,4.734106943866851,4.86906339964236,4.884161786227884,4.808044266388806,4.761962368464267,4.767527782338476,4.792212840588561,4.843996161444015,4.896053517542547,4.932982181498186,4.95037886974432,5.166606919459783,4.9782016050478495,5.1448807018245555,4.919559537321076,4.981996486447504,5.025738361029332,4.945672539528946,4.8654188055578445,4.780961373027769,4.909305421728415,4.700459540278279,4.7669299997476156,4.691236128230615,4.685582072372454,4.702696415131939,4.634884142392589,4.735392416328431,4.5839005296187665,4.67805307021855,4.546152021555832,4.280675215517766,4.391063562605362,4.507311831936789,4.409525805578857,4.2963521291216376,4.312934504693308,4.199458058599034,4.219251964592074,4.337460924285979,4.496438012589817,4.337290832749578,4.331580722182738,4.514853518185816,4.418425552328275,4.4564673879627446,4.436901225599028,4.532229202116648,4.479290897756778,4.467167770350837,4.733657374137042,4.995045526549617,4.973973307347597,5.072192282110454,5.3215716929543895,5.371160509382752,5.153652517793966,5.3355687022737905,5.315266529808033,5.640181921164443,5.717504851861468,5.677971165099977,5.913134087762542,5.898691733024482,5.93661513526586,5.887435803455157,5.93408013773263,5.9244363979886785,5.864965830547449,6.001145490961255,5.9659056358494,6.023247651878314,6.138469183753781,5.736058106186574,5.524258850762855,5.424215913680744,5.3804620391177576,5.568435737578331,5.5601134779651895,5.632344158305185,5.6905361031503725,5.666498665463854,5.643813849560319,5.79319702816036,5.858912409490742,5.725226128355834,6.049554636412555,6.122690046445252,6.150672442065014,5.984484006344106,5.911086043132334,5.939751932575172,5.95104572725356,5.957431848899164,5.906810933228995,5.761224315488646,5.911991076608109,6.033864617343987,6.051054486980733,6.144746423836233,6.111312807706752,6.2971006426365035,6.306662697145946,6.366666946269545,6.492101221863057,6.324247543559354,6.232355092730088,6.448646850718937,6.600153409187163,6.554607223800747,6.393936399067011,6.45496143739477,6.376214501935502,6.372841944501526,6.434097744549392,6.3613366183084405,6.410182457311583,6.3501249489232965,6.296159621811465,6.291640818239492,6.29474170894645,6.085436830617814,5.941345213232923,6.181344349485141,6.129831884486807,6.1248069765234066,6.4213441912306495,6.412570101464799,6.483072626155737,6.501739966572226,6.472862900703506,6.43736085482868,6.217520669243113,6.135083259105933,6.228264858211718,6.114129136478239,6.131568229278324,6.025818938074529,6.291578390152542,6.116904591224812,6.228134589372244,6.257628852454612,6.054579577516698,6.009333687401146,6.455153909433198,6.321910202054228,6.453442837573971,6.382341703378885,6.2954006858088105,6.333863572707101,6.374465419453491,6.487247643405328,6.543569777918812,6.436005014993794,6.392544897526131,6.363135294692006,6.371074860092496,6.506672031373405,6.548583303343392,6.568066846018231,6.552329913484295,6.2521721377397075,6.244158776866438,6.352006044529534,6.048037642690991,6.168629200306045,6.230241327490205,6.179712558443227,6.035416530943976,6.108899942111525,6.125414908284504,6.155436994841206,6.02981245732407,5.992287849962684,6.077292085345948,5.996715027114817,5.950497289861888,5.908618498383513,5.8797657161422485,5.782209865987262,6.133116344086707,6.0524774212089305,6.192356365711002,6.200450368118595,6.294174040532228,6.4096406338279035,6.402024749932181,6.748245946653585,6.739086571589934,6.884812422776577,6.9706852650855495,6.7514317723232296,6.828372138680353,6.631503771997908,6.594510612568259,6.335933628447441,6.29407892506637,6.131590460697196,5.915600219045418,5.938113470311671,6.07318998593102,6.3227567893331,6.353835064225296,6.32662196219413,6.232706110423672,6.279071461181923,6.611902875680888,6.625094581863671,6.760611972232562,6.843651873061029,6.808099715964872,6.802420414882836,6.69872044414732,6.679817938575303,6.929472335244077,7.049935575956458,7.188581050093985,7.0758853782930915,7.280627140848685,7.3393301416164745,7.250349724200568,7.280108302235272,7.3682731109753,7.444502025889136,7.3758644146600165,7.236918916776686,7.2832986169770475,7.288944347107406,7.364613991744109,7.323965520694765,7.395541752425726,7.66546829823464,7.713396251609849,7.901362954087553,8.002981510696731,8.17428339736615,8.109040170701933,8.108336700780546,8.018349560172279,8.12649721103111,8.382801366131487,8.44670169242664,8.194530941750001,8.430046829067157,8.272942679546555,8.397074037078411,8.346826718512904,8.605605157575564,8.926879033789954,8.983755782171134,8.969338777922648,9.35939433347325,9.548411807806005,9.300819466195106,9.77306594159392,9.684332491505355,9.903599840083176,10.123487002349556,9.75445879024312,10.07330278391041,9.831421690625133,9.649337102012026,9.915856762615617,9.976090853144344,9.710409858057307,9.747888316973711,9.25235482394351,9.06636079984533,9.01736773238044,9.123623881109802,9.275346143433552,9.827891940813597,9.61654004855133,9.69159365537741,9.49644362078848,9.785034260853607,9.703473763730724,9.539312090379417,9.127653545541234,8.760467170382684,9.267596295209584,9.365508688566536,9.159433583313376,9.274515704381821,9.297851652765122,9.382469999031283,9.566947072431734,9.72365627770559,9.566055494845829,9.725918483454697,9.729052198023505,9.728311110867027,9.78261299962072,9.8529980208498,9.942960059222132,9.701814785546215,9.905169229675446,10.233976542932108,10.111546128897213,10.011587896538163,10.380264444083327,10.20858857923178,10.581116813293855,10.961398792454656,10.88034594131153,11.089487128976263,11.172573447279046,11.118236676350005,11.129331543496754,11.317090434481795,11.294051733665096,11.24558492270499,10.960694029500672,11.115216508177454,10.810169643764356,11.440407455721774,11.528650849134404,12.109762506396944,11.610255549437996,11.393902882830048,11.657565760209566,11.465129467401495,11.267675804228016,11.539078734247099,11.123783452813221,10.942124648691005,11.341728683334471,11.4895634710679,11.39053908883267,11.520138255558663,11.640427214273233,11.387421537194113,11.082825856563598,11.630804380596604,11.647711905887768,11.529208854194334,11.49815885743887,11.443779878642513,11.359221510710245,11.547759797207725,11.695078894411306,11.781412773468869,11.92541437836573,12.160343704784792,12.265662103490971,12.554742790470403,12.589478155948205,12.269070803531026,12.409528646513117,12.46268323442498,12.443215230263295,12.475214838932068,12.567928451639105,12.498631356262404,12.258093481242545,12.66061121399078,12.543089270356983,12.517173347172392,12.503587985813276,12.815432378494894,13.196453694780525,13.134997510266583,13.670381141613948,13.644174366688258,13.547774302307664,13.507068670803807,13.752783542622618,14.118979890449046,14.051499393017604,14.0506444344398,14.292636276796895,14.194588458032015,13.619152063667737,14.35426839422396,14.384137532019006,14.177091969505407,14.004345176898573,14.206937471904993,14.462652046356727,14.412197073312878,14.100280418884699,13.683294384887692,13.256266914472334,13.741360186191944,14.133385282899189,14.376981981467736,14.217854568324096,14.804665076489195,14.627001772052319,14.624873653860101,14.291218659934732,14.286578053365924,12.643598780018833,12.656031285303074,13.145462659598133,13.200955661860366,13.119662591614125,11.979765655813027,11.423904351427705,10.153935436701016,11.678742200723107,10.704436196600241,8.4585223352767,10.276754688447511,8.301114339682794,8.641583002613071,7.034353522963601,7.463195423914148,7.578992313569783,7.519653934764435,8.966575093610894,9.798209920496548,10.106352322798147,9.56455246487796,10.10584544470618,9.499504996814988,9.104357075193928,8.808905695831703,8.69060710006066,9.298702709825065,9.823315992466569,10.306286381976157,10.218021515673941,10.300274704475347,10.518892626645682,10.729339981734086,11.102686962250342,10.909254708643632,11.534696709556322,12.013924441766768,11.746935747617691,11.22833066394773,11.733709377523446,12.28381715031997,12.044791877462318,11.80553856914763,12.150739279849692,11.873492236414394,12.917222411623579,13.245269962684947,12.980447523247278,12.844987593558168,12.773744392799193,12.849057692558409,12.928129674760225,12.843117610161167,13.029938047206965,13.629695380005234,13.307594894350052,13.600367317138222,13.447647010314089,14.081333140423729,14.987798766175047,15.631159006938546,15.17225430255318,14.988922043188149,14.88495956621891,14.55117040848695,14.732001095646288,14.339928032821167,14.157067678268215,14.91126682900188,14.903958778427356,15.326122446851127,15.123133261987476,15.537603195724689,15.563690253131309,15.841617166503596,16.37685210545215,16.74715078337058,16.620854159530467,16.51796165481149,16.383739001365697,16.423153762836893,16.340195443118205,16.58024271371785,16.858161805902373,17.053317381638557,16.58501498993116,18.025950030874085,18.6141894082118,18.834951170772545,18.902187459055785,18.893103308067673,19.13930537466402,18.85427922642114,19.299776993006528,20.407588825964616,19.836409868860507,20.033538022393518,19.07726106996113,18.90712901029851,18.893032399780783,19.084104004169777,19.03147272651595,19.712463288607207,19.128020992226517,19.50005416626953,19.475406955949428,19.61890059602752,20.296693663912503,20.201294387677233,19.400878685264654,19.21318923838923,19.00853994955281,19.089544773499306,19.387490021535363,19.316719488047795,21.017723634978555,21.017803171685014,20.537191445524165,20.557401097778584,20.488698697328267,20.7080526491809,21.122383762889704,21.52655859841874,22.113439619424344,21.752445902370567,22.262216652599623,21.87281670703566,20.74718316997104,20.81240573874153,20.560357481875478,21.34221839016402,20.659619625110516,20.49579913808673,21.138974321822936,20.991203103143928,20.903687954115597,20.44133095660468,20.419495551964946,20.74001304150405,20.925032621443158,20.23341271102452,20.888585705024408,20.447195055118033,20.46181802261035,20.858110113808408,21.46594702023356,20.621332113719227,21.120831485597442,20.995672711683675,20.92764238616139,21.59691133776991,22.98850970255839,24.288506685281686,24.044504971613,23.900711800593236,24.23125628536901,24.086892059707676,24.40779196335483,24.466816206569053,24.426937952843176,24.14629643236644,23.87845725609794,23.862613030243704,23.042526930495768,23.684946427231278,22.960987143029833,23.60521509432565],\"type\":\"scatter\"}],                        {\"template\":{\"data\":{\"bar\":[{\"error_x\":{\"color\":\"#2a3f5f\"},\"error_y\":{\"color\":\"#2a3f5f\"},\"marker\":{\"line\":{\"color\":\"#E5ECF6\",\"width\":0.5},\"pattern\":{\"fillmode\":\"overlay\",\"size\":10,\"solidity\":0.2}},\"type\":\"bar\"}],\"barpolar\":[{\"marker\":{\"line\":{\"color\":\"#E5ECF6\",\"width\":0.5},\"pattern\":{\"fillmode\":\"overlay\",\"size\":10,\"solidity\":0.2}},\"type\":\"barpolar\"}],\"carpet\":[{\"aaxis\":{\"endlinecolor\":\"#2a3f5f\",\"gridcolor\":\"white\",\"linecolor\":\"white\",\"minorgridcolor\":\"white\",\"startlinecolor\":\"#2a3f5f\"},\"baxis\":{\"endlinecolor\":\"#2a3f5f\",\"gridcolor\":\"white\",\"linecolor\":\"white\",\"minorgridcolor\":\"white\",\"startlinecolor\":\"#2a3f5f\"},\"type\":\"carpet\"}],\"choropleth\":[{\"colorbar\":{\"outlinewidth\":0,\"ticks\":\"\"},\"type\":\"choropleth\"}],\"contour\":[{\"colorbar\":{\"outlinewidth\":0,\"ticks\":\"\"},\"colorscale\":[[0.0,\"#0d0887\"],[0.1111111111111111,\"#46039f\"],[0.2222222222222222,\"#7201a8\"],[0.3333333333333333,\"#9c179e\"],[0.4444444444444444,\"#bd3786\"],[0.5555555555555556,\"#d8576b\"],[0.6666666666666666,\"#ed7953\"],[0.7777777777777778,\"#fb9f3a\"],[0.8888888888888888,\"#fdca26\"],[1.0,\"#f0f921\"]],\"type\":\"contour\"}],\"contourcarpet\":[{\"colorbar\":{\"outlinewidth\":0,\"ticks\":\"\"},\"type\":\"contourcarpet\"}],\"heatmap\":[{\"colorbar\":{\"outlinewidth\":0,\"ticks\":\"\"},\"colorscale\":[[0.0,\"#0d0887\"],[0.1111111111111111,\"#46039f\"],[0.2222222222222222,\"#7201a8\"],[0.3333333333333333,\"#9c179e\"],[0.4444444444444444,\"#bd3786\"],[0.5555555555555556,\"#d8576b\"],[0.6666666666666666,\"#ed7953\"],[0.7777777777777778,\"#fb9f3a\"],[0.8888888888888888,\"#fdca26\"],[1.0,\"#f0f921\"]],\"type\":\"heatmap\"}],\"heatmapgl\":[{\"colorbar\":{\"outlinewidth\":0,\"ticks\":\"\"},\"colorscale\":[[0.0,\"#0d0887\"],[0.1111111111111111,\"#46039f\"],[0.2222222222222222,\"#7201a8\"],[0.3333333333333333,\"#9c179e\"],[0.4444444444444444,\"#bd3786\"],[0.5555555555555556,\"#d8576b\"],[0.6666666666666666,\"#ed7953\"],[0.7777777777777778,\"#fb9f3a\"],[0.8888888888888888,\"#fdca26\"],[1.0,\"#f0f921\"]],\"type\":\"heatmapgl\"}],\"histogram\":[{\"marker\":{\"pattern\":{\"fillmode\":\"overlay\",\"size\":10,\"solidity\":0.2}},\"type\":\"histogram\"}],\"histogram2d\":[{\"colorbar\":{\"outlinewidth\":0,\"ticks\":\"\"},\"colorscale\":[[0.0,\"#0d0887\"],[0.1111111111111111,\"#46039f\"],[0.2222222222222222,\"#7201a8\"],[0.3333333333333333,\"#9c179e\"],[0.4444444444444444,\"#bd3786\"],[0.5555555555555556,\"#d8576b\"],[0.6666666666666666,\"#ed7953\"],[0.7777777777777778,\"#fb9f3a\"],[0.8888888888888888,\"#fdca26\"],[1.0,\"#f0f921\"]],\"type\":\"histogram2d\"}],\"histogram2dcontour\":[{\"colorbar\":{\"outlinewidth\":0,\"ticks\":\"\"},\"colorscale\":[[0.0,\"#0d0887\"],[0.1111111111111111,\"#46039f\"],[0.2222222222222222,\"#7201a8\"],[0.3333333333333333,\"#9c179e\"],[0.4444444444444444,\"#bd3786\"],[0.5555555555555556,\"#d8576b\"],[0.6666666666666666,\"#ed7953\"],[0.7777777777777778,\"#fb9f3a\"],[0.8888888888888888,\"#fdca26\"],[1.0,\"#f0f921\"]],\"type\":\"histogram2dcontour\"}],\"mesh3d\":[{\"colorbar\":{\"outlinewidth\":0,\"ticks\":\"\"},\"type\":\"mesh3d\"}],\"parcoords\":[{\"line\":{\"colorbar\":{\"outlinewidth\":0,\"ticks\":\"\"}},\"type\":\"parcoords\"}],\"pie\":[{\"automargin\":true,\"type\":\"pie\"}],\"scatter\":[{\"marker\":{\"colorbar\":{\"outlinewidth\":0,\"ticks\":\"\"}},\"type\":\"scatter\"}],\"scatter3d\":[{\"line\":{\"colorbar\":{\"outlinewidth\":0,\"ticks\":\"\"}},\"marker\":{\"colorbar\":{\"outlinewidth\":0,\"ticks\":\"\"}},\"type\":\"scatter3d\"}],\"scattercarpet\":[{\"marker\":{\"colorbar\":{\"outlinewidth\":0,\"ticks\":\"\"}},\"type\":\"scattercarpet\"}],\"scattergeo\":[{\"marker\":{\"colorbar\":{\"outlinewidth\":0,\"ticks\":\"\"}},\"type\":\"scattergeo\"}],\"scattergl\":[{\"marker\":{\"colorbar\":{\"outlinewidth\":0,\"ticks\":\"\"}},\"type\":\"scattergl\"}],\"scattermapbox\":[{\"marker\":{\"colorbar\":{\"outlinewidth\":0,\"ticks\":\"\"}},\"type\":\"scattermapbox\"}],\"scatterpolar\":[{\"marker\":{\"colorbar\":{\"outlinewidth\":0,\"ticks\":\"\"}},\"type\":\"scatterpolar\"}],\"scatterpolargl\":[{\"marker\":{\"colorbar\":{\"outlinewidth\":0,\"ticks\":\"\"}},\"type\":\"scatterpolargl\"}],\"scatterternary\":[{\"marker\":{\"colorbar\":{\"outlinewidth\":0,\"ticks\":\"\"}},\"type\":\"scatterternary\"}],\"surface\":[{\"colorbar\":{\"outlinewidth\":0,\"ticks\":\"\"},\"colorscale\":[[0.0,\"#0d0887\"],[0.1111111111111111,\"#46039f\"],[0.2222222222222222,\"#7201a8\"],[0.3333333333333333,\"#9c179e\"],[0.4444444444444444,\"#bd3786\"],[0.5555555555555556,\"#d8576b\"],[0.6666666666666666,\"#ed7953\"],[0.7777777777777778,\"#fb9f3a\"],[0.8888888888888888,\"#fdca26\"],[1.0,\"#f0f921\"]],\"type\":\"surface\"}],\"table\":[{\"cells\":{\"fill\":{\"color\":\"#EBF0F8\"},\"line\":{\"color\":\"white\"}},\"header\":{\"fill\":{\"color\":\"#C8D4E3\"},\"line\":{\"color\":\"white\"}},\"type\":\"table\"}]},\"layout\":{\"annotationdefaults\":{\"arrowcolor\":\"#2a3f5f\",\"arrowhead\":0,\"arrowwidth\":1},\"autotypenumbers\":\"strict\",\"coloraxis\":{\"colorbar\":{\"outlinewidth\":0,\"ticks\":\"\"}},\"colorscale\":{\"diverging\":[[0,\"#8e0152\"],[0.1,\"#c51b7d\"],[0.2,\"#de77ae\"],[0.3,\"#f1b6da\"],[0.4,\"#fde0ef\"],[0.5,\"#f7f7f7\"],[0.6,\"#e6f5d0\"],[0.7,\"#b8e186\"],[0.8,\"#7fbc41\"],[0.9,\"#4d9221\"],[1,\"#276419\"]],\"sequential\":[[0.0,\"#0d0887\"],[0.1111111111111111,\"#46039f\"],[0.2222222222222222,\"#7201a8\"],[0.3333333333333333,\"#9c179e\"],[0.4444444444444444,\"#bd3786\"],[0.5555555555555556,\"#d8576b\"],[0.6666666666666666,\"#ed7953\"],[0.7777777777777778,\"#fb9f3a\"],[0.8888888888888888,\"#fdca26\"],[1.0,\"#f0f921\"]],\"sequentialminus\":[[0.0,\"#0d0887\"],[0.1111111111111111,\"#46039f\"],[0.2222222222222222,\"#7201a8\"],[0.3333333333333333,\"#9c179e\"],[0.4444444444444444,\"#bd3786\"],[0.5555555555555556,\"#d8576b\"],[0.6666666666666666,\"#ed7953\"],[0.7777777777777778,\"#fb9f3a\"],[0.8888888888888888,\"#fdca26\"],[1.0,\"#f0f921\"]]},\"colorway\":[\"#636efa\",\"#EF553B\",\"#00cc96\",\"#ab63fa\",\"#FFA15A\",\"#19d3f3\",\"#FF6692\",\"#B6E880\",\"#FF97FF\",\"#FECB52\"],\"font\":{\"color\":\"#2a3f5f\"},\"geo\":{\"bgcolor\":\"white\",\"lakecolor\":\"white\",\"landcolor\":\"#E5ECF6\",\"showlakes\":true,\"showland\":true,\"subunitcolor\":\"white\"},\"hoverlabel\":{\"align\":\"left\"},\"hovermode\":\"closest\",\"mapbox\":{\"style\":\"light\"},\"paper_bgcolor\":\"white\",\"plot_bgcolor\":\"#E5ECF6\",\"polar\":{\"angularaxis\":{\"gridcolor\":\"white\",\"linecolor\":\"white\",\"ticks\":\"\"},\"bgcolor\":\"#E5ECF6\",\"radialaxis\":{\"gridcolor\":\"white\",\"linecolor\":\"white\",\"ticks\":\"\"}},\"scene\":{\"xaxis\":{\"backgroundcolor\":\"#E5ECF6\",\"gridcolor\":\"white\",\"gridwidth\":2,\"linecolor\":\"white\",\"showbackground\":true,\"ticks\":\"\",\"zerolinecolor\":\"white\"},\"yaxis\":{\"backgroundcolor\":\"#E5ECF6\",\"gridcolor\":\"white\",\"gridwidth\":2,\"linecolor\":\"white\",\"showbackground\":true,\"ticks\":\"\",\"zerolinecolor\":\"white\"},\"zaxis\":{\"backgroundcolor\":\"#E5ECF6\",\"gridcolor\":\"white\",\"gridwidth\":2,\"linecolor\":\"white\",\"showbackground\":true,\"ticks\":\"\",\"zerolinecolor\":\"white\"}},\"shapedefaults\":{\"line\":{\"color\":\"#2a3f5f\"}},\"ternary\":{\"aaxis\":{\"gridcolor\":\"white\",\"linecolor\":\"white\",\"ticks\":\"\"},\"baxis\":{\"gridcolor\":\"white\",\"linecolor\":\"white\",\"ticks\":\"\"},\"bgcolor\":\"#E5ECF6\",\"caxis\":{\"gridcolor\":\"white\",\"linecolor\":\"white\",\"ticks\":\"\"}},\"title\":{\"x\":0.05},\"xaxis\":{\"automargin\":true,\"gridcolor\":\"white\",\"linecolor\":\"white\",\"ticks\":\"\",\"title\":{\"standoff\":15},\"zerolinecolor\":\"white\",\"zerolinewidth\":2},\"yaxis\":{\"automargin\":true,\"gridcolor\":\"white\",\"linecolor\":\"white\",\"ticks\":\"\",\"title\":{\"standoff\":15},\"zerolinecolor\":\"white\",\"zerolinewidth\":2}}},\"xaxis\":{\"anchor\":\"y\",\"domain\":[0.0,1.0]},\"yaxis\":{\"anchor\":\"x\",\"domain\":[0.0,1.0]},\"legend\":{\"tracegroupgap\":0},\"title\":{\"text\":\"Comparativo Carteira vs BOVA\"}},                        {\"responsive\": true}                    ).then(function(){\n",
              "                            \n",
              "var gd = document.getElementById('c4dbf188-5101-4ace-8bc2-1a03f040ff91');\n",
              "var x = new MutationObserver(function (mutations, observer) {{\n",
              "        var display = window.getComputedStyle(gd).display;\n",
              "        if (!display || display === 'none') {{\n",
              "            console.log([gd, 'removed!']);\n",
              "            Plotly.purge(gd);\n",
              "            observer.disconnect();\n",
              "        }}\n",
              "}});\n",
              "\n",
              "// Listen for the removal of the full notebook cells\n",
              "var notebookContainer = gd.closest('#notebook-container');\n",
              "if (notebookContainer) {{\n",
              "    x.observe(notebookContainer, {childList: true});\n",
              "}}\n",
              "\n",
              "// Listen for the clearing of the current output cell\n",
              "var outputEl = gd.closest('.output');\n",
              "if (outputEl) {{\n",
              "    x.observe(outputEl, {childList: true});\n",
              "}}\n",
              "\n",
              "                        })                };                            </script>        </div>\n",
              "</body>\n",
              "</html>"
            ]
          },
          "metadata": {}
        }
      ]
    },
    {
      "cell_type": "markdown",
      "source": [
        "Por fim, podemos ver que nossa carteira teve um retorno melhor que o BOVA"
      ],
      "metadata": {
        "id": "YrV4dEGygPni"
      }
    }
  ]
}